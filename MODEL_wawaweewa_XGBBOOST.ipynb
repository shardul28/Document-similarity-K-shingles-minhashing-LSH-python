{
  "nbformat": 4,
  "nbformat_minor": 0,
  "metadata": {
    "colab": {
      "name": "MODE.ipynb",
      "provenance": [],
      "toc_visible": true,
      "collapsed_sections": [],
      "authorship_tag": "ABX9TyMhFD7eOvclYjPbos3Cu7lZ",
      "include_colab_link": true
    },
    "kernelspec": {
      "name": "python3",
      "display_name": "Python 3"
    },
    "language_info": {
      "name": "python"
    },
    "accelerator": "GPU"
  },
  "cells": [
    {
      "cell_type": "markdown",
      "metadata": {
        "id": "view-in-github",
        "colab_type": "text"
      },
      "source": [
        "<a href=\"https://colab.research.google.com/github/shardul28/Document-similarity-K-shingles-minhashing-LSH-python/blob/master/MODEL_wawaweewa_XGBBOOST.ipynb\" target=\"_parent\"><img src=\"https://colab.research.google.com/assets/colab-badge.svg\" alt=\"Open In Colab\"/></a>"
      ]
    },
    {
      "cell_type": "markdown",
      "source": [
        ""
      ],
      "metadata": {
        "id": "w5OjDLKBMAf2"
      }
    },
    {
      "cell_type": "markdown",
      "source": [
        "# Imports"
      ],
      "metadata": {
        "id": "i-TN0VVvMA-K"
      }
    },
    {
      "cell_type": "code",
      "source": [
        "#!pip install mit-news-classify\n"
      ],
      "metadata": {
        "id": "EOg_7LK-L8De"
      },
      "execution_count": 3,
      "outputs": []
    },
    {
      "cell_type": "code",
      "source": [
        "import nltk\n",
        "nltk.download('stopwords')\n",
        "nltk.download('punkt')\n",
        "nltk.download('wordnet')"
      ],
      "metadata": {
        "id": "O6xgXvxSrX69",
        "colab": {
          "base_uri": "https://localhost:8080/"
        },
        "outputId": "262195a1-46ed-47c6-a002-81fe4240682d"
      },
      "execution_count": 4,
      "outputs": [
        {
          "output_type": "stream",
          "name": "stdout",
          "text": [
            "[nltk_data] Downloading package stopwords to /root/nltk_data...\n",
            "[nltk_data]   Unzipping corpora/stopwords.zip.\n",
            "[nltk_data] Downloading package punkt to /root/nltk_data...\n",
            "[nltk_data]   Unzipping tokenizers/punkt.zip.\n",
            "[nltk_data] Downloading package wordnet to /root/nltk_data...\n",
            "[nltk_data]   Unzipping corpora/wordnet.zip.\n"
          ]
        },
        {
          "output_type": "execute_result",
          "data": {
            "text/plain": [
              "True"
            ]
          },
          "metadata": {},
          "execution_count": 4
        }
      ]
    },
    {
      "cell_type": "code",
      "source": [
        "import pandas as pd\n",
        "import re\n",
        "import numpy as np\n",
        "import tensorflow as tf\n",
        "from tensorflow import keras\n",
        "from tensorflow.keras import layers\n",
        "from tensorflow.keras.models import Sequential\n",
        "from tensorflow.keras.layers import Dense, Dropout, Embedding\n",
        "from tensorflow.keras.optimizers import Adam\n",
        "import pickle\n",
        "#from mitnewsclassify import tfidf as mitx\n",
        "from nltk.corpus import stopwords\n",
        "from tqdm import tqdm\n",
        "from nltk.util import ngrams\n",
        "from nltk.tokenize import word_tokenize\n",
        "from nltk.stem import WordNetLemmatizer,PorterStemmer\n",
        "from sklearn.feature_extraction.text import CountVectorizer\n",
        "from collections import defaultdict,Counter\n",
        "import matplotlib.pyplot as plt\n",
        "import seaborn as sns"
      ],
      "metadata": {
        "id": "BsMsKhNBBJCl"
      },
      "execution_count": 5,
      "outputs": []
    },
    {
      "cell_type": "code",
      "source": [
        "from google.colab import drive\n",
        "drive.mount('/content/drive')"
      ],
      "metadata": {
        "id": "gC_JSPXdAyp1",
        "colab": {
          "base_uri": "https://localhost:8080/"
        },
        "outputId": "54e14d67-6beb-43fb-d624-edd862a74a20"
      },
      "execution_count": 6,
      "outputs": [
        {
          "output_type": "stream",
          "name": "stdout",
          "text": [
            "Mounted at /content/drive\n"
          ]
        }
      ]
    },
    {
      "cell_type": "code",
      "execution_count": 7,
      "metadata": {
        "id": "PYF67UFaAwFU",
        "colab": {
          "base_uri": "https://localhost:8080/"
        },
        "outputId": "28329c69-f9a2-4927-998c-6d079c2c3912"
      },
      "outputs": [
        {
          "output_type": "stream",
          "name": "stdout",
          "text": [
            "/content/drive/MyDrive/project_data\n"
          ]
        }
      ],
      "source": [
        "cd /content/drive/MyDrive/project_data"
      ]
    },
    {
      "cell_type": "markdown",
      "source": [
        "# MODEL\n"
      ],
      "metadata": {
        "id": "E_B96BAQgjgi"
      }
    },
    {
      "cell_type": "code",
      "source": [
        "infile = open('/content/drive/MyDrive/project_data/clean_data.pkl','rb')\n",
        "df = pickle.load(infile)"
      ],
      "metadata": {
        "id": "1YASdkn5qPSl"
      },
      "execution_count": 8,
      "outputs": []
    },
    {
      "cell_type": "code",
      "source": [
        "df.head()"
      ],
      "metadata": {
        "id": "1zOV7gxpWttb",
        "colab": {
          "base_uri": "https://localhost:8080/",
          "height": 669
        },
        "outputId": "6d8f3591-84d2-4a26-a74a-7f0fd0226f11"
      },
      "execution_count": 9,
      "outputs": [
        {
          "output_type": "execute_result",
          "data": {
            "text/plain": [
              "                                                text  \\\n",
              "0  Army Officer, 4 Others Killed In Encounter In ...   \n",
              "1  #AryanKhan Case: No Bail For Him Today, Next H...   \n",
              "2  RT @ndtvfeed: Ex-National Conference Leaders D...   \n",
              "3  RT @ndtvfeed: US Has Lost AI Battle To China, ...   \n",
              "4  RT @ndtvfeed: A Look At Inspiring Messages On ...   \n",
              "\n",
              "                                                 url  \\\n",
              "0  https://www.ndtv.com/india-news/army-officer-4...   \n",
              "1  https://ndtv.com/india-news/mumbai-drug-bust-c...   \n",
              "2  https://www.ndtv.com/india-news/after-resignin...   \n",
              "3  https://www.ndtv.com/world-news/us-has-lost-ar...   \n",
              "4  https://www.ndtv.com/india-news/on-internation...   \n",
              "\n",
              "                                               title  \\\n",
              "0  Army Officer, 4 Personnel Killed In Encounter ...   \n",
              "1  Aryan Khan Case: No Bail For Him Today, Next H...   \n",
              "2  Ex-National Conference Leaders Devender Rana, ...   \n",
              "3  US Has Lost AI Battle To China, Pentagon's Ex-...   \n",
              "4  International Day Of The Girl Child 2021: Lead...   \n",
              "\n",
              "                                             content  bias  retweet_count  \\\n",
              "0  an army officer and four other personnel were ...     3            9.0   \n",
              "1  aryan khan did not get bail today for the thir...     3            5.0   \n",
              "2  a day after resigning from the national confer...     1            2.0   \n",
              "3  china has won the artificial intelligence batt...     0            5.0   \n",
              "4  various world leaders and un agencies posted w...     3            3.0   \n",
              "\n",
              "   favorite_count source_name  source  \\\n",
              "0            63.0        ndtv       0   \n",
              "1            44.0        ndtv       0   \n",
              "2             0.0        ndtv       0   \n",
              "3             0.0        ndtv       0   \n",
              "4             0.0        ndtv       0   \n",
              "\n",
              "                                       clean_content  \\\n",
              "0  army officer personnel killed action encounter...   \n",
              "1  aryan khan bail arrest week ago drugs cruise b...   \n",
              "2  resigning national conference devender rana he...   \n",
              "3  china artificial intelligence battle united st...   \n",
              "4  various world leaders agencies posted wishes m...   \n",
              "\n",
              "                                     text_lemmatized  \\\n",
              "0  [army, officer, personnel, killed, action, enc...   \n",
              "1  [aryan, khan, bail, arrest, week, ago, drug, c...   \n",
              "2  [resigning, national, conference, devender, ra...   \n",
              "3  [china, artificial, intelligence, battle, unit...   \n",
              "4  [various, world, leader, agency, posted, wish,...   \n",
              "\n",
              "                               clean_text_lemmatized  \\\n",
              "0  [army, officer, personnel, killed, action, enc...   \n",
              "1  [aryan, khan, bail, arrest, week, ago, drug, c...   \n",
              "2  [resigning, national, conference, devender, ra...   \n",
              "3  [china, artificial, intelligence, battle, unit...   \n",
              "4  [various, world, leader, agency, posted, wish,...   \n",
              "\n",
              "                        clean_content_with_Stopwords  \n",
              "0  an army officer and four other personnel were ...  \n",
              "1  aryan khan did not get bail today for the thir...  \n",
              "2  a day after resigning from the national confer...  \n",
              "3  china has won the artificial intelligence batt...  \n",
              "4  various world leaders and un agencies posted w...  "
            ],
            "text/html": [
              "\n",
              "  <div id=\"df-b466efbc-44cb-4eb8-adba-49733b58982a\">\n",
              "    <div class=\"colab-df-container\">\n",
              "      <div>\n",
              "<style scoped>\n",
              "    .dataframe tbody tr th:only-of-type {\n",
              "        vertical-align: middle;\n",
              "    }\n",
              "\n",
              "    .dataframe tbody tr th {\n",
              "        vertical-align: top;\n",
              "    }\n",
              "\n",
              "    .dataframe thead th {\n",
              "        text-align: right;\n",
              "    }\n",
              "</style>\n",
              "<table border=\"1\" class=\"dataframe\">\n",
              "  <thead>\n",
              "    <tr style=\"text-align: right;\">\n",
              "      <th></th>\n",
              "      <th>text</th>\n",
              "      <th>url</th>\n",
              "      <th>title</th>\n",
              "      <th>content</th>\n",
              "      <th>bias</th>\n",
              "      <th>retweet_count</th>\n",
              "      <th>favorite_count</th>\n",
              "      <th>source_name</th>\n",
              "      <th>source</th>\n",
              "      <th>clean_content</th>\n",
              "      <th>text_lemmatized</th>\n",
              "      <th>clean_text_lemmatized</th>\n",
              "      <th>clean_content_with_Stopwords</th>\n",
              "    </tr>\n",
              "  </thead>\n",
              "  <tbody>\n",
              "    <tr>\n",
              "      <th>0</th>\n",
              "      <td>Army Officer, 4 Others Killed In Encounter In ...</td>\n",
              "      <td>https://www.ndtv.com/india-news/army-officer-4...</td>\n",
              "      <td>Army Officer, 4 Personnel Killed In Encounter ...</td>\n",
              "      <td>an army officer and four other personnel were ...</td>\n",
              "      <td>3</td>\n",
              "      <td>9.0</td>\n",
              "      <td>63.0</td>\n",
              "      <td>ndtv</td>\n",
              "      <td>0</td>\n",
              "      <td>army officer personnel killed action encounter...</td>\n",
              "      <td>[army, officer, personnel, killed, action, enc...</td>\n",
              "      <td>[army, officer, personnel, killed, action, enc...</td>\n",
              "      <td>an army officer and four other personnel were ...</td>\n",
              "    </tr>\n",
              "    <tr>\n",
              "      <th>1</th>\n",
              "      <td>#AryanKhan Case: No Bail For Him Today, Next H...</td>\n",
              "      <td>https://ndtv.com/india-news/mumbai-drug-bust-c...</td>\n",
              "      <td>Aryan Khan Case: No Bail For Him Today, Next H...</td>\n",
              "      <td>aryan khan did not get bail today for the thir...</td>\n",
              "      <td>3</td>\n",
              "      <td>5.0</td>\n",
              "      <td>44.0</td>\n",
              "      <td>ndtv</td>\n",
              "      <td>0</td>\n",
              "      <td>aryan khan bail arrest week ago drugs cruise b...</td>\n",
              "      <td>[aryan, khan, bail, arrest, week, ago, drug, c...</td>\n",
              "      <td>[aryan, khan, bail, arrest, week, ago, drug, c...</td>\n",
              "      <td>aryan khan did not get bail today for the thir...</td>\n",
              "    </tr>\n",
              "    <tr>\n",
              "      <th>2</th>\n",
              "      <td>RT @ndtvfeed: Ex-National Conference Leaders D...</td>\n",
              "      <td>https://www.ndtv.com/india-news/after-resignin...</td>\n",
              "      <td>Ex-National Conference Leaders Devender Rana, ...</td>\n",
              "      <td>a day after resigning from the national confer...</td>\n",
              "      <td>1</td>\n",
              "      <td>2.0</td>\n",
              "      <td>0.0</td>\n",
              "      <td>ndtv</td>\n",
              "      <td>0</td>\n",
              "      <td>resigning national conference devender rana he...</td>\n",
              "      <td>[resigning, national, conference, devender, ra...</td>\n",
              "      <td>[resigning, national, conference, devender, ra...</td>\n",
              "      <td>a day after resigning from the national confer...</td>\n",
              "    </tr>\n",
              "    <tr>\n",
              "      <th>3</th>\n",
              "      <td>RT @ndtvfeed: US Has Lost AI Battle To China, ...</td>\n",
              "      <td>https://www.ndtv.com/world-news/us-has-lost-ar...</td>\n",
              "      <td>US Has Lost AI Battle To China, Pentagon's Ex-...</td>\n",
              "      <td>china has won the artificial intelligence batt...</td>\n",
              "      <td>0</td>\n",
              "      <td>5.0</td>\n",
              "      <td>0.0</td>\n",
              "      <td>ndtv</td>\n",
              "      <td>0</td>\n",
              "      <td>china artificial intelligence battle united st...</td>\n",
              "      <td>[china, artificial, intelligence, battle, unit...</td>\n",
              "      <td>[china, artificial, intelligence, battle, unit...</td>\n",
              "      <td>china has won the artificial intelligence batt...</td>\n",
              "    </tr>\n",
              "    <tr>\n",
              "      <th>4</th>\n",
              "      <td>RT @ndtvfeed: A Look At Inspiring Messages On ...</td>\n",
              "      <td>https://www.ndtv.com/india-news/on-internation...</td>\n",
              "      <td>International Day Of The Girl Child 2021: Lead...</td>\n",
              "      <td>various world leaders and un agencies posted w...</td>\n",
              "      <td>3</td>\n",
              "      <td>3.0</td>\n",
              "      <td>0.0</td>\n",
              "      <td>ndtv</td>\n",
              "      <td>0</td>\n",
              "      <td>various world leaders agencies posted wishes m...</td>\n",
              "      <td>[various, world, leader, agency, posted, wish,...</td>\n",
              "      <td>[various, world, leader, agency, posted, wish,...</td>\n",
              "      <td>various world leaders and un agencies posted w...</td>\n",
              "    </tr>\n",
              "  </tbody>\n",
              "</table>\n",
              "</div>\n",
              "      <button class=\"colab-df-convert\" onclick=\"convertToInteractive('df-b466efbc-44cb-4eb8-adba-49733b58982a')\"\n",
              "              title=\"Convert this dataframe to an interactive table.\"\n",
              "              style=\"display:none;\">\n",
              "        \n",
              "  <svg xmlns=\"http://www.w3.org/2000/svg\" height=\"24px\"viewBox=\"0 0 24 24\"\n",
              "       width=\"24px\">\n",
              "    <path d=\"M0 0h24v24H0V0z\" fill=\"none\"/>\n",
              "    <path d=\"M18.56 5.44l.94 2.06.94-2.06 2.06-.94-2.06-.94-.94-2.06-.94 2.06-2.06.94zm-11 1L8.5 8.5l.94-2.06 2.06-.94-2.06-.94L8.5 2.5l-.94 2.06-2.06.94zm10 10l.94 2.06.94-2.06 2.06-.94-2.06-.94-.94-2.06-.94 2.06-2.06.94z\"/><path d=\"M17.41 7.96l-1.37-1.37c-.4-.4-.92-.59-1.43-.59-.52 0-1.04.2-1.43.59L10.3 9.45l-7.72 7.72c-.78.78-.78 2.05 0 2.83L4 21.41c.39.39.9.59 1.41.59.51 0 1.02-.2 1.41-.59l7.78-7.78 2.81-2.81c.8-.78.8-2.07 0-2.86zM5.41 20L4 18.59l7.72-7.72 1.47 1.35L5.41 20z\"/>\n",
              "  </svg>\n",
              "      </button>\n",
              "      \n",
              "  <style>\n",
              "    .colab-df-container {\n",
              "      display:flex;\n",
              "      flex-wrap:wrap;\n",
              "      gap: 12px;\n",
              "    }\n",
              "\n",
              "    .colab-df-convert {\n",
              "      background-color: #E8F0FE;\n",
              "      border: none;\n",
              "      border-radius: 50%;\n",
              "      cursor: pointer;\n",
              "      display: none;\n",
              "      fill: #1967D2;\n",
              "      height: 32px;\n",
              "      padding: 0 0 0 0;\n",
              "      width: 32px;\n",
              "    }\n",
              "\n",
              "    .colab-df-convert:hover {\n",
              "      background-color: #E2EBFA;\n",
              "      box-shadow: 0px 1px 2px rgba(60, 64, 67, 0.3), 0px 1px 3px 1px rgba(60, 64, 67, 0.15);\n",
              "      fill: #174EA6;\n",
              "    }\n",
              "\n",
              "    [theme=dark] .colab-df-convert {\n",
              "      background-color: #3B4455;\n",
              "      fill: #D2E3FC;\n",
              "    }\n",
              "\n",
              "    [theme=dark] .colab-df-convert:hover {\n",
              "      background-color: #434B5C;\n",
              "      box-shadow: 0px 1px 3px 1px rgba(0, 0, 0, 0.15);\n",
              "      filter: drop-shadow(0px 1px 2px rgba(0, 0, 0, 0.3));\n",
              "      fill: #FFFFFF;\n",
              "    }\n",
              "  </style>\n",
              "\n",
              "      <script>\n",
              "        const buttonEl =\n",
              "          document.querySelector('#df-b466efbc-44cb-4eb8-adba-49733b58982a button.colab-df-convert');\n",
              "        buttonEl.style.display =\n",
              "          google.colab.kernel.accessAllowed ? 'block' : 'none';\n",
              "\n",
              "        async function convertToInteractive(key) {\n",
              "          const element = document.querySelector('#df-b466efbc-44cb-4eb8-adba-49733b58982a');\n",
              "          const dataTable =\n",
              "            await google.colab.kernel.invokeFunction('convertToInteractive',\n",
              "                                                     [key], {});\n",
              "          if (!dataTable) return;\n",
              "\n",
              "          const docLinkHtml = 'Like what you see? Visit the ' +\n",
              "            '<a target=\"_blank\" href=https://colab.research.google.com/notebooks/data_table.ipynb>data table notebook</a>'\n",
              "            + ' to learn more about interactive tables.';\n",
              "          element.innerHTML = '';\n",
              "          dataTable['output_type'] = 'display_data';\n",
              "          await google.colab.output.renderOutput(dataTable, element);\n",
              "          const docLink = document.createElement('div');\n",
              "          docLink.innerHTML = docLinkHtml;\n",
              "          element.appendChild(docLink);\n",
              "        }\n",
              "      </script>\n",
              "    </div>\n",
              "  </div>\n",
              "  "
            ]
          },
          "metadata": {},
          "execution_count": 9
        }
      ]
    },
    {
      "cell_type": "code",
      "source": [
        "df['clean_content']=\"\"\n",
        "for i in tqdm(range(len(df['clean_text_lemmatized']))):\n",
        "    x=df['clean_text_lemmatized'][i]\n",
        "    review=\" \".join(x)\n",
        "    df['clean_content'][i] = review"
      ],
      "metadata": {
        "id": "swI2tvndNbiA",
        "colab": {
          "base_uri": "https://localhost:8080/"
        },
        "outputId": "979dcb04-14d9-415d-f57c-e3127aecb526"
      },
      "execution_count": 10,
      "outputs": [
        {
          "output_type": "stream",
          "name": "stderr",
          "text": [
            "  0%|          | 0/2150 [00:00<?, ?it/s]/usr/local/lib/python3.7/dist-packages/ipykernel_launcher.py:5: SettingWithCopyWarning: \n",
            "A value is trying to be set on a copy of a slice from a DataFrame\n",
            "\n",
            "See the caveats in the documentation: https://pandas.pydata.org/pandas-docs/stable/user_guide/indexing.html#returning-a-view-versus-a-copy\n",
            "  \"\"\"\n",
            "100%|██████████| 2150/2150 [00:01<00:00, 1709.16it/s]\n"
          ]
        }
      ]
    },
    {
      "cell_type": "code",
      "source": [
        "df.head()"
      ],
      "metadata": {
        "id": "EsRro7OANl13",
        "colab": {
          "base_uri": "https://localhost:8080/",
          "height": 669
        },
        "outputId": "98267bf3-bae5-4179-bee8-ff7f49ddd18a"
      },
      "execution_count": 11,
      "outputs": [
        {
          "output_type": "execute_result",
          "data": {
            "text/plain": [
              "                                                text  \\\n",
              "0  Army Officer, 4 Others Killed In Encounter In ...   \n",
              "1  #AryanKhan Case: No Bail For Him Today, Next H...   \n",
              "2  RT @ndtvfeed: Ex-National Conference Leaders D...   \n",
              "3  RT @ndtvfeed: US Has Lost AI Battle To China, ...   \n",
              "4  RT @ndtvfeed: A Look At Inspiring Messages On ...   \n",
              "\n",
              "                                                 url  \\\n",
              "0  https://www.ndtv.com/india-news/army-officer-4...   \n",
              "1  https://ndtv.com/india-news/mumbai-drug-bust-c...   \n",
              "2  https://www.ndtv.com/india-news/after-resignin...   \n",
              "3  https://www.ndtv.com/world-news/us-has-lost-ar...   \n",
              "4  https://www.ndtv.com/india-news/on-internation...   \n",
              "\n",
              "                                               title  \\\n",
              "0  Army Officer, 4 Personnel Killed In Encounter ...   \n",
              "1  Aryan Khan Case: No Bail For Him Today, Next H...   \n",
              "2  Ex-National Conference Leaders Devender Rana, ...   \n",
              "3  US Has Lost AI Battle To China, Pentagon's Ex-...   \n",
              "4  International Day Of The Girl Child 2021: Lead...   \n",
              "\n",
              "                                             content  bias  retweet_count  \\\n",
              "0  an army officer and four other personnel were ...     3            9.0   \n",
              "1  aryan khan did not get bail today for the thir...     3            5.0   \n",
              "2  a day after resigning from the national confer...     1            2.0   \n",
              "3  china has won the artificial intelligence batt...     0            5.0   \n",
              "4  various world leaders and un agencies posted w...     3            3.0   \n",
              "\n",
              "   favorite_count source_name  source  \\\n",
              "0            63.0        ndtv       0   \n",
              "1            44.0        ndtv       0   \n",
              "2             0.0        ndtv       0   \n",
              "3             0.0        ndtv       0   \n",
              "4             0.0        ndtv       0   \n",
              "\n",
              "                                       clean_content  \\\n",
              "0  army officer personnel killed action encounter...   \n",
              "1  aryan khan bail arrest week ago drug cruise ba...   \n",
              "2  resigning national conference devender rana he...   \n",
              "3  china artificial intelligence battle united he...   \n",
              "4  various world leader agency posted wish messag...   \n",
              "\n",
              "                                     text_lemmatized  \\\n",
              "0  [army, officer, personnel, killed, action, enc...   \n",
              "1  [aryan, khan, bail, arrest, week, ago, drug, c...   \n",
              "2  [resigning, national, conference, devender, ra...   \n",
              "3  [china, artificial, intelligence, battle, unit...   \n",
              "4  [various, world, leader, agency, posted, wish,...   \n",
              "\n",
              "                               clean_text_lemmatized  \\\n",
              "0  [army, officer, personnel, killed, action, enc...   \n",
              "1  [aryan, khan, bail, arrest, week, ago, drug, c...   \n",
              "2  [resigning, national, conference, devender, ra...   \n",
              "3  [china, artificial, intelligence, battle, unit...   \n",
              "4  [various, world, leader, agency, posted, wish,...   \n",
              "\n",
              "                        clean_content_with_Stopwords  \n",
              "0  an army officer and four other personnel were ...  \n",
              "1  aryan khan did not get bail today for the thir...  \n",
              "2  a day after resigning from the national confer...  \n",
              "3  china has won the artificial intelligence batt...  \n",
              "4  various world leaders and un agencies posted w...  "
            ],
            "text/html": [
              "\n",
              "  <div id=\"df-a12da402-cb0e-4512-81d1-efe41886d640\">\n",
              "    <div class=\"colab-df-container\">\n",
              "      <div>\n",
              "<style scoped>\n",
              "    .dataframe tbody tr th:only-of-type {\n",
              "        vertical-align: middle;\n",
              "    }\n",
              "\n",
              "    .dataframe tbody tr th {\n",
              "        vertical-align: top;\n",
              "    }\n",
              "\n",
              "    .dataframe thead th {\n",
              "        text-align: right;\n",
              "    }\n",
              "</style>\n",
              "<table border=\"1\" class=\"dataframe\">\n",
              "  <thead>\n",
              "    <tr style=\"text-align: right;\">\n",
              "      <th></th>\n",
              "      <th>text</th>\n",
              "      <th>url</th>\n",
              "      <th>title</th>\n",
              "      <th>content</th>\n",
              "      <th>bias</th>\n",
              "      <th>retweet_count</th>\n",
              "      <th>favorite_count</th>\n",
              "      <th>source_name</th>\n",
              "      <th>source</th>\n",
              "      <th>clean_content</th>\n",
              "      <th>text_lemmatized</th>\n",
              "      <th>clean_text_lemmatized</th>\n",
              "      <th>clean_content_with_Stopwords</th>\n",
              "    </tr>\n",
              "  </thead>\n",
              "  <tbody>\n",
              "    <tr>\n",
              "      <th>0</th>\n",
              "      <td>Army Officer, 4 Others Killed In Encounter In ...</td>\n",
              "      <td>https://www.ndtv.com/india-news/army-officer-4...</td>\n",
              "      <td>Army Officer, 4 Personnel Killed In Encounter ...</td>\n",
              "      <td>an army officer and four other personnel were ...</td>\n",
              "      <td>3</td>\n",
              "      <td>9.0</td>\n",
              "      <td>63.0</td>\n",
              "      <td>ndtv</td>\n",
              "      <td>0</td>\n",
              "      <td>army officer personnel killed action encounter...</td>\n",
              "      <td>[army, officer, personnel, killed, action, enc...</td>\n",
              "      <td>[army, officer, personnel, killed, action, enc...</td>\n",
              "      <td>an army officer and four other personnel were ...</td>\n",
              "    </tr>\n",
              "    <tr>\n",
              "      <th>1</th>\n",
              "      <td>#AryanKhan Case: No Bail For Him Today, Next H...</td>\n",
              "      <td>https://ndtv.com/india-news/mumbai-drug-bust-c...</td>\n",
              "      <td>Aryan Khan Case: No Bail For Him Today, Next H...</td>\n",
              "      <td>aryan khan did not get bail today for the thir...</td>\n",
              "      <td>3</td>\n",
              "      <td>5.0</td>\n",
              "      <td>44.0</td>\n",
              "      <td>ndtv</td>\n",
              "      <td>0</td>\n",
              "      <td>aryan khan bail arrest week ago drug cruise ba...</td>\n",
              "      <td>[aryan, khan, bail, arrest, week, ago, drug, c...</td>\n",
              "      <td>[aryan, khan, bail, arrest, week, ago, drug, c...</td>\n",
              "      <td>aryan khan did not get bail today for the thir...</td>\n",
              "    </tr>\n",
              "    <tr>\n",
              "      <th>2</th>\n",
              "      <td>RT @ndtvfeed: Ex-National Conference Leaders D...</td>\n",
              "      <td>https://www.ndtv.com/india-news/after-resignin...</td>\n",
              "      <td>Ex-National Conference Leaders Devender Rana, ...</td>\n",
              "      <td>a day after resigning from the national confer...</td>\n",
              "      <td>1</td>\n",
              "      <td>2.0</td>\n",
              "      <td>0.0</td>\n",
              "      <td>ndtv</td>\n",
              "      <td>0</td>\n",
              "      <td>resigning national conference devender rana he...</td>\n",
              "      <td>[resigning, national, conference, devender, ra...</td>\n",
              "      <td>[resigning, national, conference, devender, ra...</td>\n",
              "      <td>a day after resigning from the national confer...</td>\n",
              "    </tr>\n",
              "    <tr>\n",
              "      <th>3</th>\n",
              "      <td>RT @ndtvfeed: US Has Lost AI Battle To China, ...</td>\n",
              "      <td>https://www.ndtv.com/world-news/us-has-lost-ar...</td>\n",
              "      <td>US Has Lost AI Battle To China, Pentagon's Ex-...</td>\n",
              "      <td>china has won the artificial intelligence batt...</td>\n",
              "      <td>0</td>\n",
              "      <td>5.0</td>\n",
              "      <td>0.0</td>\n",
              "      <td>ndtv</td>\n",
              "      <td>0</td>\n",
              "      <td>china artificial intelligence battle united he...</td>\n",
              "      <td>[china, artificial, intelligence, battle, unit...</td>\n",
              "      <td>[china, artificial, intelligence, battle, unit...</td>\n",
              "      <td>china has won the artificial intelligence batt...</td>\n",
              "    </tr>\n",
              "    <tr>\n",
              "      <th>4</th>\n",
              "      <td>RT @ndtvfeed: A Look At Inspiring Messages On ...</td>\n",
              "      <td>https://www.ndtv.com/india-news/on-internation...</td>\n",
              "      <td>International Day Of The Girl Child 2021: Lead...</td>\n",
              "      <td>various world leaders and un agencies posted w...</td>\n",
              "      <td>3</td>\n",
              "      <td>3.0</td>\n",
              "      <td>0.0</td>\n",
              "      <td>ndtv</td>\n",
              "      <td>0</td>\n",
              "      <td>various world leader agency posted wish messag...</td>\n",
              "      <td>[various, world, leader, agency, posted, wish,...</td>\n",
              "      <td>[various, world, leader, agency, posted, wish,...</td>\n",
              "      <td>various world leaders and un agencies posted w...</td>\n",
              "    </tr>\n",
              "  </tbody>\n",
              "</table>\n",
              "</div>\n",
              "      <button class=\"colab-df-convert\" onclick=\"convertToInteractive('df-a12da402-cb0e-4512-81d1-efe41886d640')\"\n",
              "              title=\"Convert this dataframe to an interactive table.\"\n",
              "              style=\"display:none;\">\n",
              "        \n",
              "  <svg xmlns=\"http://www.w3.org/2000/svg\" height=\"24px\"viewBox=\"0 0 24 24\"\n",
              "       width=\"24px\">\n",
              "    <path d=\"M0 0h24v24H0V0z\" fill=\"none\"/>\n",
              "    <path d=\"M18.56 5.44l.94 2.06.94-2.06 2.06-.94-2.06-.94-.94-2.06-.94 2.06-2.06.94zm-11 1L8.5 8.5l.94-2.06 2.06-.94-2.06-.94L8.5 2.5l-.94 2.06-2.06.94zm10 10l.94 2.06.94-2.06 2.06-.94-2.06-.94-.94-2.06-.94 2.06-2.06.94z\"/><path d=\"M17.41 7.96l-1.37-1.37c-.4-.4-.92-.59-1.43-.59-.52 0-1.04.2-1.43.59L10.3 9.45l-7.72 7.72c-.78.78-.78 2.05 0 2.83L4 21.41c.39.39.9.59 1.41.59.51 0 1.02-.2 1.41-.59l7.78-7.78 2.81-2.81c.8-.78.8-2.07 0-2.86zM5.41 20L4 18.59l7.72-7.72 1.47 1.35L5.41 20z\"/>\n",
              "  </svg>\n",
              "      </button>\n",
              "      \n",
              "  <style>\n",
              "    .colab-df-container {\n",
              "      display:flex;\n",
              "      flex-wrap:wrap;\n",
              "      gap: 12px;\n",
              "    }\n",
              "\n",
              "    .colab-df-convert {\n",
              "      background-color: #E8F0FE;\n",
              "      border: none;\n",
              "      border-radius: 50%;\n",
              "      cursor: pointer;\n",
              "      display: none;\n",
              "      fill: #1967D2;\n",
              "      height: 32px;\n",
              "      padding: 0 0 0 0;\n",
              "      width: 32px;\n",
              "    }\n",
              "\n",
              "    .colab-df-convert:hover {\n",
              "      background-color: #E2EBFA;\n",
              "      box-shadow: 0px 1px 2px rgba(60, 64, 67, 0.3), 0px 1px 3px 1px rgba(60, 64, 67, 0.15);\n",
              "      fill: #174EA6;\n",
              "    }\n",
              "\n",
              "    [theme=dark] .colab-df-convert {\n",
              "      background-color: #3B4455;\n",
              "      fill: #D2E3FC;\n",
              "    }\n",
              "\n",
              "    [theme=dark] .colab-df-convert:hover {\n",
              "      background-color: #434B5C;\n",
              "      box-shadow: 0px 1px 3px 1px rgba(0, 0, 0, 0.15);\n",
              "      filter: drop-shadow(0px 1px 2px rgba(0, 0, 0, 0.3));\n",
              "      fill: #FFFFFF;\n",
              "    }\n",
              "  </style>\n",
              "\n",
              "      <script>\n",
              "        const buttonEl =\n",
              "          document.querySelector('#df-a12da402-cb0e-4512-81d1-efe41886d640 button.colab-df-convert');\n",
              "        buttonEl.style.display =\n",
              "          google.colab.kernel.accessAllowed ? 'block' : 'none';\n",
              "\n",
              "        async function convertToInteractive(key) {\n",
              "          const element = document.querySelector('#df-a12da402-cb0e-4512-81d1-efe41886d640');\n",
              "          const dataTable =\n",
              "            await google.colab.kernel.invokeFunction('convertToInteractive',\n",
              "                                                     [key], {});\n",
              "          if (!dataTable) return;\n",
              "\n",
              "          const docLinkHtml = 'Like what you see? Visit the ' +\n",
              "            '<a target=\"_blank\" href=https://colab.research.google.com/notebooks/data_table.ipynb>data table notebook</a>'\n",
              "            + ' to learn more about interactive tables.';\n",
              "          element.innerHTML = '';\n",
              "          dataTable['output_type'] = 'display_data';\n",
              "          await google.colab.output.renderOutput(dataTable, element);\n",
              "          const docLink = document.createElement('div');\n",
              "          docLink.innerHTML = docLinkHtml;\n",
              "          element.appendChild(docLink);\n",
              "        }\n",
              "      </script>\n",
              "    </div>\n",
              "  </div>\n",
              "  "
            ]
          },
          "metadata": {},
          "execution_count": 11
        }
      ]
    },
    {
      "cell_type": "code",
      "source": [
        "# from keras.preprocessing.sequence import pad_sequences\n",
        "# max_features = 30000\n",
        "# maxlen = 25\n",
        "# X = df['clean_text_lemmatized']\n",
        "# X = pad_sequences(X, maxlen = maxlen)\n",
        "# y=df['bias']"
      ],
      "metadata": {
        "id": "nIhLwiQwrnFJ"
      },
      "execution_count": 12,
      "outputs": []
    },
    {
      "cell_type": "code",
      "source": [
        "for x in df['clean_text_lemmatized'][2]:\n",
        "   if(x=='car'):\n",
        "      print(x)"
      ],
      "metadata": {
        "id": "KIOgL6bacY1d"
      },
      "execution_count": 13,
      "outputs": []
    },
    {
      "cell_type": "code",
      "source": [
        "for i in range(len(df)):\n",
        "  for x in df['clean_text_lemmatized'][i]:\n",
        "    if x=='car':\n",
        "      print(i)\n",
        "      \n"
      ],
      "metadata": {
        "id": "C1-h_eeN9C10"
      },
      "execution_count": 14,
      "outputs": []
    },
    {
      "cell_type": "code",
      "source": [
        "df['content'][0]"
      ],
      "metadata": {
        "id": "xgQm_7aORUMh",
        "colab": {
          "base_uri": "https://localhost:8080/",
          "height": 127
        },
        "outputId": "0b7ec045-a9c5-4513-cb72-f78b89ed6db5"
      },
      "execution_count": 15,
      "outputs": [
        {
          "output_type": "execute_result",
          "data": {
            "text/plain": [
              "\"an army officer and four other personnel were killed in action during an encounter between security forces and terrorists in jammu and kashmir's poonch district on monday, officials said. an anti-insurgency operation was launched in a village close to dera ki gali in surankote in the early hours following intelligence inputs about the presence of heavily-armed terrorists there, they said. the hiding terrorists fired on the search parties resulting in fierce gunfight and critical injuries to a junior commissioned officer or jco and four other soldiers. they died from their injuries. the encounter with the terrorists was going on and further details are awaited, a defence spokesperson said. officials said there were reports about the presence of a group of heavily-armed terrorists in the chamrer forest, after they managed to sneak from across the line of control (loc). reinforcements have been rushed to the area to plug all escape routes of the terrorists, they said. (with inputs from pti)\""
            ],
            "application/vnd.google.colaboratory.intrinsic+json": {
              "type": "string"
            }
          },
          "metadata": {},
          "execution_count": 15
        }
      ]
    },
    {
      "cell_type": "code",
      "source": [
        "#df['clean_text_lemmatized'][0]"
      ],
      "metadata": {
        "id": "pgrRoY1fRLyx"
      },
      "execution_count": 16,
      "outputs": []
    },
    {
      "cell_type": "code",
      "source": [
        "#//"
      ],
      "metadata": {
        "id": "u63LlRHQUjCp"
      },
      "execution_count": 17,
      "outputs": []
    },
    {
      "cell_type": "code",
      "source": [
        "for i in range(len(df)):\n",
        "  for x in df['clean_text_lemmatized'][i]:\n",
        "    if str(x)=='car':\n",
        "      print('here',i)\n"
      ],
      "metadata": {
        "id": "gG9XN1kVr8cH"
      },
      "execution_count": 18,
      "outputs": []
    },
    {
      "cell_type": "code",
      "source": [
        "center_with_bias_words = df.loc[df['content'].str.contains('shiv sena|shivsena|aap|bjp|congress|modi|gandhi', case=False)]\n",
        "center_without_bias_words = df.loc[~df['content'].str.contains('sena|shivsena|aap|bjp|congress|modi|gandhi|minister|aam|government|aadmi', case=False)]\n",
        "\n",
        "center_without_bias_words = center_without_bias_words.loc[center_without_bias_words['bias']==3]\n",
        "\n",
        "center_with_bias_words = center_with_bias_words.loc[center_with_bias_words['bias']==3]\n",
        "right = df.loc[df['bias']==1]\n",
        "left = df.loc[df['bias']==0]\n",
        "center = df.loc[df['bias']==3]\n",
        "#center = df.loc[df['bias']==3]\n",
        "#df2=pd.concat([left,right,center_with_bias_words])\n"
      ],
      "metadata": {
        "id": "4UhtgRVNwTTa"
      },
      "execution_count": 19,
      "outputs": []
    },
    {
      "cell_type": "code",
      "source": [
        "print('right',len(right))\n",
        "print('left',len(left))\n",
        "print('center_without_bias_words',len(center_without_bias_words))\n",
        "print('center_with_bias_words',len(center_with_bias_words))\n",
        "\n"
      ],
      "metadata": {
        "id": "tP4NYeAn5kAR",
        "colab": {
          "base_uri": "https://localhost:8080/"
        },
        "outputId": "6c73ea0c-c632-43a4-fb15-edb6d3bc975b"
      },
      "execution_count": 20,
      "outputs": [
        {
          "output_type": "stream",
          "name": "stdout",
          "text": [
            "right 184\n",
            "left 263\n",
            "center_without_bias_words 811\n",
            "center_with_bias_words 443\n"
          ]
        }
      ]
    },
    {
      "cell_type": "code",
      "source": [
        "# for xt in all_words.most_common(5000):\n",
        "#   print(xt)###"
      ],
      "metadata": {
        "id": "cNaRtkiAvpNt"
      },
      "execution_count": 21,
      "outputs": []
    },
    {
      "cell_type": "code",
      "source": [
        "#left.loc[left['clean_content'].str.contains('power')]#, case=False)]\n"
      ],
      "metadata": {
        "id": "uK35e6tZWo24"
      },
      "execution_count": 22,
      "outputs": []
    },
    {
      "cell_type": "code",
      "source": [
        "#right.loc[right['clean_content'].str.contains('power')]#, case=False)]"
      ],
      "metadata": {
        "id": "hFNqNHSVqRA8"
      },
      "execution_count": 23,
      "outputs": []
    },
    {
      "cell_type": "code",
      "source": [
        "left=left.head(190)"
      ],
      "metadata": {
        "id": "aGGPa2mrDvit"
      },
      "execution_count": 24,
      "outputs": []
    },
    {
      "cell_type": "code",
      "source": [
        "center_with_bias_words=center_with_bias_words.head(200)"
      ],
      "metadata": {
        "id": "Wm0tfqCI5suM"
      },
      "execution_count": 25,
      "outputs": []
    },
    {
      "cell_type": "code",
      "source": [
        "center_without_bias_words=center_without_bias_words.head(200)\n"
      ],
      "metadata": {
        "id": "sFmDhL0R5xpb"
      },
      "execution_count": 26,
      "outputs": []
    },
    {
      "cell_type": "code",
      "source": [
        "center=center.head(300)"
      ],
      "metadata": {
        "id": "Yh--QBhut89c"
      },
      "execution_count": 27,
      "outputs": []
    },
    {
      "cell_type": "code",
      "source": [
        "print('right',len(right))\n",
        "print('left',len(left))\n",
        "print('center_without_bias_words',len(center_without_bias_words))\n",
        "print('center_with_bias_words',len(center_with_bias_words))\n",
        "\n"
      ],
      "metadata": {
        "id": "wxKmiT5T0xV3",
        "colab": {
          "base_uri": "https://localhost:8080/"
        },
        "outputId": "7e8bc3e5-8916-4464-bfe5-c417a135c567"
      },
      "execution_count": 28,
      "outputs": [
        {
          "output_type": "stream",
          "name": "stdout",
          "text": [
            "right 184\n",
            "left 190\n",
            "center_without_bias_words 200\n",
            "center_with_bias_words 200\n"
          ]
        }
      ]
    },
    {
      "cell_type": "code",
      "source": [
        "right['clean_content'][2]"
      ],
      "metadata": {
        "id": "mgr7FvL3oAV2",
        "colab": {
          "base_uri": "https://localhost:8080/",
          "height": 109
        },
        "outputId": "f58f58da-2749-4b0b-de12-deb438a1e056"
      },
      "execution_count": 29,
      "outputs": [
        {
          "output_type": "execute_result",
          "data": {
            "text/plain": [
              "'resigning national conference devender rana head jammu division party leader surjit singh slathia joined bjp rana slathia joined bjp headquarters delhi presence union minister dharmendra pradhan hardeep singh puri jitendra singh rana mla younger brother union minister jitendra singh served political advisor jammu kashmir chief minister national conference nc leader omar abdullah bjp general secretary charge jammu kashmir tarun chugh jammu kashmir unit chief ravinder raina welcomed party rana advocating jammu declaration joint declaration political social business organisation primarily demanding restoration statehood jammu region jammu kashmir centre revoked erstwhile jammu kashmir special status bifurcated union territory jammu kashmir ladakh'"
            ],
            "application/vnd.google.colaboratory.intrinsic+json": {
              "type": "string"
            }
          },
          "metadata": {},
          "execution_count": 29
        }
      ]
    },
    {
      "cell_type": "code",
      "source": [
        ""
      ],
      "metadata": {
        "id": "iTRvJzlLFXBE"
      },
      "execution_count": 29,
      "outputs": []
    },
    {
      "cell_type": "markdown",
      "source": [
        "# DF CONCAT"
      ],
      "metadata": {
        "id": "FFmTWOtiFXSX"
      }
    },
    {
      "cell_type": "code",
      "source": [
        "#df2=pd.concat([left,right,center])\n",
        "df2=pd.concat([left,right,center_without_bias_words])\n"
      ],
      "metadata": {
        "id": "q8ieMSDL52p8"
      },
      "execution_count": 30,
      "outputs": []
    },
    {
      "cell_type": "code",
      "source": [
        "#REINDEXING\n",
        "indx=[]\n",
        "for i in range(len(df2)):\n",
        "  indx.append(i)\n",
        "df2.index=indx"
      ],
      "metadata": {
        "id": "9ZUz9GPg6Rgc"
      },
      "execution_count": 31,
      "outputs": []
    },
    {
      "cell_type": "code",
      "source": [
        "# ## Divide the dataset into Train and Test\n",
        "# from sklearn.model_selection import train_test_split\n",
        "# X_train, X_test, y_train, y_test = train_test_split(X, y, test_size=0.4, random_state=2)"
      ],
      "metadata": {
        "id": "x3Dnkfj4UYmW"
      },
      "execution_count": 32,
      "outputs": []
    },
    {
      "cell_type": "code",
      "source": [
        "######NaiiveBayes without Feature Selection\n",
        "from sklearn.feature_extraction.text import CountVectorizer\n",
        "from sklearn.feature_extraction.text import TfidfTransformer\n",
        "from sklearn.naive_bayes import MultinomialNB\n",
        "from sklearn.metrics import f1_score,classification_report,accuracy_score,confusion_matrix\n",
        "from sklearn.naive_bayes import GaussianNB\n",
        "## TFidf Vectorizer\n",
        "from sklearn.feature_extraction.text import TfidfVectorizer\n",
        "from sklearn.feature_extraction.text import CountVectorizer\n",
        "from sklearn.ensemble import RandomForestClassifier"
      ],
      "metadata": {
        "id": "XfV8niqPk9NW"
      },
      "execution_count": 33,
      "outputs": []
    },
    {
      "cell_type": "code",
      "source": [
        "X = df2['clean_content']\n",
        "y=df2['bias']\n"
      ],
      "metadata": {
        "id": "6Srl2Kj8r0pM"
      },
      "execution_count": 34,
      "outputs": []
    },
    {
      "cell_type": "code",
      "source": [
        "from nltk.tokenize import word_tokenize\n",
        "all_words = []\n",
        "for message in df2['clean_content']:\n",
        "      words = word_tokenize(message)\n",
        "      for w in words:\n",
        "          all_words.append(w)\n",
        "all_words = nltk.FreqDist(all_words)"
      ],
      "metadata": {
        "id": "xfDwrrtFqnWi"
      },
      "execution_count": 35,
      "outputs": []
    },
    {
      "cell_type": "code",
      "source": [
        "# print the total number of words and the 15 most common words\n",
        "print('Number of words: {}'.format(len(all_words)))\n",
        "print('Most common words: {}'.format(all_words.most_common(15)))"
      ],
      "metadata": {
        "id": "enKYjwzpq_cC",
        "colab": {
          "base_uri": "https://localhost:8080/"
        },
        "outputId": "33ff4246-902a-407c-9e05-834d02b372f0"
      },
      "execution_count": 36,
      "outputs": [
        {
          "output_type": "stream",
          "name": "stdout",
          "text": [
            "Number of words: 11170\n",
            "Most common words: [('minister', 1015), ('farmer', 949), ('congress', 714), ('bjp', 663), ('party', 643), ('government', 607), ('chief', 599), ('police', 569), ('leader', 558), ('lakhimpur', 514), ('modi', 513), ('gandhi', 494), ('union', 449), ('mishra', 430), ('kheri', 420)]\n"
          ]
        }
      ]
    },
    {
      "cell_type": "code",
      "source": [
        ""
      ],
      "metadata": {
        "id": "fRfeVmQxbRTi"
      },
      "execution_count": 36,
      "outputs": []
    },
    {
      "cell_type": "markdown",
      "source": [
        "# COMMON WORDS TESTING\n"
      ],
      "metadata": {
        "id": "MwdjrNP_bRgG"
      }
    },
    {
      "cell_type": "code",
      "source": [
        "###TESTING\n",
        "from nltk.tokenize import word_tokenize\n",
        "all_words = []\n",
        "for message in right['clean_content']:\n",
        "      words = word_tokenize(message)\n",
        "      for w in words:\n",
        "          all_words.append(w)\n",
        "all_words = nltk.FreqDist(all_words)\n",
        "# print the total number of words and the 15 most common words\n",
        "print('Number of words: {}'.format(len(all_words)))\n",
        "print('Most common words: {}'.format(all_words.most_common(2500)))"
      ],
      "metadata": {
        "id": "0Kb-4HQPwVF4",
        "colab": {
          "base_uri": "https://localhost:8080/"
        },
        "outputId": "d904d68d-671a-442d-b144-af08e295f5bc"
      },
      "execution_count": 37,
      "outputs": [
        {
          "output_type": "stream",
          "name": "stdout",
          "text": [
            "Number of words: 5953\n",
            "Most common words: [('minister', 422), ('bjp', 356), ('farmer', 321), ('modi', 314), ('party', 290), ('congress', 264), ('union', 223), ('government', 222), ('leader', 216), ('chief', 208), ('singh', 167), ('lakhimpur', 160), ('mishra', 151), ('son', 138), ('gandhi', 135), ('pradesh', 130), ('pm', 125), ('kheri', 117), ('police', 106), ('national', 101), ('power', 100), ('uttar', 98), ('home', 94), ('election', 89), ('assembly', 86), ('ashish', 83), ('delhi', 82), ('ajay', 80), ('shah', 69), ('cm', 68), ('kumar', 67), ('worker', 66), ('kashmir', 65), ('violence', 65), ('meeting', 62), ('claimed', 60), ('protest', 60), ('ncb', 59), ('issue', 58), ('come', 57), ('law', 57), ('yadav', 57), ('indian', 56), ('killed', 56), ('development', 55), ('death', 54), ('present', 54), ('khan', 54), ('punjab', 54), ('political', 53), ('ministry', 53), ('drug', 53), ('rjd', 53), ('jammu', 52), ('killing', 51), ('opposition', 50), ('president', 50), ('place', 50), ('held', 50), ('policy', 49), ('official', 49), ('amit', 49), ('decision', 49), ('priyanka', 49), ('gujarat', 48), ('mumbai', 47), ('statement', 47), ('deputy', 47), ('agency', 46), ('yogi', 46), ('central', 46), ('given', 46), ('mp', 45), ('air', 44), ('r', 44), ('took', 44), ('court', 44), ('sector', 43), ('adityanath', 43), ('seen', 43), ('dead', 43), ('centre', 41), ('saying', 41), ('taken', 41), ('protesting', 41), ('savarkar', 41), ('body', 40), ('member', 40), ('told', 40), ('accused', 40), ('plant', 40), ('space', 39), ('attack', 39), ('later', 38), ('lakh', 38), ('leadership', 38), ('high', 38), ('scheme', 38), ('mla', 37), ('life', 37), ('maharashtra', 37), ('way', 37), ('action', 37), ('post', 37), ('security', 37), ('general', 36), ('asked', 36), ('office', 36), ('sabha', 36), ('aryan', 36), ('rahul', 36), ('karnataka', 36), ('secretary', 35), ('group', 35), ('house', 35), ('world', 35), ('came', 35), ('announced', 35), ('senior', 35), ('murder', 35), ('alleged', 34), ('taking', 34), ('arrest', 34), ('mo', 34), ('making', 33), ('vaccine', 33), ('according', 33), ('work', 33), ('led', 33), ('met', 33), ('land', 33), ('prasad', 33), ('maurya', 33), ('based', 32), ('health', 32), ('september', 32), ('investigation', 32), ('misra', 32), ('tmc', 32), ('candidate', 32), ('tata', 31), ('detained', 31), ('cent', 31), ('situation', 31), ('died', 31), ('urban', 31), ('called', 30), ('probe', 30), ('bihar', 30), ('village', 30), ('scheduled', 30), ('puja', 30), ('education', 30), ('officer', 29), ('terrorist', 29), ('lok', 29), ('tejashwi', 29), ('man', 28), ('hindu', 28), ('affair', 28), ('control', 28), ('month', 28), ('shot', 28), ('medium', 28), ('vadra', 28), ('list', 28), ('driver', 28), ('total', 27), ('matter', 27), ('make', 27), ('ani', 27), ('following', 27), ('speaking', 27), ('ran', 27), ('farm', 27), ('demand', 27), ('lalu', 27), ('set', 27), ('tweeted', 26), ('vote', 26), ('ship', 26), ('started', 26), ('ji', 26), ('rajasthan', 26), ('support', 26), ('pratap', 26), ('joined', 25), ('malik', 25), ('long', 25), ('programme', 25), ('stated', 25), ('right', 25), ('good', 25), ('fir', 25), ('protester', 25), ('civil', 25), ('tej', 25), ('chhath', 25), ('father', 25), ('section', 25), ('uk', 25), ('injured', 25), ('skm', 25), ('technology', 24), ('vaccination', 24), ('question', 24), ('left', 24), ('civilian', 24), ('holding', 24), ('teni', 24), ('anti', 24), ('cruise', 24), ('committee', 24), ('kisan', 24), ('department', 24), ('teacher', 24), ('act', 24), ('justice', 24), ('various', 24), ('building', 24), ('keshav', 24), ('stone', 24), ('asserted', 23), ('need', 23), ('uttarakhand', 23), ('janata', 23), ('project', 23), ('amid', 23), ('allegation', 23), ('lucknow', 23), ('ramlila', 23), ('going', 23), ('supply', 23), ('banerjee', 23), ('went', 23), ('sidhu', 23), ('charge', 22), ('region', 22), ('corporation', 22), ('narcotic', 22), ('raid', 22), ('released', 22), ('srinagar', 22), ('administration', 22), ('report', 22), ('beneficiary', 22), ('pakistan', 22), ('meet', 22), ('allegedly', 22), ('property', 22), ('upcoming', 22), ('aviation', 22), ('soon', 22), ('madhya', 22), ('bengal', 22), ('social', 21), ('future', 21), ('reliance', 21), ('number', 21), ('recent', 21), ('outside', 21), ('victim', 21), ('want', 21), ('woman', 21), ('denied', 21), ('compensation', 21), ('bharatiya', 21), ('shared', 21), ('mission', 21), ('twitter', 21), ('nadda', 21), ('debt', 21), ('tiwari', 21), ('victory', 21), ('industry', 20), ('help', 20), ('far', 20), ('urged', 20), ('water', 20), ('nation', 20), ('involved', 20), ('connection', 20), ('bureau', 20), ('used', 20), ('money', 20), ('source', 20), ('got', 20), ('spot', 20), ('lost', 20), ('mlas', 20), ('scindia', 20), ('venue', 20), ('govt', 20), ('conference', 19), ('end', 19), ('leading', 19), ('company', 19), ('use', 19), ('politics', 19), ('director', 19), ('order', 19), ('loan', 19), ('tweet', 19), ('recently', 19), ('join', 19), ('local', 19), ('ahead', 19), ('bharat', 18), ('informed', 18), ('seven', 18), ('adding', 18), ('effort', 18), ('say', 18), ('kashmiri', 18), ('resignation', 18), ('great', 18), ('demanded', 18), ('border', 18), ('pandemic', 18), ('mandaviya', 18), ('thakur', 18), ('west', 18), ('x', 18), ('ram', 18), ('school', 18), ('winning', 18), ('channi', 18), ('image', 18), ('drone', 18), ('forest', 18), ('patel', 18), ('morcha', 18), ('organisation', 17), ('continue', 17), ('ambani', 17), ('entire', 17), ('ground', 17), ('old', 17), ('municipal', 17), ('allowed', 17), ('capital', 17), ('ruling', 17), ('likely', 17), ('week', 17), ('till', 17), ('step', 17), ('flag', 17), ('suv', 17), ('single', 17), ('evidence', 17), ('vaccinated', 17), ('claim', 17), ('asset', 17), ('bommai', 17), ('gandhinagar', 17), ('bypolls', 17), ('presence', 16), ('pradhan', 16), ('business', 16), ('ispa', 16), ('role', 16), ('site', 16), ('close', 16), ('minority', 16), ('think', 16), ('festival', 16), ('alliance', 16), ('fight', 16), ('record', 16), ('valley', 16), ('attempt', 16), ('community', 16), ('run', 16), ('black', 16), ('cooperation', 16), ('second', 16), ('baghel', 16), ('wrote', 16), ('service', 16), ('change', 16), ('non', 16), ('hard', 16), ('haryana', 16), ('running', 16), ('pti', 16), ('book', 16), ('pcb', 16), ('cpi', 16), ('unit', 15), ('territory', 15), ('address', 15), ('mark', 15), ('bid', 15), ('remark', 15), ('executive', 15), ('sent', 15), ('ncp', 15), ('questioned', 15), ('goa', 15), ('term', 15), ('decided', 15), ('big', 15), ('filed', 15), ('element', 15), ('past', 15), ('major', 15), ('dr', 15), ('received', 15), ('comment', 15), ('visited', 15), ('night', 15), ('generation', 15), ('haj', 15), ('registered', 15), ('actor', 15), ('rural', 15), ('convoy', 15), ('aim', 15), ('strong', 15), ('mamata', 15), ('win', 15), ('aap', 15), ('yojana', 15), ('raja', 15), ('brother', 14), ('defence', 14), ('dos', 14), ('sangh', 14), ('society', 14), ('retail', 14), ('giving', 14), ('line', 14), ('nawab', 14), ('independent', 14), ('stock', 14), ('road', 14), ('permission', 14), ('linked', 14), ('trying', 14), ('expressed', 14), ('let', 14), ('response', 14), ('dalit', 14), ('visiting', 14), ('varun', 14), ('occasion', 14), ('arrived', 14), ('sc', 14), ('base', 14), ('ramiz', 14), ('rana', 13), ('puri', 13), ('association', 13), ('private', 13), ('kept', 13), ('clear', 13), ('conducted', 13), ('council', 13), ('tribute', 13), ('history', 13), ('prominent', 13), ('quit', 13), ('decade', 13), ('billion', 13), ('constituency', 13), ('talking', 13), ('progress', 13), ('near', 13), ('politician', 13), ('financial', 13), ('summoned', 13), ('seeking', 13), ('input', 13), ('k', 13), ('anil', 13), ('worked', 13), ('process', 13), ('discussed', 13), ('bail', 13), ('turned', 13), ('city', 13), ('increase', 13), ('ensure', 13), ('currently', 13), ('press', 13), ('alleging', 13), ('commission', 13), ('speech', 13), ('governor', 13), ('discus', 13), ('arrival', 13), ('british', 13), ('fielded', 13), ('article', 13), ('attacked', 13), ('beaten', 13), ('clash', 13), ('contested', 13), ('hospital', 13), ('helipad', 13), ('manipur', 13), ('reform', 12), ('player', 12), ('include', 12), ('stand', 12), ('conversion', 12), ('noted', 12), ('travel', 12), ('follow', 12), ('hold', 12), ('market', 12), ('nearly', 12), ('poor', 12), ('bank', 12), ('talk', 12), ('working', 12), ('lot', 12), ('benefit', 12), ('targeted', 12), ('lal', 12), ('leaving', 12), ('concern', 12), ('vice', 12), ('regarding', 12), ('followed', 12), ('word', 12), ('message', 12), ('course', 12), ('reason', 12), ('shortage', 12), ('operation', 12), ('population', 12), ('residence', 12), ('brought', 12), ('responsible', 12), ('showed', 12), ('prashant', 12), ('kishor', 12), ('reached', 12), ('reportedly', 12), ('akhilesh', 12), ('custody', 12), ('awas', 12), ('slammed', 12), ('irani', 12), ('muslim', 12), ('head', 11), ('demanding', 11), ('airline', 11), ('limited', 11), ('wrong', 11), ('child', 11), ('value', 11), ('anniversary', 11), ('face', 11), ('electricity', 11), ('early', 11), ('activity', 11), ('direction', 11), ('stage', 11), ('celebration', 11), ('attend', 11), ('open', 11), ('upa', 11), ('pandit', 11), ('terror', 11), ('trf', 11), ('problem', 11), ('true', 11), ('named', 11), ('cbi', 11), ('citizen', 11), ('view', 11), ('headed', 11), ('hear', 11), ('raised', 11), ('heavy', 11), ('information', 11), ('mass', 11), ('lauded', 11), ('campaign', 11), ('principal', 11), ('chhattisgarh', 11), ('point', 11), ('result', 11), ('news', 11), ('despite', 11), ('peace', 11), ('morning', 11), ('men', 11), ('began', 11), ('deep', 11), ('latest', 11), ('strike', 11), ('helicopter', 11), ('thing', 11), ('ticket', 11), ('charanjit', 11), ('gst', 11), ('quarantine', 11), ('resident', 11), ('stopped', 11), ('oxygen', 11), ('mowed', 11), ('author', 11), ('highway', 11), ('judicial', 11), ('board', 11), ('hand', 11), ('overturned', 11), ('pelting', 11), ('tripura', 11), ('revolutionary', 11), ('advisor', 10), ('launched', 10), ('opening', 10), ('vision', 10), ('common', 10), ('core', 10), ('welfare', 10), ('drive', 10), ('religion', 10), ('basis', 10), ('acquired', 10), ('solar', 10), ('addressing', 10), ('account', 10), ('functioning', 10), ('km', 10), ('completed', 10), ('level', 10), ('authority', 10), ('late', 10), ('ddma', 10), ('fund', 10), ('reporter', 10), ('block', 10), ('getting', 10), ('resigned', 10), ('considered', 10), ('force', 10), ('issued', 10), ('rally', 10), ('journalist', 10), ('strongly', 10), ('interview', 10), ('manner', 10), ('supreme', 10), ('religious', 10), ('reaction', 10), ('innocent', 10), ('cell', 10), ('naqvi', 10), ('largest', 10), ('rukh', 10), ('recorded', 10), ('best', 10), ('bhupesh', 10), ('claiming', 10), ('bring', 10), ('infrastructure', 10), ('campaigner', 10), ('current', 10), ('seriously', 10), ('know', 10), ('entry', 10), ('lead', 10), ('youth', 10), ('immediately', 10), ('responsibility', 10), ('important', 10), ('chairman', 10), ('worth', 10), ('defeat', 10), ('command', 10), ('coming', 10), ('crime', 10), ('return', 10), ('higher', 10), ('spv', 10), ('rule', 10), ('covishield', 10), ('foreign', 10), ('england', 10), ('speak', 10), ('deceased', 10), ('chouhan', 10), ('stick', 10), ('picture', 10), ('failed', 10), ('majority', 10), ('mantri', 10), ('broke', 10), ('game', 10), ('cricket', 10), ('special', 9), ('success', 9), ('loss', 9), ('different', 9), ('start', 9), ('freedom', 9), ('advanced', 9), ('global', 9), ('test', 9), ('reported', 9), ('th', 9), ('personality', 9), ('jp', 9), ('energy', 9), ('strategy', 9), ('provided', 9), ('team', 9), ('questioning', 9), ('spokesperson', 9), ('sought', 9), ('shri', 9), ('magistrate', 9), ('hit', 9), ('previous', 9), ('agrasen', 9), ('minute', 9), ('look', 9), ('committed', 9), ('wish', 9), ('quoted', 9), ('suggestion', 9), ('accusing', 9), ('importance', 9), ('cabinet', 9), ('fought', 9), ('ongoing', 9), ('able', 9), ('included', 9), ('jaiswal', 9), ('cut', 9), ('tamil', 9), ('increasing', 9), ('turn', 9), ('challenge', 9), ('providing', 9), ('jail', 9), ('immediate', 9), ('bound', 9), ('parliament', 9), ('large', 9), ('strict', 9), ('required', 9), ('mahatma', 9), ('student', 9), ('date', 9), ('quick', 9), ('express', 9), ('ownership', 9), ('thousand', 9), ('remain', 9), ('amarinder', 9), ('dal', 9), ('faith', 9), ('sikh', 9), ('traveller', 9), ('ended', 9), ('temple', 9), ('landscape', 9), ('pmo', 9), ('rakesh', 9), ('scene', 9), ('stop', 9), ('pmay', 9), ('balachandran', 9), ('gmc', 9), ('hindi', 9), ('gadkari', 9), ('bust', 9), ('booked', 9), ('bandh', 9), ('maharaja', 9), ('smriti', 9), ('shivanand', 9), ('writer', 9), ('headquarters', 8), ('hardeep', 8), ('younger', 8), ('mind', 8), ('approach', 8), ('bharti', 8), ('spoke', 8), ('paid', 8), ('mukesh', 8), ('oil', 8), ('conglomerate', 8), ('alternative', 8), ('revenue', 8), ('serving', 8), ('release', 8), ('busted', 8), ('sea', 8), ('railway', 8), ('construction', 8), ('material', 8), ('cause', 8), ('reach', 8), ('march', 8), ('management', 8), ('shiv', 8), ('bahadur', 8), ('known', 8), ('certain', 8), ('program', 8), ('directly', 8), ('lawyer', 8), ('confidence', 8), ('e', 8), ('j', 8), ('proposed', 8), ('trust', 8), ('similar', 8), ('yesterday', 8), ('strategist', 8), ('funding', 8), ('agriculture', 8), ('participate', 8), ('training', 8), ('period', 8), ('influence', 8), ('price', 8), ('nadu', 8), ('position', 8), ('delegation', 8), ('share', 8), ('star', 8), ('offence', 8), ('miscreant', 8), ('transaction', 8), ('laundering', 8), ('plan', 8), ('achieve', 8), ('restriction', 8), ('imposed', 8), ('fact', 8), ('mentioned', 8), ('visuals', 8), ('prosperity', 8), ('maritime', 8), ('rajnath', 8), ('icg', 8), ('happy', 8), ('international', 8), ('accident', 8), ('massive', 8), ('rest', 8), ('planned', 8), ('culprit', 8), ('war', 8), ('grand', 8), ('apart', 8), ('away', 8), ('lobby', 8), ('played', 8), ('key', 8), ('function', 8), ('veteran', 8), ('placed', 8), ('landing', 8), ('organised', 8), ('rajya', 8), ('wife', 8), ('disinvestment', 8), ('finance', 8), ('customer', 8), ('navjot', 8), ('focus', 8), ('implemented', 8), ('fully', 8), ('refused', 8), ('bhanushali', 8), ('gram', 8), ('yatra', 8), ('psa', 8), ('growing', 8), ('governance', 8), ('svamitva', 8), ('shivraj', 8), ('judge', 8), ('ghosh', 8), ('ayodhya', 8), ('match', 8), ('saffron', 8), ('injury', 8), ('rawat', 8), ('st', 8), ('rathore', 8), ('sanjay', 8), ('facing', 8), ('badal', 8), ('azad', 8), ('elected', 8), ('hanumangarh', 8), ('organization', 8), ('sanyukta', 8), ('exodus', 8), ('kaira', 8), ('served', 7), ('declaration', 7), ('commitment', 7), ('cited', 7), ('stakeholder', 7), ('self', 7), ('medical', 7), ('worship', 7), ('appealed', 7), ('initiative', 7), ('democratic', 7), ('indira', 7), ('investment', 7), ('related', 7), ('facility', 7), ('clean', 7), ('mean', 7), ('transforming', 7), ('expected', 7), ('gupta', 7), ('red', 7), ('free', 7), ('united', 7), ('provide', 7), ('path', 7), ('eligible', 7), ('gehlot', 7), ('believe', 7), ('chand', 7), ('owner', 7), ('shop', 7), ('paswan', 7), ('target', 7), ('setback', 7), ('speculation', 7), ('happened', 7), ('crisis', 7), ('hope', 7), ('crushed', 7), ('patiently', 7), ('accountability', 7), ('kind', 7), ('asking', 7), ('august', 7), ('inaugurated', 7), ('interact', 7), ('review', 7), ('external', 7), ('phone', 7), ('corruption', 7), ('plea', 7), ('referring', 7), ('improve', 7), ('revival', 7), ('economy', 7), ('assured', 7), ('import', 7), ('domestic', 7), ('kejriwal', 7), ('affected', 7), ('northeastern', 7), ('november', 7), ('journey', 7), ('jharkhand', 7), ('odisha', 7), ('relative', 7), ('menace', 7), ('redevelopment', 7), ('vista', 7), ('zone', 7), ('lie', 7), ('celebrated', 7), ('gathering', 7), ('prevent', 7), ('letter', 7), ('rate', 7), ('durga', 7), ('thermal', 7), ('ally', 7), ('ensuring', 7), ('economic', 7), ('airport', 7), ('termed', 7), ('play', 7), ('boost', 7), ('gautam', 7), ('saw', 7), ('handle', 7), ('rooted', 7), ('april', 7), ('originally', 7), ('hailed', 7), ('manoj', 7), ('tomorrow', 7), ('condemned', 7), ('roadmap', 7), ('complete', 7), ('b', 7), ('jyotiraditya', 7), ('dedicated', 7), ('growth', 7), ('fall', 7), ('devi', 7), ('sat', 7), ('moved', 7), ('enter', 7), ('opinion', 7), ('devotee', 7), ('critical', 7), ('unfortunate', 7), ('mistake', 7), ('standing', 7), ('remote', 7), ('attacking', 7), ('approval', 7), ('location', 7), ('samyukta', 7), ('writing', 7), ('diyas', 7), ('bhanvad', 7), ('expo', 7), ('bhabanipur', 7), ('turtle', 7), ('tikait', 7), ('addressed', 7), ('jain', 7), ('sport', 7), ('imphal', 7), ('jagdish', 7), ('model', 7), ('hockey', 7), ('performed', 7), ('bhagat', 7), ('communist', 7), ('premchand', 7), ('contest', 7), ('kumaraswamy', 7), ('kanhaiya', 7), ('voice', 6), ('needed', 6), ('enterprise', 6), ('scale', 6), ('aatmanirbhar', 6), ('young', 6), ('auto', 6), ('generated', 6), ('mohan', 6), ('bhagwat', 6), ('boy', 6), ('tradition', 6), ('respect', 6), ('connected', 6), ('culture', 6), ('caste', 6), ('narayan', 6), ('deal', 6), ('china', 6), ('green', 6), ('u', 6), ('gas', 6), ('separate', 6), ('dev', 6), ('fortuner', 6), ('conduct', 6), ('constructed', 6), ('refuting', 6), ('sameer', 6), ('wankhede', 6), ('coast', 6), ('patil', 6), ('outreach', 6), ('commissioned', 6), ('main', 6), ('possible', 6), ('gave', 6), ('irregularity', 6), ('condemning', 6), ('pandey', 6), ('communal', 6), ('kaur', 6), ('street', 6), ('north', 6), ('provincial', 6), ('joining', 6), ('unity', 6), ('accusation', 6), ('sitapur', 6), ('defended', 6), ('listener', 6), ('parent', 6), ('struggle', 6), ('extremely', 6), ('attended', 6), ('criticism', 6), ('mansukh', 6), ('concerned', 6), ('protocol', 6), ('appointed', 6), ('friend', 6), ('seized', 6), ('witness', 6), ('user', 6), ('conspiracy', 6), ('profile', 6), ('adequate', 6), ('imported', 6), ('factor', 6), ('mt', 6), ('try', 6), ('fired', 6), ('rising', 6), ('arvind', 6), ('requested', 6), ('network', 6), ('coverage', 6), ('raj', 6), ('tourism', 6), ('faced', 6), ('includes', 6), ('supremo', 6), ('asthan', 6), ('tarapur', 6), ('counting', 6), ('proposal', 6), ('maximum', 6), ('complaint', 6), ('forced', 6), ('kerala', 6), ('telangana', 6), ('tax', 6), ('note', 6), ('fadnavis', 6), ('battle', 6), ('bhavan', 6), ('housing', 6), ('ii', 6), ('create', 6), ('segment', 6), ('solution', 6), ('mandatory', 6), ('requirement', 6), ('season', 6), ('sena', 6), ('refuted', 6), ('admitted', 6), ('belonged', 6), ('largely', 6), ('keeping', 6), ('caught', 6), ('denmark', 6), ('frederiksen', 6), ('jaishankar', 6), ('ambition', 6), ('creating', 6), ('mother', 6), ('agreement', 6), ('dig', 6), ('looking', 6), ('apparently', 6), ('emerged', 6), ('l', 6), ('g', 6), ('series', 6), ('tried', 6), ('p', 6), ('huge', 6), ('announce', 6), ('individual', 6), ('distributed', 6), ('ex', 6), ('aide', 6), ('rank', 6), ('momentous', 6), ('purpose', 6), ('declared', 6), ('card', 6), ('light', 6), ('backdrop', 6), ('institute', 6), ('purvanchalis', 6), ('voter', 6), ('exclusion', 6), ('launch', 6), ('calling', 6), ('gain', 6), ('necessitated', 6), ('nomination', 6), ('kin', 6), ('detention', 6), ('modern', 6), ('inhabited', 6), ('using', 6), ('resulting', 6), ('understood', 6), ('receive', 6), ('driving', 6), ('umbrella', 6), ('east', 6), ('favour', 6), ('planning', 6), ('municipality', 6), ('ward', 6), ('okha', 6), ('thara', 6), ('february', 6), ('azadi', 6), ('appeal', 6), ('supporter', 6), ('field', 6), ('attempting', 6), ('majhi', 6), ('narrative', 6), ('mask', 6), ('remarked', 6), ('abrogation', 6), ('commonwealth', 6), ('silence', 6), ('inspiration', 6), ('ecb', 6), ('icc', 6), ('weak', 6), ('secular', 6), ('navratri', 6), ('assassination', 6), ('hindutva', 6), ('himachal', 6), ('slathia', 5), ('nc', 5), ('abdullah', 5), ('status', 5), ('underlined', 5), ('playing', 5), ('engage', 5), ('reliant', 5), ('grown', 5), ('capability', 5), ('capacity', 5), ('nationwide', 5), ('traditional', 5), ('outfit', 5), ('stressed', 5), ('removed', 5), ('concluded', 5), ('panel', 5), ('asia', 5), ('agreed', 5), ('goal', 5), ('june', 5), ('fuel', 5), ('saudi', 5), ('aimed', 5), ('mowing', 5), ('session', 5), ('job', 5), ('sonia', 5), ('directed', 5), ('cost', 5), ('spokesman', 5), ('gate', 5), ('granted', 5), ('permitted', 5), ('care', 5), ('zafar', 5), ('nehru', 5), ('sister', 5), ('ashok', 5), ('enforcement', 5), ('directorate', 5), ('july', 5), ('sachin', 5), ('supinder', 5), ('makhan', 5), ('evening', 5), ('gunned', 5), ('mohammad', 5), ('backed', 5), ('regular', 5), ('intelligence', 5), ('clearly', 5), ('necessary', 5), ('inter', 5), ('regional', 5), ('fault', 5), ('pointed', 5), ('constitution', 5), ('junior', 5), ('massacre', 5), ('principle', 5), ('ruled', 5), ('sansad', 5), ('closely', 5), ('ideological', 5), ('available', 5), ('horrific', 5), ('protestors', 5), ('arrogance', 5), ('commented', 5), ('sinha', 5), ('anurag', 5), ('direct', 5), ('communication', 5), ('skill', 5), ('abbas', 5), ('online', 5), ('category', 5), ('row', 5), ('harm', 5), ('insisted', 5), ('possession', 5), ('monitoring', 5), ('twice', 5), ('build', 5), ('daily', 5), ('maintain', 5), ('dismissed', 5), ('chauhan', 5), ('telecommunication', 5), ('congratulated', 5), ('panchayati', 5), ('kusheshwar', 5), ('dhami', 5), ('file', 5), ('seek', 5), ('wake', 5), ('living', 5), ('healthcare', 5), ('successfully', 5), ('contribution', 5), ('interacted', 5), ('assam', 5), ('tune', 5), ('firm', 5), ('ajit', 5), ('real', 5), ('noting', 5), ('existing', 5), ('rashtrapati', 5), ('conclave', 5), ('warned', 5), ('speed', 5), ('balance', 5), ('catering', 5), ('offering', 5), ('pollution', 5), ('investigate', 5), ('break', 5), ('expert', 5), ('owned', 5), ('continues', 5), ('arriving', 5), ('successful', 5), ('caused', 5), ('welcome', 5), ('strategic', 5), ('tie', 5), ('manufacturing', 5), ('trend', 5), ('disappointment', 5), ('fix', 5), ('handed', 5), ('half', 5), ('secondary', 5), ('deepak', 5), ('perpetrator', 5), ('heinous', 5), ('tenure', 5), ('stating', 5), ('relating', 5), ('para', 5), ('absence', 5), ('misa', 5), ('omission', 5), ('lord', 5), ('confident', 5), ('cash', 5), ('environment', 5), ('certainly', 5), ('better', 5), ('remaining', 5), ('reduce', 5), ('formally', 5), ('upset', 5), ('threat', 5), ('tell', 5), ('transport', 5), ('involvement', 5), ('cocaine', 5), ('prohibited', 5), ('ready', 5), ('popular', 5), ('attention', 5), ('ghat', 5), ('brushed', 5), ('maneka', 5), ('manohar', 5), ('moment', 5), ('store', 5), ('powerful', 5), ('wave', 5), ('small', 5), ('digitally', 5), ('continued', 5), ('popularity', 5), ('vallabhnagar', 5), ('meena', 5), ('withdraw', 5), ('viral', 5), ('villager', 5), ('thar', 5), ('prior', 5), ('forestry', 5), ('allow', 5), ('considering', 5), ('punishment', 5), ('markam', 5), ('ed', 5), ('mega', 5), ('kpcc', 5), ('voting', 5), ('respectively', 5), ('aam', 5), ('aadmi', 5), ('supposed', 5), ('cum', 5), ('independence', 5), ('feel', 5), ('port', 5), ('link', 5), ('foundation', 5), ('ambedkar', 5), ('ipc', 5), ('postmortem', 5), ('pal', 5), ('fell', 5), ('marked', 5), ('remained', 5), ('nep', 5), ('college', 5), ('recovered', 5), ('owing', 5), ('bomb', 5), ('janta', 5), ('love', 5), ('sad', 5), ('triple', 5), ('talaq', 5), ('riot', 5), ('credited', 5), ('caa', 5), ('guilty', 5), ('unilateral', 5), ('rite', 5), ('singhu', 5), ('floor', 5), ('broken', 5), ('ensued', 5), ('resorted', 5), ('hooda', 5), ('suggested', 5), ('surprise', 5), ('clemency', 5), ('brigadier', 5), ('novelist', 5), ('addition', 5), ('da', 5), ('bhupendra', 5), ('sand', 5), ('shakeel', 5), ('dharmendra', 4), ('jitendra', 4), ('opened', 4), ('referred', 4), ('partner', 4), ('helping', 4), ('innovation', 4), ('preparing', 4), ('arena', 4), ('satellite', 4), ('airtel', 4), ('lowest', 4), ('active', 4), ('administered', 4), ('rashtriya', 4), ('swayamsevak', 4), ('happen', 4), ('prepare', 4), ('mantra', 4), ('untouchability', 4), ('remarkable', 4), ('devoted', 4), ('movement', 4), ('richest', 4), ('rec', 4), ('million', 4), ('acquire', 4), ('billionaire', 4), ('expand', 4), ('biggest', 4), ('meant', 4), ('annual', 4), ('purchase', 4), ('stake', 4), ('ask', 4), ('false', 4), ('truth', 4), ('sachdeva', 4), ('cordelia', 4), ('reviewed', 4), ('delay', 4), ('disaster', 4), ('preparation', 4), ('associated', 4), ('chowk', 4), ('helped', 4), ('reply', 4), ('transferred', 4), ('export', 4), ('appeared', 4), ('relief', 4), ('criminal', 4), ('pull', 4), ('bindroo', 4), ('shafi', 4), ('lone', 4), ('bandipora', 4), ('prime', 4), ('created', 4), ('suspect', 4), ('brief', 4), ('ending', 4), ('membership', 4), ('january', 4), ('relation', 4), ('nominated', 4), ('outrage', 4), ('lodged', 4), ('kashyap', 4), ('dictatorial', 4), ('baseless', 4), ('channel', 4), ('functioned', 4), ('average', 4), ('colour', 4), ('blood', 4), ('subsequent', 4), ('peaceful', 4), ('silenced', 4), ('delivered', 4), ('starting', 4), ('application', 4), ('forward', 4), ('digital', 4), ('consultation', 4), ('prepared', 4), ('inquiry', 4), ('subsequently', 4), ('rejected', 4), ('arbaaz', 4), ('merchant', 4), ('arguing', 4), ('releasing', 4), ('tamper', 4), ('rise', 4), ('rain', 4), ('legacy', 4), ('sub', 4), ('compared', 4), ('implementation', 4), ('doorstep', 4), ('chance', 4), ('administering', 4), ('december', 4), ('achieved', 4), ('save', 4), ('sending', 4), ('effect', 4), ('pushkar', 4), ('cognisable', 4), ('identify', 4), ('milestone', 4), ('pune', 4), ('seismic', 4), ('internal', 4), ('structural', 4), ('specific', 4), ('behaviour', 4), ('outbreak', 4), ('warning', 4), ('prayer', 4), ('biomass', 4), ('vast', 4), ('initially', 4), ('thackeray', 4), ('celebrity', 4), ('fighting', 4), ('handling', 4), ('access', 4), ('significant', 4), ('ceremony', 4), ('guard', 4), ('taught', 4), ('comprehensive', 4), ('involving', 4), ('carrier', 4), ('brave', 4), ('search', 4), ('sri', 4), ('danish', 4), ('consider', 4), ('nath', 4), ('exclusive', 4), ('fortune', 4), ('increased', 4), ('silver', 4), ('hub', 4), ('announcement', 4), ('eventually', 4), ('pre', 4), ('amethi', 4), ('setting', 4), ('concerted', 4), ('cheque', 4), ('confirmation', 4), ('triggering', 4), ('eidgah', 4), ('ut', 4), ('doval', 4), ('basavaraj', 4), ('mandate', 4), ('secured', 4), ('pave', 4), ('corridor', 4), ('established', 4), ('seva', 4), ('fourth', 4), ('expressway', 4), ('elder', 4), ('pay', 4), ('daughter', 4), ('rabri', 4), ('dipam', 4), ('offer', 4), ('aiahl', 4), ('deliver', 4), ('proposition', 4), ('engaging', 4), ('gone', 4), ('brutal', 4), ('bitter', 4), ('akali', 4), ('blocked', 4), ('appointment', 4), ('concluding', 4), ('bringing', 4), ('constituted', 4), ('n', 4), ('sanctioned', 4), ('nabard', 4), ('counterpart', 4), ('implement', 4), ('virtual', 4), ('fresh', 4), ('proof', 4), ('showing', 4), ('photo', 4), ('personal', 4), ('rath', 4), ('spread', 4), ('check', 4), ('lk', 4), ('advani', 4), ('patient', 4), ('pressure', 4), ('managing', 4), ('larger', 4), ('dhariawad', 4), ('instead', 4), ('collapse', 4), ('thought', 4), ('managed', 4), ('opposed', 4), ('occurred', 4), ('liberalised', 4), ('height', 4), ('remove', 4), ('swamitva', 4), ('om', 4), ('healthy', 4), ('blessing', 4), ('tribal', 4), ('remanded', 4), ('produced', 4), ('remand', 4), ('aspect', 4), ('premise', 4), ('talked', 4), ('organising', 4), ('escaped', 4), ('distance', 4), ('resign', 4), ('arresting', 4), ('yojna', 4), ('lit', 4), ('announcing', 4), ('representative', 4), ('vacant', 4), ('turnout', 4), ('democracy', 4), ('dream', 4), ('monitored', 4), ('siren', 4), ('especially', 4), ('western', 4), ('allege', 4), ('gun', 4), ('correct', 4), ('carried', 4), ('display', 4), ('khadi', 4), ('displaying', 4), ('passion', 4), ('travelling', 4), ('promised', 4), ('lalit', 4), ('stronghold', 4), ('jobat', 4), ('ideology', 4), ('deshmukh', 4), ('carry', 4), ('satyendar', 4), ('ntpc', 4), ('manish', 4), ('mw', 4), ('stance', 4), ('mundra', 4), ('participated', 4), ('career', 4), ('formed', 4), ('cji', 4), ('disease', 4), ('mva', 4), ('notably', 4), ('politicising', 4), ('nitish', 4), ('karyakartas', 4), ('branch', 4), ('keonjhar', 4), ('tajinder', 4), ('virk', 4), ('chandra', 4), ('sp', 4), ('surgical', 4), ('jan', 4), ('dushyant', 4), ('bku', 4), ('punished', 4), ('decide', 4), ('reopened', 4), ('chandrashekhar', 4), ('trs', 4), ('asian', 4), ('hunger', 4), ('removal', 4), ('selfie', 4), ('praising', 4), ('retired', 4), ('khattar', 4), ('instagram', 4), ('caption', 4), ('bhartiya', 4), ('bhatia', 4), ('lashed', 4), ('bcci', 4), ('wale', 4), ('previously', 4), ('zealand', 4), ('tour', 4), ('kapil', 4), ('sibal', 4), ('ghulam', 4), ('nabi', 4), ('cognizance', 4), ('samaj', 4), ('mahurkar', 4), ('emperor', 4), ('ahmad', 4), ('jagadanand', 4), ('koo', 4), ('munshi', 4), ('completing', 4), ('bench', 4), ('retaliation', 4), ('deepender', 4), ('attempted', 4), ('garba', 4), ('parkash', 4), ('polled', 4), ('col', 4), ('omar', 3), ('aspiring', 3), ('dispensation', 3), ('decisive', 3), ('seriousness', 3), ('wide', 3), ('pillar', 3), ('resource', 3), ('undertake', 3), ('advocacy', 3), ('technologically', 3), ('represented', 3), ('founding', 3), ('toubro', 3), ('nelco', 3), ('oneweb', 3), ('mapmyindia', 3), ('walchandnagar', 3), ('ananth', 3), ('godrej', 3), ('hughes', 3), ('azista', 3), ('bst', 3), ('aerospace', 3), ('bel', 3), ('centum', 3), ('electronics', 3), ('maxar', 3), ('research', 3), ('icmr', 3), ('pride', 3), ('petty', 3), ('marriage', 3), ('answer', 3), ('wear', 3), ('stay', 3), ('root', 3), ('language', 3), ('completely', 3), ('discussion', 3), ('loknayak', 3), ('forefront', 3), ('ideal', 3), ('remembered', 3), ('mid', 3), ('form', 3), ('guidance', 3), ('award', 3), ('renewable', 3), ('push', 3), ('gigawatts', 3), ('refining', 3), ('factory', 3), ('operating', 3), ('achieving', 3), ('enabling', 3), ('swatantra', 3), ('appreciated', 3), ('nationalist', 3), ('athawale', 3), ('deliberately', 3), ('zonal', 3), ('rishabh', 3), ('gaba', 3), ('amir', 3), ('furniturewala', 3), ('peddler', 3), ('baramulla', 3), ('chaired', 3), ('detailed', 3), ('banihal', 3), ('stretch', 3), ('tunnel', 3), ('bridge', 3), ('oldest', 3), ('restricted', 3), ('procession', 3), ('ali', 3), ('jawaharlal', 3), ('arjun', 3), ('rich', 3), ('fort', 3), ('condition', 3), ('waived', 3), ('promise', 3), ('equal', 3), ('approached', 3), ('cooperate', 3), ('raided', 3), ('pilot', 3), ('finalised', 3), ('lieutenant', 3), ('expose', 3), ('pulling', 3), ('pharmacy', 3), ('lashkar', 3), ('taiba', 3), ('resistance', 3), ('offshoot', 3), ('neighbouring', 3), ('raise', 3), ('province', 3), ('aspiration', 3), ('enjoy', 3), ('varanasi', 3), ('expect', 3), ('corona', 3), ('guest', 3), ('lovepreet', 3), ('raman', 3), ('impartial', 3), ('autocratic', 3), ('listens', 3), ('quality', 3), ('imposes', 3), ('critic', 3), ('agree', 3), ('closest', 3), ('confidante', 3), ('portfolio', 3), ('introduced', 3), ('unfounded', 3), ('grower', 3), ('annually', 3), ('forgave', 3), ('straightaway', 3), ('acre', 3), ('harvest', 3), ('ago', 3), ('shake', 3), ('soul', 3), ('spilled', 3), ('cruelty', 3), ('enters', 3), ('mainly', 3), ('mukhtar', 3), ('arabia', 3), ('applied', 3), ('ip', 3), ('shukla', 3), ('transfer', 3), ('cadre', 3), ('drove', 3), ('request', 3), ('maintainable', 3), ('agreeing', 3), ('contraband', 3), ('confronted', 3), ('satish', 3), ('rajput', 3), ('unclear', 3), ('blackout', 3), ('consumption', 3), ('crossed', 3), ('continuous', 3), ('supplying', 3), ('intervene', 3), ('rk', 3), ('telecom', 3), ('expansion', 3), ('delayed', 3), ('nagaland', 3), ('northeast', 3), ('giriraj', 3), ('instance', 3), ('pace', 3), ('saved', 3), ('stringent', 3), ('accordingly', 3), ('waiting', 3), ('particular', 3), ('settled', 3), ('sale', 3), ('example', 3), ('fastest', 3), ('andhra', 3), ('devendra', 3), ('estate', 3), ('unsafe', 3), ('avenue', 3), ('ambitious', 3), ('parliamentarian', 3), ('adjustment', 3), ('pvt', 3), ('containment', 3), ('dose', 3), ('recipient', 3), ('severe', 3), ('festivity', 3), ('positivity', 3), ('imposition', 3), ('ritual', 3), ('burning', 3), ('effigy', 3), ('burnt', 3), ('afternoon', 3), ('write', 3), ('uddhav', 3), ('enquiry', 3), ('fair', 3), ('professional', 3), ('treated', 3), ('recovery', 3), ('chat', 3), ('violent', 3), ('shouting', 3), ('slogan', 3), ('ramana', 3), ('summons', 3), ('legal', 3), ('primary', 3), ('relationship', 3), ('trade', 3), ('framework', 3), ('ensured', 3), ('moving', 3), ('neighbourhood', 3), ('south', 3), ('mette', 3), ('bilateral', 3), ('opportunity', 3), ('wealth', 3), ('empire', 3), ('investor', 3), ('facebook', 3), ('consumer', 3), ('emerging', 3), ('station', 3), ('erupted', 3), ('sibling', 3), ('flagship', 3), ('initial', 3), ('founder', 3), ('grow', 3), ('low', 3), ('erase', 3), ('poaching', 3), ('induction', 3), ('wing', 3), ('luizinho', 3), ('faleiro', 3), ('criticising', 3), ('historical', 3), ('lynched', 3), ('accompanied', 3), ('round', 3), ('preliminary', 3), ('bahraich', 3), ('scenario', 3), ('spate', 3), ('range', 3), ('befitting', 3), ('crpf', 3), ('backing', 3), ('fear', 3), ('changing', 3), ('yediyurappa', 3), ('permanent', 3), ('summit', 3), ('facilitate', 3), ('advisory', 3), ('heli', 3), ('collector', 3), ('awareness', 3), ('juhu', 3), ('route', 3), ('beginning', 3), ('walked', 3), ('patna', 3), ('mike', 3), ('extended', 3), ('alongside', 3), ('figure', 3), ('read', 3), ('rival', 3), ('fodder', 3), ('scam', 3), ('send', 3), ('particularly', 3), ('nirmala', 3), ('sitharaman', 3), ('spicejet', 3), ('promoter', 3), ('paying', 3), ('arm', 3), ('fast', 3), ('cricketer', 3), ('appears', 3), ('revealed', 3), ('spat', 3), ('repeatedly', 3), ('dalits', 3), ('triggered', 3), ('difficult', 3), ('task', 3), ('bureaucrat', 3), ('fiscal', 3), ('improved', 3), ('approved', 3), ('undergo', 3), ('recognised', 3), ('certification', 3), ('guideline', 3), ('returning', 3), ('controversy', 3), ('ecstasy', 3), ('targeting', 3), ('prove', 3), ('md', 3), ('purvanchali', 3), ('ban', 3), ('celebrating', 3), ('diwali', 3), ('feature', 3), ('murli', 3), ('joshi', 3), ('posting', 3), ('projected', 3), ('utility', 3), ('funded', 3), ('shown', 3), ('exercise', 3), ('convenience', 3), ('rapid', 3), ('mutual', 3), ('sign', 3), ('gained', 3), ('consolidated', 3), ('lauding', 3), ('pulled', 3), ('atmosphere', 3), ('vishwa', 3), ('khet', 3), ('condolence', 3), ('belagavi', 3), ('performance', 3), ('thank', 3), ('electoral', 3), ('angry', 3), ('frightened', 3), ('versus', 3), ('staged', 3), ('armed', 3), ('little', 3), ('danger', 3), ('strength', 3), ('conferencing', 3), ('demarcate', 3), ('surveying', 3), ('ecosystem', 3), ('sword', 3), ('believed', 3), ('alive', 3), ('crucial', 3), ('exempt', 3), ('pwd', 3), ('interpretation', 3), ('establish', 3), ('rail', 3), ('reservation', 3), ('establishment', 3), ('meaning', 3), ('dindori', 3), ('kalyan', 3), ('multiple', 3), ('hidden', 3), ('widely', 3), ('spoken', 3), ('add', 3), ('continuously', 3), ('repeal', 3), ('curb', 3), ('earliest', 3), ('chandigarh', 3), ('randhawa', 3), ('dilip', 3), ('flood', 3), ('inaction', 3), ('survey', 3), ('dvc', 3), ('tackle', 3), ('cr', 3), ('deepotsav', 3), ('wayanad', 3), ('v', 3), ('spirit', 3), ('happening', 3), ('c', 3), ('banaskantha', 3), ('elect', 3), ('postponed', 3), ('uma', 3), ('emergency', 3), ('suit', 3), ('nitin', 3), ('studying', 3), ('ambulance', 3), ('replace', 3), ('pleasant', 3), ('virtually', 3), ('amrut', 3), ('gorakhpur', 3), ('university', 3), ('ka', 3), ('mahotsav', 3), ('sharing', 3), ('peacefully', 3), ('bk', 3), ('retained', 3), ('inducting', 3), ('patience', 3), ('leh', 3), ('product', 3), ('reacting', 3), ('pelted', 3), ('saddened', 3), ('seated', 3), ('occupant', 3), ('noon', 3), ('sanyukt', 3), ('gherao', 3), ('darshan', 3), ('tejinder', 3), ('virak', 3), ('retain', 3), ('margin', 3), ('kolkata', 3), ('prithvipur', 3), ('raigaon', 3), ('legislator', 3), ('arun', 3), ('khandwa', 3), ('changed', 3), ('levelled', 3), ('replaced', 3), ('anand', 3), ('peak', 3), ('determined', 3), ('mephedrone', 3), ('knowledge', 3), ('objective', 3), ('multi', 3), ('sit', 3), ('retd', 3), ('congratulate', 3), ('exemplary', 3), ('trader', 3), ('sukhbir', 3), ('consequence', 3), ('shedding', 3), ('prakash', 3), ('harmony', 3), ('hailing', 3), ('swachh', 3), ('charan', 3), ('town', 3), ('smk', 3), ('subhash', 3), ('bose', 3), ('gail', 3), ('sunil', 3), ('dumped', 3), ('threatened', 3), ('nuance', 3), ('achievement', 3), ('failing', 3), ('stint', 3), ('jal', 3), ('jeevan', 3), ('update', 3), ('wearing', 3), ('tear', 3), ('eye', 3), ('jibe', 3), ('kcr', 3), ('fail', 3), ('huzurabad', 3), ('rajender', 3), ('federation', 3), ('birmingham', 3), ('medal', 3), ('bsp', 3), ('inside', 3), ('leave', 3), ('priority', 3), ('sidharth', 3), ('regime', 3), ('apprised', 3), ('petition', 3), ('nandi', 3), ('broom', 3), ('drama', 3), ('netizens', 3), ('pehno', 3), ('robert', 3), ('sentiment', 3), ('mandal', 3), ('rajiv', 3), ('jitin', 3), ('cold', 3), ('losing', 3), ('accommodated', 3), ('saran', 3), ('awadh', 3), ('perceived', 3), ('nishad', 3), ('nagar', 3), ('indirectly', 3), ('genocide', 3), ('demonstration', 3), ('kishan', 3), ('ramleela', 3), ('fortunate', 3), ('portrayal', 3), ('broad', 3), ('doctrine', 3), ('soft', 3), ('felt', 3), ('belief', 3), ('titled', 3), ('wanted', 3), ('mayor', 3), ('vhp', 3), ('terrorism', 3), ('posted', 3), ('shivakumar', 3), ('adhikari', 3), ('parliamentary', 3), ('legislative', 3), ('bhimtal', 3), ('okhalkanda', 3), ('bharati', 3), ('exclusively', 3), ('eci', 3), ('humble', 3), ('human', 3), ('evil', 3), ('final', 3), ('sangam', 3), ('iqbal', 3), ('kadam', 3), ('goddess', 3), ('displayed', 3), ('constitutional', 3), ('tyagi', 3), ('mandi', 3), ('tiger', 3), ('calendar', 3), ('deb', 3), ('kharge', 3), ('numerous', 3), ('adg', 3), ('landslide', 3), ('flagged', 3), ('invested', 3), ('laid', 3), ('mahagathbandhan', 3), ('devender', 2), ('surjit', 2), ('welcomed', 2), ('joint', 2), ('privatising', 2), ('assert', 2), ('host', 2), ('seeing', 2), ('innovator', 2), ('ups', 2), ('allowing', 2), ('enabler', 2), ('youngster', 2), ('envisioning', 2), ('domain', 2), ('echoing', 2), ('larson', 2), ('testing', 2), ('caseload', 2), ('girl', 2), ('instil', 2), ('haldwani', 2), ('regard', 2), ('confused', 2), ('learn', 2), ('food', 2), ('dress', 2), ('custom', 2), ('heart', 2), ('environmental', 2), ('pertaining', 2), ('planting', 2), ('jayaprakash', 2), ('birth', 2), ('indelible', 2), ('protecting', 2), ('ethos', 2), ('inspired', 2), ('revolution', 2), ('awarded', 2), ('highest', 2), ('ratna', 2), ('extend', 2), ('filing', 2), ('pallonji', 2), ('sterling', 2), ('wilson', 2), ('valued', 2), ('globally', 2), ('aligns', 2), ('pledged', 2), ('spend', 2), ('cleaner', 2), ('chemical', 2), ('jamnagar', 2), ('mow', 2), ('serve', 2), ('background', 2), ('toilet', 2), ('ramdas', 2), ('entity', 2), ('exists', 2), ('prateek', 2), ('danve', 2), ('usbrl', 2), ('reviewing', 2), ('availability', 2), ('executing', 2), ('permit', 2), ('length', 2), ('katra', 2), ('ajmeri', 2), ('metre', 2), ('begin', 2), ('chandni', 2), ('river', 2), ('yamuna', 2), ('queen', 2), ('window', 2), ('closed', 2), ('progressive', 2), ('walking', 2), ('live', 2), ('raising', 2), ('illegal', 2), ('fertiliser', 2), ('coercive', 2), ('scared', 2), ('commanding', 2), ('corp', 2), ('divide', 2), ('positive', 2), ('irrespective', 2), ('reiterated', 2), ('secure', 2), ('virendra', 2), ('naidkhai', 2), ('suspected', 2), ('indigenous', 2), ('nia', 2), ('vijay', 2), ('suffered', 2), ('farooq', 2), ('interaction', 2), ('colleague', 2), ('basic', 2), ('walk', 2), ('forge', 2), ('divisive', 2), ('impact', 2), ('proposing', 2), ('sagar', 2), ('notification', 2), ('choudhary', 2), ('dar', 2), ('driven', 2), ('treatment', 2), ('unless', 2), ('dropped', 2), ('sharp', 2), ('cruel', 2), ('arrogant', 2), ('khalistani', 2), ('insult', 2), ('proud', 2), ('dangerous', 2), ('vip', 2), ('roster', 2), ('duty', 2), ('sahyog', 2), ('experience', 2), ('booking', 2), ('pilgrim', 2), ('arrangement', 2), ('mehram', 2), ('cyber', 2), ('data', 2), ('leak', 2), ('heard', 2), ('bombay', 2), ('summon', 2), ('appear', 2), ('rashmi', 2), ('bollywood', 2)]\n"
          ]
        }
      ]
    },
    {
      "cell_type": "code",
      "source": [
        "###TESTING\n",
        "from nltk.tokenize import word_tokenize\n",
        "all_words = []\n",
        "for message in left['clean_content']:\n",
        "      words = word_tokenize(message)\n",
        "      for w in words:\n",
        "          all_words.append(w)\n",
        "all_words = nltk.FreqDist(all_words)\n",
        "# print the total number of words and the 15 most common words\n",
        "print('Number of words: {}'.format(len(all_words)))\n",
        "print('Most common words: {}'.format(all_words.most_common(2500)))"
      ],
      "metadata": {
        "id": "u9igOWrSVPz1",
        "colab": {
          "base_uri": "https://localhost:8080/"
        },
        "outputId": "90027448-9d31-453a-fa6a-69a466e2b71d"
      },
      "execution_count": 38,
      "outputs": [
        {
          "output_type": "stream",
          "name": "stdout",
          "text": [
            "Number of words: 5088\n",
            "Most common words: [('farmer', 626), ('minister', 593), ('congress', 450), ('government', 385), ('gandhi', 359), ('lakhimpur', 354), ('leader', 329), ('chief', 322), ('party', 314), ('bjp', 307), ('kheri', 303), ('mishra', 277), ('police', 237), ('son', 220), ('pradesh', 218), ('union', 215), ('uttar', 207), ('modi', 199), ('priyanka', 195), ('violence', 180), ('power', 165), ('singh', 159), ('ajay', 151), ('vadra', 147), ('ashish', 145), ('protest', 143), ('delhi', 134), ('killed', 131), ('election', 120), ('told', 106), ('order', 98), ('alleged', 96), ('home', 94), ('law', 88), ('meet', 87), ('centre', 85), ('rahul', 85), ('place', 83), ('punjab', 83), ('arrest', 83), ('lucknow', 81), ('died', 80), ('member', 78), ('assembly', 77), ('worker', 77), ('deputy', 76), ('opposition', 76), ('court', 75), ('fir', 74), ('political', 71), ('kumar', 70), ('accused', 70), ('detained', 70), ('general', 69), ('sidhu', 65), ('saying', 64), ('want', 64), ('justice', 64), ('tweeted', 64), ('banerjee', 64), ('president', 61), ('protester', 61), ('mp', 60), ('claimed', 59), ('present', 58), ('protesting', 57), ('pm', 57), ('plant', 57), ('group', 57), ('convoy', 57), ('allegedly', 56), ('statement', 55), ('meeting', 54), ('sitapur', 54), ('health', 52), ('way', 52), ('took', 52), ('month', 51), ('allowed', 51), ('secretary', 50), ('maharashtra', 50), ('suv', 50), ('national', 49), ('issue', 49), ('detention', 49), ('asked', 48), ('come', 48), ('run', 47), ('called', 47), ('death', 47), ('denied', 47), ('yadav', 46), ('ration', 46), ('baghel', 46), ('stopped', 46), ('going', 45), ('yesterday', 45), ('medium', 44), ('support', 44), ('supply', 44), ('situation', 44), ('crisis', 44), ('hooda', 44), ('prasad', 44), ('price', 43), ('high', 43), ('murder', 43), ('work', 42), ('official', 42), ('demand', 42), ('section', 42), ('maurya', 42), ('officer', 41), ('mental', 41), ('senior', 41), ('held', 41), ('charge', 40), ('killing', 40), ('action', 40), ('victim', 40), ('channi', 40), ('seen', 40), ('dead', 40), ('legal', 39), ('sena', 39), ('spot', 39), ('taken', 39), ('morning', 39), ('sabha', 38), ('source', 38), ('post', 38), ('tmc', 38), ('vote', 37), ('hit', 37), ('demanded', 37), ('keshav', 37), ('body', 36), ('shiv', 36), ('teni', 36), ('house', 36), ('named', 36), ('according', 35), ('affair', 35), ('attack', 35), ('week', 35), ('letter', 35), ('mamata', 35), ('right', 34), ('filed', 34), ('chhattisgarh', 34), ('given', 34), ('candidate', 34), ('say', 33), ('change', 33), ('trying', 33), ('adityanath', 33), ('ran', 33), ('bengal', 33), ('delegation', 33), ('pawar', 33), ('force', 32), ('raut', 32), ('father', 32), ('driven', 32), ('social', 32), ('pilot', 32), ('led', 31), ('later', 31), ('yogi', 31), ('committee', 31), ('came', 31), ('bhupesh', 31), ('face', 31), ('cm', 31), ('world', 30), ('department', 30), ('announced', 30), ('mowed', 30), ('scheme', 30), ('shortage', 30), ('visiting', 30), ('mla', 30), ('following', 29), ('ruling', 29), ('skm', 29), ('life', 29), ('sent', 29), ('aap', 29), ('ahead', 29), ('airport', 29), ('news', 29), ('agency', 29), ('met', 28), ('taking', 28), ('bandh', 28), ('happened', 28), ('temple', 28), ('judicial', 28), ('central', 28), ('amid', 28), ('make', 28), ('judge', 28), ('permission', 28), ('set', 27), ('indian', 27), ('reporter', 27), ('cent', 27), ('kisan', 27), ('leave', 27), ('end', 27), ('leadership', 27), ('matter', 27), ('till', 26), ('farm', 26), ('capital', 26), ('attacked', 26), ('lok', 26), ('clear', 26), ('problem', 26), ('running', 26), ('crushed', 26), ('politics', 26), ('voice', 26), ('sister', 26), ('west', 26), ('gehlot', 26), ('mlas', 26), ('raid', 26), ('second', 25), ('speaking', 25), ('mumbai', 25), ('city', 25), ('allegation', 25), ('custody', 25), ('got', 25), ('terrorist', 25), ('rajasthan', 25), ('showed', 25), ('linked', 25), ('lakh', 24), ('connection', 24), ('cabinet', 24), ('left', 24), ('gave', 24), ('soon', 24), ('need', 23), ('shop', 23), ('constituency', 23), ('question', 23), ('guest', 23), ('old', 23), ('tweet', 23), ('road', 23), ('man', 23), ('remark', 23), ('erupted', 23), ('warrant', 23), ('spokesperson', 22), ('questioned', 22), ('night', 22), ('far', 22), ('security', 22), ('fight', 22), ('stock', 22), ('kept', 22), ('deepender', 22), ('notice', 22), ('visuals', 22), ('sitting', 22), ('comment', 21), ('woman', 21), ('know', 21), ('free', 21), ('morcha', 21), ('reason', 21), ('march', 21), ('arrived', 21), ('crime', 21), ('used', 21), ('stop', 21), ('early', 21), ('started', 21), ('released', 21), ('journalist', 21), ('probe', 21), ('win', 21), ('apparently', 21), ('continue', 20), ('sanjay', 20), ('issued', 20), ('hand', 20), ('supreme', 20), ('kejriwal', 20), ('electricity', 20), ('join', 20), ('charanjit', 20), ('injured', 20), ('panel', 20), ('ram', 20), ('administration', 20), ('message', 20), ('shot', 20), ('heard', 20), ('kashmir', 20), ('outside', 19), ('business', 19), ('long', 19), ('anti', 19), ('service', 19), ('view', 19), ('samajwadi', 19), ('thing', 19), ('working', 19), ('defeat', 19), ('adding', 19), ('information', 19), ('report', 19), ('ajit', 19), ('travelling', 19), ('making', 18), ('let', 18), ('despite', 18), ('read', 18), ('lost', 18), ('allow', 18), ('bsp', 18), ('visited', 18), ('recently', 18), ('land', 18), ('urged', 18), ('lovepreet', 18), ('rjd', 18), ('summons', 18), ('broke', 18), ('wife', 18), ('lead', 18), ('counsel', 18), ('democracy', 18), ('tried', 18), ('illegally', 18), ('company', 17), ('sudhakar', 17), ('agitation', 17), ('talking', 17), ('upcoming', 17), ('various', 17), ('shah', 17), ('registered', 17), ('scheduled', 17), ('written', 17), ('dalit', 17), ('based', 17), ('hospital', 17), ('standing', 17), ('mayawati', 17), ('declared', 17), ('authority', 17), ('elected', 17), ('cause', 17), ('pti', 17), ('control', 17), ('karnataka', 16), ('claiming', 16), ('local', 16), ('rally', 16), ('misra', 16), ('press', 16), ('doorstep', 16), ('delivery', 16), ('decided', 16), ('speculation', 16), ('hold', 16), ('parliamentary', 16), ('ensure', 16), ('team', 16), ('fast', 16), ('haryana', 16), ('peace', 16), ('kerala', 16), ('went', 16), ('late', 16), ('witness', 16), ('sit', 16), ('questioning', 16), ('condemned', 16), ('welcome', 16), ('drug', 16), ('magistrate', 16), ('rawat', 16), ('september', 15), ('giving', 15), ('tax', 15), ('basis', 15), ('constitution', 15), ('akhilesh', 15), ('involved', 15), ('act', 15), ('km', 15), ('compensation', 15), ('stand', 15), ('step', 15), ('coming', 15), ('followed', 15), ('ruled', 15), ('navjot', 15), ('included', 15), ('men', 15), ('raise', 15), ('village', 15), ('shared', 15), ('cop', 15), ('reach', 15), ('recent', 15), ('bench', 15), ('good', 14), ('petrol', 14), ('addressing', 14), ('virk', 14), ('related', 14), ('black', 14), ('governor', 14), ('failed', 14), ('residence', 14), ('hope', 14), ('forced', 14), ('reached', 14), ('fact', 14), ('conference', 14), ('rane', 14), ('blackout', 14), ('bihar', 14), ('arson', 14), ('holding', 14), ('ground', 14), ('reported', 14), ('head', 14), ('rajya', 14), ('water', 14), ('promised', 14), ('rule', 14), ('unit', 14), ('investigation', 14), ('ani', 14), ('margin', 14), ('twitter', 14), ('asserted', 14), ('sachin', 14), ('driver', 14), ('targeted', 14), ('main', 14), ('srinagar', 14), ('clash', 14), ('ncb', 14), ('jammu', 14), ('varun', 14), ('khan', 14), ('produced', 14), ('line', 14), ('chaudhary', 14), ('k', 13), ('pandemic', 13), ('expressed', 13), ('diesel', 13), ('wake', 13), ('janata', 13), ('office', 13), ('ministry', 13), ('command', 13), ('talk', 13), ('close', 13), ('gathering', 13), ('peaceful', 13), ('concern', 13), ('generation', 13), ('evidence', 13), ('jain', 13), ('wrote', 13), ('tharoor', 13), ('august', 13), ('thackeray', 13), ('delkar', 13), ('organisation', 13), ('resign', 13), ('viral', 13), ('driving', 13), ('confrontation', 13), ('block', 13), ('heading', 12), ('resignation', 12), ('development', 12), ('child', 12), ('drive', 12), ('cost', 12), ('mark', 12), ('market', 12), ('ncp', 12), ('director', 12), ('immediate', 12), ('personnel', 12), ('umbrella', 12), ('refuted', 12), ('sack', 12), ('caste', 12), ('samyukta', 12), ('directly', 12), ('youth', 12), ('ji', 12), ('refused', 12), ('food', 12), ('distribution', 12), ('freedom', 12), ('jail', 12), ('getting', 12), ('slogan', 12), ('seven', 12), ('calling', 12), ('request', 12), ('huge', 12), ('drove', 12), ('sisodia', 12), ('gas', 12), ('massacre', 12), ('treatment', 12), ('lodged', 12), ('raised', 12), ('rammed', 12), ('hindi', 12), ('requested', 12), ('bjd', 12), ('appointment', 12), ('commission', 12), ('nahi', 12), ('culprit', 12), ('crpc', 12), ('claim', 12), ('turned', 12), ('term', 12), ('contest', 12), ('strong', 12), ('sibal', 12), ('decision', 12), ('list', 12), ('bhabanipur', 12), ('terror', 12), ('politician', 12), ('room', 12), ('unfortunate', 12), ('retired', 12), ('policeman', 12), ('compound', 12), ('site', 12), ('raj', 12), ('immediately', 11), ('stay', 11), ('single', 11), ('society', 11), ('relative', 11), ('able', 11), ('border', 11), ('rate', 11), ('festival', 11), ('amit', 11), ('dispersing', 11), ('referring', 11), ('use', 11), ('complaint', 11), ('blocked', 11), ('friend', 11), ('away', 11), ('remain', 11), ('saw', 11), ('tomorrow', 11), ('pointed', 11), ('junior', 11), ('criminal', 11), ('thermal', 11), ('keeping', 11), ('violent', 11), ('wrong', 11), ('knocked', 11), ('number', 11), ('religious', 11), ('movement', 11), ('try', 11), ('important', 11), ('mohan', 11), ('illegal', 11), ('brought', 11), ('station', 11), ('pushed', 11), ('citizen', 11), ('tripura', 11), ('inquiry', 11), ('large', 11), ('article', 11), ('lawyer', 11), ('azadi', 11), ('shown', 11), ('randhawa', 11), ('resigned', 10), ('u', 10), ('failure', 10), ('kind', 10), ('caused', 10), ('evening', 10), ('point', 10), ('demanding', 10), ('oil', 10), ('solidarity', 10), ('conspiracy', 10), ('bharatiya', 10), ('roko', 10), ('interrogation', 10), ('sp', 10), ('campaign', 10), ('stated', 10), ('aam', 10), ('aadmi', 10), ('fair', 10), ('policy', 10), ('half', 10), ('job', 10), ('speech', 10), ('lockdown', 10), ('loss', 10), ('similar', 10), ('cut', 10), ('silent', 10), ('territory', 10), ('total', 10), ('capacity', 10), ('seeking', 10), ('ago', 10), ('community', 10), ('upset', 10), ('jd', 10), ('promise', 10), ('dig', 10), ('survey', 10), ('colour', 10), ('reaction', 10), ('plan', 10), ('continuing', 10), ('appeared', 10), ('code', 10), ('solution', 10), ('bagh', 10), ('premise', 10), ('brother', 10), ('non', 10), ('victory', 10), ('rival', 10), ('teacher', 10), ('democratic', 10), ('joined', 10), ('responsible', 10), ('clip', 10), ('student', 10), ('restriction', 10), ('j', 10), ('oath', 10), ('stone', 10), ('aryan', 10), ('annadata', 10), ('served', 10), ('bhatta', 10), ('parsaul', 10), ('dgp', 10), ('awareness', 10), ('aiadmk', 10), ('future', 9), ('available', 9), ('touch', 9), ('entire', 9), ('pay', 9), ('income', 9), ('closed', 9), ('vikas', 9), ('began', 9), ('warned', 9), ('helipad', 9), ('instead', 9), ('tajinder', 9), ('chidambaram', 9), ('azad', 9), ('vice', 9), ('implement', 9), ('asking', 9), ('best', 9), ('happen', 9), ('word', 9), ('regarding', 9), ('accompanied', 9), ('mo', 9), ('independence', 9), ('past', 9), ('understand', 9), ('ashok', 9), ('joint', 9), ('flag', 9), ('wave', 9), ('tamil', 9), ('nadu', 9), ('raising', 9), ('arvind', 9), ('jharkhand', 9), ('region', 9), ('help', 9), ('kashyap', 9), ('private', 9), ('gathered', 9), ('sad', 9), ('complete', 9), ('fired', 9), ('energy', 9), ('intervention', 9), ('adequate', 9), ('personal', 9), ('muslim', 9), ('respectively', 9), ('headed', 9), ('firm', 9), ('independent', 9), ('effort', 9), ('citing', 9), ('special', 9), ('surrounded', 9), ('afternoon', 9), ('leaving', 9), ('paper', 9), ('sonia', 9), ('big', 9), ('jallianwala', 9), ('role', 9), ('raided', 9), ('reportedly', 9), ('bypolls', 9), ('cpi', 9), ('r', 9), ('physical', 9), ('pac', 9), ('gate', 9), ('match', 9), ('glass', 9), ('se', 9), ('maharathy', 9), ('rana', 9), ('financial', 8), ('technology', 8), ('fighting', 8), ('massive', 8), ('level', 8), ('discussed', 8), ('near', 8), ('vaccine', 8), ('tikait', 8), ('litre', 8), ('aghadi', 8), ('ally', 8), ('additional', 8), ('staged', 8), ('tikonia', 8), ('rail', 8), ('supremo', 8), ('alliance', 8), ('attacking', 8), ('changed', 8), ('goa', 8), ('aicc', 8), ('chairman', 8), ('bharadwaj', 8), ('mafia', 8), ('nfsa', 8), ('oppression', 8), ('varanasi', 8), ('produce', 8), ('legislator', 8), ('trader', 8), ('nationalist', 8), ('appear', 8), ('shouting', 8), ('sufficient', 8), ('heavy', 8), ('quoted', 8), ('raman', 8), ('owned', 8), ('beaten', 8), ('supplying', 8), ('avoid', 8), ('data', 8), ('wound', 8), ('real', 8), ('truth', 8), ('naidu', 8), ('retain', 8), ('july', 8), ('transport', 8), ('majority', 8), ('apart', 8), ('dal', 8), ('sikh', 8), ('strength', 8), ('received', 8), ('stressed', 8), ('short', 8), ('barbaric', 8), ('postmortem', 8), ('street', 8), ('scene', 8), ('respect', 8), ('advocate', 8), ('bring', 8), ('emerged', 8), ('colleague', 8), ('kaur', 8), ('provide', 8), ('supporter', 8), ('conducted', 8), ('allege', 8), ('strongly', 8), ('ipc', 8), ('ex', 8), ('quit', 8), ('cruise', 8), ('presence', 8), ('pratap', 8), ('civilian', 8), ('difference', 8), ('board', 8), ('record', 8), ('devotee', 8), ('nation', 8), ('shock', 8), ('systematic', 8), ('preventive', 8), ('informed', 8), ('clothes', 8), ('authenticity', 8), ('sir', 8), ('moral', 8), ('moment', 8), ('moving', 8), ('nikalo', 8), ('united', 7), ('opinion', 7), ('regard', 7), ('lot', 7), ('married', 7), ('stress', 7), ('management', 7), ('handle', 7), ('offering', 7), ('spoke', 7), ('ready', 7), ('hiked', 7), ('express', 7), ('programme', 7), ('celebrating', 7), ('puja', 7), ('railway', 7), ('branch', 7), ('belonged', 7), ('sought', 7), ('saharanpur', 7), ('termed', 7), ('needed', 7), ('protested', 7), ('maun', 7), ('vrat', 7), ('arrange', 7), ('consumer', 7), ('allowing', 7), ('contempt', 7), ('particular', 7), ('receive', 7), ('poor', 7), ('hitting', 7), ('possible', 7), ('circumstance', 7), ('round', 7), ('agreed', 7), ('billionaire', 7), ('silence', 7), ('hathras', 7), ('aware', 7), ('slammed', 7), ('mean', 7), ('malik', 7), ('manish', 7), ('oxygen', 7), ('rk', 7), ('apprehension', 7), ('revival', 7), ('certain', 7), ('grid', 7), ('couple', 7), ('rising', 7), ('photo', 7), ('carrying', 7), ('offered', 7), ('prayer', 7), ('expected', 7), ('using', 7), ('reopening', 7), ('british', 7), ('hindu', 7), ('anniversary', 7), ('project', 7), ('channel', 7), ('small', 7), ('currently', 7), ('triggered', 7), ('shortly', 7), ('voter', 7), ('february', 7), ('shocking', 7), ('described', 7), ('skipped', 7), ('planned', 7), ('nearly', 7), ('procedure', 7), ('ramana', 7), ('hearing', 7), ('cremation', 7), ('input', 7), ('vacant', 7), ('bypoll', 7), ('counting', 7), ('demonstration', 7), ('quick', 7), ('thar', 7), ('result', 7), ('response', 7), ('attempt', 7), ('maken', 7), ('badal', 7), ('lynched', 7), ('stick', 7), ('plea', 7), ('hoarding', 7), ('posted', 7), ('roaming', 7), ('rest', 7), ('bureau', 7), ('wanted', 7), ('principal', 7), ('b', 7), ('abdullah', 7), ('removed', 7), ('ed', 7), ('pelted', 7), ('worship', 7), ('khurshid', 7), ('venugopal', 7), ('verify', 7), ('mevani', 7), ('panchayat', 7), ('suddenly', 7), ('breach', 7), ('miscreant', 7), ('kidnapping', 7), ('opportunist', 7), ('phone', 7), ('hoon', 7), ('winning', 7), ('pipili', 7), ('likely', 6), ('narrative', 6), ('birth', 6), ('art', 6), ('date', 6), ('platform', 6), ('increased', 6), ('minimum', 6), ('paisa', 6), ('corporation', 6), ('fuel', 6), ('highest', 6), ('daily', 6), ('account', 6), ('affected', 6), ('maha', 6), ('prashant', 6), ('samyukt', 6), ('durga', 6), ('attend', 6), ('pandey', 6), ('owaisi', 6), ('selling', 6), ('defeated', 6), ('insulted', 6), ('p', 6), ('brutal', 6), ('innocent', 6), ('shopkeeper', 6), ('communication', 6), ('dealer', 6), ('accept', 6), ('prevent', 6), ('june', 6), ('loyalist', 6), ('travel', 6), ('helped', 6), ('accusing', 6), ('provision', 6), ('gone', 6), ('agriculture', 6), ('venue', 6), ('major', 6), ('open', 6), ('responsibility', 6), ('sector', 6), ('turning', 6), ('april', 6), ('warning', 6), ('gujarat', 6), ('generating', 6), ('resident', 6), ('model', 6), ('murdered', 6), ('pressure', 6), ('arrangement', 6), ('improve', 6), ('misuse', 6), ('blood', 6), ('forward', 6), ('million', 6), ('atrocity', 6), ('revolt', 6), ('book', 6), ('happening', 6), ('different', 6), ('think', 6), ('replaced', 6), ('grievance', 6), ('appointed', 6), ('continues', 6), ('attendance', 6), ('similarly', 6), ('abhishek', 6), ('th', 6), ('machinery', 6), ('necessary', 6), ('operation', 6), ('brief', 6), ('admitted', 6), ('attention', 6), ('ended', 6), ('strike', 6), ('finally', 6), ('nv', 6), ('cbi', 6), ('negotiation', 6), ('dozen', 6), ('waiting', 6), ('fielded', 6), ('nagar', 6), ('november', 6), ('amarinder', 6), ('sweeping', 6), ('witnessed', 6), ('deep', 6), ('looking', 6), ('army', 6), ('reacting', 6), ('cleaned', 6), ('bank', 6), ('accompanying', 6), ('field', 6), ('multiple', 6), ('rise', 6), ('sharad', 6), ('pune', 6), ('afraid', 6), ('enforcement', 6), ('directorate', 6), ('kashmiri', 6), ('school', 6), ('islam', 6), ('dutta', 6), ('activity', 6), ('lal', 6), ('khattar', 6), ('ship', 6), ('sacked', 6), ('concerned', 6), ('devi', 6), ('provided', 6), ('foot', 6), ('mufti', 6), ('siddaramaiah', 6), ('du', 6), ('interview', 6), ('leading', 6), ('extended', 6), ('telling', 6), ('totally', 6), ('adhikari', 6), ('jakir', 6), ('hossain', 6), ('jangipur', 6), ('conduct', 6), ('strict', 6), ('kc', 6), ('confirmed', 6), ('arrogance', 6), ('bhanushali', 6), ('gram', 6), ('trust', 6), ('condemn', 6), ('suppress', 6), ('committed', 6), ('banning', 6), ('dramatic', 6), ('crushing', 6), ('dictatorship', 6), ('dam', 6), ('dvc', 6), ('flight', 6), ('surfaced', 6), ('biggest', 6), ('manhandled', 6), ('agitated', 6), ('pyre', 6), ('speak', 6), ('acquisition', 6), ('defending', 6), ('khandwa', 6), ('ahmed', 6), ('jayalalithaa', 6), ('china', 5), ('intelligence', 5), ('battle', 5), ('key', 5), ('western', 5), ('chaillan', 5), ('air', 5), ('dr', 5), ('modern', 5), ('surrogacy', 5), ('science', 5), ('nimhans', 5), ('influence', 5), ('unfortunately', 5), ('live', 5), ('forget', 5), ('severe', 5), ('learn', 5), ('thousand', 5), ('start', 5), ('patient', 5), ('crop', 5), ('rakesh', 5), ('dialogue', 5), ('resolve', 5), ('hindustan', 5), ('effect', 5), ('mva', 5), ('participate', 5), ('headquarters', 5), ('increase', 5), ('organised', 5), ('superintendent', 5), ('identified', 5), ('sacking', 5), ('decide', 5), ('finance', 5), ('shri', 5), ('saurabh', 5), ('file', 5), ('lt', 5), ('mukhyamantri', 5), ('preparation', 5), ('guard', 5), ('shifted', 5), ('completed', 5), ('safe', 5), ('fought', 5), ('fear', 5), ('destroyed', 5), ('valmiki', 5), ('crush', 5), ('appeal', 5), ('nawab', 5), ('dismissed', 5), ('madhya', 5), ('possibility', 5), ('inflation', 5), ('true', 5), ('maintain', 5), ('highway', 5), ('better', 5), ('samaj', 5), ('personally', 5), ('medical', 5), ('mw', 5), ('load', 5), ('shashi', 5), ('history', 5), ('writing', 5), ('drop', 5), ('suffer', 5), ('institution', 5), ('fundamental', 5), ('discussion', 5), ('false', 5), ('anand', 5), ('environment', 5), ('controversy', 5), ('moved', 5), ('tourism', 5), ('nomination', 5), ('ongoing', 5), ('follow', 5), ('founder', 5), ('developmental', 5), ('current', 5), ('changing', 5), ('appropriate', 5), ('construction', 5), ('form', 5), ('pain', 5), ('lashed', 5), ('native', 5), ('function', 5), ('tactic', 5), ('mind', 5), ('imposed', 5), ('distance', 5), ('maintained', 5), ('opportunity', 5), ('reminded', 5), ('threatened', 5), ('guilty', 5), ('attended', 5), ('handling', 5), ('reality', 5), ('observing', 5), ('remains', 5), ('sending', 5), ('noting', 5), ('delay', 5), ('arresting', 5), ('break', 5), ('dadra', 5), ('haveli', 5), ('mahesh', 5), ('reply', 5), ('contested', 5), ('ticket', 5), ('randeep', 5), ('kapil', 5), ('kishor', 5), ('rooted', 5), ('chandrashekhar', 5), ('floor', 5), ('clean', 5), ('copy', 5), ('clarify', 5), ('low', 5), ('wing', 5), ('release', 5), ('covering', 5), ('supported', 5), ('urgent', 5), ('difficult', 5), ('pushing', 5), ('ghosh', 5), ('nephew', 5), ('saddened', 5), ('picture', 5), ('fell', 5), ('da', 5), ('deb', 5), ('administer', 5), ('controversial', 5), ('arm', 5), ('charged', 5), ('jarandeshwar', 5), ('booked', 5), ('bahraich', 5), ('kusheshwar', 5), ('asthan', 5), ('rope', 5), ('kanhaiya', 5), ('valley', 5), ('engine', 5), ('bindroo', 5), ('worse', 5), ('terrorism', 5), ('especially', 5), ('aide', 5), ('college', 5), ('admission', 5), ('escalating', 5), ('ask', 5), ('intention', 5), ('position', 5), ('amirul', 5), ('pradeep', 5), ('deployed', 5), ('reopened', 5), ('distancing', 5), ('completely', 5), ('palghar', 5), ('confidence', 5), ('zp', 5), ('nath', 5), ('crowd', 5), ('challenged', 5), ('process', 5), ('previous', 5), ('prior', 5), ('lashing', 5), ('discus', 5), ('alleging', 5), ('prevented', 5), ('widely', 5), ('fall', 5), ('siren', 5), ('blaring', 5), ('investigate', 5), ('route', 5), ('firing', 5), ('injury', 5), ('element', 5), ('ka', 5), ('amrit', 5), ('mahotsav', 5), ('listing', 5), ('govt', 5), ('harish', 5), ('yatra', 5), ('reaching', 5), ('sat', 5), ('sukhjinder', 5), ('meghalaya', 5), ('toh', 5), ('yahan', 5), ('hil', 5), ('rahi', 5), ('nearest', 5), ('secured', 5), ('preet', 5), ('sahota', 5), ('nandigram', 5), ('uttarakhand', 5), ('roy', 5), ('declaration', 5), ('economy', 4), ('emerging', 4), ('particularly', 4), ('chinese', 4), ('defence', 4), ('shift', 4), ('institute', 4), ('willing', 4), ('parent', 4), ('preach', 4), ('taught', 4), ('gratitude', 4), ('hailed', 4), ('launch', 4), ('task', 4), ('check', 4), ('implemented', 4), ('partner', 4), ('violation', 4), ('kill', 4), ('shut', 4), ('period', 4), ('navratri', 4), ('candle', 4), ('nationwide', 4), ('effigy', 4), ('aimim', 4), ('remove', 4), ('belongs', 4), ('dispensation', 4), ('sold', 4), ('initially', 4), ('passed', 4), ('dharna', 4), ('mask', 4), ('collusion', 4), ('anil', 4), ('approval', 4), ('lg', 4), ('opted', 4), ('required', 4), ('supplied', 4), ('quota', 4), ('g', 4), ('ghar', 4), ('roll', 4), ('considering', 4), ('dropped', 4), ('believe', 4), ('deo', 4), ('save', 4), ('nyay', 4), ('holy', 4), ('town', 4), ('kashi', 4), ('tear', 4), ('fiefdom', 4), ('lower', 4), ('properly', 4), ('colony', 4), ('harassed', 4), ('closure', 4), ('mow', 4), ('insult', 4), ('congratulate', 4), ('returned', 4), ('retail', 4), ('welfare', 4), ('association', 4), ('frtwa', 4), ('middle', 4), ('season', 4), ('peacefully', 4), ('supporting', 4), ('karyakartas', 4), ('drawing', 4), ('peak', 4), ('impending', 4), ('intervene', 4), ('listed', 4), ('varda', 4), ('unless', 4), ('alternative', 4), ('surge', 4), ('unemployment', 4), ('assured', 4), ('separate', 4), ('bahujan', 4), ('shedding', 4), ('watch', 4), ('reuters', 4), ('arranged', 4), ('create', 4), ('great', 4), ('producer', 4), ('analysis', 4), ('indication', 4), ('strained', 4), ('fresh', 4), ('memory', 4), ('partition', 4), ('struggle', 4), ('hate', 4), ('favour', 4), ('supposed', 4), ('definitely', 4), ('prepared', 4), ('ayodhya', 4), ('speaker', 4), ('ranjan', 4), ('reddy', 4), ('commerce', 4), ('dmk', 4), ('include', 4), ('considered', 4), ('parliament', 4), ('constituted', 4), ('voted', 4), ('shiromani', 4), ('akali', 4), ('popular', 4), ('known', 4), ('pspcl', 4), ('limited', 4), ('reiterated', 4), ('discipline', 4), ('quite', 4), ('uddhav', 4), ('stage', 4), ('sindhudurg', 4), ('swipe', 4), ('choice', 4), ('measure', 4), ('portfolio', 4), ('ill', 4), ('noted', 4), ('prevailing', 4), ('threatening', 4), ('summoned', 4), ('critical', 4), ('treat', 4), ('differently', 4), ('normal', 4), ('kalaben', 4), ('suicide', 4), ('commit', 4), ('ideology', 4), ('defeating', 4), ('turmoil', 4), ('surjewala', 4), ('gop', 4), ('setting', 4), ('structural', 4), ('bhim', 4), ('broom', 4), ('self', 4), ('cleaning', 4), ('tagging', 4), ('trend', 4), ('mouthpiece', 4), ('fine', 4), ('expansion', 4), ('easy', 4), ('eyeing', 4), ('younger', 4), ('heart', 4), ('purchase', 4), ('direct', 4), ('emergency', 4), ('unplanned', 4), ('bhati', 4), ('kolkata', 4), ('facebook', 4), ('image', 4), ('individual', 4), ('search', 4), ('satara', 4), ('compared', 4), ('condemnation', 4), ('inside', 4), ('exercise', 4), ('appearance', 4), ('safety', 4), ('paswan', 4), ('vendor', 4), ('beeline', 4), ('biswas', 4), ('outfit', 4), ('attitude', 4), ('remaining', 4), ('northeastern', 4), ('excessive', 4), ('sugar', 4), ('belong', 4), ('narcotic', 4), ('tell', 4), ('punia', 4), ('tej', 4), ('tarapur', 4), ('playing', 4), ('longer', 4), ('seek', 4), ('double', 4), ('makhan', 4), ('businessman', 4), ('jihad', 4), ('southern', 4), ('limit', 4), ('letting', 4), ('worried', 4), ('saffron', 4), ('journey', 4), ('mingled', 4), ('dhankhar', 4), ('victorious', 4), ('samserganj', 4), ('goddess', 4), ('protocol', 4), ('proper', 4), ('online', 4), ('visitor', 4), ('entry', 4), ('carried', 4), ('disturbing', 4), ('lakhimpuri', 4), ('aside', 4), ('bos', 4), ('faith', 4), ('technical', 4), ('lose', 4), ('samitis', 4), ('brutally', 4), ('tourist', 4), ('grief', 4), ('manner', 4), ('sure', 4), ('flood', 4), ('discharged', 4), ('pakistan', 4), ('hai', 4), ('penal', 4), ('really', 4), ('presently', 4), ('confinement', 4), ('portion', 4), ('marching', 4), ('verified', 4), ('independently', 4), ('scramble', 4), ('tailing', 4), ('description', 4), ('sword', 4), ('assam', 4), ('celebrate', 4), ('lallu', 4), ('hurt', 4), ('brain', 4), ('haemorrhage', 4), ('placed', 4), ('constitutional', 4), ('horrendous', 4), ('acting', 4), ('purpose', 4), ('opposing', 4), ('shaken', 4), ('rld', 4), ('jayant', 4), ('shameful', 4), ('send', 4), ('threat', 4), ('enter', 4), ('civil', 4), ('sic', 4), ('casket', 4), ('walk', 4), ('mortem', 4), ('suspended', 4), ('raipur', 4), ('importance', 4), ('george', 4), ('gather', 4), ('phir', 4), ('shuru', 4), ('arun', 4), ('eviction', 4), ('rudra', 4), ('sacrilege', 4), ('regular', 4), ('miffed', 4), ('deol', 4), ('dsp', 4), ('soz', 4), ('sasikala', 4), ('january', 4), ('executive', 4), ('communal', 4), ('slathia', 4), ('global', 3), ('advance', 3), ('software', 3), ('decade', 3), ('putting', 3), ('beginning', 3), ('repeatedly', 3), ('desire', 3), ('paradigm', 3), ('thinking', 3), ('seventh', 3), ('counselling', 3), ('expressing', 3), ('population', 3), ('bharat', 3), ('globally', 3), ('remained', 3), ('appealed', 3), ('midnight', 3), ('actively', 3), ('type', 3), ('proposed', 3), ('effective', 3), ('includes', 3), ('occasion', 3), ('dussehra', 3), ('commissioner', 3), ('asaduddin', 3), ('upper', 3), ('instruction', 3), ('east', 3), ('english', 3), ('saved', 3), ('sharpening', 3), ('indulging', 3), ('resolved', 3), ('alert', 3), ('observer', 3), ('bearer', 3), ('sankalp', 3), ('sangh', 3), ('consideration', 3), ('norm', 3), ('directed', 3), ('nexus', 3), ('honesty', 3), ('shankar', 3), ('countrywide', 3), ('loggerhead', 3), ('implementation', 3), ('specific', 3), ('objection', 3), ('sahu', 3), ('notably', 3), ('contender', 3), ('vishwanath', 3), ('mahatma', 3), ('aggrieved', 3), ('religion', 3), ('council', 3), ('language', 3), ('handed', 3), ('launched', 3), ('aggressively', 3), ('federation', 3), ('suffered', 3), ('demonstrator', 3), ('eye', 3), ('parallel', 3), ('handled', 3), ('diverted', 3), ('rain', 3), ('imported', 3), ('money', 3), ('outrage', 3), ('looming', 3), ('guideline', 3), ('solar', 3), ('tide', 3), ('ops', 3), ('criticism', 3), ('consecutive', 3), ('saini', 3), ('hanumangarh', 3), ('series', 3), ('answer', 3), ('dalits', 3), ('odisha', 3), ('appears', 3), ('bawana', 3), ('outskirt', 3), ('distributor', 3), ('amounted', 3), ('publicly', 3), ('concrete', 3), ('extent', 3), ('chain', 3), ('consumption', 3), ('hon', 3), ('ble', 3), ('forgotten', 3), ('rub', 3), ('lie', 3), ('healed', 3), ('titled', 3), ('declaring', 3), ('targeting', 3), ('sacrifice', 3), ('punish', 3), ('perpetrated', 3), ('thiruvananthapuram', 3), ('practice', 3), ('allegiance', 3), ('ramesh', 3), ('retained', 3), ('openly', 3), ('prakash', 3), ('reshuffle', 3), ('thakur', 3), ('gopal', 3), ('education', 3), ('urban', 3), ('suggested', 3), ('comprises', 3), ('mathura', 3), ('kanshi', 3), ('asserting', 3), ('regime', 3), ('lord', 3), ('memorial', 3), ('bound', 3), ('pre', 3), ('write', 3), ('advantage', 3), ('garb', 3), ('reduced', 3), ('requirement', 3), ('unable', 3), ('managing', 3), ('bal', 3), ('add', 3), ('yes', 3), ('referred', 3), ('benefit', 3), ('bail', 3), ('civic', 3), ('bmc', 3), ('laid', 3), ('cold', 3), ('mahapanchayat', 3), ('barely', 3), ('formed', 3), ('flower', 3), ('jeep', 3), ('hunger', 3), ('triumph', 3), ('cited', 3), ('escort', 3), ('expert', 3), ('countered', 3), ('apprehend', 3), ('status', 3), ('answered', 3), ('reserved', 3), ('dhodi', 3), ('resounding', 3), ('recovered', 3), ('picked', 3), ('tallest', 3), ('veteran', 3), ('naming', 3), ('criticised', 3), ('joining', 3), ('fix', 3), ('sharp', 3), ('mahindra', 3), ('banned', 3), ('showing', 3), ('rajbhar', 3), ('fit', 3), ('symbol', 3), ('patil', 3), ('unconditional', 3), ('apology', 3), ('amethi', 3), ('disappointment', 3), ('share', 3), ('concerted', 3), ('induction', 3), ('jago', 3), ('bangla', 3), ('angioplasty', 3), ('return', 3), ('commented', 3), ('accommodate', 3), ('resisted', 3), ('credited', 3), ('rebuilding', 3), ('washout', 3), ('scribe', 3), ('vijay', 3), ('singla', 3), ('ensured', 3), ('inciting', 3), ('andhra', 3), ('growing', 3), ('proceeding', 3), ('bridge', 3), ('lamented', 3), ('loan', 3), ('armed', 3), ('nokha', 3), ('chand', 3), ('husband', 3), ('vain', 3), ('proved', 3), ('mob', 3), ('ward', 3), ('indicating', 3), ('soul', 3), ('anger', 3), ('hike', 3), ('lesson', 3), ('politically', 3), ('motivated', 3), ('requires', 3), ('kolhapur', 3), ('festive', 3), ('hard', 3), ('television', 3), ('govind', 3), ('tough', 3), ('eidgah', 3), ('hawker', 3), ('virender', 3), ('underway', 3), ('approved', 3), ('tdf', 3), ('pledged', 3), ('greater', 3), ('md', 3), ('volunteer', 3), ('withdraw', 3), ('planning', 3), ('thank', 3), ('bar', 3), ('spread', 3), ('cutting', 3), ('lathi', 3), ('transaction', 3), ('ssk', 3), ('covered', 3), ('bothered', 3), ('convey', 3), ('misa', 3), ('bharti', 3), ('camp', 3), ('secular', 3), ('hd', 3), ('kumaraswamy', 3), ('link', 3), ('praised', 3), ('rashtriya', 3), ('ridiculous', 3), ('higher', 3), ('study', 3), ('odds', 3), ('wish', 3), ('class', 3), ('dying', 3), ('hunky', 3), ('dory', 3), ('farooq', 3), ('scared', 3), ('pray', 3), ('blank', 3), ('mohammad', 3), ('shafi', 3), ('expose', 3), ('entity', 3), ('mayor', 3), ('chatterjee', 3), ('jagdeep', 3), ('suvendu', 3), ('agitating', 3), ('mumba', 3), ('observe', 3), ('famous', 3), ('thane', 3), ('adjoining', 3), ('marked', 3), ('accountability', 3), ('cruelty', 3), ('selfie', 3), ('rukh', 3), ('kp', 3), ('gosavi', 3), ('refuting', 3), ('material', 3), ('fascist', 3), ('pursuing', 3), ('mass', 3), ('gap', 3), ('membership', 3), ('collector', 3), ('sc', 3), ('bid', 3), ('sen', 3), ('dirty', 3), ('mobile', 3), ('mother', 3), ('relates', 3), ('standoff', 3), ('ringed', 3), ('mischief', 3), ('stayed', 3), ('cordoned', 3), ('yeh', 3), ('dikhao', 3), ('acchhi', 3), ('tarah', 3), ('rujira', 3), ('physically', 3), ('deserves', 3), ('appearing', 3), ('opposed', 3), ('stopping', 3), ('barrage', 3), ('page', 3), ('discharge', 3), ('rainfall', 3), ('incidentally', 3), ('intended', 3), ('duty', 3), ('stunned', 3), ('courage', 3), ('affirmed', 3), ('inaugurate', 3), ('insists', 3), ('belief', 3), ('blocking', 3), ('justification', 3), ('serf', 3), ('merely', 3), ('illegality', 3), ('alive', 3), ('deadly', 3), ('mukul', 3), ('necessitated', 3), ('biswan', 3), ('chadha', 3), ('pulled', 3), ('equal', 3), ('tripathi', 3), ('gun', 3), ('mowing', 3), ('weapon', 3), ('gunshot', 3), ('provincial', 3), ('constabulary', 3), ('ultimatum', 3), ('waited', 3), ('retorted', 3), ('undermine', 3), ('seriously', 3), ('jhoola', 3), ('swing', 3), ('japan', 3), ('opposes', 3), ('protecting', 3), ('acted', 3), ('reacted', 3), ('lokur', 3), ('horrific', 3), ('enquiry', 3), ('violated', 3), ('somebody', 3), ('priyankagandhi', 3), ('mk', 3), ('stalin', 3), ('repeal', 3), ('inhuman', 3), ('bureaucracy', 3), ('switched', 3), ('impact', 3), ('clarified', 3), ('feel', 3), ('imposition', 3), ('reference', 3), ('regret', 3), ('quickly', 3), ('wb', 3), ('strategy', 3), ('deplorable', 3), ('attorney', 3), ('judiciary', 3), ('uphold', 3), ('memorandum', 3), ('treated', 3), ('speed', 3), ('testify', 3), ('minute', 3), ('begged', 3), ('burnt', 3), ('suggest', 3), ('describing', 3), ('underlined', 3), ('administrative', 3), ('split', 3), ('verdict', 3), ('mentioned', 3), ('pertaining', 3), ('conflict', 3), ('corruption', 3), ('appoint', 3), ('notification', 3), ('governance', 3), ('advice', 3), ('sign', 3), ('hub', 3), ('looked', 3), ('episode', 3), ('core', 3), ('invitee', 3), ('activist', 3), ('bigger', 3), ('foundation', 3), ('dawki', 3), ('connectivity', 3), ('northeast', 3), ('variety', 3), ('guwahati', 3), ('condolence', 3), ('unity', 3), ('truck', 3), ('defend', 3), ('assembled', 3), ('visibly', 3), ('chauhan', 3), ('kharge', 3), ('satyagraha', 3), ('ec', 3), ('polled', 3), ('stood', 3), ('positive', 3), ('murshidabad', 3), ('ag', 3), ('coordination', 3), ('removal', 3), ('iqbal', 3), ('arya', 3), ('dhami', 3), ('tirath', 3), ('mahagatbandhan', 3), ('vow', 3), ('indore', 3), ('saifuddin', 3), ('nc', 3), ('conversation', 3), ('gurjeet', 3), ('anwar', 3), ('remand', 3), ('upendra', 3), ('devender', 3), ('surjit', 3), ('dismiss', 3), ('unidentified', 3), ('artificial', 2), ('dominance', 2), ('technological', 2), ('pentagon', 2), ('dominate', 2), ('military', 2), ('respond', 2), ('competing', 2), ('deal', 2), ('newspaper', 2), ('war', 2), ('blamed', 2), ('google', 2), ('ai', 2), ('debate', 2), ('cyber', 2), ('initiative', 2), ('thanked', 2), ('contribution', 2), ('unwilling', 2), ('marriage', 2), ('sorry', 2), ('neurological', 2), ('lamenting', 2), ('grandparent', 2), ('mild', 2), ('moderate', 2), ('yoga', 2), ('meditation', 2), ('pranayama', 2), ('wonderful', 2), ('tool', 2), ('ancestor', 2), ('dear', 2), ('agony', 2), ('counseled', 2), ('counseling', 2), ('digital', 2), ('tele', 2), ('medicine', 2), ('mansukh', 2), ('mandaviya', 2), ('inoculation', 2), ('coverage', 2), ('vaccination', 2), ('undertook', 2), ('herculean', 2), ('vaccinating', 2), ('legislation', 2), ('touched', 2), ('straight', 2), ('crossed', 2), ('refiner', 2), ('value', 2), ('latest', 2), ('petroleum', 2), ('crude', 2), ('international', 2), ('exchange', 2), ('bus', 2), ('commercial', 2), ('establishment', 2), ('wholeheartedly', 2), ('forcefully', 2), ('cancelled', 2), ('leaf', 2), ('pandals', 2), ('burning', 2), ('context', 2), ('zonal', 2), ('inspector', 2), ('luvkush', 2), ('removing', 2), ('approaching', 2), ('operate', 2), ('outsourcing', 2), ('trade', 2), ('relent', 2), ('withdrawn', 2), ('maidan', 2), ('rao', 2), ('gpcc', 2), ('lop', 2), ('note', 2), ('incharge', 2), ('baijal', 2), ('conditionally', 2), ('sarkari', 2), ('representation', 2), ('proposal', 2), ('noteworthy', 2), ('submission', 2), ('informing', 2), ('card', 2), ('holder', 2), ('pd', 2), ('beneficiary', 2), ('eliminate', 2), ('dignity', 2), ('theft', 2), ('praveen', 2), ('kapoor', 2), ('l', 2), ('ambitious', 2), ('yojana', 2), ('foodgrains', 2), ('allotted', 2), ('existing', 2), ('rotational', 2), ('kushmanda', 2), ('soft', 2), ('beat', 2), ('resigns', 2), ('sonbhadra', 2), ('purchased', 2), ('apple', 2), ('kg', 2), ('compelled', 2), ('prevail', 2), ('belonging', 2), ('fertiliser', 2), ('gst', 2), ('lpg', 2), ('yogiji', 2), ('degree', 2), ('feeling', 2), ('angry', 2), ('relief', 2), ('psus', 2), ('aircraft', 2), ('har', 2), ('mata', 2), ('demon', 2), ('congratulated', 2), ('deed', 2), ('mawali', 2), ('numerous', 2), ('objected', 2), ('viren', 2), ('amended', 2), ('limping', 2), ('intermittent', 2), ('earnings', 2), ('slowly', 2), ('picking', 2), ('customer', 2), ('comprising', 2), ('essential', 2), ('stuck', 2), ('crossfire', 2), ('nitesh', 2), ('assurance', 2), ('blind', 2), ('panic', 2), ('unnecessarily', 2), ('created', 2), ('irresponsible', 2), ('crippling', 2), ('experiencing', 2), ('stretching', 2), ('depletion', 2), ('unprecedented', 2), ('legacy', 2), ('pointing', 2), ('expect', 2), ('principle', 2), ('impartial', 2), ('prepare', 2), ('flouting', 2), ('penalised', 2), ('repent', 2), ('domestic', 2), ('connected', 2), ('shutdown', 2), ('depleting', 2), ('reserve', 2), ('bs', 2), ('tata', 2), ('slamming', 2), ('lack', 2), ('camera', 2), ('wayanad', 2), ('sixth', 2), ('grain', 2), ('ambala', 2), ('naraingarh', 2), ('oppose', 2), ('guaranteed', 2), ('gained', 2), ('zero', 2), ('campaigning', 2), ('agenda', 2), ('condemnable', 2), ('love', 2), ('style', 2), ('expensive', 2), ('queue', 2), ('operator', 2), ('satyendra', 2), ('wagon', 2), ('transported', 2), ('soonest', 2), ('solving', 2), ('megawatt', 2), ('depend', 2), ('despatch', 2), ('regulator', 2), ('deficit', 2), ('provides', 2), ('strain', 2), ('recovery', 2), ('contain', 2), ('conclave', 2), ('scratching', 2), ('bad', 2), ('focus', 2), ('example', 2), ('horror', 2), ('remembrance', 2), ('memorialising', 2), ('revive', 2), ('forgiving', 2), ('descendant', 2), ('talked', 2), ('author', 2), ('era', 2), ('reflect', 2), ('historian', 2), ('sampath', 2), ('offer', 2), ('space', 2), ('heal', 2), ('seeing', 2), ('hindutva', 2), ('sharma', 2), ('reconstituted', 2), ('om', 2), ('consultation', 2), ('venkaiah', 2), ('chairmanship', 2), ('criticising', 2), ('nishank', 2), ('javadekar', 2), ('external', 2), ('trs', 2), ('industry', 2), ('rajiv', 2), ('c', 2), ('steel', 2), ('labour', 2), ('culture', 2), ('verma', 2), ('goswami', 2), ('ups', 2), ('indulge', 2), ('credit', 2), ('unfinished', 2), ('building', 2), ('statue', 2), ('riot', 2), ('little', 2), ('providing', 2), ('smarak', 2), ('sthal', 2), ('ratna', 2), ('ban', 2), ('poised', 2), ('atmosphere', 2), ('eventually', 2), ('misled', 2), ('impose', 2), ('insufficient', 2), ('apprehended', 2), ('agreement', 2), ('commitment', 2), ('venu', 2), ('nabha', 2), ('located', 2), ('increasing', 2), ('ease', 2), ('departure', 2), ('jab', 2), ('highlight', 2), ('infrastructure', 2), ('boost', 2), ('balasaheb', 2), ('liked', 2), ('liar', 2), ('lying', 2), ('bitter', 2), ('built', 2), ('quipped', 2), ('micro', 2), ('ignorance', 2), ('tension', 2), ('consider', 2), ('hearted', 2), ('tweeting', 2), ('facing', 2), ('ii', 2), ('bouquet', 2), ('bringing', 2), ('pulverised', 2), ('caught', 2), ('honour', 2), ('punishment', 2), ('lived', 2), ('surrender', 2), ('almighty', 2), ('path', 2), ('indefinite', 2), ('oversees', 2), ('normally', 2), ('pil', 2), ('busy', 2), ('clashed', 2), ('placard', 2), ('jumping', 2), ('tribe', 2), ('st', 2), ('gavit', 2), ('emotional', 2), ('murderer', 2), ('god', 2), ('shed', 2), ('mohanbhai', 2), ('patel', 2), ('cwc', 2), ('organisational', 2), ('faced', 2), ('shooting', 2), ('damaged', 2), ('strategist', 2), ('spontaneous', 2), ('weakness', 2), ('ash', 2), ('skipping', 2), ('influenced', 2), ('dreaming', 2), ('gaining', 2), ('comeback', 2), ('realise', 2), ('sbsp', 2), ('bhagidari', 2), ('formal', 2), ('announcement', 2), ('minded', 2), ('paid', 2), ('surprise', 2), ('casteist', 2), ('reduce', 2), ('usi', 2), ('layak', 2), ('prayed', 2), ('humiliated', 2), ('chandrakant', 2), ('defamatory', 2), ('varsha', 2), ('pmc', 2), ('scam', 2), ('baseless', 2), ('attached', 2), ('sabne', 2), ('relationship', 2), ('erase', 2), ('grand', 2), ('coalition', 2), ('worked', 2), ('functionary', 2), ('dev', 2), ('luizinho', 2), ('faleiro', 2), ('shoddy', 2), ('weight', 2), ('historical', 2), ('tie', 2), ('ambition', 2), ('neighbouring', 2), ('jaipur', 2), ('span', 2), ('proceeded', 2), ('delayed', 2), ('human', 2), ('assuring', 2), ('broad', 2), ('harsimrat', 2), ('dismissal', 2)]\n"
          ]
        }
      ]
    },
    {
      "cell_type": "code",
      "source": [
        "###TESTING\n",
        "from nltk.tokenize import word_tokenize\n",
        "all_words = []\n",
        "for message in center_without_bias_words['clean_content']:\n",
        "      words = word_tokenize(message)\n",
        "      for w in words:\n",
        "          all_words.append(w)\n",
        "all_words = nltk.FreqDist(all_words)\n",
        "# print the total number of words and the 15 most common words\n",
        "print('Number of words: {}'.format(len(all_words)))\n",
        "print('Most common words: {}'.format(all_words.most_common(2500)))"
      ],
      "metadata": {
        "id": "qAPs9rpPYuwJ",
        "colab": {
          "base_uri": "https://localhost:8080/"
        },
        "outputId": "fb685b6e-632b-4ba9-a52e-1463565c061f"
      },
      "execution_count": 39,
      "outputs": [
        {
          "output_type": "stream",
          "name": "stdout",
          "text": [
            "Number of words: 6667\n",
            "Most common words: [('police', 226), ('court', 195), ('accused', 143), ('drug', 141), ('khan', 139), ('woman', 134), ('official', 127), ('aryan', 97), ('agency', 96), ('bail', 87), ('mumbai', 82), ('high', 74), ('ncb', 69), ('chief', 69), ('cruise', 68), ('told', 68), ('investigation', 66), ('according', 64), ('china', 63), ('indian', 59), ('anti', 57), ('old', 57), ('health', 56), ('custody', 54), ('week', 53), ('chinese', 53), ('delhi', 53), ('medium', 52), ('control', 51), ('bureau', 51), ('world', 51), ('justice', 50), ('national', 49), ('place', 48), ('member', 48), ('number', 48), ('russia', 48), ('statement', 47), ('month', 47), ('company', 46), ('act', 45), ('home', 44), ('social', 44), ('air', 44), ('prize', 44), ('lawyer', 43), ('sent', 43), ('narcotic', 42), ('reported', 42), ('issue', 42), ('gram', 42), ('facebook', 42), ('group', 41), ('child', 41), ('life', 41), ('party', 39), ('took', 39), ('later', 39), ('house', 39), ('ship', 39), ('jail', 38), ('post', 38), ('news', 38), ('mental', 38), ('school', 37), ('following', 36), ('son', 36), ('connection', 36), ('talk', 36), ('point', 36), ('disorder', 36), ('nobel', 36), ('died', 35), ('power', 35), ('team', 35), ('taken', 35), ('judge', 35), ('force', 34), ('pandemic', 34), ('change', 34), ('pradesh', 34), ('man', 34), ('million', 34), ('officer', 33), ('killed', 33), ('seven', 33), ('material', 33), ('say', 33), ('september', 33), ('terrorist', 32), ('given', 32), ('used', 32), ('building', 32), ('singh', 32), ('nuclear', 32), ('work', 32), ('service', 31), ('climate', 31), ('adding', 31), ('murder', 31), ('girl', 31), ('right', 31), ('auto', 30), ('kumar', 30), ('allegedly', 29), ('border', 29), ('bank', 29), ('defence', 28), ('second', 28), ('station', 28), ('raid', 28), ('global', 28), ('military', 28), ('troop', 28), ('study', 28), ('trial', 28), ('committee', 28), ('kashmir', 27), ('actor', 27), ('asked', 27), ('maneshinde', 27), ('death', 27), ('city', 27), ('money', 27), ('senior', 27), ('set', 27), ('university', 27), ('came', 27), ('taiwan', 27), ('user', 27), ('line', 26), ('arrest', 26), ('till', 26), ('claimed', 26), ('cell', 26), ('charge', 26), ('generated', 26), ('policy', 26), ('way', 26), ('international', 26), ('nearly', 26), ('identified', 26), ('shah', 25), ('rukh', 25), ('victim', 25), ('registered', 25), ('alleged', 25), ('president', 25), ('activity', 25), ('percent', 25), ('hospital', 25), ('order', 25), ('student', 25), ('lakh', 25), ('army', 24), ('security', 24), ('denied', 24), ('document', 24), ('central', 24), ('energy', 24), ('seen', 24), ('list', 24), ('medical', 24), ('united', 24), ('additional', 24), ('men', 24), ('special', 24), ('taking', 23), ('matter', 23), ('seized', 23), ('make', 23), ('near', 23), ('complaint', 23), ('general', 23), ('source', 23), ('factory', 23), ('sector', 23), ('long', 23), ('likely', 23), ('cent', 23), ('saying', 23), ('director', 23), ('condition', 23), ('based', 23), ('war', 23), ('russian', 23), ('moscow', 23), ('resident', 23), ('tesla', 23), ('jammu', 22), ('operation', 22), ('search', 22), ('offence', 22), ('need', 22), ('body', 22), ('include', 22), ('road', 22), ('region', 22), ('local', 22), ('authority', 22), ('afghanistan', 22), ('billion', 22), ('journalist', 22), ('protection', 22), ('instagram', 22), ('village', 21), ('early', 21), ('ago', 21), ('far', 21), ('evidence', 21), ('august', 21), ('held', 21), ('agreement', 21), ('section', 21), ('department', 21), ('called', 21), ('come', 21), ('known', 21), ('nation', 21), ('level', 21), ('recent', 21), ('aircraft', 21), ('ministry', 21), ('wife', 21), ('platform', 21), ('report', 20), ('crime', 20), ('u', 20), ('various', 20), ('judicial', 20), ('price', 20), ('water', 20), ('office', 20), ('ladakh', 20), ('camp', 20), ('attack', 20), ('showed', 20), ('father', 20), ('help', 20), ('disease', 20), ('article', 20), ('went', 20), ('black', 20), ('biden', 20), ('release', 19), ('law', 19), ('related', 19), ('night', 19), ('involved', 19), ('kept', 19), ('non', 19), ('th', 19), ('rate', 19), ('effort', 19), ('major', 19), ('disengagement', 19), ('yesterday', 19), ('total', 19), ('shot', 19), ('press', 19), ('plea', 18), ('late', 18), ('island', 18), ('seizure', 18), ('site', 18), ('plan', 18), ('started', 18), ('exercise', 18), ('human', 18), ('employee', 18), ('deal', 18), ('nia', 18), ('received', 18), ('got', 18), ('outage', 18), ('friend', 17), ('magistrate', 17), ('spot', 17), ('conducted', 17), ('property', 17), ('vaccine', 17), ('future', 17), ('resolution', 17), ('account', 17), ('eastern', 17), ('led', 17), ('killing', 17), ('injured', 17), ('away', 17), ('category', 17), ('isi', 17), ('interrogation', 17), ('claim', 17), ('action', 16), ('injury', 16), ('tax', 16), ('investment', 16), ('kg', 16), ('basis', 16), ('decade', 16), ('session', 16), ('coast', 16), ('emission', 16), ('latest', 16), ('north', 16), ('june', 16), ('actual', 16), ('problem', 16), ('flight', 16), ('west', 16), ('phone', 16), ('despite', 16), ('peace', 16), ('capital', 16), ('dead', 16), ('probe', 16), ('whatsapp', 16), ('risk', 16), ('soldier', 15), ('request', 15), ('morning', 15), ('argued', 15), ('epstein', 15), ('husband', 15), ('cash', 15), ('application', 15), ('goa', 15), ('economic', 15), ('fuel', 15), ('increase', 15), ('recovery', 15), ('plant', 15), ('e', 15), ('mother', 15), ('decision', 15), ('support', 15), ('open', 15), ('commissioner', 15), ('afp', 15), ('psychological', 15), ('age', 15), ('individual', 15), ('shared', 15), ('recovered', 15), ('beijing', 15), ('arguing', 14), ('agreed', 14), ('giuffre', 14), ('relationship', 14), ('issued', 14), ('return', 14), ('end', 14), ('good', 14), ('produced', 14), ('use', 14), ('process', 14), ('clear', 14), ('round', 14), ('face', 14), ('run', 14), ('small', 14), ('sign', 14), ('chat', 14), ('concern', 14), ('citizen', 14), ('foreign', 14), ('july', 14), ('recently', 14), ('bench', 14), ('white', 14), ('scientist', 14), ('caught', 14), ('online', 14), ('guard', 14), ('md', 14), ('medicine', 14), ('bear', 14), ('northeast', 14), ('content', 14), ('monsoon', 14), ('close', 13), ('rushed', 13), ('raided', 13), ('look', 13), ('couple', 13), ('land', 13), ('weekend', 13), ('festival', 13), ('different', 13), ('production', 13), ('pay', 13), ('recorded', 13), ('negotiation', 13), ('pm', 13), ('lac', 13), ('large', 13), ('past', 13), ('decided', 13), ('leader', 13), ('administration', 13), ('violence', 13), ('want', 13), ('possession', 13), ('period', 13), ('navy', 13), ('infection', 13), ('customer', 13), ('research', 13), ('accident', 13), ('substance', 13), ('abuse', 13), ('pakistan', 13), ('taliban', 13), ('pressure', 13), ('profit', 13), ('specie', 13), ('ed', 13), ('guru', 13), ('park', 13), ('researcher', 13), ('b', 13), ('arthur', 13), ('foreigner', 13), ('critical', 12), ('merchant', 12), ('hearing', 12), ('witness', 12), ('allegation', 12), ('andrew', 12), ('filed', 12), ('released', 12), ('lead', 12), ('maharashtra', 12), ('business', 12), ('trade', 12), ('cordelia', 12), ('gas', 12), ('ahead', 12), ('record', 12), ('finding', 12), ('cost', 12), ('damage', 12), ('meeting', 12), ('ground', 12), ('south', 12), ('lake', 12), ('currently', 12), ('low', 12), ('mission', 12), ('environment', 12), ('driver', 12), ('terror', 12), ('little', 12), ('trust', 12), ('view', 12), ('zone', 12), ('science', 12), ('treatment', 12), ('revealed', 12), ('cbi', 12), ('normal', 12), ('letter', 12), ('anxiety', 12), ('information', 12), ('iran', 12), ('status', 12), ('direction', 12), ('lodged', 12), ('able', 12), ('missing', 12), ('cocaine', 12), ('chara', 12), ('pill', 12), ('award', 12), ('legal', 12), ('winner', 12), ('diversity', 12), ('development', 12), ('alzheimer', 12), ('guideline', 12), ('nanak', 12), ('bike', 12), ('harm', 11), ('satish', 11), ('conspiracy', 11), ('forced', 11), ('hope', 11), ('running', 11), ('board', 11), ('worth', 11), ('bollywood', 11), ('half', 11), ('sea', 11), ('share', 11), ('natural', 11), ('overall', 11), ('project', 11), ('role', 11), ('standoff', 11), ('remaining', 11), ('result', 11), ('bilateral', 11), ('fully', 11), ('river', 11), ('construction', 11), ('union', 11), ('living', 11), ('worker', 11), ('reached', 11), ('data', 11), ('evening', 11), ('appear', 11), ('fir', 11), ('missile', 11), ('weapon', 11), ('restriction', 11), ('sanction', 11), ('question', 11), ('message', 11), ('owner', 11), ('red', 11), ('cause', 11), ('stage', 11), ('nature', 11), ('code', 11), ('foot', 11), ('head', 11), ('airline', 11), ('parent', 11), ('financial', 11), ('multiple', 11), ('brother', 11), ('affair', 11), ('left', 11), ('inside', 11), ('independent', 11), ('rajasthan', 11), ('moved', 11), ('product', 11), ('prevention', 11), ('stated', 11), ('truck', 11), ('dozen', 11), ('mdma', 11), ('target', 11), ('american', 11), ('notice', 11), ('nazi', 11), ('schuetz', 11), ('kremlin', 11), ('gene', 11), ('armed', 10), ('going', 10), ('pti', 10), ('influence', 10), ('start', 10), ('present', 10), ('posted', 10), ('follow', 10), ('spokesman', 10), ('think', 10), ('r', 10), ('secretary', 10), ('population', 10), ('continue', 10), ('australia', 10), ('expert', 10), ('hit', 10), ('hold', 10), ('remains', 10), ('growing', 10), ('demand', 10), ('announced', 10), ('commander', 10), ('valley', 10), ('thousand', 10), ('highly', 10), ('japan', 10), ('argument', 10), ('author', 10), ('stand', 10), ('food', 10), ('stop', 10), ('really', 10), ('female', 10), ('history', 10), ('dr', 10), ('carried', 10), ('rule', 10), ('heavy', 10), ('february', 10), ('withdrawal', 10), ('largest', 10), ('impact', 10), ('estate', 10), ('emergency', 10), ('supreme', 10), ('common', 10), ('strong', 10), ('safety', 10), ('lot', 10), ('immediately', 10), ('passenger', 10), ('network', 10), ('nagar', 10), ('term', 10), ('hong', 10), ('kong', 10), ('community', 10), ('km', 10), ('corporation', 10), ('province', 10), ('mohammed', 10), ('environmental', 10), ('prison', 10), ('muratov', 10), ('charged', 10), ('apps', 10), ('young', 10), ('reporter', 10), ('migrant', 10), ('handed', 10), ('submitted', 10), ('iaf', 10), ('novaya', 10), ('gazeta', 10), ('da', 10), ('quarantine', 10), ('formation', 10), ('investor', 10), ('personnel', 9), ('spokesperson', 9), ('forest', 9), ('heard', 9), ('rave', 9), ('reply', 9), ('prince', 9), ('london', 9), ('civil', 9), ('associate', 9), ('private', 9), ('worked', 9), ('fight', 9), ('income', 9), ('fund', 9), ('tamil', 9), ('chennai', 9), ('huge', 9), ('temple', 9), ('navratri', 9), ('mark', 9), ('star', 9), ('mid', 9), ('capacity', 9), ('leading', 9), ('unit', 9), ('big', 9), ('covered', 9), ('expected', 9), ('economy', 9), ('meet', 9), ('provide', 9), ('forward', 9), ('proposal', 9), ('focus', 9), ('gogra', 9), ('tension', 9), ('arunachal', 9), ('returned', 9), ('scale', 9), ('factor', 9), ('oil', 9), ('raised', 9), ('european', 9), ('suffered', 9), ('taxi', 9), ('chance', 9), ('firm', 9), ('soon', 9), ('carry', 9), ('series', 9), ('minute', 9), ('earth', 9), ('cyber', 9), ('corruption', 9), ('freedom', 9), ('cross', 9), ('yes', 9), ('comment', 9), ('agent', 9), ('mobile', 9), ('delta', 9), ('haryana', 9), ('happened', 9), ('journal', 9), ('followed', 9), ('professor', 9), ('assam', 9), ('uttar', 9), ('anticipatory', 9), ('fact', 9), ('criminal', 9), ('rain', 9), ('measure', 9), ('plane', 9), ('physical', 9), ('anil', 9), ('transferred', 9), ('admitted', 9), ('bridge', 9), ('quantity', 9), ('speech', 9), ('taiwanese', 9), ('election', 9), ('current', 9), ('voice', 9), ('response', 9), ('cited', 9), ('heroin', 9), ('port', 9), ('acting', 9), ('musk', 9), ('approval', 9), ('biodiversity', 9), ('prosecutor', 9), ('attempt', 9), ('referring', 9), ('travel', 9), ('rescue', 9), ('achit', 9), ('critic', 9), ('awarded', 9), ('messenger', 9), ('rape', 9), ('newspaper', 9), ('minor', 9), ('rainfall', 9), ('misinformation', 9), ('photo', 9), ('gender', 9), ('amid', 9), ('yadav', 9), ('nato', 9), ('pregnancy', 9), ('bag', 9), ('chakraborty', 9), ('cylinder', 9), ('intelligence', 8), ('ordered', 8), ('instead', 8), ('insisted', 8), ('sex', 8), ('nadu', 8), ('location', 8), ('loan', 8), ('figure', 8), ('regular', 8), ('allowed', 8), ('club', 8), ('vaccinated', 8), ('negative', 8), ('tried', 8), ('practice', 8), ('form', 8), ('victory', 8), ('observed', 8), ('munmun', 8), ('initially', 8), ('wind', 8), ('cut', 8), ('care', 8), ('poor', 8), ('looking', 8), ('maintain', 8), ('relation', 8), ('complete', 8), ('important', 8), ('barahoti', 8), ('uttarakhand', 8), ('spending', 8), ('needed', 8), ('includes', 8), ('germany', 8), ('phase', 8), ('crisis', 8), ('link', 8), ('banned', 8), ('suspected', 8), ('digital', 8), ('lower', 8), ('single', 8), ('twitter', 8), ('origin', 8), ('space', 8), ('madhya', 8), ('khatri', 8), ('leak', 8), ('shukla', 8), ('maritime', 8), ('build', 8), ('firing', 8), ('working', 8), ('included', 8), ('remain', 8), ('completed', 8), ('diplomatic', 8), ('booked', 8), ('ipc', 8), ('reuters', 8), ('northern', 8), ('appearance', 8), ('acre', 8), ('center', 8), ('granting', 8), ('manager', 8), ('image', 8), ('light', 8), ('soviet', 8), ('benefit', 8), ('increased', 8), ('severe', 8), ('required', 8), ('opinion', 8), ('noida', 8), ('sister', 8), ('dispute', 8), ('declared', 8), ('planning', 8), ('threat', 8), ('territory', 8), ('key', 8), ('jagdish', 8), ('mukesh', 8), ('alias', 8), ('karnataka', 8), ('cover', 8), ('google', 8), ('giant', 8), ('gujarat', 8), ('arrived', 8), ('dri', 8), ('course', 8), ('flying', 8), ('date', 8), ('biggest', 8), ('ressa', 8), ('postal', 8), ('fled', 8), ('deputy', 8), ('sought', 8), ('investigating', 8), ('client', 8), ('trump', 8), ('whistleblower', 8), ('guilty', 8), ('gang', 8), ('rock', 8), ('chemistry', 8), ('physic', 8), ('know', 8), ('editor', 8), ('supplied', 8), ('underlined', 8), ('purchase', 8), ('teacher', 8), ('sheikh', 8), ('haya', 8), ('southwest', 8), ('heavily', 7), ('turned', 7), ('tamper', 7), ('review', 7), ('step', 7), ('suicide', 7), ('continues', 7), ('cbdt', 7), ('engaged', 7), ('commission', 7), ('note', 7), ('watch', 7), ('website', 7), ('main', 7), ('durga', 7), ('rejected', 7), ('remanded', 7), ('degree', 7), ('caused', 7), ('shift', 7), ('rising', 7), ('carbon', 7), ('push', 7), ('provided', 7), ('friction', 7), ('hot', 7), ('pangong', 7), ('essential', 7), ('established', 7), ('transgressed', 7), ('naravane', 7), ('opponent', 7), ('executive', 7), ('blamed', 7), ('surge', 7), ('division', 7), ('fear', 7), ('mohammad', 7), ('detained', 7), ('break', 7), ('society', 7), ('met', 7), ('representative', 7), ('march', 7), ('tweet', 7), ('fell', 7), ('college', 7), ('film', 7), ('jaiswal', 7), ('submarine', 7), ('class', 7), ('indo', 7), ('washington', 7), ('similar', 7), ('disclose', 7), ('movement', 7), ('reach', 7), ('provision', 7), ('variant', 7), ('east', 7), ('personal', 7), ('approach', 7), ('bring', 7), ('confrontation', 7), ('opening', 7), ('spanish', 7), ('la', 7), ('eruption', 7), ('depression', 7), ('particularly', 7), ('penal', 7), ('instruction', 7), ('speak', 7), ('preliminary', 7), ('branch', 7), ('train', 7), ('linked', 7), ('stress', 7), ('dangerous', 7), ('brain', 7), ('expressed', 7), ('bus', 7), ('brought', 7), ('field', 7), ('petrol', 7), ('track', 7), ('emerged', 7), ('unlawful', 7), ('laid', 7), ('fighter', 7), ('leadership', 7), ('position', 7), ('using', 7), ('york', 7), ('airport', 7), ('stopped', 7), ('ngo', 7), ('import', 7), ('ndps', 7), ('tested', 7), ('berlin', 7), ('german', 7), ('europe', 7), ('supply', 7), ('gone', 7), ('promoter', 7), ('custodial', 7), ('confronted', 7), ('informed', 7), ('multi', 7), ('interview', 7), ('outlet', 7), ('cctv', 7), ('boy', 7), ('access', 7), ('kelly', 7), ('complainant', 7), ('ongoing', 7), ('crucial', 7), ('visitor', 7), ('jailed', 7), ('monument', 7), ('grand', 7), ('recipient', 7), ('book', 7), ('scientific', 7), ('haugen', 7), ('alliance', 7), ('putin', 7), ('relief', 7), ('petitioner', 7), ('prisoner', 7), ('convicted', 7), ('oas', 7), ('immune', 7), ('statue', 7), ('bust', 7), ('haul', 7), ('hidden', 7), ('unnamed', 7), ('palestinian', 7), ('c', 7), ('mar', 7), ('lic', 7), ('gangster', 7), ('elephant', 7), ('nooyi', 7), ('shooting', 7), ('input', 6), ('presence', 6), ('awaited', 6), ('sentence', 6), ('try', 6), ('questioned', 6), ('suggest', 6), ('lawsuit', 6), ('sexual', 6), ('procedure', 6), ('manhattan', 6), ('royal', 6), ('regarding', 6), ('unaccounted', 6), ('sale', 6), ('allow', 6), ('supporter', 6), ('wanted', 6), ('game', 6), ('regulation', 6), ('idol', 6), ('traditional', 6), ('celebrated', 6), ('p', 6), ('celebration', 6), ('hear', 6), ('progress', 6), ('limit', 6), ('celsius', 6), ('annual', 6), ('final', 6), ('sold', 6), ('green', 6), ('developing', 6), ('infrastructure', 6), ('emerging', 6), ('situation', 6), ('clean', 6), ('temperature', 6), ('failed', 6), ('western', 6), ('corp', 6), ('depsang', 6), ('tie', 6), ('battle', 6), ('clash', 6), ('attempted', 6), ('standing', 6), ('buy', 6), ('develop', 6), ('debate', 6), ('reason', 6), ('conference', 6), ('cop', 6), ('november', 6), ('falling', 6), ('mass', 6), ('technology', 6), ('civilian', 6), ('opposition', 6), ('consideration', 6), ('rise', 6), ('highest', 6), ('vaccination', 6), ('unidentified', 6), ('blue', 6), ('played', 6), ('making', 6), ('delay', 6), ('helped', 6), ('texas', 6), ('base', 6), ('initial', 6), ('doctor', 6), ('political', 6), ('headed', 6), ('deliberately', 6), ('malabar', 6), ('involving', 6), ('range', 6), ('defense', 6), ('j', 6), ('represented', 6), ('inter', 6), ('advanced', 6), ('free', 6), ('witnessed', 6), ('feel', 6), ('previously', 6), ('imposed', 6), ('gen', 6), ('violent', 6), ('angry', 6), ('blood', 6), ('lockdown', 6), ('room', 6), ('travelling', 6), ('daily', 6), ('paid', 6), ('appeared', 6), ('block', 6), ('institute', 6), ('size', 6), ('spread', 6), ('better', 6), ('seek', 6), ('survivor', 6), ('spoke', 6), ('greater', 6), ('affected', 6), ('depressive', 6), ('facing', 6), ('passed', 6), ('considered', 6), ('flood', 6), ('nearby', 6), ('inflow', 6), ('resource', 6), ('square', 6), ('located', 6), ('interfax', 6), ('scene', 6), ('built', 6), ('modern', 6), ('seeking', 6), ('believe', 6), ('effect', 6), ('mechanism', 6), ('sharing', 6), ('immediate', 6), ('stay', 6), ('himachal', 6), ('inspector', 6), ('struck', 6), ('underway', 6), ('xi', 6), ('goal', 6), ('dialogue', 6), ('supported', 6), ('majority', 6), ('favour', 6), ('reserve', 6), ('operating', 6), ('french', 6), ('inequality', 6), ('swept', 6), ('trying', 6), ('psychotropic', 6), ('consignment', 6), ('stone', 6), ('contraband', 6), ('elevated', 6), ('began', 6), ('ceo', 6), ('protect', 6), ('entire', 6), ('wrote', 6), ('boyfriend', 6), ('laundering', 6), ('identify', 6), ('rohini', 6), ('confirmed', 6), ('continuing', 6), ('suburban', 6), ('dmitry', 6), ('fake', 6), ('threatened', 6), ('pipeline', 6), ('animal', 6), ('flooded', 6), ('commit', 6), ('bound', 6), ('floor', 6), ('cdc', 6), ('joe', 6), ('archaeological', 6), ('ear', 6), ('staircase', 6), ('escalante', 6), ('canyon', 6), ('seamount', 6), ('baby', 6), ('literature', 6), ('david', 6), ('gurnah', 6), ('morgan', 6), ('representation', 6), ('lack', 6), ('assistant', 6), ('changing', 6), ('selection', 6), ('zuckerberg', 6), ('france', 6), ('civic', 6), ('tech', 6), ('juber', 6), ('summit', 6), ('daughter', 6), ('lal', 6), ('compensation', 6), ('noted', 6), ('complicity', 6), ('sachsenhausen', 6), ('movie', 6), ('sensational', 6), ('undercover', 6), ('sailing', 6), ('clothes', 6), ('underwear', 6), ('purse', 6), ('quoting', 6), ('israel', 6), ('discussion', 6), ('tampering', 6), ('diana', 6), ('marshal', 6), ('bangladesh', 6), ('docuseries', 6), ('conduct', 6), ('punishment', 6), ('behera', 6), ('gogi', 6), ('iit', 6), ('dose', 6), ('bhandari', 6), ('tribunal', 6), ('bindroo', 6), ('riot', 6), ('imd', 6), ('dera', 5), ('managed', 5), ('file', 5), ('requested', 5), ('conducting', 5), ('relating', 5), ('queen', 5), ('elizabeth', 5), ('committed', 5), ('enforcement', 5), ('permission', 5), ('domestic', 5), ('neighbour', 5), ('earned', 5), ('santos', 5), ('antibody', 5), ('approached', 5), ('bommai', 5), ('kolu', 5), ('thiruvananthapuram', 5), ('navaratri', 5), ('type', 5), ('goddess', 5), ('offer', 5), ('fast', 5), ('believed', 5), ('fall', 5), ('busted', 5), ('paris', 5), ('electricity', 5), ('setting', 5), ('pollution', 5), ('electric', 5), ('effective', 5), ('responsible', 5), ('mean', 5), ('minimum', 5), ('maximum', 5), ('broke', 5), ('protocol', 5), ('lasted', 5), ('spring', 5), ('patrolling', 5), ('ended', 5), ('resulted', 5), ('sensitive', 5), ('tawang', 5), ('necessary', 5), ('create', 5), ('absolutely', 5), ('vital', 5), ('double', 5), ('net', 5), ('reduce', 5), ('industry', 5), ('cab', 5), ('separate', 5), ('let', 5), ('address', 5), ('powerful', 5), ('ask', 5), ('job', 5), ('crossed', 5), ('policeman', 5), ('journey', 5), ('scheduled', 5), ('oldest', 5), ('mile', 5), ('served', 5), ('occurred', 5), ('referred', 5), ('imtiaz', 5), ('bombay', 5), ('ip', 5), ('transfer', 5), ('inquiry', 5), ('regard', 5), ('subsequently', 5), ('guided', 5), ('pacific', 5), ('ocean', 5), ('lift', 5), ('regional', 5), ('actually', 5), ('quoted', 5), ('photograph', 5), ('bar', 5), ('door', 5), ('unprecedented', 5), ('gathering', 5), ('drive', 5), ('ran', 5), ('outside', 5), ('lava', 5), ('palma', 5), ('volcanic', 5), ('volcano', 5), ('collapse', 5), ('evacuated', 5), ('tweeted', 5), ('technical', 5), ('lightning', 5), ('v', 5), ('aware', 5), ('challenge', 5), ('attention', 5), ('campaign', 5), ('surrounding', 5), ('accepted', 5), ('loss', 5), ('existing', 5), ('looked', 5), ('sufficient', 5), ('examined', 5), ('fine', 5), ('dress', 5), ('religious', 5), ('rescued', 5), ('assistance', 5), ('jet', 5), ('tragedy', 5), ('quite', 5), ('medication', 5), ('treated', 5), ('mind', 5), ('task', 5), ('dcp', 5), ('constable', 5), ('player', 5), ('abdul', 5), ('permitted', 5), ('rival', 5), ('railway', 5), ('opened', 5), ('tsai', 5), ('democracy', 5), ('ruled', 5), ('reunification', 5), ('independence', 5), ('warned', 5), ('accept', 5), ('beaten', 5), ('vinod', 5), ('jufri', 5), ('created', 5), ('al', 5), ('id', 5), ('hard', 5), ('aimed', 5), ('k', 5), ('respond', 5), ('circumstance', 5), ('historic', 5), ('count', 5), ('attempting', 5), ('hand', 5), ('solution', 5), ('premise', 5), ('container', 5), ('metre', 5), ('brandenburg', 5), ('endangered', 5), ('fixed', 5), ('chandrasekhar', 5), ('wing', 5), ('infiltration', 5), ('previous', 5), ('africa', 5), ('limited', 5), ('powai', 5), ('cannabis', 5), ('advocate', 5), ('campus', 5), ('formally', 5), ('ruling', 5), ('influential', 5), ('california', 5), ('prevent', 5), ('bengaluru', 5), ('vice', 5), ('market', 5), ('disruption', 5), ('send', 5), ('meme', 5), ('messaging', 5), ('downdetector', 5), ('hate', 5), ('conviction', 5), ('rodgers', 5), ('sexually', 5), ('america', 5), ('criterion', 5), ('britain', 5), ('traced', 5), ('northwest', 5), ('protected', 5), ('restored', 5), ('original', 5), ('expand', 5), ('youtube', 5), ('real', 5), ('gap', 5), ('dedicated', 5), ('male', 5), ('magazine', 5), ('lawmaker', 5), ('eventually', 5), ('luo', 5), ('council', 5), ('healthy', 5), ('vote', 5), ('potential', 5), ('john', 5), ('stalking', 5), ('prosecute', 5), ('vladimir', 5), ('profile', 5), ('sheet', 5), ('aid', 5), ('unless', 5), ('acb', 5), ('accepting', 5), ('january', 5), ('raise', 5), ('ally', 5), ('byculla', 5), ('arbaaz', 5), ('se', 5), ('releasing', 5), ('hamper', 5), ('solicitor', 5), ('connected', 5), ('rhea', 5), ('wiessler', 5), ('chaudhary', 5), ('parmar', 5), ('ad', 5), ('ancient', 5), ('perseverance', 5), ('confirm', 5), ('england', 5), ('kabulov', 5), ('sherman', 5), ('cbd', 5), ('rank', 5), ('tillu', 5), ('tajpuriya', 5), ('naveen', 5), ('jitender', 5), ('hrithik', 5), ('roshan', 5), ('richest', 5), ('wealth', 5), ('retail', 5), ('registration', 5), ('citizenship', 5), ('panchnama', 5), ('encounter', 4), ('launched', 4), ('fierce', 4), ('disguise', 4), ('extend', 4), ('desai', 4), ('clubbed', 4), ('assault', 4), ('metropolitan', 4), ('underage', 4), ('duty', 4), ('trafficking', 4), ('town', 4), ('chit', 4), ('entirely', 4), ('farm', 4), ('giving', 4), ('bolsonaro', 4), ('refused', 4), ('encouraged', 4), ('fan', 4), ('arrangement', 4), ('gandhari', 4), ('amman', 4), ('kovil', 4), ('kerala', 4), ('relative', 4), ('sharad', 4), ('observe', 4), ('occasion', 4), ('esplanade', 4), ('arbaz', 4), ('seth', 4), ('dhamecha', 4), ('greenhouse', 4), ('renewables', 4), ('respectively', 4), ('renewable', 4), ('asia', 4), ('turn', 4), ('pushed', 4), ('suv', 4), ('hydrogen', 4), ('produce', 4), ('iea', 4), ('scheme', 4), ('polluter', 4), ('opportunity', 4), ('shifted', 4), ('difficulty', 4), ('receiving', 4), ('king', 4), ('agreeable', 4), ('suggestion', 4), ('communication', 4), ('command', 4), ('unreasonable', 4), ('pressed', 4), ('chushul', 4), ('moldo', 4), ('patrol', 4), ('galwan', 4), ('insisting', 4), ('deadly', 4), ('poured', 4), ('escalation', 4), ('backdrop', 4), ('transgression', 4), ('pla', 4), ('mm', 4), ('deployment', 4), ('strength', 4), ('best', 4), ('expensive', 4), ('atomic', 4), ('developed', 4), ('divide', 4), ('longer', 4), ('reactor', 4), ('massive', 4), ('mining', 4), ('worldwide', 4), ('closed', 4), ('czech', 4), ('false', 4), ('srinagar', 4), ('southern', 4), ('generation', 4), ('calling', 4), ('heart', 4), ('lowest', 4), ('anantnag', 4), ('spokeswoman', 4), ('experience', 4), ('planet', 4), ('poisoning', 4), ('summoned', 4), ('questioning', 4), ('invited', 4), ('asking', 4), ('relates', 4), ('prepared', 4), ('carrier', 4), ('feature', 4), ('drill', 4), ('asset', 4), ('helicopter', 4), ('surface', 4), ('commitment', 4), ('purpose', 4), ('contain', 4), ('placed', 4), ('strained', 4), ('maria', 4), ('removed', 4), ('ukraine', 4), ('establishment', 4), ('erupted', 4), ('short', 4), ('demanded', 4), ('regularly', 4), ('abusing', 4), ('wale', 4), ('machine', 4), ('planned', 4), ('neighbourhood', 4), ('managing', 4), ('academic', 4), ('premier', 4), ('protest', 4), ('vijay', 4), ('storey', 4), ('rolled', 4), ('canary', 4), ('engulfed', 4), ('organisation', 4), ('ash', 4), ('awareness', 4), ('wearing', 4), ('larger', 4), ('maker', 4), ('illness', 4), ('love', 4), ('burden', 4), ('challenging', 4), ('specific', 4), ('available', 4), ('considering', 4), ('grant', 4), ('granted', 4), ('causing', 4), ('hurt', 4), ('intention', 4), ('routine', 4), ('counter', 4), ('tiruvallur', 4), ('reservoir', 4), ('continued', 4), ('lying', 4), ('touch', 4), ('discharge', 4), ('proposed', 4), ('carrying', 4), ('l', 4), ('ta', 4), ('survey', 4), ('suffer', 4), ('biological', 4), ('instance', 4), ('certain', 4), ('emotional', 4), ('method', 4), ('proper', 4), ('rest', 4), ('sleep', 4), ('behaviour', 4), ('learn', 4), ('professional', 4), ('lost', 4), ('vikram', 4), ('nanda', 4), ('sub', 4), ('transaction', 4), ('bomb', 4), ('hailed', 4), ('hero', 4), ('islamic', 4), ('chemical', 4), ('suspect', 4), ('residence', 4), ('incursion', 4), ('live', 4), ('bomber', 4), ('engage', 4), ('vast', 4), ('crackdown', 4), ('simply', 4), ('hanumangarh', 4), ('stick', 4), ('meghwal', 4), ('prempura', 4), ('neck', 4), ('threw', 4), ('banwarilal', 4), ('rounded', 4), ('hind', 4), ('ied', 4), ('jawhar', 4), ('damudi', 4), ('organization', 4), ('identity', 4), ('propaganda', 4), ('opposite', 4), ('restoring', 4), ('landed', 4), ('theatre', 4), ('investigator', 4), ('receive', 4), ('afghan', 4), ('paper', 4), ('prevented', 4), ('captured', 4), ('saw', 4), ('mundra', 4), ('involvement', 4), ('semi', 4), ('processed', 4), ('zonal', 4), ('examination', 4), ('noticed', 4), ('sharma', 4), ('load', 4), ('concerned', 4), ('habitat', 4), ('enormous', 4), ('roll', 4), ('approved', 4), ('paul', 4), ('cheating', 4), ('establish', 4), ('aiding', 4), ('capture', 4), ('directly', 4), ('regime', 4), ('ceasefire', 4), ('bid', 4), ('violation', 4), ('magbado', 4), ('governor', 4), ('estimate', 4), ('hydroponic', 4), ('weed', 4), ('strain', 4), ('philippine', 4), ('creation', 4), ('camera', 4), ('footage', 4), ('eow', 4), ('madurai', 4), ('leopard', 4), ('besson', 4), ('consistent', 4), ('repeatedly', 4), ('raped', 4), ('pulled', 4), ('cm', 4), ('sitting', 4), ('tai', 4), ('ambassador', 4), ('importance', 4), ('donald', 4), ('theft', 4), ('faulty', 4), ('configuration', 4), ('impacted', 4), ('apology', 4), ('swiftly', 4), ('accessing', 4), ('monitoring', 4), ('usage', 4), ('disturbing', 4), ('delayed', 4), ('bit', 4), ('mild', 4), ('globally', 4), ('estimated', 4), ('restricted', 4), ('ability', 4), ('gain', 4), ('authorized', 4), ('admit', 4), ('contract', 4), ('dehring', 4), ('earthquake', 4), ('possible', 4), ('outraging', 4), ('reduced', 4), ('display', 4), ('sugar', 4), ('talking', 4), ('tool', 4), ('abdulrazak', 4), ('writer', 4), ('swedish', 4), ('norwegian', 4), ('honor', 4), ('tiny', 4), ('recognized', 4), ('contribution', 4), ('kariko', 4), ('corbett', 4), ('trajectory', 4), ('haeggstrom', 4), ('simple', 4), ('deciding', 4), ('consists', 4), ('opted', 4), ('featured', 4), ('delete', 4), ('higher', 4), ('integrity', 4), ('sentenced', 4), ('uk', 4), ('voting', 4), ('wrong', 4), ('pune', 4), ('sawant', 4), ('stepped', 4), ('st', 4), ('communal', 4), ('directed', 4), ('embassy', 4), ('panchayat', 4), ('rana', 4), ('kapoor', 4), ('chavan', 4), ('workman', 4), ('illegal', 4), ('writ', 4), ('perpetrator', 4), ('auschwitz', 4), ('foetus', 4), ('termination', 4), ('pregnant', 4), ('bribe', 4), ('navalny', 4), ('investigated', 4), ('preserve', 4), ('contributor', 4), ('politkovskaya', 4), ('foundation', 4), ('israeli', 4), ('warrant', 4), ('spend', 4), ('maintainable', 4), ('agreeing', 4), ('dhamechat', 4), ('celebrity', 4), ('trucked', 4), ('ounce', 4), ('respectable', 4), ('abscond', 4), ('bbc', 4), ('bashir', 4), ('charles', 4), ('married', 4), ('vintage', 4), ('airbase', 4), ('dakota', 4), ('named', 4), ('centre', 4), ('travelled', 4), ('transport', 4), ('imprisonment', 4), ('interim', 4), ('summons', 4), ('failure', 4), ('uapa', 4), ('rover', 4), ('layer', 4), ('contact', 4), ('rickshaw', 4), ('silicon', 4), ('racist', 4), ('diaz', 4), ('flat', 4), ('originally', 4), ('sp', 4), ('entered', 4), ('april', 4), ('kill', 4), ('convention', 4), ('maruma', 4), ('mrema', 4), ('deadline', 4), ('balli', 4), ('mahavir', 4), ('virtual', 4), ('castlewood', 4), ('forbes', 4), ('reliance', 4), ('sell', 4), ('store', 4), ('arlington', 4), ('kolbye', 4), ('wankhede', 4), ('dariyapur', 4), ('sumit', 4), ('attached', 4), ('bot', 4), ('register', 4), ('abdullah', 4), ('framed', 4), ('makhan', 4), ('litre', 4), ('prosecution', 4), ('commissioned', 3), ('escape', 3), ('route', 3), ('posting', 3), ('amit', 3), ('ready', 3), ('jurisdiction', 3), ('decide', 3), ('stressed', 3), ('british', 3), ('jeffrey', 3), ('reviewed', 3), ('maxwell', 3), ('abused', 3), ('examine', 3), ('liability', 3), ('row', 3), ('thane', 3), ('frequent', 3), ('mortem', 3), ('relevant', 3), ('detected', 3), ('signed', 3), ('attorney', 3), ('direct', 3), ('owned', 3), ('disclosed', 3), ('attend', 3), ('football', 3), ('spent', 3), ('sanitary', 3), ('brazil', 3), ('deity', 3), ('mainly', 3), ('mandapam', 3), ('happening', 3), ('vikrant', 3), ('nupur', 3), ('gomit', 3), ('chopra', 3), ('mohak', 3), ('solar', 3), ('consumption', 3), ('steady', 3), ('growth', 3), ('model', 3), ('eu', 3), ('harmful', 3), ('urging', 3), ('tank', 3), ('aim', 3), ('quality', 3), ('efficiency', 3), ('dropping', 3), ('wide', 3), ('season', 3), ('average', 3), ('weather', 3), ('forecast', 3), ('sky', 3), ('resolving', 3), ('expectation', 3), ('perspective', 3), ('stalled', 3), ('marked', 3), ('backing', 3), ('outstanding', 3), ('improvement', 3), ('populous', 3), ('extra', 3), ('gradual', 3), ('resolved', 3), ('avoid', 3), ('waste', 3), ('concrete', 3), ('scenario', 3), ('achieve', 3), ('reflected', 3), ('brussels', 3), ('deemed', 3), ('aside', 3), ('lashkar', 3), ('ahmad', 3), ('lone', 3), ('sparked', 3), ('tense', 3), ('apparent', 3), ('chain', 3), ('william', 3), ('theme', 3), ('faced', 3), ('fly', 3), ('doubt', 3), ('dream', 3), ('wish', 3), ('refuse', 3), ('monetary', 3), ('georgieva', 3), ('cumulative', 3), ('shall', 3), ('handle', 3), ('shatner', 3), ('guest', 3), ('rocket', 3), ('trip', 3), ('crew', 3), ('kilometer', 3), ('invite', 3), ('culture', 3), ('inspired', 3), ('sick', 3), ('eating', 3), ('producer', 3), ('peddler', 3), ('boarding', 3), ('pas', 3), ('cabin', 3), ('secondly', 3), ('mail', 3), ('illegally', 3), ('batch', 3), ('cadre', 3), ('appointed', 3), ('carl', 3), ('vinson', 3), ('quad', 3), ('frontline', 3), ('deploy', 3), ('fleet', 3), ('desert', 3), ('strike', 3), ('australian', 3), ('domain', 3), ('cold', 3), ('delegation', 3), ('pressing', 3), ('significant', 3), ('gradually', 3), ('rushing', 3), ('weaponry', 3), ('bihar', 3), ('sending', 3), ('obscene', 3), ('lifted', 3), ('sydney', 3), ('ban', 3), ('stringent', 3), ('race', 3), ('discrimination', 3), ('suppressed', 3), ('aggressive', 3), ('testing', 3), ('perrottet', 3), ('patron', 3), ('rash', 3), ('association', 3), ('responsibly', 3), ('angered', 3), ('colony', 3), ('driving', 3), ('superintendent', 3), ('formed', 3), ('measuring', 3), ('ing', 3), ('cumbre', 3), ('vieja', 3), ('flow', 3), ('industrial', 3), ('destroyed', 3), ('hectare', 3), ('collision', 3), ('cycle', 3), ('rally', 3), ('organised', 3), ('adra', 3), ('partnership', 3), ('stigma', 3), ('dealing', 3), ('struggling', 3), ('idea', 3), ('discussed', 3), ('severity', 3), ('consider', 3), ('employment', 3), ('gravity', 3), ('observation', 3), ('correct', 3), ('principle', 3), ('generally', 3), ('aspect', 3), ('determined', 3), ('circular', 3), ('titled', 3), ('grey', 3), ('federation', 3), ('celebrating', 3), ('penalty', 3), ('alert', 3), ('cusecs', 3), ('surplus', 3), ('quantum', 3), ('safe', 3), ('storage', 3), ('hosted', 3), ('fatal', 3), ('improved', 3), ('traffic', 3), ('standard', 3), ('roughly', 3), ('learning', 3), ('infectious', 3), ('stressor', 3), ('understand', 3), ('breathing', 3), ('piece', 3), ('reflect', 3), ('stabbed', 3), ('suspicion', 3), ('knife', 3), ('fit', 3), ('heated', 3), ('narela', 3), ('attacked', 3), ('islamabad', 3), ('deeply', 3), ('grateful', 3), ('guarded', 3), ('thoroughly', 3), ('urged', 3), ('confessed', 3), ('invasion', 3), ('separately', 3), ('ramped', 3), ('sortie', 3), ('airspace', 3), ('maintaining', 3), ('quo', 3), ('repercussion', 3), ('especially', 3), ('younger', 3), ('communist', 3), ('felt', 3), ('appropriate', 3), ('dalit', 3), ('rajput', 3), ('motorcycle', 3), ('anymore', 3), ('bathindi', 3), ('recruit', 3), ('muslim', 3), ('jihad', 3), ('gave', 3), ('card', 3), ('outfit', 3), ('begin', 3), ('devi', 3), ('boundary', 3), ('designated', 3), ('envoy', 3), ('ii', 3), ('active', 3), ('contacted', 3), ('performer', 3), ('bolshoi', 3), ('opera', 3), ('leave', 3), ('probing', 3), ('join', 3), ('reform', 3), ('announcement', 3), ('joined', 3), ('revenue', 3), ('receipt', 3), ('positive', 3), ('humanitarian', 3), ('warning', 3), ('holding', 3), ('iranian', 3), ('poverty', 3), ('hunger', 3), ('talc', 3), ('originated', 3), ('item', 3), ('directorate', 3), ('imported', 3), ('calcutta', 3), ('ranjit', 3), ('telangana', 3), ('similarly', 3), ('flash', 3), ('sept', 3), ('operator', 3), ('remained', 3), ('music', 3), ('win', 3), ('great', 3), ('innovative', 3), ('convinced', 3), ('dudenhoeffer', 3), ('significantly', 3), ('unlikely', 3), ('beginning', 3), ('trouble', 3), ('leena', 3), ('extortion', 3), ('aditi', 3), ('chandrashekar', 3), ('pmla', 3), ('proceeds', 3), ('secure', 3), ('tune', 3), ('possibility', 3), ('kabul', 3), ('grid', 3), ('thing', 3), ('increasing', 3), ('seeing', 3), ('congo', 3), ('sprawling', 3), ('vessel', 3), ('boat', 3), ('provincial', 3), ('casualty', 3), ('particular', 3), ('filmmaker', 3), ('bandra', 3), ('duterte', 3), ('difficult', 3), ('rappler', 3), ('ranked', 3), ('anand', 3), ('existed', 3), ('operated', 3), ('analysed', 3), ('shootout', 3), ('pilgrimage', 3), ('lucrative', 3), ('walking', 3), ('cried', 3), ('answer', 3), ('resume', 3), ('prime', 3), ('anchor', 3), ('underwater', 3), ('inch', 3), ('roadside', 3), ('undergoing', 3), ('sahu', 3), ('ani', 3), ('parked', 3), ('exchange', 3), ('ustr', 3), ('workplace', 3), ('unable', 3), ('web', 3), ('blocked', 3), ('piled', 3), ('testimony', 3), ('jury', 3), ('speaking', 3), ('massacre', 3), ('mosque', 3), ('partner', 3), ('highlight', 3), ('option', 3), ('collected', 3), ('analysis', 3), ('exacerbated', 3), ('traveler', 3), ('representing', 3), ('pleased', 3), ('apply', 3), ('yellowstone', 3), ('approaching', 3), ('murray', 3), ('hbt', 3), ('qureshi', 3), ('bangalore', 3), ('finally', 3), ('prominent', 3), ('reporting', 3), ('predecessor', 3), ('conservationist', 3), ('native', 3), ('proclamation', 3), ('utah', 3), ('crab', 3), ('lobster', 3), ('slowly', 3), ('fishing', 3), ('art', 3), ('unknown', 3), ('dinosaur', 3), ('grew', 3), ('waiting', 3), ('coffee', 3), ('eatery', 3), ('table', 3), ('clip', 3), ('description', 3), ('add', 3), ('shut', 3), ('terrible', 3), ('color', 3), ('cultural', 3), ('circle', 3), ('laureate', 3), ('sight', 3), ('epidemiology', 3), ('watcher', 3), ('chairman', 3), ('explanation', 3), ('historically', 3), ('declined', 3), ('app', 3), ('deletion', 3), ('shutting', 3), ('december', 3), ('blow', 3), ('whistle', 3), ('incentive', 3), ('organ', 3), ('criticism', 3), ('shape', 3), ('rapporteur', 3), ('breakthrough', 3), ('costa', 3), ('rica', 3), ('rare', 3), ('forum', 3), ('citing', 3), ('pledge', 3), ('ranchi', 3), ('tarmac', 3), ('marriage', 3), ('kiran', 3), ('sc', 3), ('narrated', 3), ('immunity', 3), ('diplomat', 3), ('marine', 3), ('aged', 3), ('counterpart', 3), ('difference', 3), ('chandigarh', 3), ('institution', 3), ('scam', 3), ('value', 3), ('approximately', 3), ('pvt', 3), ('crane', 3), ('claimant', 3), ('belonging', 3), ('proceeding', 3), ('petition', 3), ('unfortunately', 3), ('insurance', 3), ('concentration', 3), ('josef', 3), ('knowingly', 3), ('willingly', 3), ('execution', 3), ('memorial', 3), ('museum', 3), ('sibling', 3), ('suspended', 3), ('unmarried', 3), ('medically', 3), ('posed', 3), ('panel', 3), ('amendment', 3), ('sujata', 3), ('alexei', 3), ('genetic', 3), ('inflammation', 3), ('storm', 3), ('older', 3), ('vigil', 3), ('galschiot', 3), ('hku', 3), ('pillar', 3), ('creator', 3), ('hall', 3), ('apartment', 3), ('founded', 3), ('gorbachev', 3), ('courageous', 3), ('era', 3), ('advertiser', 3), ('moment', 3), ('peskov', 3), ('choice', 3), ('trading', 3), ('rbi', 3), ('stock', 3), ('bajaj', 3), ('inflation', 3), ('ensure', 3), ('hrw', 3), ('watchdog', 3), ('stream', 3), ('princess', 3), ('camilla', 3), ('sorry', 3), ('television', 3), ('drawn', 3), ('hindon', 3), ('lca', 3), ('tejas', 3), ('rafale', 3), ('nod', 3), ('paratrooper', 3), ('drew', 3), ('meghna', 3), ('chinook', 3), ('jaguar', 3), ('episode', 3), ('visited', 3), ('com', 3), ('challenged', 3), ('filming', 3), ('perception', 3), ('external', 3), ('bundi', 3), ('nainwa', 3), ('sho', 3), ('ill', 3), ('sarpanch', 3), ('bavsar', 3), ('written', 3), ('peddling', 3), ('filing', 3), ('comprising', 3), ('bailable', 3), ('nbw', 3), ('behalf', 3), ('punishable', 3), ('aforesaid', 3), ('copy', 3), ('circulated', 3), ('crater', 3), ('cliff', 3), ('williams', 3), ('sample', 3), ('humanity', 3), ('distance', 3), ('arm', 3), ('cooperation', 3), ('strongly', 3), ('ponzi', 3), ('rent', 3), ('hitting', 3), ('afternoon', 3), ('oct', 3), ('threatening', 3), ('usni', 3), ('moderate', 3), ('headquarters', 3), ('kid', 3), ('wake', 3), ('straight', 3), ('explosive', 3), ('jenapur', 3), ('municipal', 3), ('gupta', 3), ('parade', 3), ('famous', 3), ('pooh', 3), ('locked', 3), ('evacuate', 3), ('solve', 3), ('payment', 3), ('minority', 3), ('ecosystem', 3), ('promise', 3), ('advisor', 3), ('sindoor', 3), ('pandals', 3), ('onset', 3), ('nominee', 3), ('reunited', 3), ('initiative', 3)]\n"
          ]
        }
      ]
    },
    {
      "cell_type": "code",
      "source": [
        "###TESTING\n",
        "from nltk.tokenize import word_tokenize\n",
        "all_words = []\n",
        "for message in center_with_bias_words['clean_content']:\n",
        "      words = word_tokenize(message)\n",
        "      for w in words:\n",
        "          all_words.append(w)\n",
        "all_words = nltk.FreqDist(all_words)\n",
        "# print the total number of words and the 15 most common words\n",
        "print('Number of words: {}'.format(len(all_words)))\n",
        "print('Most common words: {}'.format(all_words.most_common(2500)))"
      ],
      "metadata": {
        "id": "OaK_qDUitUKM",
        "colab": {
          "base_uri": "https://localhost:8080/"
        },
        "outputId": "8f8646b2-70c2-48db-f2f0-c3abc78f6e05"
      },
      "execution_count": 40,
      "outputs": [
        {
          "output_type": "stream",
          "name": "stdout",
          "text": [
            "Number of words: 7923\n",
            "Most common words: [('minister', 394), ('government', 338), ('modi', 258), ('farmer', 254), ('court', 242), ('congress', 205), ('bjp', 199), ('party', 197), ('chief', 189), ('power', 176), ('leader', 172), ('son', 166), ('police', 150), ('mishra', 148), ('told', 128), ('company', 125), ('president', 121), ('union', 120), ('lakhimpur', 111), ('election', 108), ('world', 105), ('official', 104), ('air', 103), ('group', 102), ('law', 100), ('khan', 99), ('facebook', 99), ('medium', 96), ('issue', 95), ('gandhi', 95), ('month', 94), ('pradesh', 94), ('violence', 91), ('tata', 90), ('ncb', 89), ('high', 88), ('singh', 88), ('kheri', 88), ('drug', 87), ('action', 86), ('home', 84), ('uttar', 82), ('according', 81), ('worker', 80), ('pakistan', 79), ('right', 77), ('come', 77), ('week', 76), ('political', 76), ('justice', 76), ('national', 75), ('million', 75), ('death', 75), ('delhi', 74), ('member', 74), ('indian', 74), ('protest', 73), ('agency', 71), ('statement', 71), ('ajay', 71), ('think', 71), ('vaccine', 69), ('report', 69), ('say', 67), ('killed', 67), ('office', 67), ('change', 66), ('alleged', 66), ('security', 66), ('international', 65), ('centre', 65), ('ashish', 65), ('supreme', 65), ('ruling', 65), ('force', 64), ('long', 63), ('way', 63), ('airport', 63), ('held', 62), ('going', 61), ('work', 60), ('aryan', 60), ('social', 59), ('supply', 59), ('support', 59), ('meeting', 59), ('post', 59), ('house', 59), ('woman', 58), ('service', 58), ('taliban', 58), ('nation', 57), ('general', 57), ('foreign', 57), ('hearing', 57), ('investigation', 57), ('journalist', 57), ('global', 56), ('want', 56), ('news', 56), ('deputy', 56), ('make', 55), ('saying', 55), ('committee', 54), ('seen', 53), ('taken', 53), ('airline', 52), ('place', 52), ('called', 52), ('took', 52), ('china', 52), ('health', 51), ('officer', 51), ('accused', 51), ('run', 51), ('biden', 51), ('cruise', 51), ('need', 50), ('protester', 50), ('based', 49), ('lawyer', 49), ('cent', 49), ('opposition', 49), ('left', 49), ('control', 49), ('trade', 49), ('offshore', 49), ('pandemic', 48), ('asked', 48), ('came', 48), ('denied', 48), ('led', 47), ('region', 47), ('secretary', 46), ('old', 46), ('trump', 46), ('raid', 46), ('body', 45), ('development', 44), ('administration', 44), ('pm', 44), ('order', 44), ('set', 44), ('policy', 44), ('tax', 44), ('economy', 43), ('used', 43), ('mumbai', 43), ('tweeted', 42), ('conference', 42), ('assembly', 42), ('major', 42), ('ship', 42), ('deal', 42), ('malik', 42), ('document', 42), ('u', 42), ('matter', 41), ('present', 41), ('ministry', 41), ('given', 41), ('later', 41), ('democracy', 41), ('know', 40), ('end', 40), ('anti', 40), ('life', 40), ('job', 39), ('commission', 39), ('number', 39), ('data', 39), ('ahead', 39), ('paper', 39), ('team', 39), ('allegation', 39), ('august', 39), ('maharashtra', 39), ('suv', 39), ('bench', 39), ('child', 38), ('demand', 38), ('plant', 38), ('water', 38), ('continue', 38), ('announced', 38), ('question', 38), ('fir', 38), ('financial', 38), ('face', 37), ('vaccination', 37), ('shortage', 37), ('british', 37), ('clear', 37), ('claimed', 37), ('girl', 36), ('hit', 36), ('price', 36), ('vote', 36), ('haugen', 36), ('amid', 35), ('south', 35), ('meet', 35), ('term', 35), ('community', 35), ('senior', 35), ('cabinet', 35), ('yesterday', 35), ('director', 35), ('use', 35), ('defence', 35), ('talk', 35), ('sri', 35), ('filed', 35), ('united', 34), ('free', 34), ('employee', 34), ('reported', 34), ('detained', 34), ('died', 34), ('fact', 34), ('hold', 34), ('convoy', 34), ('ensure', 33), ('help', 33), ('lakh', 33), ('concern', 33), ('total', 33), ('fuel', 33), ('central', 33), ('attack', 33), ('shah', 33), ('strong', 33), ('open', 33), ('comment', 33), ('icij', 33), ('platform', 32), ('vaccinated', 32), ('situation', 32), ('decision', 32), ('recent', 32), ('reporter', 32), ('thing', 32), ('elite', 32), ('september', 31), ('murder', 31), ('fight', 31), ('democratic', 31), ('technology', 31), ('head', 31), ('press', 31), ('climate', 31), ('registered', 31), ('priyanka', 31), ('city', 30), ('finance', 30), ('key', 30), ('release', 30), ('mandate', 30), ('crisis', 30), ('sikh', 30), ('holding', 30), ('regional', 30), ('released', 30), ('kumar', 30), ('military', 30), ('white', 30), ('citizen', 30), ('lanka', 30), ('rahul', 30), ('kishida', 30), ('role', 29), ('opportunity', 29), ('britain', 29), ('far', 29), ('good', 29), ('federal', 29), ('authority', 29), ('afghanistan', 29), ('war', 29), ('west', 29), ('known', 29), ('lucknow', 29), ('young', 28), ('challenge', 28), ('record', 28), ('rate', 28), ('second', 28), ('view', 28), ('arrest', 28), ('probe', 28), ('food', 28), ('decade', 28), ('father', 28), ('charge', 28), ('expected', 28), ('school', 28), ('electoral', 28), ('partnership', 28), ('oil', 28), ('act', 28), ('business', 28), ('jrd', 28), ('population', 27), ('hospital', 27), ('rule', 27), ('alliance', 27), ('january', 27), ('stand', 27), ('threat', 27), ('property', 27), ('th', 27), ('evidence', 27), ('account', 27), ('freedom', 27), ('site', 27), ('future', 26), ('network', 26), ('better', 26), ('generated', 26), ('cost', 26), ('running', 26), ('problem', 26), ('hand', 26), ('dead', 26), ('level', 26), ('till', 26), ('current', 26), ('cooperation', 26), ('shared', 26), ('australia', 26), ('large', 26), ('big', 26), ('judge', 26), ('spot', 26), ('trying', 25), ('trust', 25), ('pay', 25), ('capital', 25), ('gas', 25), ('mp', 25), ('demanded', 25), ('allowed', 25), ('allegedly', 25), ('brought', 25), ('early', 25), ('green', 25), ('lawmaker', 25), ('speech', 25), ('information', 25), ('claim', 25), ('bengal', 25), ('legal', 25), ('economic', 25), ('stopped', 25), ('interview', 25), ('russia', 25), ('republican', 25), ('leadership', 25), ('project', 25), ('king', 25), ('exam', 25), ('address', 24), ('border', 24), ('step', 24), ('restriction', 24), ('private', 24), ('auto', 24), ('letter', 24), ('university', 24), ('working', 24), ('representative', 24), ('seven', 24), ('energy', 24), ('local', 24), ('largest', 24), ('agreement', 24), ('affair', 24), ('narcotic', 24), ('named', 24), ('bond', 24), ('tweet', 23), ('daily', 23), ('taking', 23), ('medical', 23), ('dozen', 23), ('gujarat', 23), ('sc', 23), ('responsible', 23), ('result', 23), ('plan', 23), ('scheme', 23), ('tried', 23), ('farm', 23), ('asset', 23), ('debt', 23), ('bid', 23), ('vadra', 23), ('look', 23), ('american', 22), ('effort', 22), ('aviation', 22), ('billion', 22), ('nearly', 22), ('leave', 22), ('sector', 22), ('man', 22), ('conducted', 22), ('victim', 22), ('received', 22), ('independent', 22), ('johnson', 22), ('percent', 22), ('commitment', 22), ('ruled', 22), ('london', 22), ('various', 21), ('mark', 21), ('generation', 21), ('status', 21), ('programme', 21), ('industry', 21), ('mean', 21), ('risk', 21), ('showed', 21), ('department', 21), ('increase', 21), ('involved', 21), ('late', 21), ('got', 21), ('despite', 21), ('low', 21), ('israel', 21), ('partner', 21), ('japan', 21), ('bureau', 21), ('user', 21), ('issued', 21), ('currently', 21), ('real', 21), ('winning', 21), ('money', 21), ('away', 21), ('attacked', 21), ('course', 21), ('society', 20), ('rajasthan', 20), ('island', 20), ('met', 20), ('especially', 20), ('measure', 20), ('lost', 20), ('raised', 20), ('recovery', 20), ('allow', 20), ('source', 20), ('create', 20), ('kashmir', 20), ('killing', 20), ('critical', 20), ('non', 20), ('outside', 20), ('morning', 20), ('washington', 20), ('speaking', 20), ('land', 20), ('uk', 20), ('indo', 20), ('joe', 20), ('summit', 20), ('bail', 20), ('ram', 20), ('attempt', 20), ('peace', 20), ('investigative', 20), ('ressa', 20), ('worth', 20), ('dhaliwal', 20), ('instagram', 20), ('message', 19), ('access', 19), ('biggest', 19), ('infection', 19), ('past', 19), ('began', 19), ('market', 19), ('march', 19), ('care', 19), ('forward', 19), ('arvind', 19), ('province', 19), ('majority', 19), ('tamil', 19), ('half', 19), ('seeking', 19), ('punjab', 19), ('proposal', 19), ('panchayat', 19), ('ago', 19), ('organisation', 19), ('denmark', 19), ('station', 19), ('june', 19), ('adding', 19), ('nuclear', 19), ('discussed', 19), ('needed', 19), ('looking', 19), ('ncp', 19), ('basis', 19), ('sought', 19), ('lead', 19), ('chairman', 19), ('senate', 19), ('condition', 19), ('file', 19), ('driven', 19), ('custody', 19), ('promotion', 19), ('port', 19), ('able', 18), ('test', 18), ('thousand', 18), ('recently', 18), ('stay', 18), ('pacific', 18), ('flight', 18), ('word', 18), ('road', 18), ('impact', 18), ('politics', 18), ('leak', 18), ('operation', 18), ('decided', 18), ('night', 18), ('welcome', 18), ('reserve', 18), ('corruption', 18), ('process', 18), ('leading', 18), ('poor', 18), ('newspaper', 18), ('maria', 18), ('important', 18), ('bilateral', 18), ('estate', 18), ('compensation', 18), ('revealed', 18), ('intelligence', 18), ('actor', 18), ('viral', 18), ('maurya', 18), ('lovepreet', 18), ('pattern', 18), ('wrote', 17), ('let', 17), ('available', 17), ('travel', 17), ('fully', 17), ('getting', 17), ('review', 17), ('hope', 17), ('activity', 17), ('electricity', 17), ('started', 17), ('living', 17), ('giving', 17), ('facility', 17), ('employment', 17), ('board', 17), ('close', 17), ('delegation', 17), ('wife', 17), ('frederiksen', 17), ('entire', 17), ('tie', 17), ('clash', 17), ('strategic', 17), ('spokesperson', 17), ('ally', 17), ('cop', 17), ('growth', 17), ('jaishankar', 17), ('went', 17), ('profit', 17), ('campaign', 17), ('supporter', 17), ('nobel', 17), ('facing', 17), ('return', 17), ('corporation', 17), ('candidate', 17), ('politician', 17), ('eviction', 17), ('conservative', 17), ('widely', 17), ('kept', 16), ('protect', 16), ('passenger', 16), ('likely', 16), ('coming', 16), ('limited', 16), ('refused', 16), ('safety', 16), ('worked', 16), ('minimum', 16), ('lockdown', 16), ('special', 16), ('cbi', 16), ('failed', 16), ('near', 16), ('hotel', 16), ('created', 16), ('domestic', 16), ('start', 16), ('reservation', 16), ('visiting', 16), ('negotiation', 16), ('tourism', 16), ('value', 16), ('sea', 16), ('rukh', 16), ('aimed', 16), ('harm', 16), ('owned', 16), ('visa', 16), ('emerged', 16), ('muratov', 16), ('dollar', 16), ('battle', 16), ('questioned', 16), ('infrastructure', 16), ('afghan', 16), ('protesting', 16), ('apparently', 16), ('whistleblower', 16), ('digital', 15), ('related', 15), ('singapore', 15), ('connectivity', 15), ('line', 15), ('healthcare', 15), ('include', 15), ('carrier', 15), ('benefit', 15), ('loss', 15), ('making', 15), ('shot', 15), ('effect', 15), ('receive', 15), ('following', 15), ('response', 15), ('offer', 15), ('men', 15), ('minority', 15), ('driver', 15), ('street', 15), ('amit', 15), ('relation', 15), ('expressed', 15), ('remains', 15), ('scheduled', 15), ('reform', 15), ('parliament', 15), ('solution', 15), ('revenue', 15), ('responsibility', 15), ('shringla', 15), ('reached', 15), ('brother', 15), ('seizure', 15), ('plea', 15), ('investment', 15), ('nath', 15), ('privilege', 15), ('assistance', 15), ('dos', 15), ('minute', 15), ('g', 15), ('consortium', 15), ('bollywood', 15), ('win', 15), ('purchase', 15), ('criticism', 15), ('prize', 15), ('moment', 15), ('bhanushali', 15), ('driving', 15), ('keshav', 15), ('crushed', 15), ('teen', 15), ('clegg', 15), ('wealth', 15), ('provide', 14), ('best', 14), ('single', 14), ('attention', 14), ('december', 14), ('declared', 14), ('executive', 14), ('virus', 14), ('respect', 14), ('stock', 14), ('affected', 14), ('canada', 14), ('northern', 14), ('faced', 14), ('serve', 14), ('railway', 14), ('target', 14), ('stop', 14), ('warned', 14), ('illegal', 14), ('mother', 14), ('leaving', 14), ('pressure', 14), ('list', 14), ('human', 14), ('point', 14), ('beach', 14), ('regular', 14), ('additional', 14), ('eu', 14), ('brexit', 14), ('position', 14), ('dialogue', 14), ('quad', 14), ('counterpart', 14), ('yadav', 14), ('manner', 14), ('sena', 14), ('witness', 14), ('management', 14), ('student', 14), ('america', 14), ('senator', 14), ('build', 14), ('period', 14), ('firm', 14), ('previous', 14), ('bombay', 14), ('age', 14), ('image', 14), ('clip', 14), ('article', 14), ('directly', 14), ('saw', 14), ('sitting', 14), ('prominent', 14), ('russian', 14), ('addressing', 14), ('product', 14), ('pakistani', 14), ('attorney', 14), ('ran', 14), ('prasad', 14), ('verify', 14), ('texas', 14), ('jordan', 14), ('research', 14), ('revelation', 14), ('posted', 13), ('twitter', 13), ('vice', 13), ('environment', 13), ('aim', 13), ('pas', 13), ('highest', 13), ('concerned', 13), ('sent', 13), ('dr', 13), ('fired', 13), ('capacity', 13), ('great', 13), ('truth', 13), ('unit', 13), ('muslim', 13), ('banned', 13), ('drive', 13), ('headed', 13), ('latest', 13), ('civil', 13), ('gandhinagar', 13), ('growing', 13), ('passed', 13), ('wanted', 13), ('israeli', 13), ('bank', 13), ('east', 13), ('democrat', 13), ('focused', 13), ('multiple', 13), ('main', 13), ('feel', 13), ('philippine', 13), ('ambassador', 13), ('nawab', 13), ('junior', 13), ('ramana', 13), ('agriculture', 13), ('permanent', 13), ('quota', 13), ('gave', 13), ('giant', 13), ('small', 13), ('read', 13), ('prevent', 13), ('block', 13), ('haryana', 13), ('chhattisgarh', 13), ('pushed', 13), ('expression', 13), ('gone', 13), ('really', 13), ('different', 13), ('figure', 13), ('abuse', 13), ('standard', 13), ('visuals', 13), ('goa', 13), ('relevant', 13), ('sabha', 13), ('amendment', 13), ('immediately', 13), ('linked', 13), ('manish', 13), ('imran', 13), ('content', 13), ('black', 13), ('haya', 13), ('malaria', 13), ('trivedi', 13), ('howard', 13), ('zuckerberg', 13), ('administered', 13), ('mundra', 13), ('reach', 12), ('buy', 12), ('reopening', 12), ('remain', 12), ('external', 12), ('friend', 12), ('cause', 12), ('ani', 12), ('represents', 12), ('written', 12), ('personal', 12), ('examination', 12), ('demanding', 12), ('abdullah', 12), ('card', 12), ('massive', 12), ('reply', 12), ('history', 12), ('huge', 12), ('november', 12), ('class', 12), ('sec', 12), ('bring', 12), ('movement', 12), ('iran', 12), ('mission', 12), ('mohammed', 12), ('seized', 12), ('donald', 12), ('konkan', 12), ('tourist', 12), ('thackeray', 12), ('multi', 12), ('significant', 12), ('north', 12), ('built', 12), ('common', 12), ('agenda', 12), ('akhilesh', 12), ('coast', 12), ('shiv', 12), ('investigate', 12), ('chat', 12), ('virtual', 12), ('turn', 12), ('building', 12), ('established', 12), ('connection', 12), ('try', 12), ('adityanath', 12), ('included', 12), ('produce', 12), ('dmitry', 12), ('rappler', 12), ('tell', 12), ('sure', 12), ('ngo', 12), ('phone', 12), ('fell', 12), ('st', 12), ('gram', 12), ('jurisdiction', 12), ('mcmaster', 12), ('confirmed', 12), ('mental', 12), ('samiti', 12), ('fresh', 12), ('abortion', 12), ('transparency', 12), ('hidden', 12), ('independently', 12), ('baghel', 12), ('caste', 12), ('california', 12), ('focus', 11), ('beijing', 11), ('france', 11), ('closed', 11), ('pushing', 11), ('field', 11), ('dose', 11), ('resource', 11), ('option', 11), ('wave', 11), ('request', 11), ('load', 11), ('keeping', 11), ('lal', 11), ('suspended', 11), ('pandit', 11), ('rise', 11), ('planning', 11), ('k', 11), ('terrorist', 11), ('visited', 11), ('rejected', 11), ('village', 11), ('range', 11), ('broke', 11), ('civic', 11), ('calling', 11), ('sts', 11), ('turned', 11), ('constituency', 11), ('longer', 11), ('connected', 11), ('priority', 11), ('army', 11), ('moved', 11), ('resident', 11), ('commercial', 11), ('luxury', 11), ('spread', 11), ('ireland', 11), ('withdrawal', 11), ('criminal', 11), ('spokesman', 11), ('morrison', 11), ('suga', 11), ('initiative', 11), ('aircraft', 11), ('complaint', 11), ('talking', 11), ('wankhede', 11), ('happened', 11), ('answer', 11), ('nv', 11), ('provided', 11), ('average', 11), ('forced', 11), ('pandey', 11), ('complete', 11), ('quickly', 11), ('existing', 11), ('capitol', 11), ('expert', 11), ('advisor', 11), ('save', 11), ('ji', 11), ('outage', 11), ('online', 11), ('ordered', 11), ('aid', 11), ('fund', 11), ('idea', 11), ('adviser', 11), ('purpose', 11), ('petition', 11), ('principle', 11), ('potential', 11), ('limit', 11), ('trillion', 11), ('lok', 11), ('bypolls', 11), ('section', 11), ('injured', 11), ('isi', 11), ('enforcement', 11), ('stick', 11), ('rice', 11), ('finding', 11), ('pandora', 11), ('czech', 11), ('ldp', 11), ('urged', 10), ('oct', 10), ('strategy', 10), ('link', 10), ('largely', 10), ('asia', 10), ('add', 10), ('possible', 10), ('upcoming', 10), ('corp', 10), ('b', 10), ('retain', 10), ('engaged', 10), ('room', 10), ('cut', 10), ('chain', 10), ('arrangement', 10), ('teacher', 10), ('personnel', 10), ('civilian', 10), ('e', 10), ('doctor', 10), ('terrorism', 10), ('vowed', 10), ('soon', 10), ('danish', 10), ('wrong', 10), ('commissioner', 10), ('pro', 10), ('armed', 10), ('anger', 10), ('game', 10), ('merkel', 10), ('strength', 10), ('greater', 10), ('attended', 10), ('pipeline', 10), ('cyber', 10), ('commerce', 10), ('industrial', 10), ('kind', 10), ('alleging', 10), ('sameer', 10), ('write', 10), ('required', 10), ('professional', 10), ('recorded', 10), ('arguing', 10), ('influence', 10), ('mahatma', 10), ('presence', 10), ('immigration', 10), ('psaki', 10), ('introduced', 10), ('legislation', 10), ('offered', 10), ('agreed', 10), ('rest', 10), ('date', 10), ('increased', 10), ('higher', 10), ('mid', 10), ('contempt', 10), ('importance', 10), ('using', 10), ('referring', 10), ('sitapur', 10), ('stage', 10), ('founder', 10), ('journalism', 10), ('fighting', 10), ('starting', 10), ('difficult', 10), ('actually', 10), ('organization', 10), ('funding', 10), ('enemy', 10), ('sit', 10), ('independence', 10), ('photo', 10), ('little', 10), ('played', 10), ('honour', 10), ('kabul', 10), ('assam', 10), ('increasingly', 10), ('pti', 10), ('disaster', 10), ('individual', 10), ('violation', 10), ('australian', 10), ('tension', 10), ('mlas', 10), ('sheikh', 10), ('rival', 10), ('understand', 10), ('grain', 10), ('ramayan', 10), ('sandeep', 10), ('journal', 10), ('noida', 10), ('banerjee', 10), ('leaked', 10), ('opinion', 10), ('amarnath', 10), ('associate', 10), ('secretly', 10), ('babis', 10), ('sharma', 9), ('live', 9), ('announcement', 9), ('germany', 9), ('necessary', 9), ('sell', 9), ('panic', 9), ('mode', 9), ('kejriwal', 9), ('dealing', 9), ('mass', 9), ('offering', 9), ('c', 9), ('implementation', 9), ('reuters', 9), ('meena', 9), ('inquiry', 9), ('education', 9), ('jammu', 9), ('valley', 9), ('confidence', 9), ('abandoned', 9), ('spent', 9), ('imported', 9), ('imposed', 9), ('territory', 9), ('resolution', 9), ('coalition', 9), ('committed', 9), ('appropriate', 9), ('voter', 9), ('promise', 9), ('lot', 9), ('victory', 9), ('balance', 9), ('express', 9), ('chair', 9), ('backed', 9), ('share', 9), ('followed', 9), ('form', 9), ('final', 9), ('historic', 9), ('appear', 9), ('boost', 9), ('colleague', 9), ('joined', 9), ('gathering', 9), ('raise', 9), ('doubt', 9), ('pentagon', 9), ('laid', 9), ('scott', 9), ('regulated', 9), ('zero', 9), ('rape', 9), ('sachdeva', 9), ('publicity', 9), ('jail', 9), ('handling', 9), ('sign', 9), ('highly', 9), ('legislative', 9), ('race', 9), ('floor', 9), ('allowing', 9), ('easily', 9), ('cover', 9), ('profile', 9), ('panel', 9), ('featured', 9), ('direct', 9), ('certain', 9), ('determined', 9), ('aide', 9), ('opponent', 9), ('follow', 9), ('widespread', 9), ('lose', 9), ('suggested', 9), ('novaya', 9), ('gazeta', 9), ('instead', 9), ('directed', 9), ('embassy', 9), ('similar', 9), ('suffering', 9), ('returned', 9), ('wing', 9), ('recovered', 9), ('relationship', 9), ('crime', 9), ('putin', 9), ('attitude', 9), ('ground', 9), ('submitted', 9), ('judgement', 9), ('mind', 9), ('iaf', 9), ('council', 9), ('powerful', 9), ('blocked', 9), ('voted', 9), ('rising', 9), ('judicial', 9), ('tomorrow', 9), ('internal', 9), ('application', 9), ('college', 9), ('guardian', 9), ('retired', 9), ('scene', 9), ('cordelia', 9), ('authenticity', 9), ('constitution', 9), ('varun', 9), ('mla', 9), ('blair', 9), ('wall', 9), ('demonstration', 9), ('self', 9), ('mitra', 9), ('hai', 9), ('county', 9), ('sandhu', 9), ('glass', 9), ('municipal', 9), ('tower', 9), ('surfaced', 9), ('upa', 9), ('rajapaksa', 9), ('secret', 9), ('hindi', 9), ('tiwary', 9), ('panama', 9), ('wish', 8), ('tech', 8), ('skill', 8), ('identify', 8), ('resume', 8), ('corporates', 8), ('season', 8), ('stance', 8), ('unpaid', 8), ('southern', 8), ('toronto', 8), ('psac', 8), ('couple', 8), ('improve', 8), ('organised', 8), ('quoted', 8), ('park', 8), ('inside', 8), ('paswan', 8), ('bihar', 8), ('reportedly', 8), ('criticised', 8), ('example', 8), ('weekend', 8), ('arrived', 8), ('explained', 8), ('circle', 8), ('r', 8), ('opened', 8), ('european', 8), ('youth', 8), ('faction', 8), ('believe', 8), ('accountable', 8), ('initially', 8), ('diplomatic', 8), ('ii', 8), ('advocate', 8), ('regarding', 8), ('exchange', 8), ('setting', 8), ('star', 8), ('noted', 8), ('temple', 8), ('prepared', 8), ('fundamental', 8), ('heart', 8), ('separate', 8), ('defense', 8), ('rich', 8), ('wide', 8), ('supported', 8), ('arm', 8), ('discussion', 8), ('material', 8), ('negligence', 8), ('guilty', 8), ('afternoon', 8), ('conduct', 8), ('fake', 8), ('session', 8), ('whatsapp', 8), ('mentioned', 8), ('questioning', 8), ('overall', 8), ('waiting', 8), ('slot', 8), ('debate', 8), ('closely', 8), ('delivery', 8), ('institution', 8), ('diplomacy', 8), ('martin', 8), ('approval', 8), ('bidder', 8), ('flag', 8), ('originally', 8), ('pilot', 8), ('cash', 8), ('popular', 8), ('maharaja', 8), ('suddenly', 8), ('assault', 8), ('july', 8), ('algorithm', 8), ('duterte', 8), ('diplomat', 8), ('injury', 8), ('developed', 8), ('notice', 8), ('considered', 8), ('implement', 8), ('bound', 8), ('slogan', 8), ('decide', 8), ('approach', 8), ('founded', 8), ('suggestion', 8), ('stone', 8), ('appointed', 8), ('adani', 8), ('pointed', 8), ('reiss', 8), ('andersen', 8), ('vladimir', 8), ('telling', 8), ('cnn', 8), ('humanitarian', 8), ('invited', 8), ('hybrid', 8), ('standing', 8), ('carried', 8), ('proved', 8), ('reaffirmed', 8), ('backing', 8), ('reconciliation', 8), ('merchant', 8), ('detailed', 8), ('division', 8), ('threatening', 8), ('haqqani', 8), ('proper', 8), ('rimc', 8), ('match', 8), ('erupted', 8), ('pose', 8), ('short', 8), ('subcommittee', 8), ('series', 8), ('aware', 8), ('privacy', 8), ('chouhan', 8), ('sister', 8), ('mcfarlane', 8), ('hacking', 8), ('moscow', 8), ('outbreak', 8), ('inner', 8), ('ethanol', 8), ('ton', 8), ('harris', 8), ('sheriff', 8), ('lankan', 8), ('practice', 8), ('chidambaram', 8), ('kanhaiya', 8), ('spill', 8), ('ttp', 8), ('model', 7), ('chance', 7), ('courage', 7), ('seek', 7), ('asian', 7), ('disease', 7), ('surge', 7), ('expand', 7), ('simply', 7), ('protected', 7), ('fear', 7), ('increasing', 7), ('absolutely', 7), ('true', 7), ('requirement', 7), ('deadline', 7), ('provincial', 7), ('hard', 7), ('tackle', 7), ('signing', 7), ('mandatory', 7), ('canadian', 7), ('changed', 7), ('attract', 7), ('inoculated', 7), ('emergency', 7), ('join', 7), ('jain', 7), ('aam', 7), ('producer', 7), ('deficit', 7), ('lay', 7), ('culprit', 7), ('kashmiri', 7), ('owner', 7), ('peak', 7), ('lieutenant', 7), ('randhawa', 7), ('meghalaya', 7), ('carrying', 7), ('assured', 7), ('strongly', 7), ('sense', 7), ('feeling', 7), ('dalit', 7), ('mette', 7), ('husband', 7), ('taj', 7), ('described', 7), ('welcomed', 7), ('shedding', 7), ('warning', 7), ('stockpile', 7), ('spoken', 7), ('backward', 7), ('joint', 7), ('proposed', 7), ('entrance', 7), ('deployed', 7), ('monitor', 7), ('willing', 7), ('activist', 7), ('accusation', 7), ('discus', 7), ('planned', 7), ('german', 7), ('veteran', 7), ('western', 7), ('ready', 7), ('spoke', 7), ('landing', 7), ('enhance', 7), ('outcry', 7), ('constitutional', 7), ('boris', 7), ('negative', 7), ('afp', 7), ('suffered', 7), ('enhanced', 7), ('ambitious', 7), ('logistics', 7), ('deepening', 7), ('domain', 7), ('hosted', 7), ('stated', 7), ('communication', 7), ('wake', 7), ('sp', 7), ('targeted', 7), ('ask', 7), ('direction', 7), ('fair', 7), ('celebrity', 7), ('insisted', 7), ('peaceful', 7), ('establish', 7), ('remark', 7), ('waste', 7), ('delay', 7), ('filing', 7), ('goal', 7), ('combat', 7), ('path', 7), ('developing', 7), ('version', 7), ('french', 7), ('potentially', 7), ('alive', 7), ('bureaucrat', 7), ('conglomerate', 7), ('karachi', 7), ('flying', 7), ('reputation', 7), ('emirate', 7), ('europe', 7), ('represent', 7), ('investigating', 7), ('select', 7), ('patel', 7), ('testimony', 7), ('heading', 7), ('khattar', 7), ('love', 7), ('promoting', 7), ('choice', 7), ('check', 7), ('beginning', 7), ('headache', 7), ('revised', 7), ('moving', 7), ('worsening', 7), ('shouting', 7), ('appeal', 7), ('middle', 7), ('occasion', 7), ('safer', 7), ('guard', 7), ('subramanian', 7), ('serving', 7), ('regime', 7), ('faith', 7), ('reason', 7), ('program', 7), ('critic', 7), ('dedicated', 7), ('cited', 7), ('defended', 7), ('apart', 7), ('includes', 7), ('sat', 7), ('rajiv', 7), ('appearing', 7), ('regard', 7), ('effective', 7), ('hill', 7), ('fall', 7), ('pil', 7), ('bigger', 7), ('planet', 7), ('round', 7), ('forum', 7), ('ex', 7), ('vacant', 7), ('bhabanipur', 7), ('celebration', 7), ('foundation', 7), ('welfare', 7), ('confronted', 7), ('affidavit', 7), ('gen', 7), ('served', 7), ('da', 7), ('remove', 7), ('completely', 7), ('advantage', 7), ('page', 7), ('engage', 7), ('manager', 7), ('gosavi', 7), ('hunter', 7), ('vulnerable', 7), ('sub', 7), ('cm', 7), ('uae', 7), ('marching', 7), ('disputed', 7), ('africa', 7), ('trial', 7), ('nahi', 7), ('push', 7), ('output', 7), ('justify', 7), ('ceo', 7), ('supertech', 7), ('tripura', 7), ('polarization', 7), ('symbol', 7), ('andrej', 7), ('chandrachud', 7), ('tikait', 7), ('career', 6), ('choose', 6), ('ongoing', 6), ('equal', 6), ('gehlot', 6), ('inclusive', 6), ('adopted', 6), ('hub', 6), ('overwhelmed', 6), ('emerge', 6), ('unvaccinated', 6), ('korea', 6), ('meant', 6), ('substance', 6), ('consumption', 6), ('requested', 6), ('strain', 6), ('columbia', 6), ('trudeau', 6), ('representing', 6), ('administrative', 6), ('suspension', 6), ('lowest', 6), ('losing', 6), ('grid', 6), ('aap', 6), ('analysis', 6), ('provides', 6), ('personally', 6), ('avoid', 6), ('eligibility', 6), ('inspector', 6), ('policeman', 6), ('break', 6), ('store', 6), ('lashkar', 6), ('taiba', 6), ('shillong', 6), ('opposed', 6), ('dikshit', 6), ('identified', 6), ('heena', 6), ('route', 6), ('drop', 6), ('municipality', 6), ('conducting', 6), ('lt', 6), ('observer', 6), ('al', 6), ('zone', 6), ('religious', 6), ('ethnic', 6), ('expects', 6), ('compete', 6), ('larger', 6), ('core', 6), ('bennett', 6), ('maintaining', 6), ('behalf', 6), ('supervision', 6), ('sindhudurg', 6), ('vikas', 6), ('aghadi', 6), ('pending', 6), ('draw', 6), ('ceremony', 6), ('uddhav', 6), ('acre', 6), ('struggled', 6), ('deep', 6), ('proof', 6), ('minded', 6), ('strengthening', 6), ('space', 6), ('harsh', 6), ('vardhan', 6), ('strive', 6), ('yoshihide', 6), ('licence', 6), ('continues', 6), ('usd', 6), ('dropped', 6), ('remained', 6), ('suicide', 6), ('lack', 6), ('superstar', 6), ('rishabh', 6), ('gaba', 6), ('amir', 6), ('furniturewala', 6), ('reveal', 6), ('enquiry', 6), ('treated', 6), ('thar', 6), ('shortly', 6), ('admitted', 6), ('progress', 6), ('relating', 6), ('agricultural', 6), ('noting', 6), ('consider', 6), ('kovind', 6), ('tank', 6), ('clean', 6), ('h', 6), ('jen', 6), ('responding', 6), ('require', 6), ('reduce', 6), ('production', 6), ('tirumurti', 6), ('april', 6), ('designed', 6), ('utility', 6), ('corporate', 6), ('taxpayer', 6), ('raising', 6), ('income', 6), ('physical', 6), ('bad', 6), ('ultimately', 6), ('launched', 6), ('budget', 6), ('recommended', 6), ('software', 6), ('empire', 6), ('ratan', 6), ('dubai', 6), ('portion', 6), ('declined', 6), ('assertion', 6), ('thompson', 6), ('hide', 6), ('consistently', 6), ('controlled', 6), ('yogi', 6), ('spared', 6), ('maintain', 6), ('owaisi', 6), ('seeing', 6), ('scrutiny', 6), ('operate', 6), ('challenged', 6), ('deserve', 6), ('havana', 6), ('brain', 6), ('george', 6), ('assessment', 6), ('patient', 6), ('p', 6), ('principal', 6), ('anymore', 6), ('outfit', 6), ('gained', 6), ('pus', 6), ('moth', 6), ('appearance', 6), ('rao', 6), ('era', 6), ('operating', 6), ('quality', 6), ('pre', 6), ('mile', 6), ('speed', 6), ('anniversary', 6), ('textile', 6), ('play', 6), ('heritage', 6), ('takeover', 6), ('norwegian', 6), ('editor', 6), ('myanmar', 6), ('petitioner', 6), ('submit', 6), ('swarup', 6), ('implemented', 6), ('argued', 6), ('mobile', 6), ('eye', 6), ('study', 6), ('preparation', 6), ('greenfield', 6), ('influenced', 6), ('talent', 6), ('helped', 6), ('mandi', 6), ('loan', 6), ('spending', 6), ('nomination', 6), ('sonia', 6), ('journey', 6), ('involvement', 6), ('raf', 6), ('battalion', 6), ('training', 6), ('darrang', 6), ('saikia', 6), ('permit', 6), ('repeatedly', 6), ('entity', 6), ('differential', 6), ('rashtriya', 6), ('allotted', 6), ('drove', 6), ('defamation', 6), ('wale', 6), ('light', 6), ('painting', 6), ('resignation', 6), ('mayor', 6), ('art', 6), ('triggering', 6), ('belonging', 6), ('sword', 6), ('eventually', 6), ('wheat', 6), ('liberal', 6), ('promised', 6), ('zps', 6), ('elected', 6), ('tally', 6), ('sopko', 6), ('austin', 6), ('wrongdoing', 6), ('spirit', 6), ('evicted', 6), ('regulation', 6), ('england', 6), ('tony', 6), ('english', 6), ('queen', 6), ('pain', 6), ('bed', 6), ('pill', 6), ('vision', 6), ('treatment', 6), ('delta', 6), ('bbc', 6), ('annual', 6), ('manchester', 6), ('burnt', 6), ('bhupesh', 6), ('venugopal', 6), ('illegally', 6), ('raha', 6), ('sugar', 6), ('rupee', 6), ('carbon', 6), ('god', 6), ('houston', 6), ('truss', 6), ('luther', 6), ('achieving', 6), ('interim', 6), ('aizawl', 6), ('blumenthal', 6), ('beta', 6), ('casket', 6), ('toxic', 6), ('citu', 6), ('para', 6), ('illicit', 6), ('adult', 6), ('visible', 6), ('mercantile', 6), ('manmohan', 6), ('mgnrega', 6), ('gradually', 6), ('mevani', 6), ('obtained', 6), ('virgin', 6), ('dakota', 6), ('directorate', 6), ('tilak', 6), ('handle', 5), ('picture', 5), ('chairperson', 5), ('pledge', 5), ('daughter', 5), ('advancing', 5), ('rebuild', 5), ('enter', 5), ('reporting', 5), ('rare', 5), ('variant', 5), ('fast', 5), ('curb', 5), ('transport', 5), ('crashed', 5), ('song', 5), ('governance', 5), ('supplying', 5), ('workforce', 5), ('uncertainty', 5), ('sparked', 5), ('greyson', 5), ('respond', 5), ('nurse', 5), ('respective', 5), ('unveiled', 5), ('train', 5), ('operates', 5), ('remaining', 5), ('chris', 5), ('fourth', 5), ('blackout', 5), ('nadu', 5), ('aadmi', 5), ('appears', 5), ('regulator', 5), ('intervention', 5), ('reet', 5), ('batti', 5), ('srinagar', 5), ('outrage', 5), ('apparent', 5), ('dying', 5), ('camp', 5), ('fled', 5), ('hindu', 5), ('arrival', 5), ('j', 5), ('governor', 5), ('approved', 5), ('recommendation', 5), ('flat', 5), ('bag', 5), ('born', 5), ('argument', 5), ('bought', 5), ('mahal', 5), ('vila', 5), ('circumstance', 5), ('pulled', 5), ('indicate', 5), ('monsoon', 5), ('flooded', 5), ('tenure', 5), ('condemn', 5), ('tribe', 5), ('v', 5), ('ward', 5), ('searched', 5), ('twice', 5), ('iraq', 5), ('closing', 5), ('reality', 5), ('usually', 5), ('represented', 5), ('institute', 5), ('expect', 5), ('delayed', 5), ('premier', 5), ('palestinian', 5), ('stressed', 5), ('crucial', 5), ('stood', 5), ('occupation', 5), ('islamist', 5), ('signed', 5), ('maha', 5), ('aggressive', 5), ('wonderful', 5), ('operated', 5), ('kolkata', 5), ('km', 5), ('frost', 5), ('protocol', 5), ('effectively', 5), ('caused', 5), ('ban', 5), ('row', 5), ('identity', 5), ('ambition', 5), ('comply', 5), ('consequence', 5), ('sustain', 5), ('ministerial', 5), ('advanced', 5), ('sharing', 5), ('sending', 5), ('malaysia', 5), ('taiwan', 5), ('counter', 5), ('contested', 5), ('natural', 5), ('allows', 5), ('kim', 5), ('davy', 5), ('svane', 5), ('envoy', 5), ('investigator', 5), ('samajwadi', 5), ('anil', 5), ('mortem', 5), ('gyaneshwar', 5), ('defaming', 5), ('deepika', 5), ('hear', 5), ('contraband', 5), ('refuted', 5), ('rammed', 5), ('belonged', 5), ('expanding', 5), ('science', 5), ('processing', 5), ('granted', 5), ('worst', 5), ('unused', 5), ('unable', 5), ('preserve', 5), ('ensuring', 5), ('relief', 5), ('addition', 5), ('corner', 5), ('finally', 5), ('playing', 5), ('compromise', 5), ('worse', 5), ('pvt', 5), ('ending', 5), ('enterprise', 5), ('sale', 5), ('staying', 5), ('brand', 5), ('stable', 5), ('parking', 5), ('spicejet', 5), ('narrow', 5), ('salt', 5), ('advertisement', 5), ('considering', 5), ('vistara', 5), ('tatas', 5), ('handed', 5), ('confidential', 5), ('happening', 5), ('defending', 5), ('knocked', 5), ('praised', 5), ('consumer', 5), ('neighbouring', 5), ('eastern', 5), ('distribution', 5), ('speak', 5), ('libel', 5), ('managing', 5), ('conspiracy', 5), ('misogyny', 5), ('lie', 5), ('tremendous', 5), ('knew', 5), ('continued', 5), ('suspect', 5), ('kerala', 5), ('guideline', 5), ('proceeding', 5), ('register', 5), ('admission', 5), ('count', 5), ('deadly', 5), ('belongs', 5), ('note', 5), ('prestigious', 5), ('recalled', 5), ('failure', 5), ('amounting', 5), ('track', 5), ('zonal', 5), ('sitharaman', 5), ('forever', 5), ('bamiyan', 5), ('television', 5), ('blow', 5), ('chinese', 5), ('extraordinary', 5), ('guwahati', 5), ('honoured', 5), ('prison', 5), ('responded', 5), ('embroiled', 5), ('placed', 5), ('formed', 5), ('function', 5), ('norm', 5), ('declare', 5), ('procedure', 5), ('unprecedented', 5), ('lower', 5), ('environmental', 5), ('associated', 5), ('heard', 5), ('crash', 5), ('charged', 5), ('resign', 5), ('royal', 5), ('contribution', 5), ('tradition', 5), ('trusteeship', 5), ('reflect', 5), ('conversation', 5), ('ranging', 5), ('bike', 5), ('default', 5), ('gap', 5), ('mcconnell', 5), ('lifting', 5), ('lifted', 5), ('damage', 5), ('commanding', 5), ('madhya', 5), ('mizoram', 5), ('riot', 5), ('prospect', 5), ('imagined', 5), ('obc', 5), ('bust', 5), ('item', 5), ('sushant', 5), ('rajput', 5), ('arbaaz', 5), ('rapid', 5), ('duty', 5), ('daiya', 5), ('defer', 5), ('isolation', 5), ('reconstruction', 5), ('acknowledged', 5), ('collapsed', 5), ('commander', 5), ('immediate', 5), ('command', 5), ('unfortunate', 5), ('resigning', 5), ('suggest', 5), ('favour', 5), ('liability', 5), ('citing', 5), ('merit', 5), ('sydney', 5), ('double', 5), ('venue', 5), ('flood', 5), ('misinformation', 5), ('repeated', 5), ('foot', 5), ('cremation', 5), ('malign', 5), ('los', 5), ('angeles', 5), ('buyer', 5), ('flared', 5), ('safe', 5), ('eligible', 5), ('zp', 5), ('cpi', 5), ('compared', 5), ('fadnavis', 5), ('base', 5), ('pitman', 5), ('bitter', 5), ('internet', 5), ('involving', 5), ('rural', 5), ('violent', 5), ('significantly', 5), ('detention', 5), ('cocaine', 5), ('struggle', 5), ('surging', 5), ('everard', 5), ('sexual', 5), ('couzens', 5), ('verified', 5), ('shift', 5), ('briefly', 5), ('corn', 5), ('drawing', 5), ('yield', 5), ('gigawatts', 5), ('rain', 5), ('generator', 5), ('sunil', 5), ('successful', 5), ('postal', 5), ('fletcher', 5), ('donation', 5), ('christmas', 5), ('hardline', 5), ('healthier', 5), ('caucus', 5), ('waiver', 5), ('tehran', 5), ('sullivan', 5), ('consideration', 5), ('verdict', 5), ('subsidiary', 5), ('twin', 5), ('comprehensive', 5), ('donor', 5), ('secondary', 5), ('productive', 5), ('annadata', 5), ('app', 5), ('loot', 5), ('voting', 5), ('daring', 5), ('bhanvad', 5), ('bharatiya', 5), ('chirag', 5), ('disarmament', 5), ('terabyte', 5), ('riviera', 5), ('wealthy', 5), ('medicine', 5), ('investigated', 5), ('sheet', 5), ('bku', 5), ('rawat', 5), ('kg', 5), ('theme', 4), ('ashok', 4), ('develop', 4), ('empower', 4), ('amplify', 4), ('voice', 4), ('headquarters', 4), ('walk', 4), ('fine', 4), ('lee', 4), ('brunei', 4), ('expansion', 4), ('extremely', 4), ('dependent', 4), ('handled', 4), ('transition', 4), ('focussed', 4), ('provider', 4), ('disruption', 4), ('sufficient', 4), ('supplied', 4), ('claiming', 4), ('layoff', 4), ('loom', 4), ('nursing', 4), ('scary', 4), ('ethical', 4), ('bit', 4), ('bonus', 4), ('quebec', 4), ('strictest', 4), ('ontario', 4), ('updated', 4), ('lublin', 4), ('remote', 4), ('aylward', 4), ('treasury', 4), ('oversees', 4), ('louis', 4), ('francescutti', 4), ('sad', 4), ('distributor', 4), ('depend', 4), ('publicly', 4), ('extent', 4), ('watch', 4), ('sog', 4), ('monitored', 4), ('satish', 4), ('photograph', 4), ('tense', 4), ('ass', 4), ('evict', 4), ('vehemently', 4), ('murdered', 4), ('cowshed', 4), ('sachin', 4), ('vadodara', 4), ('baby', 4), ('ig', 4), ('agra', 4), ('kant', 4), ('guest', 4), ('book', 4), ('unnecessarily', 4), ('gail', 4), ('notification', 4), ('urgent', 4), ('baghdad', 4), ('cast', 4), ('tight', 4), ('dawn', 4), ('jihadist', 4), ('cell', 4), ('turnout', 4), ('intimidation', 4), ('vowing', 4), ('traditional', 4), ('bloc', 4), ('unlikely', 4), ('trip', 4), ('exit', 4), ('trained', 4), ('memorial', 4), ('ended', 4), ('strengthen', 4), ('defend', 4), ('gaza', 4), ('strike', 4), ('soldier', 4), ('maintained', 4), ('pristine', 4), ('inaugurated', 4), ('aaditya', 4), ('ajit', 4), ('scindia', 4), ('impetus', 4), ('ka', 4), ('restaurant', 4), ('bar', 4), ('fold', 4), ('david', 4), ('divorce', 4), ('argue', 4), ('sausage', 4), ('departure', 4), ('delivering', 4), ('suspend', 4), ('extension', 4), ('authorised', 4), ('italy', 4), ('extended', 4), ('requires', 4), ('flourishing', 4), ('groundwork', 4), ('semelroth', 4), ('exchanged', 4), ('interoperability', 4), ('dispute', 4), ('vital', 4), ('invitation', 4), ('amidst', 4), ('designated', 4), ('concerning', 4), ('innovation', 4), ('referred', 4), ('livelihood', 4), ('inaction', 4), ('lodged', 4), ('strict', 4), ('refuting', 4), ('rhea', 4), ('chakraborty', 4), ('padukone', 4), ('se', 4), ('incriminating', 4), ('sacking', 4), ('summons', 4), ('treat', 4), ('cooperate', 4), ('termed', 4), ('uscis', 4), ('technical', 4), ('labour', 4), ('ramp', 4), ('subsequently', 4), ('numerous', 4), ('export', 4), ('surplus', 4), ('quarter', 4), ('grant', 4), ('sustainable', 4), ('shop', 4), ('pressing', 4), ('kenya', 4), ('paris', 4), ('rishi', 4), ('investor', 4), ('prosperity', 4), ('hailed', 4), ('abroad', 4), ('accepted', 4), ('fleet', 4), ('flew', 4), ('mail', 4), ('emeritus', 4), ('considerable', 4), ('mascot', 4), ('prized', 4), ('airasia', 4), ('success', 4), ('subpoena', 4), ('assert', 4), ('cooperating', 4), ('belief', 4), ('achievement', 4), ('meadow', 4), ('bannon', 4), ('vague', 4), ('reference', 4), ('testified', 4), ('defeat', 4), ('channel', 4), ('attacking', 4), ('sweeping', 4), ('controversy', 4), ('manohar', 4), ('kill', 4), ('cutting', 4), ('happy', 4), ('ayodhya', 4), ('nationwide', 4), ('factory', 4), ('jharkhand', 4), ('crop', 4), ('exciting', 4), ('particular', 4), ('convicted', 4), ('violated', 4), ('behaviour', 4), ('solve', 4), ('award', 4), ('tearing', 4), ('website', 4), ('shore', 4), ('thank', 4), ('providing', 4), ('passing', 4), ('servant', 4), ('author', 4), ('portal', 4), ('motion', 4), ('nearest', 4), ('resolved', 4), ('relative', 4), ('pandits', 4), ('bhat', 4), ('inspire', 4), ('town', 4), ('funeral', 4), ('terror', 4), ('blame', 4), ('propaganda', 4), ('precious', 4), ('seater', 4), ('currency', 4), ('celebrate', 4), ('tokyo', 4), ('cultural', 4), ('undertaken', 4), ('walked', 4), ('residence', 4), ('condolence', 4), ('statue', 4), ('buddha', 4), ('cadre', 4), ('nearby', 4), ('architect', 4), ('mohammadi', 4), ('protecting', 4), ('unesco', 4), ('shock', 4), ('parishad', 4), ('operational', 4), ('traffic', 4), ('pair', 4), ('lasting', 4), ('chairwoman', 4), ('adverse', 4), ('politkovskaya', 4), ('credit', 4), ('kremlin', 4), ('peskov', 4), ('conviction', 4), ('controversial', 4), ('fundamentally', 4), ('rsf', 4), ('background', 4), ('watchdog', 4), ('tipped', 4), ('consists', 4), ('economics', 4), ('transferred', 4), ('goyal', 4), ('york', 4), ('physically', 4), ('comprising', 4), ('outset', 4), ('sop', 4), ('provision', 4), ('crpc', 4), ('watching', 4), ('submission', 4), ('assume', 4), ('sabarimala', 4), ('feasibility', 4), ('kilometre', 4), ('aspect', 4), ('distance', 4), ('litigation', 4), ('satisfied', 4), ('bridge', 4), ('outcome', 4), ('nature', 4), ('recognised', 4), ('addressed', 4), ('captured', 4), ('borne', 4), ('deceased', 4), ('autopsy', 4)]\n"
          ]
        }
      ]
    },
    {
      "cell_type": "code",
      "source": [
        "###TESTING\n",
        "from nltk.tokenize import word_tokenize\n",
        "all_words = []\n",
        "for message in center['clean_content']:\n",
        "      words = word_tokenize(message)\n",
        "      for w in words:\n",
        "          all_words.append(w)\n",
        "all_words = nltk.FreqDist(all_words)\n",
        "# print the total number of words and the 15 most common words\n",
        "print('Number of words: {}'.format(len(all_words)))\n",
        "print('Most common words: {}'.format(all_words.most_common(2500)))"
      ],
      "metadata": {
        "id": "PT0GJ5xGuQcd",
        "colab": {
          "base_uri": "https://localhost:8080/"
        },
        "outputId": "56f421fd-f7dc-4b4d-dc47-3192910a6d95"
      },
      "execution_count": 41,
      "outputs": [
        {
          "output_type": "stream",
          "name": "stdout",
          "text": [
            "Number of words: 8994\n",
            "Most common words: [('police', 301), ('court', 265), ('government', 251), ('official', 216), ('air', 194), ('accused', 170), ('minister', 159), ('woman', 157), ('tata', 151), ('world', 147), ('chief', 147), ('power', 146), ('khan', 129), ('drug', 129), ('agency', 125), ('china', 125), ('group', 124), ('high', 115), ('health', 115), ('mumbai', 114), ('told', 106), ('indian', 105), ('statement', 104), ('according', 100), ('bail', 97), ('issue', 97), ('son', 96), ('airline', 96), ('week', 94), ('medium', 94), ('aryan', 89), ('airport', 88), ('president', 86), ('month', 86), ('modi', 86), ('leader', 85), ('international', 85), ('national', 83), ('singh', 83), ('member', 82), ('afghanistan', 82), ('taliban', 81), ('justice', 81), ('control', 80), ('ncb', 80), ('right', 78), ('law', 78), ('say', 78), ('delhi', 78), ('work', 75), ('force', 74), ('journalist', 74), ('company', 73), ('killed', 71), ('security', 71), ('old', 71), ('united', 71), ('attack', 71), ('girl', 70), ('investigation', 69), ('nation', 69), ('took', 69), ('place', 69), ('cent', 69), ('farmer', 69), ('social', 67), ('prize', 67), ('anti', 66), ('home', 66), ('climate', 66), ('talk', 66), ('child', 65), ('change', 64), ('chinese', 64), ('come', 64), ('death', 63), ('later', 62), ('based', 62), ('mental', 61), ('party', 60), ('pandemic', 60), ('nobel', 60), ('news', 60), ('vaccine', 60), ('committee', 60), ('make', 59), ('kashmir', 58), ('asked', 58), ('house', 58), ('facebook', 58), ('cruise', 57), ('reported', 57), ('want', 57), ('supply', 57), ('held', 56), ('vaccination', 56), ('number', 56), ('act', 55), ('ministry', 55), ('source', 55), ('service', 54), ('taken', 54), ('global', 54), ('vaccinated', 54), ('died', 53), ('report', 53), ('u', 53), ('worker', 53), ('department', 53), ('million', 53), ('life', 53), ('region', 52), ('taiwan', 52), ('point', 52), ('union', 52), ('officer', 51), ('hospital', 51), ('foreign', 51), ('bureau', 50), ('energy', 50), ('military', 50), ('saying', 49), ('used', 49), ('body', 49), ('senior', 49), ('employee', 49), ('fact', 49), ('terrorist', 48), ('august', 48), ('passenger', 48), ('long', 48), ('ressa', 48), ('meeting', 48), ('border', 48), ('pradesh', 48), ('claimed', 47), ('sent', 47), ('adding', 47), ('following', 46), ('evidence', 46), ('post', 46), ('russia', 46), ('war', 46), ('bank', 46), ('order', 46), ('action', 45), ('need', 45), ('allegedly', 45), ('led', 45), ('city', 45), ('authority', 45), ('defence', 44), ('line', 44), ('called', 44), ('mishra', 44), ('general', 43), ('denied', 43), ('given', 43), ('bid', 43), ('nuclear', 43), ('alleged', 42), ('major', 42), ('term', 42), ('recent', 42), ('victim', 42), ('flight', 42), ('deal', 42), ('jail', 41), ('far', 41), ('agreement', 41), ('biden', 41), ('set', 41), ('citizen', 41), ('school', 41), ('jrd', 41), ('arrest', 40), ('narcotic', 40), ('tweeted', 40), ('congress', 40), ('auto', 40), ('generated', 40), ('use', 40), ('tax', 40), ('th', 40), ('situation', 40), ('plant', 40), ('man', 40), ('came', 40), ('custody', 39), ('seven', 39), ('matter', 39), ('local', 39), ('way', 39), ('policy', 39), ('central', 39), ('team', 39), ('road', 39), ('continue', 39), ('jammu', 38), ('material', 38), ('trade', 38), ('business', 38), ('seen', 38), ('percent', 38), ('nearly', 38), ('hold', 38), ('support', 38), ('lawyer', 37), ('face', 37), ('released', 37), ('connection', 37), ('good', 37), ('think', 37), ('office', 37), ('sector', 37), ('disorder', 37), ('judge', 37), ('iran', 37), ('second', 36), ('september', 36), ('cbi', 36), ('election', 36), ('peace', 36), ('rate', 36), ('received', 36), ('threat', 36), ('left', 36), ('ensure', 35), ('station', 35), ('identified', 35), ('concern', 35), ('university', 35), ('near', 35), ('troop', 35), ('medical', 35), ('debt', 35), ('effort', 34), ('development', 34), ('murder', 34), ('problem', 34), ('aircraft', 34), ('operation', 33), ('maharashtra', 33), ('decade', 33), ('demand', 33), ('fully', 33), ('pm', 33), ('help', 33), ('open', 33), ('supreme', 33), ('bench', 33), ('condition', 32), ('complaint', 32), ('cooperation', 32), ('known', 32), ('ship', 32), ('uk', 32), ('data', 32), ('economic', 32), ('activity', 32), ('money', 32), ('capital', 32), ('killing', 32), ('afghan', 32), ('political', 32), ('living', 32), ('aviation', 32), ('shortage', 32), ('wife', 32), ('special', 32), ('community', 32), ('user', 32), ('army', 31), ('early', 31), ('provide', 31), ('beijing', 31), ('started', 31), ('got', 31), ('end', 31), ('philippine', 31), ('question', 31), ('recovery', 31), ('raid', 31), ('yesterday', 31), ('total', 31), ('freedom', 31), ('request', 30), ('shah', 30), ('offence', 30), ('platform', 30), ('human', 30), ('director', 30), ('duterte', 30), ('muratov', 30), ('green', 30), ('level', 30), ('run', 30), ('food', 30), ('press', 30), ('showed', 30), ('information', 30), ('protest', 30), ('claim', 30), ('bjp', 30), ('close', 29), ('ago', 29), ('till', 29), ('plea', 29), ('release', 29), ('american', 29), ('night', 29), ('away', 29), ('registered', 29), ('important', 29), ('couple', 29), ('non', 29), ('north', 29), ('free', 29), ('rule', 29), ('carrier', 29), ('billion', 29), ('working', 29), ('kumar', 29), ('affair', 29), ('gram', 29), ('going', 28), ('taking', 28), ('charge', 28), ('railway', 28), ('involved', 28), ('cash', 28), ('crisis', 28), ('despite', 28), ('target', 28), ('kept', 28), ('study', 28), ('water', 28), ('plan', 28), ('announced', 28), ('resolution', 28), ('technology', 28), ('hearing', 27), ('access', 27), ('british', 27), ('cell', 27), ('dead', 27), ('half', 27), ('administration', 27), ('pressure', 27), ('winning', 27), ('shared', 27), ('likely', 27), ('result', 27), ('risk', 27), ('population', 27), ('disengagement', 27), ('leave', 27), ('civilian', 27), ('violence', 27), ('field', 27), ('additional', 27), ('search', 26), ('various', 26), ('opportunity', 26), ('crime', 26), ('probe', 26), ('building', 26), ('meet', 26), ('speech', 26), ('issued', 26), ('trump', 26), ('economy', 26), ('seized', 26), ('allowed', 26), ('secretary', 26), ('france', 26), ('campaign', 26), ('independent', 26), ('increase', 26), ('large', 26), ('dozen', 26), ('aid', 26), ('stated', 26), ('list', 26), ('decision', 26), ('province', 26), ('men', 26), ('village', 25), ('message', 25), ('allegation', 25), ('clear', 25), ('account', 25), ('emission', 25), ('ahead', 25), ('maria', 25), ('site', 25), ('rappler', 25), ('corruption', 25), ('include', 25), ('afp', 25), ('future', 25), ('past', 25), ('view', 25), ('centre', 25), ('hand', 25), ('resident', 25), ('democracy', 25), ('visa', 25), ('spokesperson', 24), ('actor', 24), ('maneshinde', 24), ('young', 24), ('environment', 24), ('challenge', 24), ('late', 24), ('look', 24), ('private', 24), ('island', 24), ('board', 24), ('sheikh', 24), ('deputy', 24), ('record', 24), ('strong', 24), ('able', 24), ('stop', 24), ('comment', 24), ('domestic', 24), ('conducted', 24), ('stand', 24), ('protection', 24), ('period', 24), ('valley', 24), ('humanitarian', 24), ('lakh', 24), ('chairman', 24), ('jaishankar', 24), ('commission', 23), ('document', 23), ('commissioner', 23), ('recently', 23), ('injured', 23), ('raised', 23), ('latest', 23), ('price', 23), ('investment', 23), ('july', 23), ('june', 23), ('head', 23), ('expected', 23), ('growing', 23), ('ladakh', 23), ('thousand', 23), ('decided', 23), ('quarantine', 23), ('travel', 23), ('father', 23), ('ashish', 23), ('morning', 22), ('agreed', 22), ('digital', 22), ('related', 22), ('relationship', 22), ('lead', 22), ('weekend', 22), ('process', 22), ('award', 22), ('return', 22), ('basis', 22), ('land', 22), ('march', 22), ('israel', 22), ('factory', 22), ('hit', 22), ('south', 22), ('making', 22), ('low', 22), ('driver', 22), ('firm', 22), ('loss', 22), ('know', 22), ('shot', 22), ('al', 22), ('fir', 22), ('teacher', 22), ('ajay', 22), ('tourist', 22), ('thing', 22), ('attempt', 22), ('bird', 22), ('critical', 21), ('rukh', 21), ('friend', 21), ('rajasthan', 21), ('single', 21), ('address', 21), ('filed', 21), ('civil', 21), ('rape', 21), ('remaining', 21), ('phone', 21), ('washington', 21), ('legal', 21), ('fight', 21), ('suv', 21), ('eastern', 21), ('using', 21), ('britain', 21), ('hotel', 21), ('pakistan', 21), ('representative', 21), ('reach', 21), ('protect', 21), ('key', 21), ('reuters', 21), ('dr', 21), ('commitment', 21), ('history', 21), ('sikh', 21), ('profit', 21), ('white', 21), ('malik', 21), ('republican', 21), ('injury', 20), ('soldier', 20), ('job', 20), ('amid', 20), ('step', 20), ('husband', 20), ('mandate', 20), ('bilateral', 20), ('dmitry', 20), ('different', 20), ('round', 20), ('complete', 20), ('targeted', 20), ('terror', 20), ('detained', 20), ('really', 20), ('disease', 20), ('northern', 20), ('west', 20), ('russian', 20), ('muslim', 20), ('partnership', 20), ('denmark', 20), ('image', 20), ('brother', 20), ('track', 20), ('outage', 20), ('magistrate', 19), ('posted', 19), ('role', 19), ('criminal', 19), ('fuel', 19), ('regular', 19), ('spot', 19), ('fund', 19), ('huge', 19), ('allow', 19), ('session', 19), ('kerala', 19), ('dose', 19), ('paris', 19), ('gas', 19), ('cost', 19), ('pay', 19), ('care', 19), ('protocol', 19), ('programme', 19), ('stay', 19), ('discussed', 19), ('opposition', 19), ('trying', 19), ('cause', 19), ('treatment', 19), ('tourism', 19), ('guideline', 19), ('headed', 19), ('reporter', 19), ('trial', 19), ('preliminary', 19), ('category', 19), ('went', 19), ('black', 19), ('online', 19), ('bidder', 19), ('novaya', 19), ('gazeta', 19), ('personnel', 18), ('gender', 18), ('society', 18), ('assembly', 18), ('declared', 18), ('train', 18), ('brought', 18), ('expert', 18), ('tension', 18), ('finance', 18), ('individual', 18), ('neighbour', 18), ('income', 18), ('capacity', 18), ('leading', 18), ('minimum', 18), ('actual', 18), ('remain', 18), ('small', 18), ('srinagar', 18), ('status', 18), ('restriction', 18), ('korea', 18), ('external', 18), ('limited', 18), ('impact', 18), ('difficult', 18), ('science', 18), ('exercise', 18), ('asset', 18), ('card', 18), ('yadav', 18), ('dialogue', 18), ('direction', 18), ('required', 18), ('mohammed', 18), ('interrogation', 18), ('founded', 18), ('stake', 18), ('intelligence', 17), ('arguing', 17), ('mark', 17), ('best', 17), ('conference', 17), ('start', 17), ('hope', 17), ('ruling', 17), ('summit', 17), ('effect', 17), ('mean', 17), ('current', 17), ('market', 17), ('course', 17), ('location', 17), ('running', 17), ('present', 17), ('spokesman', 17), ('offer', 17), ('safety', 17), ('project', 17), ('remains', 17), ('proposal', 17), ('maintain', 17), ('negotiation', 17), ('lac', 17), ('spending', 17), ('organisation', 17), ('faced', 17), ('aimed', 17), ('isi', 17), ('partner', 17), ('sign', 17), ('trust', 17), ('met', 17), ('healthcare', 17), ('better', 17), ('letter', 17), ('weapon', 17), ('federal', 17), ('zone', 17), ('defense', 17), ('missing', 17), ('speaking', 17), ('response', 17), ('uttar', 17), ('winner', 17), ('accident', 17), ('frederiksen', 17), ('stage', 17), ('vote', 17), ('recovered', 17), ('newspaper', 17), ('instagram', 17), ('iaf', 17), ('launched', 16), ('influence', 16), ('generation', 16), ('let', 16), ('available', 16), ('tweet', 16), ('suicide', 16), ('express', 16), ('tried', 16), ('mobile', 16), ('demanded', 16), ('k', 16), ('sought', 16), ('relation', 16), ('appear', 16), ('industry', 16), ('common', 16), ('largest', 16), ('camp', 16), ('engaged', 16), ('researcher', 16), ('progress', 16), ('cut', 16), ('australia', 16), ('eu', 16), ('responsible', 16), ('recorded', 16), ('solution', 16), ('delegation', 16), ('professional', 16), ('executive', 16), ('european', 16), ('suffered', 16), ('biggest', 16), ('daily', 16), ('began', 16), ('hard', 16), ('employment', 16), ('reserve', 16), ('college', 16), ('load', 16), ('km', 16), ('independence', 16), ('physical', 16), ('democratic', 16), ('sure', 16), ('rice', 16), ('fighter', 16), ('product', 16), ('flying', 16), ('expression', 16), ('armed', 15), ('fired', 15), ('witness', 15), ('wrote', 15), ('committed', 15), ('section', 15), ('alias', 15), ('form', 15), ('little', 15), ('developing', 15), ('multiple', 15), ('critic', 15), ('figure', 15), ('festival', 15), ('r', 15), ('judicial', 15), ('coast', 15), ('age', 15), ('crop', 15), ('forward', 15), ('warned', 15), ('mosque', 15), ('mission', 15), ('especially', 15), ('imposed', 15), ('emergency', 15), ('priority', 15), ('series', 15), ('punjab', 15), ('quad', 15), ('strike', 15), ('indo', 15), ('moscow', 15), ('park', 15), ('january', 15), ('student', 15), ('check', 15), ('created', 15), ('plane', 15), ('psychological', 15), ('abuse', 15), ('financial', 15), ('shiite', 15), ('nia', 15), ('israeli', 15), ('presence', 14), ('rushed', 14), ('turned', 14), ('harm', 14), ('conspiracy', 14), ('focus', 14), ('london', 14), ('initially', 14), ('previous', 14), ('unit', 14), ('rise', 14), ('lot', 14), ('joe', 14), ('overall', 14), ('xi', 14), ('victory', 14), ('investigative', 14), ('opponent', 14), ('property', 14), ('wanted', 14), ('occasion', 14), ('severe', 14), ('production', 14), ('finding', 14), ('lake', 14), ('islamic', 14), ('immediately', 14), ('necessary', 14), ('japan', 14), ('germany', 14), ('mother', 14), ('reached', 14), ('singapore', 14), ('pacific', 14), ('network', 14), ('add', 14), ('sell', 14), ('stock', 14), ('sufficient', 14), ('privilege', 14), ('build', 14), ('mandatory', 14), ('granting', 14), ('range', 14), ('saw', 14), ('suspended', 14), ('drive', 14), ('actually', 14), ('included', 14), ('sedition', 14), ('movement', 14), ('diplomatic', 14), ('february', 14), ('pandit', 14), ('fled', 14), ('approved', 14), ('leadership', 14), ('truck', 14), ('spread', 14), ('article', 14), ('prevent', 14), ('specie', 14), ('kheri', 14), ('holding', 14), ('scientist', 14), ('kurz', 14), ('value', 14), ('content', 14), ('swamphen', 14), ('csmia', 14), ('raided', 13), ('reply', 13), ('try', 13), ('december', 13), ('tamil', 13), ('lawmaker', 13), ('room', 13), ('handed', 13), ('transferred', 13), ('tie', 13), ('substance', 13), ('resource', 13), ('soon', 13), ('sensitive', 13), ('reputation', 13), ('linked', 13), ('software', 13), ('supporter', 13), ('seizure', 13), ('sea', 13), ('variant', 13), ('infection', 13), ('looking', 13), ('french', 13), ('caused', 13), ('share', 13), ('natural', 13), ('battle', 13), ('established', 13), ('virtual', 13), ('includes', 13), ('assistance', 13), ('kabul', 13), ('guard', 13), ('terrorism', 13), ('november', 13), ('connectivity', 13), ('red', 13), ('deadline', 13), ('majority', 13), ('provision', 13), ('evening', 13), ('chat', 13), ('navy', 13), ('coalition', 13), ('whatsapp', 13), ('truth', 13), ('owner', 13), ('happened', 13), ('minority', 13), ('bag', 13), ('expressed', 13), ('arrived', 13), ('importance', 13), ('manner', 13), ('environmental', 13), ('lakhimpur', 13), ('ruled', 13), ('reunification', 13), ('revenue', 13), ('ireland', 13), ('giant', 13), ('strategic', 13), ('prison', 13), ('enquiry', 13), ('guru', 13), ('senator', 13), ('real', 13), ('arthur', 13), ('pti', 12), ('ordered', 12), ('insisted', 12), ('argued', 12), ('wish', 12), ('inclusive', 12), ('aim', 12), ('forced', 12), ('continues', 12), ('planned', 12), ('coming', 12), ('speak', 12), ('backed', 12), ('initiative', 12), ('break', 12), ('calling', 12), ('founder', 12), ('note', 12), ('application', 12), ('delta', 12), ('prevention', 12), ('medicine', 12), ('drop', 12), ('electricity', 12), ('big', 12), ('damage', 12), ('provided', 12), ('commander', 12), ('western', 12), ('currently', 12), ('discus', 12), ('focused', 12), ('word', 12), ('needed', 12), ('developed', 12), ('mohammad', 12), ('separate', 12), ('female', 12), ('seek', 12), ('measure', 12), ('protected', 12), ('concerned', 12), ('c', 12), ('space', 12), ('doctor', 12), ('great', 12), ('exchange', 12), ('carried', 12), ('cyber', 12), ('inside', 12), ('visiting', 12), ('ceo', 12), ('spoke', 12), ('institution', 12), ('ran', 12), ('caught', 12), ('potential', 12), ('compensation', 12), ('anxiety', 12), ('existing', 12), ('passed', 12), ('grey', 12), ('territory', 12), ('certain', 12), ('treated', 12), ('named', 12), ('usually', 12), ('laid', 12), ('hong', 12), ('kong', 12), ('palestinian', 12), ('konkan', 12), ('noted', 12), ('journalism', 12), ('management', 12), ('tesla', 12), ('europe', 12), ('referring', 12), ('messenger', 12), ('candy', 12), ('conglomerate', 12), ('vermin', 12), ('pokkali', 12), ('princess', 12), ('alzheimer', 12), ('nanak', 12), ('instead', 11), ('decide', 11), ('ongoing', 11), ('chance', 11), ('urged', 11), ('voice', 11), ('gave', 11), ('nadu', 11), ('worked', 11), ('attacked', 11), ('keeping', 11), ('difference', 11), ('approach', 11), ('feel', 11), ('donald', 11), ('helped', 11), ('link', 11), ('german', 11), ('kremlin', 11), ('town', 11), ('watch', 11), ('follow', 11), ('coverage', 11), ('informed', 11), ('bollywood', 11), ('mid', 11), ('counterpart', 11), ('date', 11), ('cover', 11), ('scheme', 11), ('standoff', 11), ('communication', 11), ('returned', 11), ('scale', 11), ('citing', 11), ('particularly', 11), ('traveller', 11), ('improve', 11), ('facility', 11), ('factor', 11), ('budget', 11), ('create', 11), ('absolutely', 11), ('zero', 11), ('argument', 11), ('fear', 11), ('e', 11), ('normal', 11), ('live', 11), ('pas', 11), ('announcement', 11), ('getting', 11), ('lost', 11), ('affected', 11), ('sanction', 11), ('heavy', 11), ('b', 11), ('alliance', 11), ('option', 11), ('quoted', 11), ('ban', 11), ('delay', 11), ('minute', 11), ('paddy', 11), ('revealed', 11), ('j', 11), ('agent', 11), ('leaving', 11), ('declined', 11), ('ambassador', 11), ('previously', 11), ('similar', 11), ('yes', 11), ('struck', 11), ('anticipatory', 11), ('customer', 11), ('kashmiri', 11), ('facing', 11), ('danish', 11), ('mind', 11), ('foot', 11), ('circumstance', 11), ('scene', 11), ('anil', 11), ('dispute', 11), ('summons', 11), ('taiwanese', 11), ('supported', 11), ('position', 11), ('thackeray', 11), ('lack', 11), ('prosecutor', 11), ('notice', 11), ('hate', 11), ('misinformation', 11), ('chakraborty', 11), ('relief', 11), ('senate', 11), ('desk', 11), ('ending', 11), ('floor', 11), ('salt', 11), ('migrant', 11), ('wounded', 11), ('saudi', 11), ('bear', 11), ('photo', 11), ('petitioner', 11), ('editor', 11), ('gene', 11), ('statue', 11), ('heard', 10), ('tamper', 10), ('satish', 10), ('picture', 10), ('pledge', 10), ('attention', 10), ('code', 10), ('cop', 10), ('send', 10), ('center', 10), ('effective', 10), ('rest', 10), ('fighting', 10), ('interview', 10), ('cbdt', 10), ('chennai', 10), ('loan', 10), ('attend', 10), ('club', 10), ('unvaccinated', 10), ('negative', 10), ('test', 10), ('website', 10), ('spent', 10), ('lowest', 10), ('main', 10), ('observed', 10), ('fall', 10), ('star', 10), ('arbaz', 10), ('produced', 10), ('highly', 10), ('research', 10), ('followed', 10), ('renewable', 10), ('final', 10), ('quality', 10), ('push', 10), ('broke', 10), ('ground', 10), ('hot', 10), ('river', 10), ('southern', 10), ('seeking', 10), ('recognition', 10), ('increased', 10), ('hidden', 10), ('debate', 10), ('construction', 10), ('longer', 10), ('massive', 10), ('closed', 10), ('contact', 10), ('lift', 10), ('benefit', 10), ('kim', 10), ('consider', 10), ('missile', 10), ('underway', 10), ('directly', 10), ('laden', 10), ('permanent', 10), ('personal', 10), ('unable', 10), ('questioning', 10), ('possession', 10), ('leak', 10), ('bombay', 10), ('frontline', 10), ('maritime', 10), ('represented', 10), ('establish', 10), ('council', 10), ('assam', 10), ('read', 10), ('belonging', 10), ('cross', 10), ('pending', 10), ('lal', 10), ('outside', 10), ('planning', 10), ('carrying', 10), ('visited', 10), ('cctv', 10), ('appearance', 10), ('estate', 10), ('admitted', 10), ('challenging', 10), ('survey', 10), ('organization', 10), ('considering', 10), ('grant', 10), ('appeal', 10), ('continued', 10), ('pulled', 10), ('standard', 10), ('sc', 10), ('sharing', 10), ('opinion', 10), ('opened', 10), ('iraq', 10), ('parliament', 10), ('incursion', 10), ('declare', 10), ('merkel', 10), ('moved', 10), ('commercial', 10), ('threatened', 10), ('certificate', 10), ('ally', 10), ('st', 10), ('arm', 10), ('whistleblower', 10), ('approval', 10), ('banisadr', 10), ('md', 10), ('underlined', 10), ('america', 10), ('emeritus', 10), ('rush', 10), ('maharaja', 10), ('pe', 10), ('norwegian', 10), ('amit', 9), ('ready', 9), ('suggest', 9), ('twitter', 9), ('daughter', 9), ('mp', 9), ('royal', 9), ('duty', 9), ('lucknow', 9), ('believe', 9), ('historic', 9), ('goal', 9), ('elevated', 9), ('infrastructure', 9), ('reason', 9), ('true', 9), ('arrangement', 9), ('temple', 9), ('traditional', 9), ('p', 9), ('navratri', 9), ('fast', 9), ('hear', 9), ('rejected', 9), ('goa', 9), ('looked', 9), ('jab', 9), ('limit', 9), ('rising', 9), ('shifted', 9), ('season', 9), ('friction', 9), ('gogra', 9), ('arunachal', 9), ('strength', 9), ('discussion', 9), ('inequality', 9), ('kingdom', 9), ('education', 9), ('avoid', 9), ('crowd', 9), ('kunduz', 9), ('withdrawal', 9), ('surge', 9), ('net', 9), ('mass', 9), ('chain', 9), ('ask', 9), ('honour', 9), ('georgieva', 9), ('opening', 9), ('rare', 9), ('wearing', 9), ('anniversary', 9), ('gathering', 9), ('crucial', 9), ('regime', 9), ('professor', 9), ('offering', 9), ('receive', 9), ('represents', 9), ('remote', 9), ('acting', 9), ('amir', 9), ('invasion', 9), ('legitimacy', 9), ('origin', 9), ('played', 9), ('experience', 9), ('texas', 9), ('fell', 9), ('madhya', 9), ('referred', 9), ('lockdown', 9), ('corporation', 9), ('managing', 9), ('located', 9), ('asking', 9), ('prepared', 9), ('regard', 9), ('recipient', 9), ('placed', 9), ('residence', 9), ('panchayat', 9), ('regional', 9), ('colonial', 9), ('uapa', 9), ('organised', 9), ('particular', 9), ('book', 9), ('completed', 9), ('enhanced', 9), ('examination', 9), ('bring', 9), ('crackdown', 9), ('meghalaya', 9), ('vowed', 9), ('acre', 9), ('directed', 9), ('v', 9), ('idea', 9), ('welcome', 9), ('monument', 9), ('visitor', 9), ('archaeological', 9), ('reality', 9), ('sitting', 9), ('nature', 9), ('proposed', 9), ('built', 9), ('brain', 9), ('nagar', 9), ('dedicated', 9), ('peaceful', 9), ('emerged', 9), ('jagdish', 9), ('democrat', 9), ('hyderabad', 9), ('alleging', 9), ('contraband', 9), ('guilty', 9), ('gone', 9), ('sachdeva', 9), ('tirumurti', 9), ('repeatedly', 9), ('pandits', 9), ('pandey', 9), ('ratan', 9), ('select', 9), ('convicted', 9), ('manual', 9), ('rock', 9), ('putin', 9), ('pregnancy', 9), ('heavily', 8), ('forest', 8), ('merchant', 8), ('file', 8), ('sentence', 8), ('questioned', 8), ('device', 8), ('sharma', 8), ('conducting', 8), ('review', 8), ('procedure', 8), ('associate', 8), ('commit', 8), ('recognised', 8), ('gang', 8), ('wing', 8), ('reportedly', 8), ('immediate', 8), ('advocate', 8), ('temperature', 8), ('degree', 8), ('celsius', 8), ('warning', 8), ('institute', 8), ('shift', 8), ('tackle', 8), ('powerful', 8), ('clean', 8), ('reporting', 8), ('outlet', 8), ('tool', 8), ('earned', 8), ('unaccounted', 8), ('worth', 8), ('gold', 8), ('giving', 8), ('sale', 8), ('refused', 8), ('welfare', 8), ('active', 8), ('thiruvananthapuram', 8), ('practice', 8), ('cordelia', 8), ('kind', 8), ('setting', 8), ('thanks', 8), ('growth', 8), ('turn', 8), ('difficulty', 8), ('retain', 8), ('suggestion', 8), ('failed', 8), ('ended', 8), ('resulted', 8), ('clash', 8), ('barahoti', 8), ('uttarakhand', 8), ('luxury', 8), ('standing', 8), ('safe', 8), ('aspect', 8), ('atomic', 8), ('blamed', 8), ('oil', 8), ('reactor', 8), ('phase', 8), ('street', 8), ('sparked', 8), ('suspected', 8), ('hub', 8), ('panic', 8), ('mode', 8), ('requirement', 8), ('kejriwal', 8), ('self', 8), ('n', 8), ('entire', 8), ('unlawful', 8), ('briefing', 8), ('canada', 8), ('respond', 8), ('continuing', 8), ('muttaqi', 8), ('choice', 8), ('carry', 8), ('base', 8), ('occurred', 8), ('grid', 8), ('shedding', 8), ('khatri', 8), ('shukla', 8), ('subsequently', 8), ('class', 8), ('firing', 8), ('purpose', 8), ('activist', 8), ('colleague', 8), ('inspector', 8), ('talking', 8), ('draw', 8), ('removed', 8), ('petition', 8), ('paper', 8), ('photograph', 8), ('slot', 8), ('travelling', 8), ('appeared', 8), ('governor', 8), ('aditi', 8), ('youth', 8), ('block', 8), ('industrial', 8), ('minor', 8), ('accepted', 8), ('circle', 8), ('raise', 8), ('stress', 8), ('principle', 8), ('penalty', 8), ('jet', 8), ('biodiversity', 8), ('ramban', 8), ('rammed', 8), ('flag', 8), ('supposed', 8), ('quantity', 8), ('tsai', 8), ('accept', 8), ('lodged', 8), ('karnataka', 8), ('operating', 8), ('chancellor', 8), ('berlin', 8), ('behalf', 8), ('landing', 8), ('pipeline', 8), ('multi', 8), ('stopped', 8), ('raped', 8), ('changing', 8), ('google', 8), ('oevp', 8), ('moment', 8), ('operate', 8), ('dri', 8), ('increasingly', 8), ('ed', 8), ('releasing', 8), ('cocaine', 8), ('chara', 8), ('pill', 8), ('mdma', 8), ('awarded', 8), ('postal', 8), ('animal', 8), ('tradition', 8), ('prominent', 8), ('spicejet', 8), ('flew', 8), ('faith', 8), ('complainant', 8), ('covishield', 8), ('syria', 8), ('assad', 8), ('adityanath', 8), ('northeast', 8), ('chemistry', 8), ('physic', 8), ('mcfarlane', 8), ('politkovskaya', 8), ('subramanian', 8), ('reiss', 8), ('andersen', 8), ('salve', 8), ('hybrid', 8), ('encounter', 7), ('input', 7), ('managed', 7), ('rave', 7), ('requested', 7), ('stressed', 7), ('career', 7), ('vice', 7), ('divide', 7), ('equal', 7), ('courage', 7), ('develop', 7), ('promote', 7), ('globally', 7), ('relating', 7), ('epstein', 7), ('sexual', 7), ('assault', 7), ('regarding', 7), ('enforcement', 7), ('bound', 7), ('threatening', 7), ('dmk', 7), ('involving', 7), ('described', 7), ('positive', 7), ('meant', 7), ('carbon', 7), ('columbia', 7), ('congratulated', 7), ('presidential', 7), ('fake', 7), ('row', 7), ('detected', 7), ('signed', 7), ('direct', 7), ('owned', 7), ('antibody', 7), ('approached', 7), ('dos', 7), ('highest', 7), ('hindu', 7), ('celebrated', 7), ('starting', 7), ('reduced', 7), ('moderna', 7), ('transition', 7), ('dropped', 7), ('asia', 7), ('poor', 7), ('expectation', 7), ('corp', 7), ('spring', 7), ('pangong', 7), ('essential', 7), ('deadly', 7), ('escalation', 7), ('transgressed', 7), ('naravane', 7), ('deployment', 7), ('struggling', 7), ('advised', 7), ('foreigner', 7), ('popular', 7), ('bomber', 7), ('gathered', 7), ('bomb', 7), ('square', 7), ('doha', 7), ('buy', 7), ('example', 7), ('worldwide', 7), ('division', 7), ('aside', 7), ('falling', 7), ('author', 7), ('cab', 7), ('taxi', 7), ('apparent', 7), ('banned', 7), ('heart', 7), ('imf', 7), ('consideration', 7), ('resume', 7), ('virus', 7), ('expand', 7), ('extremely', 7), ('possible', 7), ('disruption', 7), ('supplied', 7), ('rain', 7), ('task', 7), ('unprecedented', 7), ('strain', 7), ('assistant', 7), ('surrounding', 7), ('ensuring', 7), ('anantnag', 7), ('scheduled', 7), ('mile', 7), ('join', 7), ('analysis', 7), ('written', 7), ('agriculture', 7), ('wake', 7), ('quite', 7), ('film', 7), ('inquiry', 7), ('appointed', 7), ('malabar', 7), ('bengal', 7), ('domain', 7), ('diana', 7), ('restricted', 7), ('undercover', 7), ('april', 7), ('package', 7), ('joint', 7), ('tribal', 7), ('mohan', 7), ('destroyed', 7), ('disclose', 7), ('tough', 7), ('function', 7), ('imprisonment', 7), ('significant', 7), ('violent', 7), ('demanding', 7), ('angry', 7), ('bar', 7), ('east', 7), ('neighbourhood', 7), ('premier', 7), ('driving', 7), ('resistance', 7), ('lieutenant', 7), ('opposed', 7), ('gujarat', 7), ('murdered', 7), ('parent', 7), ('spanish', 7), ('la', 7), ('eruption', 7), ('hectare', 7), ('technical', 7), ('awareness', 7), ('survivor', 7), ('depression', 7), ('illness', 7), ('mette', 7), ('taj', 7), ('behaviour', 7), ('higher', 7), ('granted', 7), ('manager', 7), ('considered', 7), ('religious', 7), ('nearby', 7), ('lying', 7), ('branch', 7), ('soviet', 7), ('civic', 7), ('appropriate', 7), ('triggered', 7), ('responsibility', 7), ('david', 7), ('himachal', 7), ('player', 7), ('transaction', 7), ('mountain', 7), ('answer', 7), ('reveal', 7), ('pro', 7), ('anger', 7), ('gain', 7), ('permitted', 7), ('rival', 7), ('mukesh', 7), ('rounded', 7), ('propaganda', 7), ('iranian', 7), ('beach', 7), ('ceremony', 7), ('operated', 7), ('bagchi', 7), ('tajikistan', 7), ('goel', 7), ('pvt', 7), ('fresh', 7), ('departure', 7), ('prestigious', 7), ('cited', 7), ('scandal', 7), ('unnamed', 7), ('regained', 7), ('soil', 7), ('port', 7), ('confirmed', 7), ('sp', 7), ('revolution', 7), ('achieving', 7), ('sustainable', 7), ('win', 7), ('custodial', 7), ('conduct', 7), ('rhea', 7), ('celebrity', 7), ('maintainable', 7), ('agreeing', 7), ('se', 7), ('mentioned', 7), ('rescue', 7), ('achit', 7), ('dubai', 7), ('finally', 7), ('ability', 7), ('investigating', 7), ('apps', 7), ('principal', 7), ('featured', 7), ('tatas', 7), ('kelly', 7), ('conviction', 7), ('drone', 7), ('wildlife', 7), ('syrian', 7), ('verdict', 7), ('cognizable', 7), ('representation', 7), ('scientific', 7), ('haugen', 7), ('vladimir', 7), ('unless', 7), ('oas', 7), ('immune', 7), ('gained', 7), ('mar', 7), ('desai', 6), ('theme', 6), ('choose', 6), ('dream', 6), ('identify', 6), ('sex', 6), ('andrew', 6), ('passing', 6), ('seeing', 6), ('patil', 6), ('ipc', 6), ('mortem', 6), ('profile', 6), ('impossible', 6), ('curb', 6), ('california', 6), ('john', 6), ('wang', 6), ('remark', 6), ('engage', 6), ('rodrigo', 6), ('happy', 6), ('dismissed', 6), ('hailed', 6), ('talented', 6), ('channel', 6), ('entirely', 6), ('farm', 6), ('kg', 6), ('game', 6), ('crossed', 6), ('idol', 6), ('celebration', 6), ('believed', 6), ('argue', 6), ('munmun', 6), ('vast', 6), ('confirm', 6), ('collected', 6), ('widely', 6), ('wind', 6), ('pushed', 6), ('covered', 6), ('receiving', 6), ('king', 6), ('wide', 6), ('maximum', 6), ('abiding', 6), ('tremendous', 6), ('moldo', 6), ('galwan', 6), ('depsang', 6), ('transgression', 6), ('brief', 6), ('pla', 6), ('pre', 6), ('youtube', 6), ('africa', 6), ('disaster', 6), ('islamist', 6), ('chapter', 6), ('light', 6), ('guest', 6), ('chaotic', 6), ('ned', 6), ('reiterated', 6), ('vital', 6), ('century', 6), ('achieve', 6), ('doubt', 6), ('rebuild', 6), ('largely', 6), ('transport', 6), ('association', 6), ('simply', 6), ('focussed', 6), ('attempting', 6), ('increasing', 6), ('celebrate', 6), ('vulnerable', 6), ('investigator', 6), ('provincial', 6), ('dealing', 6), ('bit', 6), ('signing', 6), ('unpaid', 6), ('representing', 6), ('toronto', 6), ('canadian', 6), ('administrative', 6), ('attract', 6), ('psac', 6), ('serve', 6), ('wave', 6), ('losing', 6), ('kidnapped', 6), ('flow', 6), ('blue', 6), ('earth', 6), ('served', 6), ('blackout', 6), ('provides', 6), ('strained', 6), ('thermal', 6), ('maintained', 6), ('jaiswal', 6), ('mail', 6), ('ip', 6), ('complex', 6), ('warship', 6), ('submarine', 6), ('helicopter', 6), ('witnessed', 6), ('minded', 6), ('charged', 6), ('sample', 6), ('dollar', 6), ('manipur', 6), ('influential', 6), ('theft', 6), ('spend', 6), ('nariman', 6), ('rank', 6), ('draconian', 6), ('legislation', 6), ('enormous', 6), ('pressing', 6), ('gen', 6), ('meena', 6), ('blood', 6), ('machine', 6), ('kilometre', 6), ('treat', 6), ('confrontation', 6), ('haryana', 6), ('transit', 6), ('shillong', 6), ('cabinet', 6), ('abandoned', 6), ('dikshit', 6), ('heena', 6), ('camera', 6), ('maheshwari', 6), ('diplomat', 6), ('interaction', 6), ('enjoyed', 6), ('size', 6), ('journal', 6), ('ram', 6), ('telangana', 6), ('chandrasekhar', 6), ('love', 6), ('greater', 6), ('depressive', 6), ('impacted', 6), ('capture', 6), ('specific', 6), ('indicate', 6), ('counter', 6), ('alert', 6), ('inflow', 6), ('imported', 6), ('irrespective', 6), ('interfax', 6), ('belonged', 6), ('ta', 6), ('hosted', 6), ('traffic', 6), ('modern', 6), ('emotional', 6), ('mechanism', 6), ('habitat', 6), ('returning', 6), ('walked', 6), ('credit', 6), ('afternoon', 6), ('hari', 6), ('om', 6), ('mahindra', 6), ('promise', 6), ('swept', 6), ('smuggling', 6), ('parking', 6), ('defend', 6), ('sortie', 6), ('favour', 6), ('crpf', 6), ('identity', 6), ('sindhudurg', 6), ('york', 6), ('mittal', 6), ('harassed', 6), ('hungary', 6), ('count', 6), ('fair', 6), ('rich', 6), ('estimated', 6), ('chaos', 6), ('consignment', 6), ('import', 6), ('pentagon', 6), ('sovereignty', 6), ('allows', 6), ('licence', 6), ('extortion', 6), ('custom', 6), ('tested', 6), ('andhra', 6), ('akhilesh', 6), ('formally', 6), ('biased', 6), ('intense', 6), ('endangered', 6), ('considerable', 6), ('ancient', 6), ('boyfriend', 6), ('laundering', 6), ('promoter', 6), ('confronted', 6), ('secure', 6), ('nawab', 6), ('sameer', 6), ('wankhede', 6), ('rishabh', 6), ('gaba', 6), ('furniturewala', 6), ('ncp', 6), ('write', 6), ('khomeini', 6), ('version', 6), ('gap', 6), ('psaki', 6), ('filing', 6), ('client', 6), ('physically', 6), ('george', 6), ('candidate', 6), ('testimony', 6), ('abortion', 6), ('swiftly', 6), ('exodus', 6), ('panel', 6), ('rover', 6), ('karachi', 6), ('mascot', 6), ('worshipper', 6), ('arabia', 6), ('cdc', 6), ('criterion', 6), ('purse', 6), ('register', 6), ('submitted', 6), ('wetland', 6), ('ernakulam', 6), ('writ', 6), ('nameer', 6), ('harvest', 6), ('ear', 6), ('grand', 6), ('staircase', 6), ('escalante', 6), ('canyon', 6), ('seamount', 6), ('literature', 6), ('gurnah', 6), ('cultural', 6), ('morgan', 6), ('selection', 6), ('consists', 6), ('nso', 6), ('magazine', 6), ('zuckerberg', 6), ('teaching', 6), ('juber', 6), ('puja', 6), ('havana', 6), ('chavan', 6), ('proceeding', 6), ('nationalised', 6), ('accepting', 6), ('sensational', 6), ('clothes', 6), ('midst', 6), ('pus', 6), ('moth', 6), ('watchdog', 6), ('tampering', 6), ('marshal', 6), ('heritage', 6), ('adani', 6), ('docuseries', 6), ('swarup', 6), ('maharaj', 6), ('stakeholder', 6), ('mandi', 6), ('nomination', 6), ('dera', 5), ('fierce', 5), ('junior', 5), ('awaited', 5), ('handle', 5), ('model', 5), ('tech', 5), ('skill', 5), ('grow', 5), ('unicef', 5), ('giuffre', 5), ('entered', 5), ('knife', 5), ('penal', 5), ('failure', 5), ('analyst', 5), ('planet', 5), ('agree', 5), ('engagement', 5), ('mutual', 5), ('envoy', 5), ('race', 5), ('alex', 5), ('favor', 5), ('creates', 5), ('quebec', 5), ('frequent', 5), ('attorney', 5), ('santos', 5), ('entry', 5), ('encouraged', 5), ('regulation', 5), ('achieved', 5), ('bommai', 5), ('kolu', 5), ('navaratri', 5), ('mainly', 5), ('type', 5), ('durga', 5), ('preventing', 5), ('subject', 5), ('appears', 5), ('estimate', 5), ('grown', 5), ('annual', 5), ('electric', 5), ('sold', 5), ('hydrogen', 5), ('harmful', 5), ('iea', 5), ('urging', 5), ('tank', 5), ('settled', 5), ('ease', 5), ('patrolling', 5), ('insisting', 5), ('improvement', 5), ('tawang', 5), ('resolved', 5), ('liberation', 5), ('globe', 5), ('equality', 5), ('forum', 5), ('highlight', 5), ('brand', 5), ('emirate', 5), ('hardline', 5), ('contain', 5), ('layer', 5), ('qatar', 5), ('passage', 5), ('depend', 5), ('uranium', 5), ('concrete', 5), ('reduce', 5), ('ahmad', 5), ('vendor', 5), ('tense', 5), ('success', 5), ('valuable', 5), ('refuse', 5), ('oct', 5), ('enter', 5), ('fine', 5), ('similarly', 5), ('song', 5), ('respect', 5), ('upcoming', 5), ('arvind', 5), ('improving', 5), ('flood', 5), ('worsening', 5), ('pushing', 5), ('trouble', 5), ('primarily', 5), ('destruction', 5), ('noting', 5), ('stance', 5), ('uncertainty', 5), ('greyson', 5), ('nurse', 5), ('respective', 5), ('implementation', 5), ('fourth', 5), ('minimal', 5), ('television', 5), ('page', 5), ('unidentified', 5), ('cast', 5), ('journey', 5), ('oldest', 5), ('trip', 5), ('crew', 5), ('culture', 5), ('initial', 5), ('politics', 5), ('distributor', 5), ('producer', 5), ('deficit', 5), ('utility', 5), ('shutdown', 5), ('distance', 5), ('summoned', 5), ('imtiaz', 5), ('deliberately', 5), ('feature', 5), ('advanced', 5), ('effectively', 5), ('suspicious', 5), ('toebbe', 5), ('engineer', 5), ('instruction', 5), ('responded', 5), ('paid', 5), ('sd', 5), ('sub', 5), ('ministerial', 5), ('hill', 5), ('metre', 5), ('spiritual', 5), ('door', 5), ('ego', 5), ('memorial', 5), ('introduced', 5), ('functioning', 5), ('understood', 5), ('erupted', 5), ('batti', 5), ('monitoring', 5), ('culprit', 5), ('bihar', 5), ('sending', 5), ('booked', 5), ('designed', 5), ('attending', 5), ('testing', 5), ('criticised', 5), ('randhawa', 5), ('sense', 5), ('confidence', 5), ('footage', 5), ('boy', 5), ('baby', 5), ('born', 5), ('native', 5), ('alongside', 5), ('jaguar', 5), ('implement', 5), ('lava', 5), ('rolled', 5), ('palma', 5), ('volcanic', 5), ('ing', 5), ('volcano', 5), ('engulfed', 5), ('lightning', 5), ('ash', 5), ('wall', 5), ('rally', 5), ('aware', 5), ('larger', 5), ('mahal', 5), ('landed', 5), ('welcomed', 5), ('slogan', 5), ('understand', 5), ('routine', 5), ('healthy', 5), ('federation', 5), ('generally', 5), ('issuing', 5), ('celebrating', 5), ('officially', 5), ('reservoir', 5), ('quantum', 5), ('wrong', 5), ('flooded', 5), ('reservation', 5), ('improved', 5), ('flung', 5), ('tragedy', 5), ('sec', 5), ('suffer', 5), ('medication', 5), ('symptom', 5), ('method', 5), ('dangerous', 5), ('unique', 5), ('noida', 5), ('sister', 5), ('begin', 5), ('diversity', 5), ('ambition', 5), ('milestone', 5), ('corner', 5), ('closer', 5), ('aide', 5), ('thar', 5), ('contention', 5), ('shouting', 5), ('demonstrator', 5), ('reform', 5), ('intimidated', 5), ('constituency', 5), ('ethnic', 5), ('core', 5), ('deeply', 5), ('blast', 5), ('path', 5), ('maintaining', 5), ('assurance', 5), ('felt', 5), ('recognise', 5), ('beaten', 5), ('vinod', 5), ('jufri', 5), ('fold', 5), ('bhat', 5), ('cultivated', 5), ('veteran', 5), ('connected', 5), ('strengthen', 5), ('designated', 5), ('addressing', 5), ('boost', 5), ('uddhav', 5), ('joined', 5), ('ka', 5), ('pune', 5), ('restaurant', 5), ('mea', 5), ('runway', 5), ('fraud', 5), ('revenge', 5), ('consequence', 5), ('brexit', 5), ('dubbed', 5), ('seriousness', 5), ('fundamental', 5), ('macron', 5), ('multinationals', 5), ('oecd', 5), ('represent', 5), ('euro', 5), ('ngo', 5), ('enriched', 5), ('captured', 5), ('protester', 5), ('workplace', 5), ('wrongdoing', 5), ('motion', 5), ('charles', 5), ('cooperate', 5), ('heroin', 5), ('premise', 5), ('incriminating', 5), ('suburban', 5), ('container', 5), ('directorate', 5), ('davy', 5), ('svane', 5), ('agenda', 5), ('innovation', 5), ('fails', 5), ('lie', 5), ('internet', 5), ('constitution', 5), ('controversial', 5), ('beginning', 5), ('proud', 5), ('instant', 5), ('publicity', 5), ('infiltration', 5), ('spate', 5), ('sudden', 5), ('escaped', 5), ('handling', 5), ('framework', 5), ('gandhi', 5), ('picking', 5), ('contribution', 5), ('g', 5), ('immigration', 5), ('addition', 5), ('integrity', 5), ('toomey', 5), ('honor', 5), ('alive', 5), ('sat', 5), ('sugar', 5), ('recalled', 5), ('unfair', 5), ('violated', 5), ('meme', 5), ('messaging', 5), ('downdetector', 5), ('sri', 5), ('lanka', 5), ('compromise', 5), ('unknown', 5), ('resembles', 5), ('originally', 5), ('enterprise', 5), ('bureaucrat', 5), ('stable', 5), ('pilot', 5), ('bloomberg', 5), ('hopefully', 5), ('vistara', 5), ('traveler', 5), ('criticism', 5), ('tiny', 5), ('rodgers', 5), ('currency', 5), ('utmost', 5), ('thompson', 5), ('airbase', 5), ('swedish', 5), ('attacking', 5), ('estranged', 5), ('discloses', 5), ('suresh', 5), ('shut', 5), ('laureate', 5), ('simple', 5), ('shutting', 5), ('luo', 5), ('urge', 5), ('ddma', 5), ('prosecute', 5), ('ideal', 5), ('warrant', 5), ('thank', 5), ('nationalisation', 5), ('schuetz', 5), ('acb', 5), ('contributor', 5), ('courageous', 5), ('peskov', 5), ('movie', 5), ('bust', 5), ('byculla', 5), ('sailing', 5), ('haul', 5), ('underwear', 5), ('quoting', 5), ('myanmar', 5), ('tajik', 5), ('acquire', 5), ('solicitor', 5), ('wiessler', 5), ('formation', 5), ('kaur', 5), ('bamiyan', 5), ('rijiju', 5), ('parmar', 5), ('ad', 5), ('talent', 5), ('interim', 5), ('mcconnell', 5), ('perseverance', 5), ('loc', 4), ('route', 4), ('quote', 4), ('resilience', 4), ('empower', 4), ('advancing', 4), ('adopted', 4), ('reviewed', 4), ('forcing', 4), ('pushpak', 4), ('igatpuri', 4), ('grp', 4), ('entering', 4), ('scared', 4), ('thought', 4), ('dark', 4), ('labourer', 4), ('lookout', 4), ('cashew', 4), ('blame', 4), ('processing', 4), ('ought', 4), ('performed', 4), ('momentum', 4), ('glasgow', 4), ('breakthrough', 4), ('stepped', 4), ('worst', 4), ('chair', 4), ('twice', 4), ('allowing', 4), ('jinping', 4), ('telling', 4), ('overseas', 4), ('balance', 4), ('predecessor', 4), ('potentially', 4), ('signal', 4), ('investor', 4), ('fellow', 4)]\n"
          ]
        }
      ]
    },
    {
      "cell_type": "code",
      "source": [
        "#///"
      ],
      "metadata": {
        "id": "ZQ3XXTe6tle4"
      },
      "execution_count": 42,
      "outputs": []
    },
    {
      "cell_type": "code",
      "source": [
        ""
      ],
      "metadata": {
        "id": "QJIQ3ToeoAzX"
      },
      "execution_count": 42,
      "outputs": []
    },
    {
      "cell_type": "markdown",
      "source": [
        "# TFIDF"
      ],
      "metadata": {
        "id": "GES_tjc2oBKf"
      }
    },
    {
      "cell_type": "code",
      "source": [
        "## TFidf Vectorizer\n",
        "from sklearn.feature_extraction.text import TfidfVectorizer\n",
        "tfidf_v=TfidfVectorizer(max_features=20000,ngram_range=(1,3))##35##69"
      ],
      "metadata": {
        "id": "eskTkU0ct8nk"
      },
      "execution_count": 43,
      "outputs": []
    },
    {
      "cell_type": "code",
      "source": [
        "X=tfidf_v.fit_transform(df2['clean_content']).toarray()\n"
      ],
      "metadata": {
        "id": "QrCdCNArsV28"
      },
      "execution_count": 44,
      "outputs": []
    },
    {
      "cell_type": "code",
      "source": [
        "X"
      ],
      "metadata": {
        "id": "14SbBl8wFRl8",
        "colab": {
          "base_uri": "https://localhost:8080/"
        },
        "outputId": "41083fa7-d224-4ee9-8b32-c4a6f86bbe2f"
      },
      "execution_count": 45,
      "outputs": [
        {
          "output_type": "execute_result",
          "data": {
            "text/plain": [
              "array([[0., 0., 0., ..., 0., 0., 0.],\n",
              "       [0., 0., 0., ..., 0., 0., 0.],\n",
              "       [0., 0., 0., ..., 0., 0., 0.],\n",
              "       ...,\n",
              "       [0., 0., 0., ..., 0., 0., 0.],\n",
              "       [0., 0., 0., ..., 0., 0., 0.],\n",
              "       [0., 0., 0., ..., 0., 0., 0.]])"
            ]
          },
          "metadata": {},
          "execution_count": 45
        }
      ]
    },
    {
      "cell_type": "code",
      "source": [
        "## Divide the dataset into Train and Test\n",
        "from sklearn.model_selection import train_test_split\n",
        "X_train, X_test, y_train, y_test = train_test_split(X, y, test_size=0.33 ,random_state=42,stratify=y)"
      ],
      "metadata": {
        "id": "fAzYTEGHuHFD"
      },
      "execution_count": 46,
      "outputs": []
    },
    {
      "cell_type": "code",
      "source": [
        "count_df = pd.DataFrame(X_train, columns=tfidf_v.get_feature_names())\n",
        "count_df.head()"
      ],
      "metadata": {
        "id": "jQGMuUtrBOe1",
        "colab": {
          "base_uri": "https://localhost:8080/",
          "height": 371
        },
        "outputId": "4665b2cf-1656-4c5a-a58b-6dbb2a3b13e3"
      },
      "execution_count": 47,
      "outputs": [
        {
          "output_type": "stream",
          "name": "stderr",
          "text": [
            "/usr/local/lib/python3.7/dist-packages/sklearn/utils/deprecation.py:87: FutureWarning: Function get_feature_names is deprecated; get_feature_names is deprecated in 1.0 and will be removed in 1.2. Please use get_feature_names_out instead.\n",
            "  warnings.warn(msg, category=FutureWarning)\n"
          ]
        },
        {
          "output_type": "execute_result",
          "data": {
            "text/plain": [
              "    aa  aadmi  aadmi party  aadmi party aap  aadmi party claimed  aam  \\\n",
              "0  0.0    0.0          0.0              0.0                  0.0  0.0   \n",
              "1  0.0    0.0          0.0              0.0                  0.0  0.0   \n",
              "2  0.0    0.0          0.0              0.0                  0.0  0.0   \n",
              "3  0.0    0.0          0.0              0.0                  0.0  0.0   \n",
              "4  0.0    0.0          0.0              0.0                  0.0  0.0   \n",
              "\n",
              "   aam aadmi  aam aadmi party  aap  aap government  ...  zp panchayat samitis  \\\n",
              "0        0.0              0.0  0.0             0.0  ...                   0.0   \n",
              "1        0.0              0.0  0.0             0.0  ...                   0.0   \n",
              "2        0.0              0.0  0.0             0.0  ...                   0.0   \n",
              "3        0.0              0.0  0.0             0.0  ...                   0.0   \n",
              "4        0.0              0.0  0.0             0.0  ...                   0.0   \n",
              "\n",
              "   zuckerberg  zuckerberg cover  zuckerberg cover latest  zuckerberg hit  \\\n",
              "0         0.0               0.0                      0.0             0.0   \n",
              "1         0.0               0.0                      0.0             0.0   \n",
              "2         0.0               0.0                      0.0             0.0   \n",
              "3         0.0               0.0                      0.0             0.0   \n",
              "4         0.0               0.0                      0.0             0.0   \n",
              "\n",
              "   zuckerberg hit whistleblower  zuckerberg wrote  zuckerberg wrote note  \\\n",
              "0                           0.0               0.0                    0.0   \n",
              "1                           0.0               0.0                    0.0   \n",
              "2                           0.0               0.0                    0.0   \n",
              "3                           0.0               0.0                    0.0   \n",
              "4                           0.0               0.0                    0.0   \n",
              "\n",
              "   zurich  zyklon  \n",
              "0     0.0     0.0  \n",
              "1     0.0     0.0  \n",
              "2     0.0     0.0  \n",
              "3     0.0     0.0  \n",
              "4     0.0     0.0  \n",
              "\n",
              "[5 rows x 20000 columns]"
            ],
            "text/html": [
              "\n",
              "  <div id=\"df-9facf926-bc31-4cca-b926-35cb514a021d\">\n",
              "    <div class=\"colab-df-container\">\n",
              "      <div>\n",
              "<style scoped>\n",
              "    .dataframe tbody tr th:only-of-type {\n",
              "        vertical-align: middle;\n",
              "    }\n",
              "\n",
              "    .dataframe tbody tr th {\n",
              "        vertical-align: top;\n",
              "    }\n",
              "\n",
              "    .dataframe thead th {\n",
              "        text-align: right;\n",
              "    }\n",
              "</style>\n",
              "<table border=\"1\" class=\"dataframe\">\n",
              "  <thead>\n",
              "    <tr style=\"text-align: right;\">\n",
              "      <th></th>\n",
              "      <th>aa</th>\n",
              "      <th>aadmi</th>\n",
              "      <th>aadmi party</th>\n",
              "      <th>aadmi party aap</th>\n",
              "      <th>aadmi party claimed</th>\n",
              "      <th>aam</th>\n",
              "      <th>aam aadmi</th>\n",
              "      <th>aam aadmi party</th>\n",
              "      <th>aap</th>\n",
              "      <th>aap government</th>\n",
              "      <th>...</th>\n",
              "      <th>zp panchayat samitis</th>\n",
              "      <th>zuckerberg</th>\n",
              "      <th>zuckerberg cover</th>\n",
              "      <th>zuckerberg cover latest</th>\n",
              "      <th>zuckerberg hit</th>\n",
              "      <th>zuckerberg hit whistleblower</th>\n",
              "      <th>zuckerberg wrote</th>\n",
              "      <th>zuckerberg wrote note</th>\n",
              "      <th>zurich</th>\n",
              "      <th>zyklon</th>\n",
              "    </tr>\n",
              "  </thead>\n",
              "  <tbody>\n",
              "    <tr>\n",
              "      <th>0</th>\n",
              "      <td>0.0</td>\n",
              "      <td>0.0</td>\n",
              "      <td>0.0</td>\n",
              "      <td>0.0</td>\n",
              "      <td>0.0</td>\n",
              "      <td>0.0</td>\n",
              "      <td>0.0</td>\n",
              "      <td>0.0</td>\n",
              "      <td>0.0</td>\n",
              "      <td>0.0</td>\n",
              "      <td>...</td>\n",
              "      <td>0.0</td>\n",
              "      <td>0.0</td>\n",
              "      <td>0.0</td>\n",
              "      <td>0.0</td>\n",
              "      <td>0.0</td>\n",
              "      <td>0.0</td>\n",
              "      <td>0.0</td>\n",
              "      <td>0.0</td>\n",
              "      <td>0.0</td>\n",
              "      <td>0.0</td>\n",
              "    </tr>\n",
              "    <tr>\n",
              "      <th>1</th>\n",
              "      <td>0.0</td>\n",
              "      <td>0.0</td>\n",
              "      <td>0.0</td>\n",
              "      <td>0.0</td>\n",
              "      <td>0.0</td>\n",
              "      <td>0.0</td>\n",
              "      <td>0.0</td>\n",
              "      <td>0.0</td>\n",
              "      <td>0.0</td>\n",
              "      <td>0.0</td>\n",
              "      <td>...</td>\n",
              "      <td>0.0</td>\n",
              "      <td>0.0</td>\n",
              "      <td>0.0</td>\n",
              "      <td>0.0</td>\n",
              "      <td>0.0</td>\n",
              "      <td>0.0</td>\n",
              "      <td>0.0</td>\n",
              "      <td>0.0</td>\n",
              "      <td>0.0</td>\n",
              "      <td>0.0</td>\n",
              "    </tr>\n",
              "    <tr>\n",
              "      <th>2</th>\n",
              "      <td>0.0</td>\n",
              "      <td>0.0</td>\n",
              "      <td>0.0</td>\n",
              "      <td>0.0</td>\n",
              "      <td>0.0</td>\n",
              "      <td>0.0</td>\n",
              "      <td>0.0</td>\n",
              "      <td>0.0</td>\n",
              "      <td>0.0</td>\n",
              "      <td>0.0</td>\n",
              "      <td>...</td>\n",
              "      <td>0.0</td>\n",
              "      <td>0.0</td>\n",
              "      <td>0.0</td>\n",
              "      <td>0.0</td>\n",
              "      <td>0.0</td>\n",
              "      <td>0.0</td>\n",
              "      <td>0.0</td>\n",
              "      <td>0.0</td>\n",
              "      <td>0.0</td>\n",
              "      <td>0.0</td>\n",
              "    </tr>\n",
              "    <tr>\n",
              "      <th>3</th>\n",
              "      <td>0.0</td>\n",
              "      <td>0.0</td>\n",
              "      <td>0.0</td>\n",
              "      <td>0.0</td>\n",
              "      <td>0.0</td>\n",
              "      <td>0.0</td>\n",
              "      <td>0.0</td>\n",
              "      <td>0.0</td>\n",
              "      <td>0.0</td>\n",
              "      <td>0.0</td>\n",
              "      <td>...</td>\n",
              "      <td>0.0</td>\n",
              "      <td>0.0</td>\n",
              "      <td>0.0</td>\n",
              "      <td>0.0</td>\n",
              "      <td>0.0</td>\n",
              "      <td>0.0</td>\n",
              "      <td>0.0</td>\n",
              "      <td>0.0</td>\n",
              "      <td>0.0</td>\n",
              "      <td>0.0</td>\n",
              "    </tr>\n",
              "    <tr>\n",
              "      <th>4</th>\n",
              "      <td>0.0</td>\n",
              "      <td>0.0</td>\n",
              "      <td>0.0</td>\n",
              "      <td>0.0</td>\n",
              "      <td>0.0</td>\n",
              "      <td>0.0</td>\n",
              "      <td>0.0</td>\n",
              "      <td>0.0</td>\n",
              "      <td>0.0</td>\n",
              "      <td>0.0</td>\n",
              "      <td>...</td>\n",
              "      <td>0.0</td>\n",
              "      <td>0.0</td>\n",
              "      <td>0.0</td>\n",
              "      <td>0.0</td>\n",
              "      <td>0.0</td>\n",
              "      <td>0.0</td>\n",
              "      <td>0.0</td>\n",
              "      <td>0.0</td>\n",
              "      <td>0.0</td>\n",
              "      <td>0.0</td>\n",
              "    </tr>\n",
              "  </tbody>\n",
              "</table>\n",
              "<p>5 rows × 20000 columns</p>\n",
              "</div>\n",
              "      <button class=\"colab-df-convert\" onclick=\"convertToInteractive('df-9facf926-bc31-4cca-b926-35cb514a021d')\"\n",
              "              title=\"Convert this dataframe to an interactive table.\"\n",
              "              style=\"display:none;\">\n",
              "        \n",
              "  <svg xmlns=\"http://www.w3.org/2000/svg\" height=\"24px\"viewBox=\"0 0 24 24\"\n",
              "       width=\"24px\">\n",
              "    <path d=\"M0 0h24v24H0V0z\" fill=\"none\"/>\n",
              "    <path d=\"M18.56 5.44l.94 2.06.94-2.06 2.06-.94-2.06-.94-.94-2.06-.94 2.06-2.06.94zm-11 1L8.5 8.5l.94-2.06 2.06-.94-2.06-.94L8.5 2.5l-.94 2.06-2.06.94zm10 10l.94 2.06.94-2.06 2.06-.94-2.06-.94-.94-2.06-.94 2.06-2.06.94z\"/><path d=\"M17.41 7.96l-1.37-1.37c-.4-.4-.92-.59-1.43-.59-.52 0-1.04.2-1.43.59L10.3 9.45l-7.72 7.72c-.78.78-.78 2.05 0 2.83L4 21.41c.39.39.9.59 1.41.59.51 0 1.02-.2 1.41-.59l7.78-7.78 2.81-2.81c.8-.78.8-2.07 0-2.86zM5.41 20L4 18.59l7.72-7.72 1.47 1.35L5.41 20z\"/>\n",
              "  </svg>\n",
              "      </button>\n",
              "      \n",
              "  <style>\n",
              "    .colab-df-container {\n",
              "      display:flex;\n",
              "      flex-wrap:wrap;\n",
              "      gap: 12px;\n",
              "    }\n",
              "\n",
              "    .colab-df-convert {\n",
              "      background-color: #E8F0FE;\n",
              "      border: none;\n",
              "      border-radius: 50%;\n",
              "      cursor: pointer;\n",
              "      display: none;\n",
              "      fill: #1967D2;\n",
              "      height: 32px;\n",
              "      padding: 0 0 0 0;\n",
              "      width: 32px;\n",
              "    }\n",
              "\n",
              "    .colab-df-convert:hover {\n",
              "      background-color: #E2EBFA;\n",
              "      box-shadow: 0px 1px 2px rgba(60, 64, 67, 0.3), 0px 1px 3px 1px rgba(60, 64, 67, 0.15);\n",
              "      fill: #174EA6;\n",
              "    }\n",
              "\n",
              "    [theme=dark] .colab-df-convert {\n",
              "      background-color: #3B4455;\n",
              "      fill: #D2E3FC;\n",
              "    }\n",
              "\n",
              "    [theme=dark] .colab-df-convert:hover {\n",
              "      background-color: #434B5C;\n",
              "      box-shadow: 0px 1px 3px 1px rgba(0, 0, 0, 0.15);\n",
              "      filter: drop-shadow(0px 1px 2px rgba(0, 0, 0, 0.3));\n",
              "      fill: #FFFFFF;\n",
              "    }\n",
              "  </style>\n",
              "\n",
              "      <script>\n",
              "        const buttonEl =\n",
              "          document.querySelector('#df-9facf926-bc31-4cca-b926-35cb514a021d button.colab-df-convert');\n",
              "        buttonEl.style.display =\n",
              "          google.colab.kernel.accessAllowed ? 'block' : 'none';\n",
              "\n",
              "        async function convertToInteractive(key) {\n",
              "          const element = document.querySelector('#df-9facf926-bc31-4cca-b926-35cb514a021d');\n",
              "          const dataTable =\n",
              "            await google.colab.kernel.invokeFunction('convertToInteractive',\n",
              "                                                     [key], {});\n",
              "          if (!dataTable) return;\n",
              "\n",
              "          const docLinkHtml = 'Like what you see? Visit the ' +\n",
              "            '<a target=\"_blank\" href=https://colab.research.google.com/notebooks/data_table.ipynb>data table notebook</a>'\n",
              "            + ' to learn more about interactive tables.';\n",
              "          element.innerHTML = '';\n",
              "          dataTable['output_type'] = 'display_data';\n",
              "          await google.colab.output.renderOutput(dataTable, element);\n",
              "          const docLink = document.createElement('div');\n",
              "          docLink.innerHTML = docLinkHtml;\n",
              "          element.appendChild(docLink);\n",
              "        }\n",
              "      </script>\n",
              "    </div>\n",
              "  </div>\n",
              "  "
            ]
          },
          "metadata": {},
          "execution_count": 47
        }
      ]
    },
    {
      "cell_type": "code",
      "source": [
        "y_train.value_counts()"
      ],
      "metadata": {
        "id": "ziJ2tNuOubgR",
        "colab": {
          "base_uri": "https://localhost:8080/"
        },
        "outputId": "655ad131-cb26-4b7c-b987-e1004753ece9"
      },
      "execution_count": 48,
      "outputs": [
        {
          "output_type": "execute_result",
          "data": {
            "text/plain": [
              "3    134\n",
              "0    127\n",
              "1    123\n",
              "Name: bias, dtype: int64"
            ]
          },
          "metadata": {},
          "execution_count": 48
        }
      ]
    },
    {
      "cell_type": "code",
      "source": [
        "y_test.value_counts()\n"
      ],
      "metadata": {
        "id": "sbv1asYau3EA",
        "colab": {
          "base_uri": "https://localhost:8080/"
        },
        "outputId": "d4c5fc14-b88f-4321-c62c-fb2601d4e40c"
      },
      "execution_count": 49,
      "outputs": [
        {
          "output_type": "execute_result",
          "data": {
            "text/plain": [
              "3    66\n",
              "0    63\n",
              "1    61\n",
              "Name: bias, dtype: int64"
            ]
          },
          "metadata": {},
          "execution_count": 49
        }
      ]
    },
    {
      "cell_type": "code",
      "source": [
        "y_test.value_counts()"
      ],
      "metadata": {
        "id": "kI4gV9xSleN4",
        "colab": {
          "base_uri": "https://localhost:8080/"
        },
        "outputId": "9bba0914-c999-4c66-a399-0400d5f54cbb"
      },
      "execution_count": 50,
      "outputs": [
        {
          "output_type": "execute_result",
          "data": {
            "text/plain": [
              "3    66\n",
              "0    63\n",
              "1    61\n",
              "Name: bias, dtype: int64"
            ]
          },
          "metadata": {},
          "execution_count": 50
        }
      ]
    },
    {
      "cell_type": "code",
      "source": [
        "#///"
      ],
      "metadata": {
        "id": "p8yKZzzC4fWo"
      },
      "execution_count": 51,
      "outputs": []
    },
    {
      "cell_type": "code",
      "source": [
        "from sklearn import model_selection, naive_bayes, svm\n",
        "# fit the training dataset on the NB classifier\n",
        "from xgboost import XGBClassifier\n",
        "xgb = XGBClassifier(n_estimators=30,learning_rate=1)#,random_state=5)\n",
        "\n",
        "xgb.fit(X_train,y_train)\n",
        "# predict the labels on validation dataset\n",
        "predictions_xgb = xgb.predict(X_test)\n",
        "# Use accuracy_score function to get the accuracy\n",
        "print(\"xgb Accuracy Score -> \",accuracy_score(predictions_xgb, y_test)*100)\n",
        "print(classification_report(y_test,predictions_xgb))"
      ],
      "metadata": {
        "colab": {
          "base_uri": "https://localhost:8080/"
        },
        "id": "0qi9YEkct7z3",
        "outputId": "8eae9880-1e5e-44c6-d185-353654582417"
      },
      "execution_count": 118,
      "outputs": [
        {
          "output_type": "stream",
          "name": "stdout",
          "text": [
            "xgb Accuracy Score ->  82.10526315789474\n",
            "              precision    recall  f1-score   support\n",
            "\n",
            "           0       0.74      0.73      0.74        63\n",
            "           1       0.75      0.72      0.73        61\n",
            "           3       0.96      1.00      0.98        66\n",
            "\n",
            "    accuracy                           0.82       190\n",
            "   macro avg       0.81      0.82      0.82       190\n",
            "weighted avg       0.82      0.82      0.82       190\n",
            "\n"
          ]
        }
      ]
    },
    {
      "cell_type": "code",
      "source": [
        "from sklearn import model_selection, naive_bayes, svm\n",
        "# fit the training dataset on the NB classifier\n",
        "Naive = naive_bayes.MultinomialNB(alpha=1,fit_prior=False)\n",
        "Naive.fit(X_train,y_train)\n",
        "# predict the labels on validation dataset\n",
        "predictions_NB = Naive.predict(X_test)\n",
        "# Use accuracy_score function to get the accuracy\n",
        "print(\"Naive Bayes Accuracy Score -> \",accuracy_score(predictions_NB, y_test)*100)\n",
        "print(classification_report(y_test,predictions_NB))"
      ],
      "metadata": {
        "id": "Cj4-_oOLn0d-",
        "colab": {
          "base_uri": "https://localhost:8080/"
        },
        "outputId": "e85fc1a3-bb1f-43c6-b63a-6526a11d6a4a"
      },
      "execution_count": 115,
      "outputs": [
        {
          "output_type": "stream",
          "name": "stdout",
          "text": [
            "Naive Bayes Accuracy Score ->  78.42105263157895\n",
            "              precision    recall  f1-score   support\n",
            "\n",
            "           0       0.67      0.90      0.77        63\n",
            "           1       0.86      0.49      0.62        61\n",
            "           3       0.89      0.94      0.91        66\n",
            "\n",
            "    accuracy                           0.78       190\n",
            "   macro avg       0.80      0.78      0.77       190\n",
            "weighted avg       0.81      0.78      0.77       190\n",
            "\n"
          ]
        }
      ]
    },
    {
      "cell_type": "code",
      "source": [
        "rf_classifier=RandomForestClassifier().fit(X_train,y_train)\n",
        "prediction=rf_classifier.predict(X_test)\n",
        "y.value_counts()\n",
        "from sklearn.metrics import confusion_matrix,classification_report,accuracy_score\n",
        "print(confusion_matrix(y_test,prediction))\n",
        "print(accuracy_score(y_test,prediction))\n",
        "print(classification_report(y_test,prediction))\n"
      ],
      "metadata": {
        "id": "687Dqme2uO1j"
      },
      "execution_count": null,
      "outputs": []
    },
    {
      "cell_type": "code",
      "source": [
        "rf_classifier=RandomForestClassifier( max_features='auto', min_samples_leaf=4, min_samples_split=5, n_estimators=1000).fit(X_train,y_train)\n",
        "prediction=rf_classifier.predict(X_test)\n",
        "y.value_counts()\n",
        "from sklearn.metrics import confusion_matrix,classification_report,accuracy_score\n",
        "print(confusion_matrix(y_test,prediction))\n",
        "print(accuracy_score(y_test,prediction))\n",
        "print(classification_report(y_test,prediction))\n"
      ],
      "metadata": {
        "id": "kGOmCZPxattD",
        "colab": {
          "base_uri": "https://localhost:8080/"
        },
        "outputId": "352833c4-317a-4be1-b6d5-26ae51ecf504"
      },
      "execution_count": 54,
      "outputs": [
        {
          "output_type": "stream",
          "name": "stdout",
          "text": [
            "[[48  7  8]\n",
            " [21 33  7]\n",
            " [ 0  0 66]]\n",
            "0.7736842105263158\n",
            "              precision    recall  f1-score   support\n",
            "\n",
            "           0       0.70      0.76      0.73        63\n",
            "           1       0.82      0.54      0.65        61\n",
            "           3       0.81      1.00      0.90        66\n",
            "\n",
            "    accuracy                           0.77       190\n",
            "   macro avg       0.78      0.77      0.76       190\n",
            "weighted avg       0.78      0.77      0.76       190\n",
            "\n"
          ]
        }
      ]
    },
    {
      "cell_type": "code",
      "source": [
        "from sklearn.ensemble import RandomForestClassifier\n",
        "rf_classifier=RandomForestClassifier(n_estimators=300).fit(X_train,y_train)\n",
        "prediction=rf_classifier.predict(X_test)\n",
        "y.value_counts()\n",
        "from sklearn.metrics import confusion_matrix,classification_report,accuracy_score\n",
        "print(confusion_matrix(y_test,prediction))\n",
        "print(accuracy_score(y_test,prediction))\n",
        "print(classification_report(y_test,prediction))\n"
      ],
      "metadata": {
        "id": "IRWZ_ooRBtUt",
        "colab": {
          "base_uri": "https://localhost:8080/"
        },
        "outputId": "71b1be79-bbc2-47d8-910d-9c43b46458c7"
      },
      "execution_count": 55,
      "outputs": [
        {
          "output_type": "stream",
          "name": "stdout",
          "text": [
            "[[52  4  7]\n",
            " [19 37  5]\n",
            " [ 0  0 66]]\n",
            "0.8157894736842105\n",
            "              precision    recall  f1-score   support\n",
            "\n",
            "           0       0.73      0.83      0.78        63\n",
            "           1       0.90      0.61      0.73        61\n",
            "           3       0.85      1.00      0.92        66\n",
            "\n",
            "    accuracy                           0.82       190\n",
            "   macro avg       0.83      0.81      0.81       190\n",
            "weighted avg       0.83      0.82      0.81       190\n",
            "\n"
          ]
        }
      ]
    },
    {
      "cell_type": "code",
      "source": [
        "# //"
      ],
      "metadata": {
        "id": "7-8lQ5DZPToN"
      },
      "execution_count": 56,
      "outputs": []
    },
    {
      "cell_type": "markdown",
      "source": [
        "# RF  Manual Hyperparameter Tuning"
      ],
      "metadata": {
        "id": "kRClOrW3CWTu"
      }
    },
    {
      "cell_type": "code",
      "source": [
        "# ### Manual Hyperparameter Tuning\n",
        "# # {'criterion': 'entropy',\n",
        "# #  'max_depth': 100,\n",
        "# #  'max_features': 'sqrt',\n",
        "# #  'min_samples_leaf': 1,\n",
        "# #  'min_samples_split': 2,\n",
        "# #  'n_estimators': 600}\n",
        "# model=RandomForestClassifier(n_estimators=900,criterion='entropy',\n",
        "#                              max_features='sqrt',min_samples_leaf=1,min_samples_split=2,random_state=100).fit(X_train,y_train)\n",
        "# predictions=model.predict(X_test)\n",
        "# print(confusion_matrix(y_test,predictions))\n",
        "# print(accuracy_score(y_test,predictions))\n",
        "# print(classification_report(y_test,predictions))"
      ],
      "metadata": {
        "id": "XSq8mL7bBwSM"
      },
      "execution_count": 57,
      "outputs": []
    },
    {
      "cell_type": "markdown",
      "source": [
        "#RF WITH RANDOMSEARCH CV"
      ],
      "metadata": {
        "id": "F3n29_YBCT8p"
      }
    },
    {
      "cell_type": "markdown",
      "source": [
        "RF WITH RANDOMSEARCH CV"
      ],
      "metadata": {
        "id": "TkbZtRh0CIaI"
      }
    },
    {
      "cell_type": "code",
      "source": [
        "import numpy as np\n",
        "from sklearn.ensemble import RandomForestClassifier\n",
        "from sklearn.model_selection import RandomizedSearchCV\n",
        "# Number of trees in random forest\n",
        "n_estimators = [int(x) for x in np.linspace(start = 200, stop = 2000, num = 10)]\n",
        "# Number of features to consider at every split\n",
        "max_features = ['auto', 'sqrt','log2']\n",
        "# Maximum number of levels in tree\n",
        "max_depth = [int(x) for x in np.linspace(50, 500,10)]\n",
        "# Minimum number of samples required to split a node\n",
        "min_samples_split = [2, 5, 10,14]\n",
        "# Minimum number of samples required at each leaf node\n",
        "min_samples_leaf = [1, 2, 4,6,8]\n",
        "# Create the random grid\n",
        "random_grid = {'n_estimators': n_estimators,\n",
        "               'max_features': max_features,\n",
        "               'max_depth': max_depth,\n",
        "               'min_samples_split': min_samples_split,\n",
        "               'min_samples_leaf': min_samples_leaf,\n",
        "              'criterion':['entropy','gini']}\n",
        "print(random_grid)"
      ],
      "metadata": {
        "id": "K-tGuuB9Bzs8",
        "colab": {
          "base_uri": "https://localhost:8080/"
        },
        "outputId": "9ba60864-2386-495a-a0ed-682a4069d857"
      },
      "execution_count": 58,
      "outputs": [
        {
          "output_type": "stream",
          "name": "stdout",
          "text": [
            "{'n_estimators': [200, 400, 600, 800, 1000, 1200, 1400, 1600, 1800, 2000], 'max_features': ['auto', 'sqrt', 'log2'], 'max_depth': [50, 100, 150, 200, 250, 300, 350, 400, 450, 500], 'min_samples_split': [2, 5, 10, 14], 'min_samples_leaf': [1, 2, 4, 6, 8], 'criterion': ['entropy', 'gini']}\n"
          ]
        }
      ]
    },
    {
      "cell_type": "code",
      "source": [
        "//"
      ],
      "metadata": {
        "colab": {
          "base_uri": "https://localhost:8080/",
          "height": 135
        },
        "id": "UR26i6IiFeMm",
        "outputId": "f50e0c91-8ca8-4d17-ffc2-87a22cf6ef94"
      },
      "execution_count": 59,
      "outputs": [
        {
          "output_type": "error",
          "ename": "SyntaxError",
          "evalue": "ignored",
          "traceback": [
            "\u001b[0;36m  File \u001b[0;32m\"<ipython-input-59-6648892c9bac>\"\u001b[0;36m, line \u001b[0;32m1\u001b[0m\n\u001b[0;31m    (/)\u001b[0m\n\u001b[0m     ^\u001b[0m\n\u001b[0;31mSyntaxError\u001b[0m\u001b[0;31m:\u001b[0m invalid syntax\n"
          ]
        }
      ]
    },
    {
      "cell_type": "code",
      "source": [
        "rf=RandomForestClassifier()\n",
        "rf_randomcv=RandomizedSearchCV(estimator=rf,param_distributions=random_grid,n_iter=20,cv=3,verbose=2,\n",
        "                               random_state=50,n_jobs=-1)\n",
        "### fit the randomized model\n",
        "rf_randomcv.fit(X_train,y_train)"
      ],
      "metadata": {
        "id": "ra9U6zclB19G"
      },
      "execution_count": null,
      "outputs": []
    },
    {
      "cell_type": "code",
      "source": [
        "rf_randomcv.best_params_"
      ],
      "metadata": {
        "id": "iQeTNCchB3Q0"
      },
      "execution_count": null,
      "outputs": []
    },
    {
      "cell_type": "code",
      "source": [
        "best_random_grid=rf_randomcv.best_estimator_\n",
        "from sklearn.metrics import accuracy_score\n",
        "y_pred=best_random_grid.predict(X_test)\n",
        "print(confusion_matrix(y_test,y_pred))\n",
        "print(\"Accuracy Score {}\".format(accuracy_score(y_test,y_pred)))\n",
        "print(\"Classification report: \\n {}\".format(classification_report(y_test,y_pred)))"
      ],
      "metadata": {
        "id": "KzPlQxeqB5y9"
      },
      "execution_count": null,
      "outputs": []
    },
    {
      "cell_type": "code",
      "source": [
        "//"
      ],
      "metadata": {
        "id": "0W6OZuPg3Dy-"
      },
      "execution_count": null,
      "outputs": []
    },
    {
      "cell_type": "markdown",
      "source": [
        "#RF WITH GridSearchCV\n"
      ],
      "metadata": {
        "id": "DFVEVXH4CPvU"
      }
    },
    {
      "cell_type": "markdown",
      "source": [
        "RF WITH GridSearchCV\n"
      ],
      "metadata": {
        "id": "HLVqyw_FCNF2"
      }
    },
    {
      "cell_type": "code",
      "source": [
        "from sklearn.model_selection import GridSearchCV\n",
        "\n",
        "param_grid = {\n",
        "    'criterion': [rf_randomcv.best_params_['criterion']],\n",
        "    'max_depth': [rf_randomcv.best_params_['max_depth']],\n",
        "    'max_features': [rf_randomcv.best_params_['max_features']],\n",
        "    'min_samples_leaf': [rf_randomcv.best_params_['min_samples_leaf'], \n",
        "                         rf_randomcv.best_params_['min_samples_leaf']+2, \n",
        "                         rf_randomcv.best_params_['min_samples_leaf'] + 4],\n",
        "    'min_samples_split': [rf_randomcv.best_params_['min_samples_split'] - 2,\n",
        "                          rf_randomcv.best_params_['min_samples_split'] - 1,\n",
        "                          rf_randomcv.best_params_['min_samples_split'], \n",
        "                          rf_randomcv.best_params_['min_samples_split'] +1,\n",
        "                          rf_randomcv.best_params_['min_samples_split'] + 2],\n",
        "    'n_estimators': [rf_randomcv.best_params_['n_estimators'] - 200, rf_randomcv.best_params_['n_estimators'] - 100, \n",
        "                     rf_randomcv.best_params_['n_estimators'], \n",
        "                     rf_randomcv.best_params_['n_estimators'] + 100, rf_randomcv.best_params_['n_estimators'] + 200]\n",
        "}\n",
        "\n",
        "print(param_grid)\n",
        "#### Fit the grid_search to the data\n",
        "rf=RandomForestClassifier()\n",
        "grid_search=GridSearchCV(estimator=rf,param_grid=param_grid,cv=10,n_jobs=-1,verbose=2)\n",
        "grid_search.fit(X_train,y_train)\n"
      ],
      "metadata": {
        "id": "iX0aeDzaCMCE"
      },
      "execution_count": null,
      "outputs": []
    },
    {
      "cell_type": "code",
      "source": [
        "//"
      ],
      "metadata": {
        "id": "dAhiSMhtrJih"
      },
      "execution_count": null,
      "outputs": []
    },
    {
      "cell_type": "markdown",
      "source": [
        "# RF WITH TPOT OPTIMIZATION"
      ],
      "metadata": {
        "id": "gPn6Fxzy26f7"
      }
    },
    {
      "cell_type": "code",
      "source": [
        "pip install tpot\n"
      ],
      "metadata": {
        "id": "wPLR8hUUMuv0"
      },
      "execution_count": null,
      "outputs": []
    },
    {
      "cell_type": "code",
      "source": [
        "from tpot import TPOTClassifier\n",
        "\n",
        "tpot_classifier = TPOTClassifier(generations= 3, population_size= 30, offspring_size= 10,\n",
        "                                 verbosity= 2, early_stop= 12,\n",
        "                                 config_dict={'sklearn.ensemble.RandomForestClassifier':param}, \n",
        "                                 cv = 4, scoring = ['accuracy','recall','precision'])\n",
        "tpot_classifier.fit(X_train,y_train)"
      ],
      "metadata": {
        "id": "_7QEpxwxLYql"
      },
      "execution_count": null,
      "outputs": []
    },
    {
      "cell_type": "code",
      "source": [
        "### Manual Hyperparameter Tuning\n",
        "# {'criterion': 'entropy',\n",
        "#  'max_depth': 100,\n",
        "#  'max_features': 'sqrt',\n",
        "#  'min_samples_leaf': 1,\n",
        "#  'min_samples_split': 2,\n",
        "#  'n_estimators': 600}\n",
        "#model=RandomForestClassifier( criterion='gini', max_depth=340, max_features='auto', min_samples_leaf=2, min_samples_split=5, n_estimators=2000).fit(X_train,y_train)\n",
        "model=RandomForestClassifier(criterion='entropy', max_depth=780, max_features='auto', min_samples_leaf=4, min_samples_split=5, n_estimators=1000).fit(X_train,y_train)\n",
        "predictions=model.predict(X_test)\n",
        "print(confusion_matrix(y_test,predictions))\n",
        "print(accuracy_score(y_test,predictions))\n",
        "print(classification_report(y_test,predictions))"
      ],
      "metadata": {
        "id": "amDFD8dBfbyR"
      },
      "execution_count": null,
      "outputs": []
    },
    {
      "cell_type": "code",
      "source": [
        "pip install optuna\n"
      ],
      "metadata": {
        "id": "3CqmZdypNHZX"
      },
      "execution_count": null,
      "outputs": []
    },
    {
      "cell_type": "code",
      "source": [
        "import optuna\n",
        "import sklearn.svm\n",
        "def objective(trial):\n",
        "\n",
        "    classifier = trial.suggest_categorical('classifier', ['RandomForest', 'SVC'])\n",
        "    \n",
        "    if classifier == 'RandomForest':\n",
        "        n_estimators = trial.suggest_int('n_estimators', 200, 2000,10)\n",
        "        max_depth = int(trial.suggest_float('max_depth', 10, 100, log=True))\n",
        "\n",
        "        clf = sklearn.ensemble.RandomForestClassifier(\n",
        "            n_estimators=n_estimators, max_depth=max_depth)\n",
        "    else:\n",
        "        c = trial.suggest_float('svc_c', 1e-10, 1e10, log=True)\n",
        "        \n",
        "        clf = sklearn.svm.SVC(C=c, gamma='auto')\n",
        "\n",
        "    return sklearn.model_selection.cross_val_score(\n",
        "        clf,X_train,y_train, n_jobs=-1, cv=3).mean()"
      ],
      "metadata": {
        "id": "EkpUsHpvM9YP"
      },
      "execution_count": null,
      "outputs": []
    },
    {
      "cell_type": "code",
      "source": [
        "study = optuna.create_study(direction='maximize')\n",
        "study.optimize(objective, n_trials=100)\n",
        "\n",
        "trial = study.best_trial\n",
        "\n",
        "print('Accuracy: {}'.format(trial.value))\n",
        "print(\"Best hyperparameters: {}\".format(trial.params))"
      ],
      "metadata": {
        "id": "nIyFlviSM_UY"
      },
      "execution_count": null,
      "outputs": []
    },
    {
      "cell_type": "code",
      "source": [
        "rf=RandomForestClassifier(n_estimators=330,max_depth=30)\n",
        "rf.fit(X_train,y_train)"
      ],
      "metadata": {
        "id": "FZLjJ7QfNDAT"
      },
      "execution_count": null,
      "outputs": []
    },
    {
      "cell_type": "code",
      "source": [
        "y_pred=rf.predict(X_test)\n",
        "print(confusion_matrix(y_test,y_pred))\n",
        "print(accuracy_score(y_test,y_pred))\n",
        "print(classification_report(y_test,y_pred))"
      ],
      "metadata": {
        "id": "s8DelnF9NGCY"
      },
      "execution_count": null,
      "outputs": []
    },
    {
      "cell_type": "markdown",
      "source": [
        ""
      ],
      "metadata": {
        "id": "2qDwTw3bNv1S"
      }
    },
    {
      "cell_type": "markdown",
      "source": [
        ""
      ],
      "metadata": {
        "id": "MegH8fYBNvzc"
      }
    },
    {
      "cell_type": "markdown",
      "source": [
        ""
      ],
      "metadata": {
        "id": "uplpzifzNvxh"
      }
    },
    {
      "cell_type": "code",
      "source": [
        "from sklearn.naive_bayes import MultinomialNB\n",
        "clf = MultinomialNB().fit(X_train, y_train)"
      ],
      "metadata": {
        "id": "uCKaKkSlNwRd"
      },
      "execution_count": null,
      "outputs": []
    },
    {
      "cell_type": "code",
      "source": [
        "from sklearn.pipeline import Pipeline\n",
        "text_clf = Pipeline([('vect', CountVectorizer()),\n",
        "                     ('tfidf', TfidfTransformer()),\n",
        "                     ('clf', MultinomialNB())])\n",
        "text_clf = text_clf.fit(X_train, y_train)"
      ],
      "metadata": {
        "id": "kh-NNrNhN1DT"
      },
      "execution_count": null,
      "outputs": []
    },
    {
      "cell_type": "code",
      "source": [
        "from sklearn.metrics import accuracy_score\n",
        "y_pred=text_clf.predict(X_test)\n",
        "print(confusion_matrix(y_test,y_pred))\n",
        "print(\"Accuracy Score {}\".format(accuracy_score(y_test,y_pred)))\n",
        "print(\"Classification report: \\n {}\".format(classification_report(y_test,y_pred)))"
      ],
      "metadata": {
        "id": "L6Z5m_3hOP2g"
      },
      "execution_count": null,
      "outputs": []
    },
    {
      "cell_type": "code",
      "source": [
        ""
      ],
      "metadata": {
        "id": "2jkOLQQ90LZa"
      },
      "execution_count": null,
      "outputs": []
    },
    {
      "cell_type": "code",
      "source": [
        ""
      ],
      "metadata": {
        "id": "cu8JzY70nTif"
      },
      "execution_count": null,
      "outputs": []
    },
    {
      "cell_type": "code",
      "source": [
        ""
      ],
      "metadata": {
        "id": "Jg_nqM5znXCA"
      },
      "execution_count": null,
      "outputs": []
    },
    {
      "cell_type": "markdown",
      "source": [
        "# EXTRA"
      ],
      "metadata": {
        "id": "6S-ZEMg2nXop"
      }
    },
    {
      "cell_type": "code",
      "source": [
        "from sklearn.linear_model import LogisticRegression\n",
        "from sklearn.svm import SVC\n",
        "from sklearn.naive_bayes import MultinomialNB\n",
        "from sklearn.tree import DecisionTreeClassifier\n",
        "from sklearn.neighbors import KNeighborsClassifier\n",
        "from sklearn.ensemble import RandomForestClassifier\n",
        "from sklearn.ensemble import AdaBoostClassifier\n",
        "from sklearn.ensemble import BaggingClassifier\n",
        "from sklearn.ensemble import ExtraTreesClassifier\n",
        "from sklearn.naive_bayes import GaussianNB,MultinomialNB,BernoulliNB\n",
        "from sklearn.metrics import accuracy_score,confusion_matrix,precision_score,recall_score\n",
        "from sklearn.ensemble import GradientBoostingClassifier\n",
        "from xgboost import XGBClassifier\n",
        "svc = SVC(kernel='sigmoid', gamma=1.0)\n",
        "knc = KNeighborsClassifier()\n",
        "mnb = MultinomialNB()\n",
        "dtc = DecisionTreeClassifier(max_depth=5)\n",
        "lrc = LogisticRegression(solver='liblinear', penalty='l1')\n",
        "rfc = RandomForestClassifier(n_estimators=50, random_state=2)\n",
        "abc = AdaBoostClassifier(n_estimators=50, random_state=2)\n",
        "bc = BaggingClassifier(n_estimators=50, random_state=2)\n",
        "etc = ExtraTreesClassifier(n_estimators=50, random_state=2)\n",
        "gbdt = GradientBoostingClassifier(n_estimators=50,random_state=2)\n",
        "xgb = XGBClassifier(n_estimators=50,random_state=2)\n",
        "clfs = {\n",
        "    'SVC' : svc,\n",
        "    'KN' : knc, \n",
        "    'NB': mnb, \n",
        "    'DT': dtc, \n",
        "    'LR': lrc, \n",
        "    'RF': rfc, \n",
        "    'AdaBoost': abc, \n",
        "    'BgC': bc, \n",
        "    'ETC': etc,\n",
        "    'GBDT':gbdt,\n",
        "    'xgb':xgb\n",
        "}\n",
        "def train_classifier(clf,X_train,y_train,X_test,y_test):\n",
        "    print(clf)\n",
        "    clf.fit(X_train,y_train)\n",
        "    y_pred = clf.predict(X_test)\n",
        "    accuracy = accuracy_score(y_test,y_pred)\n",
        "    precision = precision_score(y_test,y_pred,pos_label='positive',average=None)\n",
        "    recall =recall_score(y_test, y_pred,pos_label='positive',average=None)\n",
        "    return accuracy,precision,recall\n",
        "    \n",
        "train_classifier(svc,X_train,y_train,X_test,y_test)\n"
      ],
      "metadata": {
        "colab": {
          "base_uri": "https://localhost:8080/"
        },
        "id": "lr-sGadHoK_u",
        "outputId": "af207ec5-ff07-460d-dfe0-514cbba0cb85"
      },
      "execution_count": 77,
      "outputs": [
        {
          "output_type": "stream",
          "name": "stdout",
          "text": [
            "SVC(gamma=1.0, kernel='sigmoid')\n"
          ]
        },
        {
          "output_type": "execute_result",
          "data": {
            "text/plain": [
              "(0.8,\n",
              " array([0.74242424, 0.79166667, 0.85526316]),\n",
              " array([0.77777778, 0.62295082, 0.98484848]))"
            ]
          },
          "metadata": {},
          "execution_count": 77
        }
      ]
    },
    {
      "cell_type": "code",
      "source": [
        "import warnings\n",
        "warnings.filterwarnings(\"ignore\")"
      ],
      "metadata": {
        "id": "ymrSi8A0qi7-"
      },
      "execution_count": 73,
      "outputs": []
    },
    {
      "cell_type": "code",
      "source": [
        "accuracy_scores = []\n",
        "precision_scores = []\n",
        "\n",
        "for name,clf in clfs.items():\n",
        "    current_accuracy,current_precision,current_recall = train_classifier(clf, X_train,y_train,X_test,y_test)\n",
        "    print(\"For \",name)\n",
        "    print(\"Accuracy - \",current_accuracy)\n",
        "    print(\"Precision - \",current_precision)\n",
        "    print(\"Recall - \",current_recall)\n",
        "\n",
        "    \n",
        "    accuracy_scores.append(current_accuracy)\n",
        "    precision_scores.append(current_precision)"
      ],
      "metadata": {
        "colab": {
          "base_uri": "https://localhost:8080/"
        },
        "id": "6ULUxpv-oOsg",
        "outputId": "83290952-6635-479e-cbdd-66a64e798d38"
      },
      "execution_count": 78,
      "outputs": [
        {
          "output_type": "stream",
          "name": "stdout",
          "text": [
            "SVC(gamma=1.0, kernel='sigmoid')\n",
            "For  SVC\n",
            "Accuracy -  0.8\n",
            "Precision -  [0.74242424 0.79166667 0.85526316]\n",
            "Recall -  [0.77777778 0.62295082 0.98484848]\n",
            "KNeighborsClassifier()\n",
            "For  KN\n",
            "Accuracy -  0.7263157894736842\n",
            "Precision -  [0.63636364 0.68627451 0.87096774]\n",
            "Recall -  [0.77777778 0.57377049 0.81818182]\n",
            "MultinomialNB()\n",
            "For  NB\n",
            "Accuracy -  0.7789473684210526\n",
            "Precision -  [0.6627907  0.9        0.86486486]\n",
            "Recall -  [0.9047619  0.44262295 0.96969697]\n",
            "DecisionTreeClassifier(max_depth=5)\n",
            "For  DT\n",
            "Accuracy -  0.7421052631578947\n",
            "Precision -  [0.62711864 0.62295082 0.94285714]\n",
            "Recall -  [0.58730159 0.62295082 1.        ]\n",
            "LogisticRegression(penalty='l1', solver='liblinear')\n",
            "For  LR\n",
            "Accuracy -  0.6947368421052632\n",
            "Precision -  [0.60273973 0.6875     0.77647059]\n",
            "Recall -  [0.6984127  0.36065574 1.        ]\n",
            "RandomForestClassifier(n_estimators=50, random_state=2)\n",
            "For  RF\n",
            "Accuracy -  0.8157894736842105\n",
            "Precision -  [0.73239437 0.925      0.83544304]\n",
            "Recall -  [0.82539683 0.60655738 1.        ]\n",
            "AdaBoostClassifier(random_state=2)\n",
            "For  AdaBoost\n",
            "Accuracy -  0.7368421052631579\n",
            "Precision -  [0.62650602 0.66666667 0.90140845]\n",
            "Recall -  [0.82539683 0.39344262 0.96969697]\n",
            "BaggingClassifier(n_estimators=50, random_state=2)\n",
            "For  BgC\n",
            "Accuracy -  0.7842105263157895\n",
            "Precision -  [0.68852459 0.69491525 0.94285714]\n",
            "Recall -  [0.66666667 0.67213115 1.        ]\n",
            "ExtraTreesClassifier(n_estimators=50, random_state=2)\n",
            "For  ETC\n",
            "Accuracy -  0.8052631578947368\n",
            "Precision -  [0.75384615 0.84782609 0.82278481]\n",
            "Recall -  [0.77777778 0.63934426 0.98484848]\n",
            "GradientBoostingClassifier(n_estimators=50, random_state=2)\n",
            "For  GBDT\n",
            "Accuracy -  0.8\n",
            "Precision -  [0.72580645 0.74545455 0.90410959]\n",
            "Recall -  [0.71428571 0.67213115 1.        ]\n",
            "XGBClassifier(n_estimators=50, random_state=2)\n",
            "For  xgb\n",
            "Accuracy -  0.8105263157894737\n",
            "Precision -  [0.74576271 0.72131148 0.94285714]\n",
            "Recall -  [0.6984127  0.72131148 1.        ]\n"
          ]
        }
      ]
    }
  ]
}