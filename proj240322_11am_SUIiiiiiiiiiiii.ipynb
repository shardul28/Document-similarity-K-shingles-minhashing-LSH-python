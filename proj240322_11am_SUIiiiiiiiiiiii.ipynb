{
  "nbformat": 4,
  "nbformat_minor": 0,
  "metadata": {
    "colab": {
      "name": "proj210322.ipynb",
      "provenance": [],
      "collapsed_sections": [],
      "authorship_tag": "ABX9TyNUD/6/AdcHHPEO4usuMEDc",
      "include_colab_link": true
    },
    "kernelspec": {
      "name": "python3",
      "display_name": "Python 3"
    },
    "language_info": {
      "name": "python"
    }
  },
  "cells": [
    {
      "cell_type": "markdown",
      "metadata": {
        "id": "view-in-github",
        "colab_type": "text"
      },
      "source": [
        "<a href=\"https://colab.research.google.com/github/shardul28/Document-similarity-K-shingles-minhashing-LSH-python/blob/master/proj240322_11am_SUIiiiiiiiiiiii.ipynb\" target=\"_parent\"><img src=\"https://colab.research.google.com/assets/colab-badge.svg\" alt=\"Open In Colab\"/></a>"
      ]
    },
    {
      "cell_type": "code",
      "execution_count": null,
      "metadata": {
        "id": "IoJ8yC1Ixie-"
      },
      "outputs": [],
      "source": [
        ""
      ]
    },
    {
      "cell_type": "code",
      "source": [
        "from google.colab import drive\n",
        "drive.mount('/content/drive')"
      ],
      "metadata": {
        "colab": {
          "base_uri": "https://localhost:8080/"
        },
        "id": "2NVyxdYgydje",
        "outputId": "140ab67f-6812-4ab2-d742-6cb17e968d63"
      },
      "execution_count": null,
      "outputs": [
        {
          "output_type": "stream",
          "name": "stdout",
          "text": [
            "Drive already mounted at /content/drive; to attempt to forcibly remount, call drive.mount(\"/content/drive\", force_remount=True).\n"
          ]
        }
      ]
    },
    {
      "cell_type": "code",
      "source": [
        "import pandas as pd\n",
        "import numpy as np\n",
        "import tensorflow as tf\n",
        "from tensorflow import keras\n",
        "from tensorflow.keras import layers\n",
        "from tensorflow.keras.models import Sequential\n",
        "from tensorflow.keras.layers import Dense, Dropout, Embedding\n",
        "from tensorflow.keras.optimizers import Adam\n",
        "\n"
      ],
      "metadata": {
        "id": "1x5SdjByyf4M"
      },
      "execution_count": null,
      "outputs": []
    },
    {
      "cell_type": "code",
      "source": [
        "cd /content/drive/MyDrive/republic ndtv data/testing_data/"
      ],
      "metadata": {
        "colab": {
          "base_uri": "https://localhost:8080/"
        },
        "id": "uySZw32hzaRs",
        "outputId": "c496032c-7189-48f3-fcb1-c24fc7a88d13"
      },
      "execution_count": null,
      "outputs": [
        {
          "output_type": "stream",
          "name": "stdout",
          "text": [
            "/content/drive/MyDrive/republic ndtv data/testing_data\n"
          ]
        }
      ]
    },
    {
      "cell_type": "code",
      "source": [
        "df=pd.read_csv('/content/drive/MyDrive/republic ndtv data/testing_data/ndtv - Sheet1.csv')"
      ],
      "metadata": {
        "id": "n-xmALXyzUic"
      },
      "execution_count": null,
      "outputs": []
    },
    {
      "cell_type": "code",
      "source": [
        "df"
      ],
      "metadata": {
        "colab": {
          "base_uri": "https://localhost:8080/",
          "height": 659
        },
        "id": "UUL0Zw5szhRD",
        "outputId": "7e69e1a1-5541-4ee2-f207-86f9146efb7a"
      },
      "execution_count": null,
      "outputs": [
        {
          "output_type": "execute_result",
          "data": {
            "text/plain": [
              "      Unnamed: 0                            time  \\\n",
              "0              0  Mon Oct 11 07:47:24 +0000 2021   \n",
              "1              1  Mon Oct 11 07:38:49 +0000 2021   \n",
              "2              2  Mon Oct 11 07:31:00 +0000 2021   \n",
              "3              3  Mon Oct 11 07:30:21 +0000 2021   \n",
              "4              4  Mon Oct 11 07:20:48 +0000 2021   \n",
              "...          ...                             ...   \n",
              "1366        1366  Fri Oct 01 02:24:33 +0000 2021   \n",
              "1367        1367  Fri Oct 01 02:12:57 +0000 2021   \n",
              "1368        1368  Fri Oct 01 02:12:52 +0000 2021   \n",
              "1369        1369  Fri Oct 01 02:12:46 +0000 2021   \n",
              "1370        1370  Fri Oct 01 01:38:16 +0000 2021   \n",
              "\n",
              "                                                   text  \\\n",
              "0     Army Officer, 4 Others Killed In Encounter In ...   \n",
              "1     #AryanKhan Case: No Bail For Him Today, Next H...   \n",
              "2     RT @ndtvfeed: Ex-National Conference Leaders D...   \n",
              "3     RT @ndtvfeed: US Has Lost AI Battle To China, ...   \n",
              "4     RT @ndtvfeed: A Look At Inspiring Messages On ...   \n",
              "...                                                 ...   \n",
              "1366  RT @ndtvfeed: On North Korea, Joe Biden's \"No ...   \n",
              "1367  RT @ndtvfeed: \"Very Honest\" About Concerns On ...   \n",
              "1368  RT @ndtvfeed: Iran To Set Date In \"Weeks\" For ...   \n",
              "1369  RT @ndtvfeed: European Union, Australia Trade ...   \n",
              "1370  RT @ndtvfeed: \"Modest Gains\": 2% Or Fewer In M...   \n",
              "\n",
              "                                                    url  retweet_count  \\\n",
              "0     https://www.ndtv.com/india-news/army-officer-4...              9   \n",
              "1     https://ndtv.com/india-news/mumbai-drug-bust-c...              5   \n",
              "2     https://www.ndtv.com/india-news/after-resignin...              2   \n",
              "3     https://www.ndtv.com/world-news/us-has-lost-ar...              5   \n",
              "4     https://www.ndtv.com/india-news/on-internation...              3   \n",
              "...                                                 ...            ...   \n",
              "1366  https://www.ndtv.com/world-news/north-korea-us...              2   \n",
              "1367  https://www.ndtv.com/world-news/us-very-honest...              4   \n",
              "1368  https://www.ndtv.com/world-news/iran-nuclear-t...              3   \n",
              "1369  https://www.ndtv.com/world-news/submarine-row-...              3   \n",
              "1370  https://www.ndtv.com/world-news/coronavirus-2-...              8   \n",
              "\n",
              "      favorite_count  left 0 right 1  \\\n",
              "0                 63             NaN   \n",
              "1                 44             NaN   \n",
              "2                  0             1.0   \n",
              "3                  0             0.0   \n",
              "4                  0             NaN   \n",
              "...              ...             ...   \n",
              "1366               0             NaN   \n",
              "1367               0             NaN   \n",
              "1368               0             NaN   \n",
              "1369               0             NaN   \n",
              "1370               0             NaN   \n",
              "\n",
              "                                                  title  \\\n",
              "0     Army Officer, 4 Personnel Killed In Encounter ...   \n",
              "1     Aryan Khan Case: No Bail For Him Today, Next H...   \n",
              "2     Ex-National Conference Leaders Devender Rana, ...   \n",
              "3     US Has Lost AI Battle To China, Pentagon's Ex-...   \n",
              "4     International Day Of The Girl Child 2021: Lead...   \n",
              "...                                                 ...   \n",
              "1366  On North Korea, Joe Biden's \"No Urgency\" Polic...   \n",
              "1367  \"Been Very Honest About Concerns With Pak\" Ove...   \n",
              "1368  Iran To Set Date In \"Weeks\" To Return To Nucle...   \n",
              "1369  European Union, Australia Trade Talks Postpone...   \n",
              "1370  \"Modest Gains\": 2% Or Fewer In Many African Na...   \n",
              "\n",
              "                                                content  \n",
              "0     an army officer and four other personnel were ...  \n",
              "1     aryan khan did not get bail today for the thir...  \n",
              "2     a day after resigning from the national confer...  \n",
              "3     china has won the artificial intelligence batt...  \n",
              "4     various world leaders and un agencies posted w...  \n",
              "...                                                 ...  \n",
              "1366  during their only meeting, barack obama warned...  \n",
              "1367  the us has been very honest about its concerns...  \n",
              "1368  iran's new government will in the next few wee...  \n",
              "1369  a long-planned round of australia-eu free trad...  \n",
              "1370  just two percent of the population, or fewer, ...  \n",
              "\n",
              "[1371 rows x 9 columns]"
            ],
            "text/html": [
              "\n",
              "  <div id=\"df-50c5d31e-3bec-4049-8f58-8dc6ab8e0377\">\n",
              "    <div class=\"colab-df-container\">\n",
              "      <div>\n",
              "<style scoped>\n",
              "    .dataframe tbody tr th:only-of-type {\n",
              "        vertical-align: middle;\n",
              "    }\n",
              "\n",
              "    .dataframe tbody tr th {\n",
              "        vertical-align: top;\n",
              "    }\n",
              "\n",
              "    .dataframe thead th {\n",
              "        text-align: right;\n",
              "    }\n",
              "</style>\n",
              "<table border=\"1\" class=\"dataframe\">\n",
              "  <thead>\n",
              "    <tr style=\"text-align: right;\">\n",
              "      <th></th>\n",
              "      <th>Unnamed: 0</th>\n",
              "      <th>time</th>\n",
              "      <th>text</th>\n",
              "      <th>url</th>\n",
              "      <th>retweet_count</th>\n",
              "      <th>favorite_count</th>\n",
              "      <th>left 0 right 1</th>\n",
              "      <th>title</th>\n",
              "      <th>content</th>\n",
              "    </tr>\n",
              "  </thead>\n",
              "  <tbody>\n",
              "    <tr>\n",
              "      <th>0</th>\n",
              "      <td>0</td>\n",
              "      <td>Mon Oct 11 07:47:24 +0000 2021</td>\n",
              "      <td>Army Officer, 4 Others Killed In Encounter In ...</td>\n",
              "      <td>https://www.ndtv.com/india-news/army-officer-4...</td>\n",
              "      <td>9</td>\n",
              "      <td>63</td>\n",
              "      <td>NaN</td>\n",
              "      <td>Army Officer, 4 Personnel Killed In Encounter ...</td>\n",
              "      <td>an army officer and four other personnel were ...</td>\n",
              "    </tr>\n",
              "    <tr>\n",
              "      <th>1</th>\n",
              "      <td>1</td>\n",
              "      <td>Mon Oct 11 07:38:49 +0000 2021</td>\n",
              "      <td>#AryanKhan Case: No Bail For Him Today, Next H...</td>\n",
              "      <td>https://ndtv.com/india-news/mumbai-drug-bust-c...</td>\n",
              "      <td>5</td>\n",
              "      <td>44</td>\n",
              "      <td>NaN</td>\n",
              "      <td>Aryan Khan Case: No Bail For Him Today, Next H...</td>\n",
              "      <td>aryan khan did not get bail today for the thir...</td>\n",
              "    </tr>\n",
              "    <tr>\n",
              "      <th>2</th>\n",
              "      <td>2</td>\n",
              "      <td>Mon Oct 11 07:31:00 +0000 2021</td>\n",
              "      <td>RT @ndtvfeed: Ex-National Conference Leaders D...</td>\n",
              "      <td>https://www.ndtv.com/india-news/after-resignin...</td>\n",
              "      <td>2</td>\n",
              "      <td>0</td>\n",
              "      <td>1.0</td>\n",
              "      <td>Ex-National Conference Leaders Devender Rana, ...</td>\n",
              "      <td>a day after resigning from the national confer...</td>\n",
              "    </tr>\n",
              "    <tr>\n",
              "      <th>3</th>\n",
              "      <td>3</td>\n",
              "      <td>Mon Oct 11 07:30:21 +0000 2021</td>\n",
              "      <td>RT @ndtvfeed: US Has Lost AI Battle To China, ...</td>\n",
              "      <td>https://www.ndtv.com/world-news/us-has-lost-ar...</td>\n",
              "      <td>5</td>\n",
              "      <td>0</td>\n",
              "      <td>0.0</td>\n",
              "      <td>US Has Lost AI Battle To China, Pentagon's Ex-...</td>\n",
              "      <td>china has won the artificial intelligence batt...</td>\n",
              "    </tr>\n",
              "    <tr>\n",
              "      <th>4</th>\n",
              "      <td>4</td>\n",
              "      <td>Mon Oct 11 07:20:48 +0000 2021</td>\n",
              "      <td>RT @ndtvfeed: A Look At Inspiring Messages On ...</td>\n",
              "      <td>https://www.ndtv.com/india-news/on-internation...</td>\n",
              "      <td>3</td>\n",
              "      <td>0</td>\n",
              "      <td>NaN</td>\n",
              "      <td>International Day Of The Girl Child 2021: Lead...</td>\n",
              "      <td>various world leaders and un agencies posted w...</td>\n",
              "    </tr>\n",
              "    <tr>\n",
              "      <th>...</th>\n",
              "      <td>...</td>\n",
              "      <td>...</td>\n",
              "      <td>...</td>\n",
              "      <td>...</td>\n",
              "      <td>...</td>\n",
              "      <td>...</td>\n",
              "      <td>...</td>\n",
              "      <td>...</td>\n",
              "      <td>...</td>\n",
              "    </tr>\n",
              "    <tr>\n",
              "      <th>1366</th>\n",
              "      <td>1366</td>\n",
              "      <td>Fri Oct 01 02:24:33 +0000 2021</td>\n",
              "      <td>RT @ndtvfeed: On North Korea, Joe Biden's \"No ...</td>\n",
              "      <td>https://www.ndtv.com/world-news/north-korea-us...</td>\n",
              "      <td>2</td>\n",
              "      <td>0</td>\n",
              "      <td>NaN</td>\n",
              "      <td>On North Korea, Joe Biden's \"No Urgency\" Polic...</td>\n",
              "      <td>during their only meeting, barack obama warned...</td>\n",
              "    </tr>\n",
              "    <tr>\n",
              "      <th>1367</th>\n",
              "      <td>1367</td>\n",
              "      <td>Fri Oct 01 02:12:57 +0000 2021</td>\n",
              "      <td>RT @ndtvfeed: \"Very Honest\" About Concerns On ...</td>\n",
              "      <td>https://www.ndtv.com/world-news/us-very-honest...</td>\n",
              "      <td>4</td>\n",
              "      <td>0</td>\n",
              "      <td>NaN</td>\n",
              "      <td>\"Been Very Honest About Concerns With Pak\" Ove...</td>\n",
              "      <td>the us has been very honest about its concerns...</td>\n",
              "    </tr>\n",
              "    <tr>\n",
              "      <th>1368</th>\n",
              "      <td>1368</td>\n",
              "      <td>Fri Oct 01 02:12:52 +0000 2021</td>\n",
              "      <td>RT @ndtvfeed: Iran To Set Date In \"Weeks\" For ...</td>\n",
              "      <td>https://www.ndtv.com/world-news/iran-nuclear-t...</td>\n",
              "      <td>3</td>\n",
              "      <td>0</td>\n",
              "      <td>NaN</td>\n",
              "      <td>Iran To Set Date In \"Weeks\" To Return To Nucle...</td>\n",
              "      <td>iran's new government will in the next few wee...</td>\n",
              "    </tr>\n",
              "    <tr>\n",
              "      <th>1369</th>\n",
              "      <td>1369</td>\n",
              "      <td>Fri Oct 01 02:12:46 +0000 2021</td>\n",
              "      <td>RT @ndtvfeed: European Union, Australia Trade ...</td>\n",
              "      <td>https://www.ndtv.com/world-news/submarine-row-...</td>\n",
              "      <td>3</td>\n",
              "      <td>0</td>\n",
              "      <td>NaN</td>\n",
              "      <td>European Union, Australia Trade Talks Postpone...</td>\n",
              "      <td>a long-planned round of australia-eu free trad...</td>\n",
              "    </tr>\n",
              "    <tr>\n",
              "      <th>1370</th>\n",
              "      <td>1370</td>\n",
              "      <td>Fri Oct 01 01:38:16 +0000 2021</td>\n",
              "      <td>RT @ndtvfeed: \"Modest Gains\": 2% Or Fewer In M...</td>\n",
              "      <td>https://www.ndtv.com/world-news/coronavirus-2-...</td>\n",
              "      <td>8</td>\n",
              "      <td>0</td>\n",
              "      <td>NaN</td>\n",
              "      <td>\"Modest Gains\": 2% Or Fewer In Many African Na...</td>\n",
              "      <td>just two percent of the population, or fewer, ...</td>\n",
              "    </tr>\n",
              "  </tbody>\n",
              "</table>\n",
              "<p>1371 rows × 9 columns</p>\n",
              "</div>\n",
              "      <button class=\"colab-df-convert\" onclick=\"convertToInteractive('df-50c5d31e-3bec-4049-8f58-8dc6ab8e0377')\"\n",
              "              title=\"Convert this dataframe to an interactive table.\"\n",
              "              style=\"display:none;\">\n",
              "        \n",
              "  <svg xmlns=\"http://www.w3.org/2000/svg\" height=\"24px\"viewBox=\"0 0 24 24\"\n",
              "       width=\"24px\">\n",
              "    <path d=\"M0 0h24v24H0V0z\" fill=\"none\"/>\n",
              "    <path d=\"M18.56 5.44l.94 2.06.94-2.06 2.06-.94-2.06-.94-.94-2.06-.94 2.06-2.06.94zm-11 1L8.5 8.5l.94-2.06 2.06-.94-2.06-.94L8.5 2.5l-.94 2.06-2.06.94zm10 10l.94 2.06.94-2.06 2.06-.94-2.06-.94-.94-2.06-.94 2.06-2.06.94z\"/><path d=\"M17.41 7.96l-1.37-1.37c-.4-.4-.92-.59-1.43-.59-.52 0-1.04.2-1.43.59L10.3 9.45l-7.72 7.72c-.78.78-.78 2.05 0 2.83L4 21.41c.39.39.9.59 1.41.59.51 0 1.02-.2 1.41-.59l7.78-7.78 2.81-2.81c.8-.78.8-2.07 0-2.86zM5.41 20L4 18.59l7.72-7.72 1.47 1.35L5.41 20z\"/>\n",
              "  </svg>\n",
              "      </button>\n",
              "      \n",
              "  <style>\n",
              "    .colab-df-container {\n",
              "      display:flex;\n",
              "      flex-wrap:wrap;\n",
              "      gap: 12px;\n",
              "    }\n",
              "\n",
              "    .colab-df-convert {\n",
              "      background-color: #E8F0FE;\n",
              "      border: none;\n",
              "      border-radius: 50%;\n",
              "      cursor: pointer;\n",
              "      display: none;\n",
              "      fill: #1967D2;\n",
              "      height: 32px;\n",
              "      padding: 0 0 0 0;\n",
              "      width: 32px;\n",
              "    }\n",
              "\n",
              "    .colab-df-convert:hover {\n",
              "      background-color: #E2EBFA;\n",
              "      box-shadow: 0px 1px 2px rgba(60, 64, 67, 0.3), 0px 1px 3px 1px rgba(60, 64, 67, 0.15);\n",
              "      fill: #174EA6;\n",
              "    }\n",
              "\n",
              "    [theme=dark] .colab-df-convert {\n",
              "      background-color: #3B4455;\n",
              "      fill: #D2E3FC;\n",
              "    }\n",
              "\n",
              "    [theme=dark] .colab-df-convert:hover {\n",
              "      background-color: #434B5C;\n",
              "      box-shadow: 0px 1px 3px 1px rgba(0, 0, 0, 0.15);\n",
              "      filter: drop-shadow(0px 1px 2px rgba(0, 0, 0, 0.3));\n",
              "      fill: #FFFFFF;\n",
              "    }\n",
              "  </style>\n",
              "\n",
              "      <script>\n",
              "        const buttonEl =\n",
              "          document.querySelector('#df-50c5d31e-3bec-4049-8f58-8dc6ab8e0377 button.colab-df-convert');\n",
              "        buttonEl.style.display =\n",
              "          google.colab.kernel.accessAllowed ? 'block' : 'none';\n",
              "\n",
              "        async function convertToInteractive(key) {\n",
              "          const element = document.querySelector('#df-50c5d31e-3bec-4049-8f58-8dc6ab8e0377');\n",
              "          const dataTable =\n",
              "            await google.colab.kernel.invokeFunction('convertToInteractive',\n",
              "                                                     [key], {});\n",
              "          if (!dataTable) return;\n",
              "\n",
              "          const docLinkHtml = 'Like what you see? Visit the ' +\n",
              "            '<a target=\"_blank\" href=https://colab.research.google.com/notebooks/data_table.ipynb>data table notebook</a>'\n",
              "            + ' to learn more about interactive tables.';\n",
              "          element.innerHTML = '';\n",
              "          dataTable['output_type'] = 'display_data';\n",
              "          await google.colab.output.renderOutput(dataTable, element);\n",
              "          const docLink = document.createElement('div');\n",
              "          docLink.innerHTML = docLinkHtml;\n",
              "          element.appendChild(docLink);\n",
              "        }\n",
              "      </script>\n",
              "    </div>\n",
              "  </div>\n",
              "  "
            ]
          },
          "metadata": {},
          "execution_count": 85
        }
      ]
    },
    {
      "cell_type": "code",
      "source": [
        "##CHECKING NULL VALUES\n",
        "print(df.isna().sum())\n"
      ],
      "metadata": {
        "colab": {
          "base_uri": "https://localhost:8080/"
        },
        "id": "zpvHGoYtziob",
        "outputId": "8ba3542d-fc5e-4ecc-f0c4-102a41784072"
      },
      "execution_count": null,
      "outputs": [
        {
          "output_type": "stream",
          "name": "stdout",
          "text": [
            "Unnamed: 0           0\n",
            "time                 0\n",
            "text                 0\n",
            "url                  0\n",
            "retweet_count        0\n",
            "favorite_count       0\n",
            "left 0 right 1    1042\n",
            "title                0\n",
            "content              0\n",
            "dtype: int64\n"
          ]
        }
      ]
    },
    {
      "cell_type": "code",
      "source": [
        "df.columns"
      ],
      "metadata": {
        "colab": {
          "base_uri": "https://localhost:8080/"
        },
        "id": "YA653zoK0HkD",
        "outputId": "3f48cf52-9380-4884-a125-7ed5754b3e10"
      },
      "execution_count": null,
      "outputs": [
        {
          "output_type": "execute_result",
          "data": {
            "text/plain": [
              "Index(['Unnamed: 0', 'time', 'text', 'url', 'retweet_count', 'favorite_count',\n",
              "       'left 0 right 1', 'title', 'content'],\n",
              "      dtype='object')"
            ]
          },
          "metadata": {},
          "execution_count": 87
        }
      ]
    },
    {
      "cell_type": "code",
      "source": [
        "##bias=left 0 right 1 unbiased 3"
      ],
      "metadata": {
        "id": "FGPGaCK10HeT"
      },
      "execution_count": null,
      "outputs": []
    },
    {
      "cell_type": "code",
      "source": [
        "df.rename(columns = {'left 0 right 1':'bias'}, inplace = True)"
      ],
      "metadata": {
        "id": "7ID7LkESz_b1"
      },
      "execution_count": null,
      "outputs": []
    },
    {
      "cell_type": "code",
      "source": [
        "df=df.fillna({'bias':3})"
      ],
      "metadata": {
        "id": "eZyMjI8bzter"
      },
      "execution_count": null,
      "outputs": []
    },
    {
      "cell_type": "code",
      "source": [
        "df['bias']=df['bias'].astype(int)"
      ],
      "metadata": {
        "id": "9HJC7jv40xvj"
      },
      "execution_count": null,
      "outputs": []
    },
    {
      "cell_type": "code",
      "source": [
        "df.columns"
      ],
      "metadata": {
        "colab": {
          "base_uri": "https://localhost:8080/"
        },
        "id": "82wNfcQi1KnF",
        "outputId": "e7e5221c-1dae-4a15-cf5f-791ffff6ac5e"
      },
      "execution_count": null,
      "outputs": [
        {
          "output_type": "execute_result",
          "data": {
            "text/plain": [
              "Index(['Unnamed: 0', 'time', 'text', 'url', 'retweet_count', 'favorite_count',\n",
              "       'bias', 'title', 'content'],\n",
              "      dtype='object')"
            ]
          },
          "metadata": {},
          "execution_count": 92
        }
      ]
    },
    {
      "cell_type": "code",
      "source": [
        "##REMOVING 'Unnamed: 0', 'time', 'url' \n",
        "df=df[['text','retweet_count', 'favorite_count',\n",
        "       'bias', 'title', 'content']]"
      ],
      "metadata": {
        "id": "DQINpOR_1QK1"
      },
      "execution_count": null,
      "outputs": []
    },
    {
      "cell_type": "code",
      "source": [
        "df"
      ],
      "metadata": {
        "colab": {
          "base_uri": "https://localhost:8080/",
          "height": 424
        },
        "id": "1eZm-5r71dBT",
        "outputId": "8fc8f901-65be-4af6-950f-63868ec7fc4e"
      },
      "execution_count": null,
      "outputs": [
        {
          "output_type": "execute_result",
          "data": {
            "text/plain": [
              "                                                   text  retweet_count  \\\n",
              "0     Army Officer, 4 Others Killed In Encounter In ...              9   \n",
              "1     #AryanKhan Case: No Bail For Him Today, Next H...              5   \n",
              "2     RT @ndtvfeed: Ex-National Conference Leaders D...              2   \n",
              "3     RT @ndtvfeed: US Has Lost AI Battle To China, ...              5   \n",
              "4     RT @ndtvfeed: A Look At Inspiring Messages On ...              3   \n",
              "...                                                 ...            ...   \n",
              "1366  RT @ndtvfeed: On North Korea, Joe Biden's \"No ...              2   \n",
              "1367  RT @ndtvfeed: \"Very Honest\" About Concerns On ...              4   \n",
              "1368  RT @ndtvfeed: Iran To Set Date In \"Weeks\" For ...              3   \n",
              "1369  RT @ndtvfeed: European Union, Australia Trade ...              3   \n",
              "1370  RT @ndtvfeed: \"Modest Gains\": 2% Or Fewer In M...              8   \n",
              "\n",
              "      favorite_count  bias                                              title  \\\n",
              "0                 63     3  Army Officer, 4 Personnel Killed In Encounter ...   \n",
              "1                 44     3  Aryan Khan Case: No Bail For Him Today, Next H...   \n",
              "2                  0     1  Ex-National Conference Leaders Devender Rana, ...   \n",
              "3                  0     0  US Has Lost AI Battle To China, Pentagon's Ex-...   \n",
              "4                  0     3  International Day Of The Girl Child 2021: Lead...   \n",
              "...              ...   ...                                                ...   \n",
              "1366               0     3  On North Korea, Joe Biden's \"No Urgency\" Polic...   \n",
              "1367               0     3  \"Been Very Honest About Concerns With Pak\" Ove...   \n",
              "1368               0     3  Iran To Set Date In \"Weeks\" To Return To Nucle...   \n",
              "1369               0     3  European Union, Australia Trade Talks Postpone...   \n",
              "1370               0     3  \"Modest Gains\": 2% Or Fewer In Many African Na...   \n",
              "\n",
              "                                                content  \n",
              "0     an army officer and four other personnel were ...  \n",
              "1     aryan khan did not get bail today for the thir...  \n",
              "2     a day after resigning from the national confer...  \n",
              "3     china has won the artificial intelligence batt...  \n",
              "4     various world leaders and un agencies posted w...  \n",
              "...                                                 ...  \n",
              "1366  during their only meeting, barack obama warned...  \n",
              "1367  the us has been very honest about its concerns...  \n",
              "1368  iran's new government will in the next few wee...  \n",
              "1369  a long-planned round of australia-eu free trad...  \n",
              "1370  just two percent of the population, or fewer, ...  \n",
              "\n",
              "[1371 rows x 6 columns]"
            ],
            "text/html": [
              "\n",
              "  <div id=\"df-6ec9c4ea-9a3b-485b-aff0-5427aeafb7e7\">\n",
              "    <div class=\"colab-df-container\">\n",
              "      <div>\n",
              "<style scoped>\n",
              "    .dataframe tbody tr th:only-of-type {\n",
              "        vertical-align: middle;\n",
              "    }\n",
              "\n",
              "    .dataframe tbody tr th {\n",
              "        vertical-align: top;\n",
              "    }\n",
              "\n",
              "    .dataframe thead th {\n",
              "        text-align: right;\n",
              "    }\n",
              "</style>\n",
              "<table border=\"1\" class=\"dataframe\">\n",
              "  <thead>\n",
              "    <tr style=\"text-align: right;\">\n",
              "      <th></th>\n",
              "      <th>text</th>\n",
              "      <th>retweet_count</th>\n",
              "      <th>favorite_count</th>\n",
              "      <th>bias</th>\n",
              "      <th>title</th>\n",
              "      <th>content</th>\n",
              "    </tr>\n",
              "  </thead>\n",
              "  <tbody>\n",
              "    <tr>\n",
              "      <th>0</th>\n",
              "      <td>Army Officer, 4 Others Killed In Encounter In ...</td>\n",
              "      <td>9</td>\n",
              "      <td>63</td>\n",
              "      <td>3</td>\n",
              "      <td>Army Officer, 4 Personnel Killed In Encounter ...</td>\n",
              "      <td>an army officer and four other personnel were ...</td>\n",
              "    </tr>\n",
              "    <tr>\n",
              "      <th>1</th>\n",
              "      <td>#AryanKhan Case: No Bail For Him Today, Next H...</td>\n",
              "      <td>5</td>\n",
              "      <td>44</td>\n",
              "      <td>3</td>\n",
              "      <td>Aryan Khan Case: No Bail For Him Today, Next H...</td>\n",
              "      <td>aryan khan did not get bail today for the thir...</td>\n",
              "    </tr>\n",
              "    <tr>\n",
              "      <th>2</th>\n",
              "      <td>RT @ndtvfeed: Ex-National Conference Leaders D...</td>\n",
              "      <td>2</td>\n",
              "      <td>0</td>\n",
              "      <td>1</td>\n",
              "      <td>Ex-National Conference Leaders Devender Rana, ...</td>\n",
              "      <td>a day after resigning from the national confer...</td>\n",
              "    </tr>\n",
              "    <tr>\n",
              "      <th>3</th>\n",
              "      <td>RT @ndtvfeed: US Has Lost AI Battle To China, ...</td>\n",
              "      <td>5</td>\n",
              "      <td>0</td>\n",
              "      <td>0</td>\n",
              "      <td>US Has Lost AI Battle To China, Pentagon's Ex-...</td>\n",
              "      <td>china has won the artificial intelligence batt...</td>\n",
              "    </tr>\n",
              "    <tr>\n",
              "      <th>4</th>\n",
              "      <td>RT @ndtvfeed: A Look At Inspiring Messages On ...</td>\n",
              "      <td>3</td>\n",
              "      <td>0</td>\n",
              "      <td>3</td>\n",
              "      <td>International Day Of The Girl Child 2021: Lead...</td>\n",
              "      <td>various world leaders and un agencies posted w...</td>\n",
              "    </tr>\n",
              "    <tr>\n",
              "      <th>...</th>\n",
              "      <td>...</td>\n",
              "      <td>...</td>\n",
              "      <td>...</td>\n",
              "      <td>...</td>\n",
              "      <td>...</td>\n",
              "      <td>...</td>\n",
              "    </tr>\n",
              "    <tr>\n",
              "      <th>1366</th>\n",
              "      <td>RT @ndtvfeed: On North Korea, Joe Biden's \"No ...</td>\n",
              "      <td>2</td>\n",
              "      <td>0</td>\n",
              "      <td>3</td>\n",
              "      <td>On North Korea, Joe Biden's \"No Urgency\" Polic...</td>\n",
              "      <td>during their only meeting, barack obama warned...</td>\n",
              "    </tr>\n",
              "    <tr>\n",
              "      <th>1367</th>\n",
              "      <td>RT @ndtvfeed: \"Very Honest\" About Concerns On ...</td>\n",
              "      <td>4</td>\n",
              "      <td>0</td>\n",
              "      <td>3</td>\n",
              "      <td>\"Been Very Honest About Concerns With Pak\" Ove...</td>\n",
              "      <td>the us has been very honest about its concerns...</td>\n",
              "    </tr>\n",
              "    <tr>\n",
              "      <th>1368</th>\n",
              "      <td>RT @ndtvfeed: Iran To Set Date In \"Weeks\" For ...</td>\n",
              "      <td>3</td>\n",
              "      <td>0</td>\n",
              "      <td>3</td>\n",
              "      <td>Iran To Set Date In \"Weeks\" To Return To Nucle...</td>\n",
              "      <td>iran's new government will in the next few wee...</td>\n",
              "    </tr>\n",
              "    <tr>\n",
              "      <th>1369</th>\n",
              "      <td>RT @ndtvfeed: European Union, Australia Trade ...</td>\n",
              "      <td>3</td>\n",
              "      <td>0</td>\n",
              "      <td>3</td>\n",
              "      <td>European Union, Australia Trade Talks Postpone...</td>\n",
              "      <td>a long-planned round of australia-eu free trad...</td>\n",
              "    </tr>\n",
              "    <tr>\n",
              "      <th>1370</th>\n",
              "      <td>RT @ndtvfeed: \"Modest Gains\": 2% Or Fewer In M...</td>\n",
              "      <td>8</td>\n",
              "      <td>0</td>\n",
              "      <td>3</td>\n",
              "      <td>\"Modest Gains\": 2% Or Fewer In Many African Na...</td>\n",
              "      <td>just two percent of the population, or fewer, ...</td>\n",
              "    </tr>\n",
              "  </tbody>\n",
              "</table>\n",
              "<p>1371 rows × 6 columns</p>\n",
              "</div>\n",
              "      <button class=\"colab-df-convert\" onclick=\"convertToInteractive('df-6ec9c4ea-9a3b-485b-aff0-5427aeafb7e7')\"\n",
              "              title=\"Convert this dataframe to an interactive table.\"\n",
              "              style=\"display:none;\">\n",
              "        \n",
              "  <svg xmlns=\"http://www.w3.org/2000/svg\" height=\"24px\"viewBox=\"0 0 24 24\"\n",
              "       width=\"24px\">\n",
              "    <path d=\"M0 0h24v24H0V0z\" fill=\"none\"/>\n",
              "    <path d=\"M18.56 5.44l.94 2.06.94-2.06 2.06-.94-2.06-.94-.94-2.06-.94 2.06-2.06.94zm-11 1L8.5 8.5l.94-2.06 2.06-.94-2.06-.94L8.5 2.5l-.94 2.06-2.06.94zm10 10l.94 2.06.94-2.06 2.06-.94-2.06-.94-.94-2.06-.94 2.06-2.06.94z\"/><path d=\"M17.41 7.96l-1.37-1.37c-.4-.4-.92-.59-1.43-.59-.52 0-1.04.2-1.43.59L10.3 9.45l-7.72 7.72c-.78.78-.78 2.05 0 2.83L4 21.41c.39.39.9.59 1.41.59.51 0 1.02-.2 1.41-.59l7.78-7.78 2.81-2.81c.8-.78.8-2.07 0-2.86zM5.41 20L4 18.59l7.72-7.72 1.47 1.35L5.41 20z\"/>\n",
              "  </svg>\n",
              "      </button>\n",
              "      \n",
              "  <style>\n",
              "    .colab-df-container {\n",
              "      display:flex;\n",
              "      flex-wrap:wrap;\n",
              "      gap: 12px;\n",
              "    }\n",
              "\n",
              "    .colab-df-convert {\n",
              "      background-color: #E8F0FE;\n",
              "      border: none;\n",
              "      border-radius: 50%;\n",
              "      cursor: pointer;\n",
              "      display: none;\n",
              "      fill: #1967D2;\n",
              "      height: 32px;\n",
              "      padding: 0 0 0 0;\n",
              "      width: 32px;\n",
              "    }\n",
              "\n",
              "    .colab-df-convert:hover {\n",
              "      background-color: #E2EBFA;\n",
              "      box-shadow: 0px 1px 2px rgba(60, 64, 67, 0.3), 0px 1px 3px 1px rgba(60, 64, 67, 0.15);\n",
              "      fill: #174EA6;\n",
              "    }\n",
              "\n",
              "    [theme=dark] .colab-df-convert {\n",
              "      background-color: #3B4455;\n",
              "      fill: #D2E3FC;\n",
              "    }\n",
              "\n",
              "    [theme=dark] .colab-df-convert:hover {\n",
              "      background-color: #434B5C;\n",
              "      box-shadow: 0px 1px 3px 1px rgba(0, 0, 0, 0.15);\n",
              "      filter: drop-shadow(0px 1px 2px rgba(0, 0, 0, 0.3));\n",
              "      fill: #FFFFFF;\n",
              "    }\n",
              "  </style>\n",
              "\n",
              "      <script>\n",
              "        const buttonEl =\n",
              "          document.querySelector('#df-6ec9c4ea-9a3b-485b-aff0-5427aeafb7e7 button.colab-df-convert');\n",
              "        buttonEl.style.display =\n",
              "          google.colab.kernel.accessAllowed ? 'block' : 'none';\n",
              "\n",
              "        async function convertToInteractive(key) {\n",
              "          const element = document.querySelector('#df-6ec9c4ea-9a3b-485b-aff0-5427aeafb7e7');\n",
              "          const dataTable =\n",
              "            await google.colab.kernel.invokeFunction('convertToInteractive',\n",
              "                                                     [key], {});\n",
              "          if (!dataTable) return;\n",
              "\n",
              "          const docLinkHtml = 'Like what you see? Visit the ' +\n",
              "            '<a target=\"_blank\" href=https://colab.research.google.com/notebooks/data_table.ipynb>data table notebook</a>'\n",
              "            + ' to learn more about interactive tables.';\n",
              "          element.innerHTML = '';\n",
              "          dataTable['output_type'] = 'display_data';\n",
              "          await google.colab.output.renderOutput(dataTable, element);\n",
              "          const docLink = document.createElement('div');\n",
              "          docLink.innerHTML = docLinkHtml;\n",
              "          element.appendChild(docLink);\n",
              "        }\n",
              "      </script>\n",
              "    </div>\n",
              "  </div>\n",
              "  "
            ]
          },
          "metadata": {},
          "execution_count": 94
        }
      ]
    },
    {
      "cell_type": "code",
      "source": [
        "print(df.shape)"
      ],
      "metadata": {
        "colab": {
          "base_uri": "https://localhost:8080/"
        },
        "id": "CC0fxgo01sFT",
        "outputId": "dae9a8bd-ee4b-4a34-ecf0-2d0261c71246"
      },
      "execution_count": null,
      "outputs": [
        {
          "output_type": "stream",
          "name": "stdout",
          "text": [
            "(1371, 6)\n"
          ]
        }
      ]
    },
    {
      "cell_type": "code",
      "source": [
        "df.info()"
      ],
      "metadata": {
        "colab": {
          "base_uri": "https://localhost:8080/"
        },
        "id": "BhN4ITRl1wAz",
        "outputId": "ea516db9-6dfe-430f-aead-ed01972fd96d"
      },
      "execution_count": null,
      "outputs": [
        {
          "output_type": "stream",
          "name": "stdout",
          "text": [
            "<class 'pandas.core.frame.DataFrame'>\n",
            "RangeIndex: 1371 entries, 0 to 1370\n",
            "Data columns (total 6 columns):\n",
            " #   Column          Non-Null Count  Dtype \n",
            "---  ------          --------------  ----- \n",
            " 0   text            1371 non-null   object\n",
            " 1   retweet_count   1371 non-null   int64 \n",
            " 2   favorite_count  1371 non-null   int64 \n",
            " 3   bias            1371 non-null   int64 \n",
            " 4   title           1371 non-null   object\n",
            " 5   content         1371 non-null   object\n",
            "dtypes: int64(3), object(3)\n",
            "memory usage: 64.4+ KB\n"
          ]
        }
      ]
    },
    {
      "cell_type": "code",
      "source": [
        "df.bias.unique()"
      ],
      "metadata": {
        "colab": {
          "base_uri": "https://localhost:8080/"
        },
        "id": "dFLR9yaG19-T",
        "outputId": "ced4f7d9-a028-4c25-ef95-c883d55763f7"
      },
      "execution_count": null,
      "outputs": [
        {
          "output_type": "execute_result",
          "data": {
            "text/plain": [
              "array([3, 1, 0])"
            ]
          },
          "metadata": {},
          "execution_count": 97
        }
      ]
    },
    {
      "cell_type": "code",
      "source": [
        "df.bias.value_counts()\n"
      ],
      "metadata": {
        "colab": {
          "base_uri": "https://localhost:8080/"
        },
        "id": "av2imsR03VAa",
        "outputId": "36d09026-ec36-4dfa-aa68-6cb07f55ccc5"
      },
      "execution_count": null,
      "outputs": [
        {
          "output_type": "execute_result",
          "data": {
            "text/plain": [
              "3    1042\n",
              "0     198\n",
              "1     131\n",
              "Name: bias, dtype: int64"
            ]
          },
          "metadata": {},
          "execution_count": 98
        }
      ]
    },
    {
      "cell_type": "code",
      "source": [
        "list(df.bias.value_counts())"
      ],
      "metadata": {
        "colab": {
          "base_uri": "https://localhost:8080/"
        },
        "id": "zKixfNEN4LNS",
        "outputId": "a4186b15-cbb9-408f-89f3-1c7ae59bf77c"
      },
      "execution_count": null,
      "outputs": [
        {
          "output_type": "execute_result",
          "data": {
            "text/plain": [
              "[1042, 198, 131]"
            ]
          },
          "metadata": {},
          "execution_count": 99
        }
      ]
    },
    {
      "cell_type": "code",
      "source": [
        "##bias=left 0 right 1 unbiased 3\n",
        "df.bias.value_counts()"
      ],
      "metadata": {
        "colab": {
          "base_uri": "https://localhost:8080/"
        },
        "id": "yd4T-UnE4jkq",
        "outputId": "09976e51-4e50-4752-bc37-3601b47e373a"
      },
      "execution_count": null,
      "outputs": [
        {
          "output_type": "execute_result",
          "data": {
            "text/plain": [
              "3    1042\n",
              "0     198\n",
              "1     131\n",
              "Name: bias, dtype: int64"
            ]
          },
          "metadata": {},
          "execution_count": 100
        }
      ]
    },
    {
      "cell_type": "code",
      "source": [
        "import matplotlib.pyplot as plt\n",
        "\n",
        "plt.figure()\n",
        "plt.bar(('unbiased','right','left'),[1042, 198, 131])\n",
        "plt.show()"
      ],
      "metadata": {
        "colab": {
          "base_uri": "https://localhost:8080/",
          "height": 265
        },
        "id": "JB33HH483Yji",
        "outputId": "3ef3103b-3ea7-4b02-e829-8f14bafb5ebb"
      },
      "execution_count": null,
      "outputs": [
        {
          "output_type": "display_data",
          "data": {
            "text/plain": [
              "<Figure size 432x288 with 1 Axes>"
            ],
            "image/png": "[encoded data removed]"
          },
          "metadata": {
            "needs_background": "light"
          }
        }
      ]
    },
    {
      "cell_type": "code",
      "source": [
        "df['content'][0]"
      ],
      "metadata": {
        "colab": {
          "base_uri": "https://localhost:8080/",
          "height": 105
        },
        "id": "AOVR1Sr-6m6h",
        "outputId": "bb020ce3-ac17-417a-b02c-1b6bdc1a6bf6"
      },
      "execution_count": null,
      "outputs": [
        {
          "output_type": "execute_result",
          "data": {
            "text/plain": [
              "\"an army officer and four other personnel were killed in action during an encounter between security forces and terrorists in jammu and kashmir's poonch district on monday, officials said. an anti-insurgency operation was launched in a village close to dera ki gali in surankote in the early hours following intelligence inputs about the presence of heavily-armed terrorists there, they said. the hiding terrorists fired on the search parties resulting in fierce gunfight and critical injuries to a junior commissioned officer or jco and four other soldiers. they died from their injuries. the encounter with the terrorists was going on and further details are awaited, a defence spokesperson said. officials said there were reports about the presence of a group of heavily-armed terrorists in the chamrer forest, after they managed to sneak from across the line of control (loc). reinforcements have been rushed to the area to plug all escape routes of the terrorists, they said. (with inputs from pti)\""
            ],
            "application/vnd.google.colaboratory.intrinsic+json": {
              "type": "string"
            }
          },
          "metadata": {},
          "execution_count": 102
        }
      ]
    },
    {
      "cell_type": "code",
      "source": [
        "df['content'][2]\n"
      ],
      "metadata": {
        "colab": {
          "base_uri": "https://localhost:8080/",
          "height": 105
        },
        "id": "Upu0dKI66z9i",
        "outputId": "b21eaa16-7f99-42b4-cc44-68ffd4e69060"
      },
      "execution_count": null,
      "outputs": [
        {
          "output_type": "execute_result",
          "data": {
            "text/plain": [
              "\"a day after resigning from the national conference, devender rana, the former head of its jammu division, along with another party leader surjit singh slathia joined the bjp on monday. mr rana and mr slathia joined the bjp at its headquarters in new delhi in the presence of union ministers dharmendra pradhan, hardeep singh puri and jitendra singh. mr rana, who is a former mla and the younger brother of union minister jitendra singh, has also served as a political advisor to former jammu and kashmir chief minister and national conference (nc) leader omar abdullah. bjp general secretary in-charge for jammu and kashmir tarun chugh and its jammu and kashmir unit chief ravinder raina welcomed them in the party. mr rana has been advocating for the jammu declaration - a joint declaration of several political, social and business organisations, primarily demanding restoration of statehood for the jammu region and not for the whole jammu and kashmir. in 2019, the centre had revoked the erstwhile state of jammu and kashmir's special status and bifurcated it into union territories of jammu and kashmir and ladakh. (except for the headline, this story has not been edited by ndtv staff and is published from a syndicated feed.)\""
            ],
            "application/vnd.google.colaboratory.intrinsic+json": {
              "type": "string"
            }
          },
          "metadata": {},
          "execution_count": 103
        }
      ]
    },
    {
      "cell_type": "code",
      "source": [
        "df['content_lower']=df['content'].str.lower()\n",
        "df['content_lower']=df['content_lower'].str.replace('[^\\w\\s]','')"
      ],
      "metadata": {
        "id": "I_bJ99nM62Q7",
        "colab": {
          "base_uri": "https://localhost:8080/"
        },
        "outputId": "b417c3ec-804b-466c-f509-5ff5411c19b3"
      },
      "execution_count": null,
      "outputs": [
        {
          "output_type": "stream",
          "name": "stderr",
          "text": [
            "/usr/local/lib/python3.7/dist-packages/ipykernel_launcher.py:2: FutureWarning: The default value of regex will change from True to False in a future version.\n",
            "  \n"
          ]
        }
      ]
    },
    {
      "cell_type": "code",
      "source": [
        "unbiased_with_bias_words = df.loc[df['content_lower'].str.contains('shiv sena|shivsena|aap|bjp|congress', case=False)]"
      ],
      "metadata": {
        "id": "lt7ap3zg4sSa"
      },
      "execution_count": null,
      "outputs": []
    },
    {
      "cell_type": "code",
      "source": [
        "unbiased_with_bias_words = unbiased_with_bias_words.loc[unbiased_with_bias_words['bias']==3]\n"
      ],
      "metadata": {
        "id": "1plxSj3v6cIZ"
      },
      "execution_count": null,
      "outputs": []
    },
    {
      "cell_type": "code",
      "source": [
        "unbiased_with_bias_words"
      ],
      "metadata": {
        "colab": {
          "base_uri": "https://localhost:8080/",
          "height": 424
        },
        "id": "w4K_kAiv7Pkh",
        "outputId": "494d1c31-505a-4130-9d07-8f29e1f33b9e"
      },
      "execution_count": null,
      "outputs": [
        {
          "output_type": "execute_result",
          "data": {
            "text/plain": [
              "                                                   text  retweet_count  \\\n",
              "4     RT @ndtvfeed: A Look At Inspiring Messages On ...              3   \n",
              "42    RT @ndtvfeed: Centre Cares About Optics Rather...              7   \n",
              "57    Blackout Warning For Delhi If Coal Supply Not ...             20   \n",
              "74    RT @ndtvfeed: Key Accused In Rajasthan Teacher...              3   \n",
              "83    Will Raise Move To Evict Shillong Sikhs With C...              7   \n",
              "...                                                 ...            ...   \n",
              "1332  RT @ndtvfeed: Maoist Activity In Jharkhand, Lo...              5   \n",
              "1333  In #Haryana, Cops Fire Water Cannons At Protes...             11   \n",
              "1335  Video: In Haryana, Cops Fire Water Cannons At ...              8   \n",
              "1336  RT @ndtvfeed: Extortion Racket Link Behind UP ...              9   \n",
              "1352  Ex Boxer Philippine Icon Manny Pacquiao Enters...              1   \n",
              "\n",
              "      favorite_count  bias                                              title  \\\n",
              "4                  0     3  International Day Of The Girl Child 2021: Lead...   \n",
              "42                 0     3  \"Under Guise Of Coal Shortage...\": Congress Le...   \n",
              "57               163     3  Blackout Warning For Delhi If Coal Supply Not ...   \n",
              "74                 0     3  Key Accused In Rajasthan Teachers' Recruitment...   \n",
              "83                61     3  Will Raise With Centre Move To Evict Shillong ...   \n",
              "...              ...   ...                                                ...   \n",
              "1332               0     3  Rise In Maoist Activities In Jharkhand, Loot O...   \n",
              "1333              68     3  Water Cannons Used As Protesting Farmers Clash...   \n",
              "1335              48     3  Water Cannons Used As Protesting Farmers Clash...   \n",
              "1336               0     3  Extortion Racket Link Behind UP Businessman Ki...   \n",
              "1352              29     3  Ex-Boxer Philippine Icon Manny Pacquiao Enters...   \n",
              "\n",
              "                                                content  \\\n",
              "4     various world leaders and un agencies posted w...   \n",
              "42    congress leader gourav vallabh on sunday alleg...   \n",
              "57    there could be a blackout in the national capi...   \n",
              "74    the alleged mastermind behind the rajasthan el...   \n",
              "83    punjab deputy chief minister sukhjinder singh ...   \n",
              "...                                                 ...   \n",
              "1332  union minister for heavy industries mahendra n...   \n",
              "1333  farmers and security personnel clashed yet aga...   \n",
              "1335  farmers and security personnel clashed yet aga...   \n",
              "1336  samajwadi party national president akhilesh ya...   \n",
              "1352  newly retired boxing icon manny pacquiao was t...   \n",
              "\n",
              "                                          content_lower  \n",
              "4     various world leaders and un agencies posted w...  \n",
              "42    congress leader gourav vallabh on sunday alleg...  \n",
              "57    there could be a blackout in the national capi...  \n",
              "74    the alleged mastermind behind the rajasthan el...  \n",
              "83    punjab deputy chief minister sukhjinder singh ...  \n",
              "...                                                 ...  \n",
              "1332  union minister for heavy industries mahendra n...  \n",
              "1333  farmers and security personnel clashed yet aga...  \n",
              "1335  farmers and security personnel clashed yet aga...  \n",
              "1336  samajwadi party national president akhilesh ya...  \n",
              "1352  newly retired boxing icon manny pacquiao was t...  \n",
              "\n",
              "[144 rows x 7 columns]"
            ],
            "text/html": [
              "\n",
              "  <div id=\"df-aa374a3f-c195-47f0-be50-931766f6ce4f\">\n",
              "    <div class=\"colab-df-container\">\n",
              "      <div>\n",
              "<style scoped>\n",
              "    .dataframe tbody tr th:only-of-type {\n",
              "        vertical-align: middle;\n",
              "    }\n",
              "\n",
              "    .dataframe tbody tr th {\n",
              "        vertical-align: top;\n",
              "    }\n",
              "\n",
              "    .dataframe thead th {\n",
              "        text-align: right;\n",
              "    }\n",
              "</style>\n",
              "<table border=\"1\" class=\"dataframe\">\n",
              "  <thead>\n",
              "    <tr style=\"text-align: right;\">\n",
              "      <th></th>\n",
              "      <th>text</th>\n",
              "      <th>retweet_count</th>\n",
              "      <th>favorite_count</th>\n",
              "      <th>bias</th>\n",
              "      <th>title</th>\n",
              "      <th>content</th>\n",
              "      <th>content_lower</th>\n",
              "    </tr>\n",
              "  </thead>\n",
              "  <tbody>\n",
              "    <tr>\n",
              "      <th>4</th>\n",
              "      <td>RT @ndtvfeed: A Look At Inspiring Messages On ...</td>\n",
              "      <td>3</td>\n",
              "      <td>0</td>\n",
              "      <td>3</td>\n",
              "      <td>International Day Of The Girl Child 2021: Lead...</td>\n",
              "      <td>various world leaders and un agencies posted w...</td>\n",
              "      <td>various world leaders and un agencies posted w...</td>\n",
              "    </tr>\n",
              "    <tr>\n",
              "      <th>42</th>\n",
              "      <td>RT @ndtvfeed: Centre Cares About Optics Rather...</td>\n",
              "      <td>7</td>\n",
              "      <td>0</td>\n",
              "      <td>3</td>\n",
              "      <td>\"Under Guise Of Coal Shortage...\": Congress Le...</td>\n",
              "      <td>congress leader gourav vallabh on sunday alleg...</td>\n",
              "      <td>congress leader gourav vallabh on sunday alleg...</td>\n",
              "    </tr>\n",
              "    <tr>\n",
              "      <th>57</th>\n",
              "      <td>Blackout Warning For Delhi If Coal Supply Not ...</td>\n",
              "      <td>20</td>\n",
              "      <td>163</td>\n",
              "      <td>3</td>\n",
              "      <td>Blackout Warning For Delhi If Coal Supply Not ...</td>\n",
              "      <td>there could be a blackout in the national capi...</td>\n",
              "      <td>there could be a blackout in the national capi...</td>\n",
              "    </tr>\n",
              "    <tr>\n",
              "      <th>74</th>\n",
              "      <td>RT @ndtvfeed: Key Accused In Rajasthan Teacher...</td>\n",
              "      <td>3</td>\n",
              "      <td>0</td>\n",
              "      <td>3</td>\n",
              "      <td>Key Accused In Rajasthan Teachers' Recruitment...</td>\n",
              "      <td>the alleged mastermind behind the rajasthan el...</td>\n",
              "      <td>the alleged mastermind behind the rajasthan el...</td>\n",
              "    </tr>\n",
              "    <tr>\n",
              "      <th>83</th>\n",
              "      <td>Will Raise Move To Evict Shillong Sikhs With C...</td>\n",
              "      <td>7</td>\n",
              "      <td>61</td>\n",
              "      <td>3</td>\n",
              "      <td>Will Raise With Centre Move To Evict Shillong ...</td>\n",
              "      <td>punjab deputy chief minister sukhjinder singh ...</td>\n",
              "      <td>punjab deputy chief minister sukhjinder singh ...</td>\n",
              "    </tr>\n",
              "    <tr>\n",
              "      <th>...</th>\n",
              "      <td>...</td>\n",
              "      <td>...</td>\n",
              "      <td>...</td>\n",
              "      <td>...</td>\n",
              "      <td>...</td>\n",
              "      <td>...</td>\n",
              "      <td>...</td>\n",
              "    </tr>\n",
              "    <tr>\n",
              "      <th>1332</th>\n",
              "      <td>RT @ndtvfeed: Maoist Activity In Jharkhand, Lo...</td>\n",
              "      <td>5</td>\n",
              "      <td>0</td>\n",
              "      <td>3</td>\n",
              "      <td>Rise In Maoist Activities In Jharkhand, Loot O...</td>\n",
              "      <td>union minister for heavy industries mahendra n...</td>\n",
              "      <td>union minister for heavy industries mahendra n...</td>\n",
              "    </tr>\n",
              "    <tr>\n",
              "      <th>1333</th>\n",
              "      <td>In #Haryana, Cops Fire Water Cannons At Protes...</td>\n",
              "      <td>11</td>\n",
              "      <td>68</td>\n",
              "      <td>3</td>\n",
              "      <td>Water Cannons Used As Protesting Farmers Clash...</td>\n",
              "      <td>farmers and security personnel clashed yet aga...</td>\n",
              "      <td>farmers and security personnel clashed yet aga...</td>\n",
              "    </tr>\n",
              "    <tr>\n",
              "      <th>1335</th>\n",
              "      <td>Video: In Haryana, Cops Fire Water Cannons At ...</td>\n",
              "      <td>8</td>\n",
              "      <td>48</td>\n",
              "      <td>3</td>\n",
              "      <td>Water Cannons Used As Protesting Farmers Clash...</td>\n",
              "      <td>farmers and security personnel clashed yet aga...</td>\n",
              "      <td>farmers and security personnel clashed yet aga...</td>\n",
              "    </tr>\n",
              "    <tr>\n",
              "      <th>1336</th>\n",
              "      <td>RT @ndtvfeed: Extortion Racket Link Behind UP ...</td>\n",
              "      <td>9</td>\n",
              "      <td>0</td>\n",
              "      <td>3</td>\n",
              "      <td>Extortion Racket Link Behind UP Businessman Ki...</td>\n",
              "      <td>samajwadi party national president akhilesh ya...</td>\n",
              "      <td>samajwadi party national president akhilesh ya...</td>\n",
              "    </tr>\n",
              "    <tr>\n",
              "      <th>1352</th>\n",
              "      <td>Ex Boxer Philippine Icon Manny Pacquiao Enters...</td>\n",
              "      <td>1</td>\n",
              "      <td>29</td>\n",
              "      <td>3</td>\n",
              "      <td>Ex-Boxer Philippine Icon Manny Pacquiao Enters...</td>\n",
              "      <td>newly retired boxing icon manny pacquiao was t...</td>\n",
              "      <td>newly retired boxing icon manny pacquiao was t...</td>\n",
              "    </tr>\n",
              "  </tbody>\n",
              "</table>\n",
              "<p>144 rows × 7 columns</p>\n",
              "</div>\n",
              "      <button class=\"colab-df-convert\" onclick=\"convertToInteractive('df-aa374a3f-c195-47f0-be50-931766f6ce4f')\"\n",
              "              title=\"Convert this dataframe to an interactive table.\"\n",
              "              style=\"display:none;\">\n",
              "        \n",
              "  <svg xmlns=\"http://www.w3.org/2000/svg\" height=\"24px\"viewBox=\"0 0 24 24\"\n",
              "       width=\"24px\">\n",
              "    <path d=\"M0 0h24v24H0V0z\" fill=\"none\"/>\n",
              "    <path d=\"M18.56 5.44l.94 2.06.94-2.06 2.06-.94-2.06-.94-.94-2.06-.94 2.06-2.06.94zm-11 1L8.5 8.5l.94-2.06 2.06-.94-2.06-.94L8.5 2.5l-.94 2.06-2.06.94zm10 10l.94 2.06.94-2.06 2.06-.94-2.06-.94-.94-2.06-.94 2.06-2.06.94z\"/><path d=\"M17.41 7.96l-1.37-1.37c-.4-.4-.92-.59-1.43-.59-.52 0-1.04.2-1.43.59L10.3 9.45l-7.72 7.72c-.78.78-.78 2.05 0 2.83L4 21.41c.39.39.9.59 1.41.59.51 0 1.02-.2 1.41-.59l7.78-7.78 2.81-2.81c.8-.78.8-2.07 0-2.86zM5.41 20L4 18.59l7.72-7.72 1.47 1.35L5.41 20z\"/>\n",
              "  </svg>\n",
              "      </button>\n",
              "      \n",
              "  <style>\n",
              "    .colab-df-container {\n",
              "      display:flex;\n",
              "      flex-wrap:wrap;\n",
              "      gap: 12px;\n",
              "    }\n",
              "\n",
              "    .colab-df-convert {\n",
              "      background-color: #E8F0FE;\n",
              "      border: none;\n",
              "      border-radius: 50%;\n",
              "      cursor: pointer;\n",
              "      display: none;\n",
              "      fill: #1967D2;\n",
              "      height: 32px;\n",
              "      padding: 0 0 0 0;\n",
              "      width: 32px;\n",
              "    }\n",
              "\n",
              "    .colab-df-convert:hover {\n",
              "      background-color: #E2EBFA;\n",
              "      box-shadow: 0px 1px 2px rgba(60, 64, 67, 0.3), 0px 1px 3px 1px rgba(60, 64, 67, 0.15);\n",
              "      fill: #174EA6;\n",
              "    }\n",
              "\n",
              "    [theme=dark] .colab-df-convert {\n",
              "      background-color: #3B4455;\n",
              "      fill: #D2E3FC;\n",
              "    }\n",
              "\n",
              "    [theme=dark] .colab-df-convert:hover {\n",
              "      background-color: #434B5C;\n",
              "      box-shadow: 0px 1px 3px 1px rgba(0, 0, 0, 0.15);\n",
              "      filter: drop-shadow(0px 1px 2px rgba(0, 0, 0, 0.3));\n",
              "      fill: #FFFFFF;\n",
              "    }\n",
              "  </style>\n",
              "\n",
              "      <script>\n",
              "        const buttonEl =\n",
              "          document.querySelector('#df-aa374a3f-c195-47f0-be50-931766f6ce4f button.colab-df-convert');\n",
              "        buttonEl.style.display =\n",
              "          google.colab.kernel.accessAllowed ? 'block' : 'none';\n",
              "\n",
              "        async function convertToInteractive(key) {\n",
              "          const element = document.querySelector('#df-aa374a3f-c195-47f0-be50-931766f6ce4f');\n",
              "          const dataTable =\n",
              "            await google.colab.kernel.invokeFunction('convertToInteractive',\n",
              "                                                     [key], {});\n",
              "          if (!dataTable) return;\n",
              "\n",
              "          const docLinkHtml = 'Like what you see? Visit the ' +\n",
              "            '<a target=\"_blank\" href=https://colab.research.google.com/notebooks/data_table.ipynb>data table notebook</a>'\n",
              "            + ' to learn more about interactive tables.';\n",
              "          element.innerHTML = '';\n",
              "          dataTable['output_type'] = 'display_data';\n",
              "          await google.colab.output.renderOutput(dataTable, element);\n",
              "          const docLink = document.createElement('div');\n",
              "          docLink.innerHTML = docLinkHtml;\n",
              "          element.appendChild(docLink);\n",
              "        }\n",
              "      </script>\n",
              "    </div>\n",
              "  </div>\n",
              "  "
            ]
          },
          "metadata": {},
          "execution_count": 107
        }
      ]
    },
    {
      "cell_type": "code",
      "source": [
        "##bias=left 0 right 1 unbiased 3\n",
        "unbiased = df.loc[df['bias']==3]\n",
        "right = df.loc[df['bias']==1]\n",
        "left = df.loc[df['bias']==0]"
      ],
      "metadata": {
        "id": "F4Ji0Cgs7pR4"
      },
      "execution_count": null,
      "outputs": []
    },
    {
      "cell_type": "code",
      "source": [
        "unbiased.head()"
      ],
      "metadata": {
        "colab": {
          "base_uri": "https://localhost:8080/",
          "height": 206
        },
        "id": "MFSDFEh09YyI",
        "outputId": "1438bad1-12ae-4b2c-a387-8a5557b62469"
      },
      "execution_count": null,
      "outputs": [
        {
          "output_type": "execute_result",
          "data": {
            "text/plain": [
              "                                                text  retweet_count  \\\n",
              "0  Army Officer, 4 Others Killed In Encounter In ...              9   \n",
              "1  #AryanKhan Case: No Bail For Him Today, Next H...              5   \n",
              "4  RT @ndtvfeed: A Look At Inspiring Messages On ...              3   \n",
              "6  RT @ndtvfeed: No Further Action In US Sexual A...              2   \n",
              "8  RT @ndtvfeed: Woman Gang-Raped In Mumbai-Bound...              8   \n",
              "\n",
              "   favorite_count  bias                                              title  \\\n",
              "0              63     3  Army Officer, 4 Personnel Killed In Encounter ...   \n",
              "1              44     3  Aryan Khan Case: No Bail For Him Today, Next H...   \n",
              "4               0     3  International Day Of The Girl Child 2021: Lead...   \n",
              "6               0     3  No Further Action In US Sexual Assault Case On...   \n",
              "8               0     3  Woman Gang-Raped In Mumbai-Bound Train: All 8 ...   \n",
              "\n",
              "                                             content  \\\n",
              "0  an army officer and four other personnel were ...   \n",
              "1  aryan khan did not get bail today for the thir...   \n",
              "4  various world leaders and un agencies posted w...   \n",
              "6  british police said on monday they would be ta...   \n",
              "8  the government railway police have arrested al...   \n",
              "\n",
              "                                       content_lower  \n",
              "0  an army officer and four other personnel were ...  \n",
              "1  aryan khan did not get bail today for the thir...  \n",
              "4  various world leaders and un agencies posted w...  \n",
              "6  british police said on monday they would be ta...  \n",
              "8  the government railway police have arrested al...  "
            ],
            "text/html": [
              "\n",
              "  <div id=\"df-8688b477-7006-4810-b3e9-de8adaa7bf02\">\n",
              "    <div class=\"colab-df-container\">\n",
              "      <div>\n",
              "<style scoped>\n",
              "    .dataframe tbody tr th:only-of-type {\n",
              "        vertical-align: middle;\n",
              "    }\n",
              "\n",
              "    .dataframe tbody tr th {\n",
              "        vertical-align: top;\n",
              "    }\n",
              "\n",
              "    .dataframe thead th {\n",
              "        text-align: right;\n",
              "    }\n",
              "</style>\n",
              "<table border=\"1\" class=\"dataframe\">\n",
              "  <thead>\n",
              "    <tr style=\"text-align: right;\">\n",
              "      <th></th>\n",
              "      <th>text</th>\n",
              "      <th>retweet_count</th>\n",
              "      <th>favorite_count</th>\n",
              "      <th>bias</th>\n",
              "      <th>title</th>\n",
              "      <th>content</th>\n",
              "      <th>content_lower</th>\n",
              "    </tr>\n",
              "  </thead>\n",
              "  <tbody>\n",
              "    <tr>\n",
              "      <th>0</th>\n",
              "      <td>Army Officer, 4 Others Killed In Encounter In ...</td>\n",
              "      <td>9</td>\n",
              "      <td>63</td>\n",
              "      <td>3</td>\n",
              "      <td>Army Officer, 4 Personnel Killed In Encounter ...</td>\n",
              "      <td>an army officer and four other personnel were ...</td>\n",
              "      <td>an army officer and four other personnel were ...</td>\n",
              "    </tr>\n",
              "    <tr>\n",
              "      <th>1</th>\n",
              "      <td>#AryanKhan Case: No Bail For Him Today, Next H...</td>\n",
              "      <td>5</td>\n",
              "      <td>44</td>\n",
              "      <td>3</td>\n",
              "      <td>Aryan Khan Case: No Bail For Him Today, Next H...</td>\n",
              "      <td>aryan khan did not get bail today for the thir...</td>\n",
              "      <td>aryan khan did not get bail today for the thir...</td>\n",
              "    </tr>\n",
              "    <tr>\n",
              "      <th>4</th>\n",
              "      <td>RT @ndtvfeed: A Look At Inspiring Messages On ...</td>\n",
              "      <td>3</td>\n",
              "      <td>0</td>\n",
              "      <td>3</td>\n",
              "      <td>International Day Of The Girl Child 2021: Lead...</td>\n",
              "      <td>various world leaders and un agencies posted w...</td>\n",
              "      <td>various world leaders and un agencies posted w...</td>\n",
              "    </tr>\n",
              "    <tr>\n",
              "      <th>6</th>\n",
              "      <td>RT @ndtvfeed: No Further Action In US Sexual A...</td>\n",
              "      <td>2</td>\n",
              "      <td>0</td>\n",
              "      <td>3</td>\n",
              "      <td>No Further Action In US Sexual Assault Case On...</td>\n",
              "      <td>british police said on monday they would be ta...</td>\n",
              "      <td>british police said on monday they would be ta...</td>\n",
              "    </tr>\n",
              "    <tr>\n",
              "      <th>8</th>\n",
              "      <td>RT @ndtvfeed: Woman Gang-Raped In Mumbai-Bound...</td>\n",
              "      <td>8</td>\n",
              "      <td>0</td>\n",
              "      <td>3</td>\n",
              "      <td>Woman Gang-Raped In Mumbai-Bound Train: All 8 ...</td>\n",
              "      <td>the government railway police have arrested al...</td>\n",
              "      <td>the government railway police have arrested al...</td>\n",
              "    </tr>\n",
              "  </tbody>\n",
              "</table>\n",
              "</div>\n",
              "      <button class=\"colab-df-convert\" onclick=\"convertToInteractive('df-8688b477-7006-4810-b3e9-de8adaa7bf02')\"\n",
              "              title=\"Convert this dataframe to an interactive table.\"\n",
              "              style=\"display:none;\">\n",
              "        \n",
              "  <svg xmlns=\"http://www.w3.org/2000/svg\" height=\"24px\"viewBox=\"0 0 24 24\"\n",
              "       width=\"24px\">\n",
              "    <path d=\"M0 0h24v24H0V0z\" fill=\"none\"/>\n",
              "    <path d=\"M18.56 5.44l.94 2.06.94-2.06 2.06-.94-2.06-.94-.94-2.06-.94 2.06-2.06.94zm-11 1L8.5 8.5l.94-2.06 2.06-.94-2.06-.94L8.5 2.5l-.94 2.06-2.06.94zm10 10l.94 2.06.94-2.06 2.06-.94-2.06-.94-.94-2.06-.94 2.06-2.06.94z\"/><path d=\"M17.41 7.96l-1.37-1.37c-.4-.4-.92-.59-1.43-.59-.52 0-1.04.2-1.43.59L10.3 9.45l-7.72 7.72c-.78.78-.78 2.05 0 2.83L4 21.41c.39.39.9.59 1.41.59.51 0 1.02-.2 1.41-.59l7.78-7.78 2.81-2.81c.8-.78.8-2.07 0-2.86zM5.41 20L4 18.59l7.72-7.72 1.47 1.35L5.41 20z\"/>\n",
              "  </svg>\n",
              "      </button>\n",
              "      \n",
              "  <style>\n",
              "    .colab-df-container {\n",
              "      display:flex;\n",
              "      flex-wrap:wrap;\n",
              "      gap: 12px;\n",
              "    }\n",
              "\n",
              "    .colab-df-convert {\n",
              "      background-color: #E8F0FE;\n",
              "      border: none;\n",
              "      border-radius: 50%;\n",
              "      cursor: pointer;\n",
              "      display: none;\n",
              "      fill: #1967D2;\n",
              "      height: 32px;\n",
              "      padding: 0 0 0 0;\n",
              "      width: 32px;\n",
              "    }\n",
              "\n",
              "    .colab-df-convert:hover {\n",
              "      background-color: #E2EBFA;\n",
              "      box-shadow: 0px 1px 2px rgba(60, 64, 67, 0.3), 0px 1px 3px 1px rgba(60, 64, 67, 0.15);\n",
              "      fill: #174EA6;\n",
              "    }\n",
              "\n",
              "    [theme=dark] .colab-df-convert {\n",
              "      background-color: #3B4455;\n",
              "      fill: #D2E3FC;\n",
              "    }\n",
              "\n",
              "    [theme=dark] .colab-df-convert:hover {\n",
              "      background-color: #434B5C;\n",
              "      box-shadow: 0px 1px 3px 1px rgba(0, 0, 0, 0.15);\n",
              "      filter: drop-shadow(0px 1px 2px rgba(0, 0, 0, 0.3));\n",
              "      fill: #FFFFFF;\n",
              "    }\n",
              "  </style>\n",
              "\n",
              "      <script>\n",
              "        const buttonEl =\n",
              "          document.querySelector('#df-8688b477-7006-4810-b3e9-de8adaa7bf02 button.colab-df-convert');\n",
              "        buttonEl.style.display =\n",
              "          google.colab.kernel.accessAllowed ? 'block' : 'none';\n",
              "\n",
              "        async function convertToInteractive(key) {\n",
              "          const element = document.querySelector('#df-8688b477-7006-4810-b3e9-de8adaa7bf02');\n",
              "          const dataTable =\n",
              "            await google.colab.kernel.invokeFunction('convertToInteractive',\n",
              "                                                     [key], {});\n",
              "          if (!dataTable) return;\n",
              "\n",
              "          const docLinkHtml = 'Like what you see? Visit the ' +\n",
              "            '<a target=\"_blank\" href=https://colab.research.google.com/notebooks/data_table.ipynb>data table notebook</a>'\n",
              "            + ' to learn more about interactive tables.';\n",
              "          element.innerHTML = '';\n",
              "          dataTable['output_type'] = 'display_data';\n",
              "          await google.colab.output.renderOutput(dataTable, element);\n",
              "          const docLink = document.createElement('div');\n",
              "          docLink.innerHTML = docLinkHtml;\n",
              "          element.appendChild(docLink);\n",
              "        }\n",
              "      </script>\n",
              "    </div>\n",
              "  </div>\n",
              "  "
            ]
          },
          "metadata": {},
          "execution_count": 109
        }
      ]
    },
    {
      "cell_type": "code",
      "source": [
        "right.head()"
      ],
      "metadata": {
        "colab": {
          "base_uri": "https://localhost:8080/",
          "height": 206
        },
        "id": "TURFxEW39e44",
        "outputId": "b726f9f4-705b-47ab-94ac-0722bd09c5cc"
      },
      "execution_count": null,
      "outputs": [
        {
          "output_type": "execute_result",
          "data": {
            "text/plain": [
              "                                                 text  retweet_count  \\\n",
              "2   RT @ndtvfeed: Ex-National Conference Leaders D...              2   \n",
              "5   RT @ndtvfeed: India Never Had More Decisive Go...              2   \n",
              "7   India Never Had More Decisive Government: PM A...              7   \n",
              "18  RT @ndtvfeed: Over 58 Crore Samples Tested For...              4   \n",
              "22  RT @ndtvfeed: \"How Do Conversions happen?...Th...              3   \n",
              "\n",
              "    favorite_count  bias                                              title  \\\n",
              "2                0     1  Ex-National Conference Leaders Devender Rana, ...   \n",
              "5                0     1  India Never Had More Decisive Government: PM M...   \n",
              "7               27     1  India Never Had More Decisive Government: PM M...   \n",
              "18               0     1  Over 58 Crore Samples Tested For COVID-19 In I...   \n",
              "22               0     1  \"How Do Conversions Happen?...Those Doing It A...   \n",
              "\n",
              "                                              content  \\\n",
              "2   a day after resigning from the national confer...   \n",
              "5   modi modi today launched indian space associat...   \n",
              "7   modi modi today launched indian space associat...   \n",
              "18  the testing capacity has been ramped up extens...   \n",
              "22  rashtriya swayamsevak sangh (rss) chief mohan ...   \n",
              "\n",
              "                                        content_lower  \n",
              "2   a day after resigning from the national confer...  \n",
              "5   modi modi today launched indian space associat...  \n",
              "7   modi modi today launched indian space associat...  \n",
              "18  the testing capacity has been ramped up extens...  \n",
              "22  rashtriya swayamsevak sangh rss chief mohan bh...  "
            ],
            "text/html": [
              "\n",
              "  <div id=\"df-64466505-ed77-4e4b-9850-2e1e4c23c6ad\">\n",
              "    <div class=\"colab-df-container\">\n",
              "      <div>\n",
              "<style scoped>\n",
              "    .dataframe tbody tr th:only-of-type {\n",
              "        vertical-align: middle;\n",
              "    }\n",
              "\n",
              "    .dataframe tbody tr th {\n",
              "        vertical-align: top;\n",
              "    }\n",
              "\n",
              "    .dataframe thead th {\n",
              "        text-align: right;\n",
              "    }\n",
              "</style>\n",
              "<table border=\"1\" class=\"dataframe\">\n",
              "  <thead>\n",
              "    <tr style=\"text-align: right;\">\n",
              "      <th></th>\n",
              "      <th>text</th>\n",
              "      <th>retweet_count</th>\n",
              "      <th>favorite_count</th>\n",
              "      <th>bias</th>\n",
              "      <th>title</th>\n",
              "      <th>content</th>\n",
              "      <th>content_lower</th>\n",
              "    </tr>\n",
              "  </thead>\n",
              "  <tbody>\n",
              "    <tr>\n",
              "      <th>2</th>\n",
              "      <td>RT @ndtvfeed: Ex-National Conference Leaders D...</td>\n",
              "      <td>2</td>\n",
              "      <td>0</td>\n",
              "      <td>1</td>\n",
              "      <td>Ex-National Conference Leaders Devender Rana, ...</td>\n",
              "      <td>a day after resigning from the national confer...</td>\n",
              "      <td>a day after resigning from the national confer...</td>\n",
              "    </tr>\n",
              "    <tr>\n",
              "      <th>5</th>\n",
              "      <td>RT @ndtvfeed: India Never Had More Decisive Go...</td>\n",
              "      <td>2</td>\n",
              "      <td>0</td>\n",
              "      <td>1</td>\n",
              "      <td>India Never Had More Decisive Government: PM M...</td>\n",
              "      <td>modi modi today launched indian space associat...</td>\n",
              "      <td>modi modi today launched indian space associat...</td>\n",
              "    </tr>\n",
              "    <tr>\n",
              "      <th>7</th>\n",
              "      <td>India Never Had More Decisive Government: PM A...</td>\n",
              "      <td>7</td>\n",
              "      <td>27</td>\n",
              "      <td>1</td>\n",
              "      <td>India Never Had More Decisive Government: PM M...</td>\n",
              "      <td>modi modi today launched indian space associat...</td>\n",
              "      <td>modi modi today launched indian space associat...</td>\n",
              "    </tr>\n",
              "    <tr>\n",
              "      <th>18</th>\n",
              "      <td>RT @ndtvfeed: Over 58 Crore Samples Tested For...</td>\n",
              "      <td>4</td>\n",
              "      <td>0</td>\n",
              "      <td>1</td>\n",
              "      <td>Over 58 Crore Samples Tested For COVID-19 In I...</td>\n",
              "      <td>the testing capacity has been ramped up extens...</td>\n",
              "      <td>the testing capacity has been ramped up extens...</td>\n",
              "    </tr>\n",
              "    <tr>\n",
              "      <th>22</th>\n",
              "      <td>RT @ndtvfeed: \"How Do Conversions happen?...Th...</td>\n",
              "      <td>3</td>\n",
              "      <td>0</td>\n",
              "      <td>1</td>\n",
              "      <td>\"How Do Conversions Happen?...Those Doing It A...</td>\n",
              "      <td>rashtriya swayamsevak sangh (rss) chief mohan ...</td>\n",
              "      <td>rashtriya swayamsevak sangh rss chief mohan bh...</td>\n",
              "    </tr>\n",
              "  </tbody>\n",
              "</table>\n",
              "</div>\n",
              "      <button class=\"colab-df-convert\" onclick=\"convertToInteractive('df-64466505-ed77-4e4b-9850-2e1e4c23c6ad')\"\n",
              "              title=\"Convert this dataframe to an interactive table.\"\n",
              "              style=\"display:none;\">\n",
              "        \n",
              "  <svg xmlns=\"http://www.w3.org/2000/svg\" height=\"24px\"viewBox=\"0 0 24 24\"\n",
              "       width=\"24px\">\n",
              "    <path d=\"M0 0h24v24H0V0z\" fill=\"none\"/>\n",
              "    <path d=\"M18.56 5.44l.94 2.06.94-2.06 2.06-.94-2.06-.94-.94-2.06-.94 2.06-2.06.94zm-11 1L8.5 8.5l.94-2.06 2.06-.94-2.06-.94L8.5 2.5l-.94 2.06-2.06.94zm10 10l.94 2.06.94-2.06 2.06-.94-2.06-.94-.94-2.06-.94 2.06-2.06.94z\"/><path d=\"M17.41 7.96l-1.37-1.37c-.4-.4-.92-.59-1.43-.59-.52 0-1.04.2-1.43.59L10.3 9.45l-7.72 7.72c-.78.78-.78 2.05 0 2.83L4 21.41c.39.39.9.59 1.41.59.51 0 1.02-.2 1.41-.59l7.78-7.78 2.81-2.81c.8-.78.8-2.07 0-2.86zM5.41 20L4 18.59l7.72-7.72 1.47 1.35L5.41 20z\"/>\n",
              "  </svg>\n",
              "      </button>\n",
              "      \n",
              "  <style>\n",
              "    .colab-df-container {\n",
              "      display:flex;\n",
              "      flex-wrap:wrap;\n",
              "      gap: 12px;\n",
              "    }\n",
              "\n",
              "    .colab-df-convert {\n",
              "      background-color: #E8F0FE;\n",
              "      border: none;\n",
              "      border-radius: 50%;\n",
              "      cursor: pointer;\n",
              "      display: none;\n",
              "      fill: #1967D2;\n",
              "      height: 32px;\n",
              "      padding: 0 0 0 0;\n",
              "      width: 32px;\n",
              "    }\n",
              "\n",
              "    .colab-df-convert:hover {\n",
              "      background-color: #E2EBFA;\n",
              "      box-shadow: 0px 1px 2px rgba(60, 64, 67, 0.3), 0px 1px 3px 1px rgba(60, 64, 67, 0.15);\n",
              "      fill: #174EA6;\n",
              "    }\n",
              "\n",
              "    [theme=dark] .colab-df-convert {\n",
              "      background-color: #3B4455;\n",
              "      fill: #D2E3FC;\n",
              "    }\n",
              "\n",
              "    [theme=dark] .colab-df-convert:hover {\n",
              "      background-color: #434B5C;\n",
              "      box-shadow: 0px 1px 3px 1px rgba(0, 0, 0, 0.15);\n",
              "      filter: drop-shadow(0px 1px 2px rgba(0, 0, 0, 0.3));\n",
              "      fill: #FFFFFF;\n",
              "    }\n",
              "  </style>\n",
              "\n",
              "      <script>\n",
              "        const buttonEl =\n",
              "          document.querySelector('#df-64466505-ed77-4e4b-9850-2e1e4c23c6ad button.colab-df-convert');\n",
              "        buttonEl.style.display =\n",
              "          google.colab.kernel.accessAllowed ? 'block' : 'none';\n",
              "\n",
              "        async function convertToInteractive(key) {\n",
              "          const element = document.querySelector('#df-64466505-ed77-4e4b-9850-2e1e4c23c6ad');\n",
              "          const dataTable =\n",
              "            await google.colab.kernel.invokeFunction('convertToInteractive',\n",
              "                                                     [key], {});\n",
              "          if (!dataTable) return;\n",
              "\n",
              "          const docLinkHtml = 'Like what you see? Visit the ' +\n",
              "            '<a target=\"_blank\" href=https://colab.research.google.com/notebooks/data_table.ipynb>data table notebook</a>'\n",
              "            + ' to learn more about interactive tables.';\n",
              "          element.innerHTML = '';\n",
              "          dataTable['output_type'] = 'display_data';\n",
              "          await google.colab.output.renderOutput(dataTable, element);\n",
              "          const docLink = document.createElement('div');\n",
              "          docLink.innerHTML = docLinkHtml;\n",
              "          element.appendChild(docLink);\n",
              "        }\n",
              "      </script>\n",
              "    </div>\n",
              "  </div>\n",
              "  "
            ]
          },
          "metadata": {},
          "execution_count": 110
        }
      ]
    },
    {
      "cell_type": "code",
      "source": [
        "left.head()"
      ],
      "metadata": {
        "colab": {
          "base_uri": "https://localhost:8080/",
          "height": 206
        },
        "id": "GH4Gs5T-9hmH",
        "outputId": "a834d3df-31bf-4b66-fb6b-312d245c7539"
      },
      "execution_count": null,
      "outputs": [
        {
          "output_type": "execute_result",
          "data": {
            "text/plain": [
              "                                                 text  retweet_count  \\\n",
              "3   RT @ndtvfeed: US Has Lost AI Battle To China, ...              5   \n",
              "14  Karnataka Minister's Bizarre Remarks On \"Moder...             13   \n",
              "15  Agitation Will Continue Till Demands Are Met: ...             23   \n",
              "27  Petrol, Diesel Prices Hit New Highs https://t....             17   \n",
              "34  #MaharashtraBandh Today In Solidarity With Far...             21   \n",
              "\n",
              "    favorite_count  bias                                              title  \\\n",
              "3                0     0  US Has Lost AI Battle To China, Pentagon's Ex-...   \n",
              "14              71     0  Karnataka Minister's Bizarre Remarks On \"Moder...   \n",
              "15             257     0  Agitation Will Continue Till Demands Are Met: ...   \n",
              "27             119     0  Petrol, Diesel Prices Hit New Highs. Check Lat...   \n",
              "34              78     0  Maharashtra Bandh Live Updates: Bus Services A...   \n",
              "\n",
              "                                              content  \\\n",
              "3   china has won the artificial intelligence batt...   \n",
              "14  karnataka health minister dr k sudhakar on sun...   \n",
              "15  the farmers' agitation will continue till all ...   \n",
              "27  petrol, diesel price today: petrol prices touc...   \n",
              "34  bus services were affected across maharashtra ...   \n",
              "\n",
              "                                        content_lower  \n",
              "3   china has won the artificial intelligence batt...  \n",
              "14  karnataka health minister dr k sudhakar on sun...  \n",
              "15  the farmers agitation will continue till all d...  \n",
              "27  petrol diesel price today petrol prices touche...  \n",
              "34  bus services were affected across maharashtra ...  "
            ],
            "text/html": [
              "\n",
              "  <div id=\"df-00b8a2a8-aa06-42a4-b7e6-d70e7bc36051\">\n",
              "    <div class=\"colab-df-container\">\n",
              "      <div>\n",
              "<style scoped>\n",
              "    .dataframe tbody tr th:only-of-type {\n",
              "        vertical-align: middle;\n",
              "    }\n",
              "\n",
              "    .dataframe tbody tr th {\n",
              "        vertical-align: top;\n",
              "    }\n",
              "\n",
              "    .dataframe thead th {\n",
              "        text-align: right;\n",
              "    }\n",
              "</style>\n",
              "<table border=\"1\" class=\"dataframe\">\n",
              "  <thead>\n",
              "    <tr style=\"text-align: right;\">\n",
              "      <th></th>\n",
              "      <th>text</th>\n",
              "      <th>retweet_count</th>\n",
              "      <th>favorite_count</th>\n",
              "      <th>bias</th>\n",
              "      <th>title</th>\n",
              "      <th>content</th>\n",
              "      <th>content_lower</th>\n",
              "    </tr>\n",
              "  </thead>\n",
              "  <tbody>\n",
              "    <tr>\n",
              "      <th>3</th>\n",
              "      <td>RT @ndtvfeed: US Has Lost AI Battle To China, ...</td>\n",
              "      <td>5</td>\n",
              "      <td>0</td>\n",
              "      <td>0</td>\n",
              "      <td>US Has Lost AI Battle To China, Pentagon's Ex-...</td>\n",
              "      <td>china has won the artificial intelligence batt...</td>\n",
              "      <td>china has won the artificial intelligence batt...</td>\n",
              "    </tr>\n",
              "    <tr>\n",
              "      <th>14</th>\n",
              "      <td>Karnataka Minister's Bizarre Remarks On \"Moder...</td>\n",
              "      <td>13</td>\n",
              "      <td>71</td>\n",
              "      <td>0</td>\n",
              "      <td>Karnataka Minister's Bizarre Remarks On \"Moder...</td>\n",
              "      <td>karnataka health minister dr k sudhakar on sun...</td>\n",
              "      <td>karnataka health minister dr k sudhakar on sun...</td>\n",
              "    </tr>\n",
              "    <tr>\n",
              "      <th>15</th>\n",
              "      <td>Agitation Will Continue Till Demands Are Met: ...</td>\n",
              "      <td>23</td>\n",
              "      <td>257</td>\n",
              "      <td>0</td>\n",
              "      <td>Agitation Will Continue Till Demands Are Met: ...</td>\n",
              "      <td>the farmers' agitation will continue till all ...</td>\n",
              "      <td>the farmers agitation will continue till all d...</td>\n",
              "    </tr>\n",
              "    <tr>\n",
              "      <th>27</th>\n",
              "      <td>Petrol, Diesel Prices Hit New Highs https://t....</td>\n",
              "      <td>17</td>\n",
              "      <td>119</td>\n",
              "      <td>0</td>\n",
              "      <td>Petrol, Diesel Prices Hit New Highs. Check Lat...</td>\n",
              "      <td>petrol, diesel price today: petrol prices touc...</td>\n",
              "      <td>petrol diesel price today petrol prices touche...</td>\n",
              "    </tr>\n",
              "    <tr>\n",
              "      <th>34</th>\n",
              "      <td>#MaharashtraBandh Today In Solidarity With Far...</td>\n",
              "      <td>21</td>\n",
              "      <td>78</td>\n",
              "      <td>0</td>\n",
              "      <td>Maharashtra Bandh Live Updates: Bus Services A...</td>\n",
              "      <td>bus services were affected across maharashtra ...</td>\n",
              "      <td>bus services were affected across maharashtra ...</td>\n",
              "    </tr>\n",
              "  </tbody>\n",
              "</table>\n",
              "</div>\n",
              "      <button class=\"colab-df-convert\" onclick=\"convertToInteractive('df-00b8a2a8-aa06-42a4-b7e6-d70e7bc36051')\"\n",
              "              title=\"Convert this dataframe to an interactive table.\"\n",
              "              style=\"display:none;\">\n",
              "        \n",
              "  <svg xmlns=\"http://www.w3.org/2000/svg\" height=\"24px\"viewBox=\"0 0 24 24\"\n",
              "       width=\"24px\">\n",
              "    <path d=\"M0 0h24v24H0V0z\" fill=\"none\"/>\n",
              "    <path d=\"M18.56 5.44l.94 2.06.94-2.06 2.06-.94-2.06-.94-.94-2.06-.94 2.06-2.06.94zm-11 1L8.5 8.5l.94-2.06 2.06-.94-2.06-.94L8.5 2.5l-.94 2.06-2.06.94zm10 10l.94 2.06.94-2.06 2.06-.94-2.06-.94-.94-2.06-.94 2.06-2.06.94z\"/><path d=\"M17.41 7.96l-1.37-1.37c-.4-.4-.92-.59-1.43-.59-.52 0-1.04.2-1.43.59L10.3 9.45l-7.72 7.72c-.78.78-.78 2.05 0 2.83L4 21.41c.39.39.9.59 1.41.59.51 0 1.02-.2 1.41-.59l7.78-7.78 2.81-2.81c.8-.78.8-2.07 0-2.86zM5.41 20L4 18.59l7.72-7.72 1.47 1.35L5.41 20z\"/>\n",
              "  </svg>\n",
              "      </button>\n",
              "      \n",
              "  <style>\n",
              "    .colab-df-container {\n",
              "      display:flex;\n",
              "      flex-wrap:wrap;\n",
              "      gap: 12px;\n",
              "    }\n",
              "\n",
              "    .colab-df-convert {\n",
              "      background-color: #E8F0FE;\n",
              "      border: none;\n",
              "      border-radius: 50%;\n",
              "      cursor: pointer;\n",
              "      display: none;\n",
              "      fill: #1967D2;\n",
              "      height: 32px;\n",
              "      padding: 0 0 0 0;\n",
              "      width: 32px;\n",
              "    }\n",
              "\n",
              "    .colab-df-convert:hover {\n",
              "      background-color: #E2EBFA;\n",
              "      box-shadow: 0px 1px 2px rgba(60, 64, 67, 0.3), 0px 1px 3px 1px rgba(60, 64, 67, 0.15);\n",
              "      fill: #174EA6;\n",
              "    }\n",
              "\n",
              "    [theme=dark] .colab-df-convert {\n",
              "      background-color: #3B4455;\n",
              "      fill: #D2E3FC;\n",
              "    }\n",
              "\n",
              "    [theme=dark] .colab-df-convert:hover {\n",
              "      background-color: #434B5C;\n",
              "      box-shadow: 0px 1px 3px 1px rgba(0, 0, 0, 0.15);\n",
              "      filter: drop-shadow(0px 1px 2px rgba(0, 0, 0, 0.3));\n",
              "      fill: #FFFFFF;\n",
              "    }\n",
              "  </style>\n",
              "\n",
              "      <script>\n",
              "        const buttonEl =\n",
              "          document.querySelector('#df-00b8a2a8-aa06-42a4-b7e6-d70e7bc36051 button.colab-df-convert');\n",
              "        buttonEl.style.display =\n",
              "          google.colab.kernel.accessAllowed ? 'block' : 'none';\n",
              "\n",
              "        async function convertToInteractive(key) {\n",
              "          const element = document.querySelector('#df-00b8a2a8-aa06-42a4-b7e6-d70e7bc36051');\n",
              "          const dataTable =\n",
              "            await google.colab.kernel.invokeFunction('convertToInteractive',\n",
              "                                                     [key], {});\n",
              "          if (!dataTable) return;\n",
              "\n",
              "          const docLinkHtml = 'Like what you see? Visit the ' +\n",
              "            '<a target=\"_blank\" href=https://colab.research.google.com/notebooks/data_table.ipynb>data table notebook</a>'\n",
              "            + ' to learn more about interactive tables.';\n",
              "          element.innerHTML = '';\n",
              "          dataTable['output_type'] = 'display_data';\n",
              "          await google.colab.output.renderOutput(dataTable, element);\n",
              "          const docLink = document.createElement('div');\n",
              "          docLink.innerHTML = docLinkHtml;\n",
              "          element.appendChild(docLink);\n",
              "        }\n",
              "      </script>\n",
              "    </div>\n",
              "  </div>\n",
              "  "
            ]
          },
          "metadata": {},
          "execution_count": 111
        }
      ]
    },
    {
      "cell_type": "code",
      "source": [
        "def common_words_plot(df, political_affiliation, first_):\n",
        "    word_list = []\n",
        "    lemmer = WordNetLemmatizer()\n",
        "    stop = stopwords.words('english')+['shiv sena','shivsena','aap','bjp','congress']\n",
        "    for row in tqdm(df):\n",
        "        words = [w for w in word_tokenize(row) if (w not in stop_words)]\n",
        "        words = [lemmer.lemmatize(w) for w in words if (len(w) > 2)]\n",
        "        word_list.append(words)\n",
        "    word_list = [word for l in word_list for word in l]\n",
        "    counter = Counter(word_list)\n",
        "    common_ = counter.most_common()\n",
        "    word = []\n",
        "    count = []\n",
        "    for common_word, word_count in common_:\n",
        "        if common_word not in stop:\n",
        "            word.append(common_word)\n",
        "            count.append(word_count)\n",
        "    plt.figure(figsize=(15,9))\n",
        "    sns.barplot(word[:first_], count[:first_]).set_title(f'Most Common Words from the {political_affiliation}',fontsize=20)\n",
        "    plt.xlabel(\"Words\",fontsize=15)\n",
        "    plt.xticks(fontsize=15)\n",
        "    plt.ylabel(\"Counts\",fontsize=15)\n",
        "    plt.yticks(fontsize=15)\n",
        "    plt.xticks(rotation=45)\n",
        "    plt.show()\n",
        "import nltk\n",
        "from nltk.corpus import stopwords\n",
        "from tqdm import tqdm\n",
        "from nltk.util import ngrams\n",
        "from nltk.tokenize import word_tokenize\n",
        "from nltk.stem import WordNetLemmatizer,PorterStemmer\n",
        "from sklearn.feature_extraction.text import CountVectorizer\n",
        "from collections import defaultdict,Counter\n",
        "import matplotlib.pyplot as plt\n",
        "import seaborn as sns\n",
        "common_words_plot(left['content'],'left',20)\n",
        "common_words_plot(right['content'],'right',20)\n",
        "common_words_plot(unbiased_with_bias_words['content'],'center',20)\n"
      ],
      "metadata": {
        "colab": {
          "base_uri": "https://localhost:8080/",
          "height": 1000
        },
        "id": "DJ1gjD8GY2vm",
        "outputId": "befd0974-184f-4705-e66a-484e7a5d9551"
      },
      "execution_count": 318,
      "outputs": [
        {
          "output_type": "stream",
          "name": "stderr",
          "text": [
            "100%|██████████| 198/198 [00:01<00:00, 101.37it/s]\n",
            "/usr/local/lib/python3.7/dist-packages/seaborn/_decorators.py:43: FutureWarning: Pass the following variables as keyword args: x, y. From version 0.12, the only valid positional argument will be `data`, and passing other arguments without an explicit keyword will result in an error or misinterpretation.\n",
            "  FutureWarning\n"
          ]
        },
        {
          "output_type": "display_data",
          "data": {
            "text/plain": [
              "<Figure size 1080x648 with 1 Axes>"
            ],
            "image/png": "[encoded data removed]"
          },
          "metadata": {
            "needs_background": "light"
          }
        },
        {
          "output_type": "stream",
          "name": "stderr",
          "text": [
            "100%|██████████| 131/131 [00:00<00:00, 205.87it/s]\n",
            "/usr/local/lib/python3.7/dist-packages/seaborn/_decorators.py:43: FutureWarning: Pass the following variables as keyword args: x, y. From version 0.12, the only valid positional argument will be `data`, and passing other arguments without an explicit keyword will result in an error or misinterpretation.\n",
            "  FutureWarning\n"
          ]
        },
        {
          "output_type": "display_data",
          "data": {
            "text/plain": [
              "<Figure size 1080x648 with 1 Axes>"
            ],
            "image/png": "[encoded data removed]"
          },
          "metadata": {
            "needs_background": "light"
          }
        },
        {
          "output_type": "stream",
          "name": "stderr",
          "text": [
            "100%|██████████| 144/144 [00:00<00:00, 149.06it/s]\n",
            "/usr/local/lib/python3.7/dist-packages/seaborn/_decorators.py:43: FutureWarning: Pass the following variables as keyword args: x, y. From version 0.12, the only valid positional argument will be `data`, and passing other arguments without an explicit keyword will result in an error or misinterpretation.\n",
            "  FutureWarning\n"
          ]
        },
        {
          "output_type": "display_data",
          "data": {
            "text/plain": [
              "<Figure size 1080x648 with 1 Axes>"
            ],
            "image/png": "[encoded data removed]"
          },
          "metadata": {
            "needs_background": "light"
          }
        }
      ]
    },
    {
      "cell_type": "code",
      "source": [
        "df=pd.concat([unbiased_with_bias_words, right,left])\n",
        "#df=pd.concat([right,left])\n",
        "\n",
        "print(len(df))"
      ],
      "metadata": {
        "colab": {
          "base_uri": "https://localhost:8080/"
        },
        "id": "YsH_TK8rPEvt",
        "outputId": "58704496-d57d-4644-89f2-c4bc3be51d1d"
      },
      "execution_count": 263,
      "outputs": [
        {
          "output_type": "stream",
          "name": "stdout",
          "text": [
            "473\n"
          ]
        }
      ]
    },
    {
      "cell_type": "code",
      "source": [
        "#REINDEXING\n",
        "indx=[]\n",
        "for i in range(len(df)):\n",
        "  indx.append(i)\n",
        "df.index=indx"
      ],
      "metadata": {
        "id": "Sd-0Ml56PQsu"
      },
      "execution_count": 264,
      "outputs": []
    },
    {
      "cell_type": "code",
      "source": [
        "df.head(4)"
      ],
      "metadata": {
        "colab": {
          "base_uri": "https://localhost:8080/",
          "height": 175
        },
        "id": "vtdzT6gHPdoO",
        "outputId": "993abf48-be97-4343-a966-1bebe0039836"
      },
      "execution_count": 265,
      "outputs": [
        {
          "output_type": "execute_result",
          "data": {
            "text/plain": [
              "                                                text  retweet_count  \\\n",
              "0  RT @ndtvfeed: A Look At Inspiring Messages On ...              3   \n",
              "1  RT @ndtvfeed: Centre Cares About Optics Rather...              7   \n",
              "2  Blackout Warning For Delhi If Coal Supply Not ...             20   \n",
              "3  RT @ndtvfeed: Key Accused In Rajasthan Teacher...              3   \n",
              "\n",
              "   favorite_count  bias                                              title  \\\n",
              "0               0     3  International Day Of The Girl Child 2021: Lead...   \n",
              "1               0     3  \"Under Guise Of Coal Shortage...\": Congress Le...   \n",
              "2             163     3  Blackout Warning For Delhi If Coal Supply Not ...   \n",
              "3               0     3  Key Accused In Rajasthan Teachers' Recruitment...   \n",
              "\n",
              "                                             content  \\\n",
              "0  various world leaders and un agencies posted w...   \n",
              "1  congress leader gourav vallabh on sunday alleg...   \n",
              "2  there could be a blackout in the national capi...   \n",
              "3  the alleged mastermind behind the rajasthan el...   \n",
              "\n",
              "                                       content_lower  \n",
              "0  various world leaders and un agencies posted w...  \n",
              "1  congress leader gourav vallabh on sunday alleg...  \n",
              "2  there could be a blackout in the national capi...  \n",
              "3  the alleged mastermind behind the rajasthan el...  "
            ],
            "text/html": [
              "\n",
              "  <div id=\"df-d6885bcd-9f82-435b-ac4b-0fbebeade489\">\n",
              "    <div class=\"colab-df-container\">\n",
              "      <div>\n",
              "<style scoped>\n",
              "    .dataframe tbody tr th:only-of-type {\n",
              "        vertical-align: middle;\n",
              "    }\n",
              "\n",
              "    .dataframe tbody tr th {\n",
              "        vertical-align: top;\n",
              "    }\n",
              "\n",
              "    .dataframe thead th {\n",
              "        text-align: right;\n",
              "    }\n",
              "</style>\n",
              "<table border=\"1\" class=\"dataframe\">\n",
              "  <thead>\n",
              "    <tr style=\"text-align: right;\">\n",
              "      <th></th>\n",
              "      <th>text</th>\n",
              "      <th>retweet_count</th>\n",
              "      <th>favorite_count</th>\n",
              "      <th>bias</th>\n",
              "      <th>title</th>\n",
              "      <th>content</th>\n",
              "      <th>content_lower</th>\n",
              "    </tr>\n",
              "  </thead>\n",
              "  <tbody>\n",
              "    <tr>\n",
              "      <th>0</th>\n",
              "      <td>RT @ndtvfeed: A Look At Inspiring Messages On ...</td>\n",
              "      <td>3</td>\n",
              "      <td>0</td>\n",
              "      <td>3</td>\n",
              "      <td>International Day Of The Girl Child 2021: Lead...</td>\n",
              "      <td>various world leaders and un agencies posted w...</td>\n",
              "      <td>various world leaders and un agencies posted w...</td>\n",
              "    </tr>\n",
              "    <tr>\n",
              "      <th>1</th>\n",
              "      <td>RT @ndtvfeed: Centre Cares About Optics Rather...</td>\n",
              "      <td>7</td>\n",
              "      <td>0</td>\n",
              "      <td>3</td>\n",
              "      <td>\"Under Guise Of Coal Shortage...\": Congress Le...</td>\n",
              "      <td>congress leader gourav vallabh on sunday alleg...</td>\n",
              "      <td>congress leader gourav vallabh on sunday alleg...</td>\n",
              "    </tr>\n",
              "    <tr>\n",
              "      <th>2</th>\n",
              "      <td>Blackout Warning For Delhi If Coal Supply Not ...</td>\n",
              "      <td>20</td>\n",
              "      <td>163</td>\n",
              "      <td>3</td>\n",
              "      <td>Blackout Warning For Delhi If Coal Supply Not ...</td>\n",
              "      <td>there could be a blackout in the national capi...</td>\n",
              "      <td>there could be a blackout in the national capi...</td>\n",
              "    </tr>\n",
              "    <tr>\n",
              "      <th>3</th>\n",
              "      <td>RT @ndtvfeed: Key Accused In Rajasthan Teacher...</td>\n",
              "      <td>3</td>\n",
              "      <td>0</td>\n",
              "      <td>3</td>\n",
              "      <td>Key Accused In Rajasthan Teachers' Recruitment...</td>\n",
              "      <td>the alleged mastermind behind the rajasthan el...</td>\n",
              "      <td>the alleged mastermind behind the rajasthan el...</td>\n",
              "    </tr>\n",
              "  </tbody>\n",
              "</table>\n",
              "</div>\n",
              "      <button class=\"colab-df-convert\" onclick=\"convertToInteractive('df-d6885bcd-9f82-435b-ac4b-0fbebeade489')\"\n",
              "              title=\"Convert this dataframe to an interactive table.\"\n",
              "              style=\"display:none;\">\n",
              "        \n",
              "  <svg xmlns=\"http://www.w3.org/2000/svg\" height=\"24px\"viewBox=\"0 0 24 24\"\n",
              "       width=\"24px\">\n",
              "    <path d=\"M0 0h24v24H0V0z\" fill=\"none\"/>\n",
              "    <path d=\"M18.56 5.44l.94 2.06.94-2.06 2.06-.94-2.06-.94-.94-2.06-.94 2.06-2.06.94zm-11 1L8.5 8.5l.94-2.06 2.06-.94-2.06-.94L8.5 2.5l-.94 2.06-2.06.94zm10 10l.94 2.06.94-2.06 2.06-.94-2.06-.94-.94-2.06-.94 2.06-2.06.94z\"/><path d=\"M17.41 7.96l-1.37-1.37c-.4-.4-.92-.59-1.43-.59-.52 0-1.04.2-1.43.59L10.3 9.45l-7.72 7.72c-.78.78-.78 2.05 0 2.83L4 21.41c.39.39.9.59 1.41.59.51 0 1.02-.2 1.41-.59l7.78-7.78 2.81-2.81c.8-.78.8-2.07 0-2.86zM5.41 20L4 18.59l7.72-7.72 1.47 1.35L5.41 20z\"/>\n",
              "  </svg>\n",
              "      </button>\n",
              "      \n",
              "  <style>\n",
              "    .colab-df-container {\n",
              "      display:flex;\n",
              "      flex-wrap:wrap;\n",
              "      gap: 12px;\n",
              "    }\n",
              "\n",
              "    .colab-df-convert {\n",
              "      background-color: #E8F0FE;\n",
              "      border: none;\n",
              "      border-radius: 50%;\n",
              "      cursor: pointer;\n",
              "      display: none;\n",
              "      fill: #1967D2;\n",
              "      height: 32px;\n",
              "      padding: 0 0 0 0;\n",
              "      width: 32px;\n",
              "    }\n",
              "\n",
              "    .colab-df-convert:hover {\n",
              "      background-color: #E2EBFA;\n",
              "      box-shadow: 0px 1px 2px rgba(60, 64, 67, 0.3), 0px 1px 3px 1px rgba(60, 64, 67, 0.15);\n",
              "      fill: #174EA6;\n",
              "    }\n",
              "\n",
              "    [theme=dark] .colab-df-convert {\n",
              "      background-color: #3B4455;\n",
              "      fill: #D2E3FC;\n",
              "    }\n",
              "\n",
              "    [theme=dark] .colab-df-convert:hover {\n",
              "      background-color: #434B5C;\n",
              "      box-shadow: 0px 1px 3px 1px rgba(0, 0, 0, 0.15);\n",
              "      filter: drop-shadow(0px 1px 2px rgba(0, 0, 0, 0.3));\n",
              "      fill: #FFFFFF;\n",
              "    }\n",
              "  </style>\n",
              "\n",
              "      <script>\n",
              "        const buttonEl =\n",
              "          document.querySelector('#df-d6885bcd-9f82-435b-ac4b-0fbebeade489 button.colab-df-convert');\n",
              "        buttonEl.style.display =\n",
              "          google.colab.kernel.accessAllowed ? 'block' : 'none';\n",
              "\n",
              "        async function convertToInteractive(key) {\n",
              "          const element = document.querySelector('#df-d6885bcd-9f82-435b-ac4b-0fbebeade489');\n",
              "          const dataTable =\n",
              "            await google.colab.kernel.invokeFunction('convertToInteractive',\n",
              "                                                     [key], {});\n",
              "          if (!dataTable) return;\n",
              "\n",
              "          const docLinkHtml = 'Like what you see? Visit the ' +\n",
              "            '<a target=\"_blank\" href=https://colab.research.google.com/notebooks/data_table.ipynb>data table notebook</a>'\n",
              "            + ' to learn more about interactive tables.';\n",
              "          element.innerHTML = '';\n",
              "          dataTable['output_type'] = 'display_data';\n",
              "          await google.colab.output.renderOutput(dataTable, element);\n",
              "          const docLink = document.createElement('div');\n",
              "          docLink.innerHTML = docLinkHtml;\n",
              "          element.appendChild(docLink);\n",
              "        }\n",
              "      </script>\n",
              "    </div>\n",
              "  </div>\n",
              "  "
            ]
          },
          "metadata": {},
          "execution_count": 265
        }
      ]
    },
    {
      "cell_type": "code",
      "source": [
        "%matplotlib inline\n",
        "\n",
        "import requests\n",
        "import pandas as pd\n",
        "import matplotlib.pyplot as plt\n",
        "from pathlib import Path\n",
        "import numpy as np\n",
        "import nltk\n",
        "nltk.download('wordnet')\n",
        "nltk.download('stopwords')\n",
        "from nltk.tokenize import RegexpTokenizer\n",
        "from nltk.stem import WordNetLemmatizer \n",
        "from nltk.stem.snowball import SnowballStemmer\n",
        "from nltk.corpus import stopwords\n",
        "stop_words = stopwords.words(\"english\")\n",
        "from textblob import TextBlob\n",
        "import collections\n",
        "from sklearn.manifold import TSNE"
      ],
      "metadata": {
        "colab": {
          "base_uri": "https://localhost:8080/"
        },
        "id": "20mK35hdjOzM",
        "outputId": "0ff1ae8c-b14e-4627-d3bf-d485abd5499f"
      },
      "execution_count": 266,
      "outputs": [
        {
          "output_type": "stream",
          "name": "stdout",
          "text": [
            "[nltk_data] Downloading package wordnet to /root/nltk_data...\n",
            "[nltk_data]   Package wordnet is already up-to-date!\n",
            "[nltk_data] Downloading package stopwords to /root/nltk_data...\n",
            "[nltk_data]   Package stopwords is already up-to-date!\n"
          ]
        }
      ]
    },
    {
      "cell_type": "markdown",
      "source": [
        "removing stopwords"
      ],
      "metadata": {
        "id": "Ld7LIP7YwTGi"
      }
    },
    {
      "cell_type": "code",
      "source": [
        "import nltk\n",
        "nltk.download('stopwords')\n",
        "from nltk.corpus import stopwords\n",
        "\n",
        "stop_words = stopwords.words('english')+['shiv sena','shivsena','aap','bjp','congress']\n",
        "print(stop_words)\n",
        "df['clean_content'] = df['content_lower'].apply(lambda x: ' '.join([word for word in x.split() if word not in (stop_words)]))"
      ],
      "metadata": {
        "colab": {
          "base_uri": "https://localhost:8080/"
        },
        "id": "tDreLUScwJ9C",
        "outputId": "a5af0b9d-6e51-4e94-d219-91bfe5a860d6"
      },
      "execution_count": 267,
      "outputs": [
        {
          "output_type": "stream",
          "name": "stdout",
          "text": [
            "[nltk_data] Downloading package stopwords to /root/nltk_data...\n",
            "[nltk_data]   Package stopwords is already up-to-date!\n",
            "['i', 'me', 'my', 'myself', 'we', 'our', 'ours', 'ourselves', 'you', \"you're\", \"you've\", \"you'll\", \"you'd\", 'your', 'yours', 'yourself', 'yourselves', 'he', 'him', 'his', 'himself', 'she', \"she's\", 'her', 'hers', 'herself', 'it', \"it's\", 'its', 'itself', 'they', 'them', 'their', 'theirs', 'themselves', 'what', 'which', 'who', 'whom', 'this', 'that', \"that'll\", 'these', 'those', 'am', 'is', 'are', 'was', 'were', 'be', 'been', 'being', 'have', 'has', 'had', 'having', 'do', 'does', 'did', 'doing', 'a', 'an', 'the', 'and', 'but', 'if', 'or', 'because', 'as', 'until', 'while', 'of', 'at', 'by', 'for', 'with', 'about', 'against', 'between', 'into', 'through', 'during', 'before', 'after', 'above', 'below', 'to', 'from', 'up', 'down', 'in', 'out', 'on', 'off', 'over', 'under', 'again', 'further', 'then', 'once', 'here', 'there', 'when', 'where', 'why', 'how', 'all', 'any', 'both', 'each', 'few', 'more', 'most', 'other', 'some', 'such', 'no', 'nor', 'not', 'only', 'own', 'same', 'so', 'than', 'too', 'very', 's', 't', 'can', 'will', 'just', 'don', \"don't\", 'should', \"should've\", 'now', 'd', 'll', 'm', 'o', 're', 've', 'y', 'ain', 'aren', \"aren't\", 'couldn', \"couldn't\", 'didn', \"didn't\", 'doesn', \"doesn't\", 'hadn', \"hadn't\", 'hasn', \"hasn't\", 'haven', \"haven't\", 'isn', \"isn't\", 'ma', 'mightn', \"mightn't\", 'mustn', \"mustn't\", 'needn', \"needn't\", 'shan', \"shan't\", 'shouldn', \"shouldn't\", 'wasn', \"wasn't\", 'weren', \"weren't\", 'won', \"won't\", 'wouldn', \"wouldn't\", 'shiv sena', 'shivsena', 'aap', 'bjp', 'congress']\n"
          ]
        }
      ]
    },
    {
      "cell_type": "markdown",
      "source": [
        "tokenization function"
      ],
      "metadata": {
        "id": "KRnUwZvLpYU_"
      }
    },
    {
      "cell_type": "code",
      "source": [
        "nltk.download('punkt')"
      ],
      "metadata": {
        "colab": {
          "base_uri": "https://localhost:8080/"
        },
        "id": "vktfM5Knsr0I",
        "outputId": "dae22cc9-7ea9-4532-aa03-57f51e65b738"
      },
      "execution_count": 268,
      "outputs": [
        {
          "output_type": "stream",
          "name": "stdout",
          "text": [
            "[nltk_data] Downloading package punkt to /root/nltk_data...\n",
            "[nltk_data]   Package punkt is already up-to-date!\n"
          ]
        },
        {
          "output_type": "execute_result",
          "data": {
            "text/plain": [
              "True"
            ]
          },
          "metadata": {},
          "execution_count": 268
        }
      ]
    },
    {
      "cell_type": "code",
      "source": [
        "from nltk.corpus import stopwords\n",
        "from nltk.stem.porter import PorterStemmer\n",
        "import re\n",
        "# Tokenizing sentences\n",
        "#sentences = nltk.sent_tokenize(paragraph)\n",
        "# Tokenizing words\n",
        "#words = nltk.word_tokenize(paragraph)"
      ],
      "metadata": {
        "id": "tTyGzhGUq2qA"
      },
      "execution_count": 269,
      "outputs": []
    },
    {
      "cell_type": "code",
      "source": [
        "df2=df"
      ],
      "metadata": {
        "id": "_YJ4cDF4sxc5"
      },
      "execution_count": 270,
      "outputs": []
    },
    {
      "cell_type": "code",
      "source": [
        "df2['tokenized_content']=df.apply(lambda row: nltk.word_tokenize(row['clean_content']), axis=1)"
      ],
      "metadata": {
        "id": "N75hMF5ps2KA"
      },
      "execution_count": 271,
      "outputs": []
    },
    {
      "cell_type": "code",
      "source": [
        "df2.head()"
      ],
      "metadata": {
        "colab": {
          "base_uri": "https://localhost:8080/",
          "height": 337
        },
        "id": "bTs96AJpt5ux",
        "outputId": "50537c9d-fc2b-4da7-e21b-65f687f54e5f"
      },
      "execution_count": 272,
      "outputs": [
        {
          "output_type": "execute_result",
          "data": {
            "text/plain": [
              "                                                text  retweet_count  \\\n",
              "0  RT @ndtvfeed: A Look At Inspiring Messages On ...              3   \n",
              "1  RT @ndtvfeed: Centre Cares About Optics Rather...              7   \n",
              "2  Blackout Warning For Delhi If Coal Supply Not ...             20   \n",
              "3  RT @ndtvfeed: Key Accused In Rajasthan Teacher...              3   \n",
              "4  Will Raise Move To Evict Shillong Sikhs With C...              7   \n",
              "\n",
              "   favorite_count  bias                                              title  \\\n",
              "0               0     3  International Day Of The Girl Child 2021: Lead...   \n",
              "1               0     3  \"Under Guise Of Coal Shortage...\": Congress Le...   \n",
              "2             163     3  Blackout Warning For Delhi If Coal Supply Not ...   \n",
              "3               0     3  Key Accused In Rajasthan Teachers' Recruitment...   \n",
              "4              61     3  Will Raise With Centre Move To Evict Shillong ...   \n",
              "\n",
              "                                             content  \\\n",
              "0  various world leaders and un agencies posted w...   \n",
              "1  congress leader gourav vallabh on sunday alleg...   \n",
              "2  there could be a blackout in the national capi...   \n",
              "3  the alleged mastermind behind the rajasthan el...   \n",
              "4  punjab deputy chief minister sukhjinder singh ...   \n",
              "\n",
              "                                       content_lower  \\\n",
              "0  various world leaders and un agencies posted w...   \n",
              "1  congress leader gourav vallabh on sunday alleg...   \n",
              "2  there could be a blackout in the national capi...   \n",
              "3  the alleged mastermind behind the rajasthan el...   \n",
              "4  punjab deputy chief minister sukhjinder singh ...   \n",
              "\n",
              "                                       clean_content  \\\n",
              "0  various world leaders un agencies posted wishe...   \n",
              "1  leader gourav vallabh sunday alleged guise coa...   \n",
              "2  could blackout national capital next two days ...   \n",
              "3  alleged mastermind behind rajasthan eligibilit...   \n",
              "4  punjab deputy chief minister sukhjinder singh ...   \n",
              "\n",
              "                                   tokenized_content  \n",
              "0  [various, world, leaders, un, agencies, posted...  \n",
              "1  [leader, gourav, vallabh, sunday, alleged, gui...  \n",
              "2  [could, blackout, national, capital, next, two...  \n",
              "3  [alleged, mastermind, behind, rajasthan, eligi...  \n",
              "4  [punjab, deputy, chief, minister, sukhjinder, ...  "
            ],
            "text/html": [
              "\n",
              "  <div id=\"df-194ec01c-4b46-484f-9145-b757b4eedec8\">\n",
              "    <div class=\"colab-df-container\">\n",
              "      <div>\n",
              "<style scoped>\n",
              "    .dataframe tbody tr th:only-of-type {\n",
              "        vertical-align: middle;\n",
              "    }\n",
              "\n",
              "    .dataframe tbody tr th {\n",
              "        vertical-align: top;\n",
              "    }\n",
              "\n",
              "    .dataframe thead th {\n",
              "        text-align: right;\n",
              "    }\n",
              "</style>\n",
              "<table border=\"1\" class=\"dataframe\">\n",
              "  <thead>\n",
              "    <tr style=\"text-align: right;\">\n",
              "      <th></th>\n",
              "      <th>text</th>\n",
              "      <th>retweet_count</th>\n",
              "      <th>favorite_count</th>\n",
              "      <th>bias</th>\n",
              "      <th>title</th>\n",
              "      <th>content</th>\n",
              "      <th>content_lower</th>\n",
              "      <th>clean_content</th>\n",
              "      <th>tokenized_content</th>\n",
              "    </tr>\n",
              "  </thead>\n",
              "  <tbody>\n",
              "    <tr>\n",
              "      <th>0</th>\n",
              "      <td>RT @ndtvfeed: A Look At Inspiring Messages On ...</td>\n",
              "      <td>3</td>\n",
              "      <td>0</td>\n",
              "      <td>3</td>\n",
              "      <td>International Day Of The Girl Child 2021: Lead...</td>\n",
              "      <td>various world leaders and un agencies posted w...</td>\n",
              "      <td>various world leaders and un agencies posted w...</td>\n",
              "      <td>various world leaders un agencies posted wishe...</td>\n",
              "      <td>[various, world, leaders, un, agencies, posted...</td>\n",
              "    </tr>\n",
              "    <tr>\n",
              "      <th>1</th>\n",
              "      <td>RT @ndtvfeed: Centre Cares About Optics Rather...</td>\n",
              "      <td>7</td>\n",
              "      <td>0</td>\n",
              "      <td>3</td>\n",
              "      <td>\"Under Guise Of Coal Shortage...\": Congress Le...</td>\n",
              "      <td>congress leader gourav vallabh on sunday alleg...</td>\n",
              "      <td>congress leader gourav vallabh on sunday alleg...</td>\n",
              "      <td>leader gourav vallabh sunday alleged guise coa...</td>\n",
              "      <td>[leader, gourav, vallabh, sunday, alleged, gui...</td>\n",
              "    </tr>\n",
              "    <tr>\n",
              "      <th>2</th>\n",
              "      <td>Blackout Warning For Delhi If Coal Supply Not ...</td>\n",
              "      <td>20</td>\n",
              "      <td>163</td>\n",
              "      <td>3</td>\n",
              "      <td>Blackout Warning For Delhi If Coal Supply Not ...</td>\n",
              "      <td>there could be a blackout in the national capi...</td>\n",
              "      <td>there could be a blackout in the national capi...</td>\n",
              "      <td>could blackout national capital next two days ...</td>\n",
              "      <td>[could, blackout, national, capital, next, two...</td>\n",
              "    </tr>\n",
              "    <tr>\n",
              "      <th>3</th>\n",
              "      <td>RT @ndtvfeed: Key Accused In Rajasthan Teacher...</td>\n",
              "      <td>3</td>\n",
              "      <td>0</td>\n",
              "      <td>3</td>\n",
              "      <td>Key Accused In Rajasthan Teachers' Recruitment...</td>\n",
              "      <td>the alleged mastermind behind the rajasthan el...</td>\n",
              "      <td>the alleged mastermind behind the rajasthan el...</td>\n",
              "      <td>alleged mastermind behind rajasthan eligibilit...</td>\n",
              "      <td>[alleged, mastermind, behind, rajasthan, eligi...</td>\n",
              "    </tr>\n",
              "    <tr>\n",
              "      <th>4</th>\n",
              "      <td>Will Raise Move To Evict Shillong Sikhs With C...</td>\n",
              "      <td>7</td>\n",
              "      <td>61</td>\n",
              "      <td>3</td>\n",
              "      <td>Will Raise With Centre Move To Evict Shillong ...</td>\n",
              "      <td>punjab deputy chief minister sukhjinder singh ...</td>\n",
              "      <td>punjab deputy chief minister sukhjinder singh ...</td>\n",
              "      <td>punjab deputy chief minister sukhjinder singh ...</td>\n",
              "      <td>[punjab, deputy, chief, minister, sukhjinder, ...</td>\n",
              "    </tr>\n",
              "  </tbody>\n",
              "</table>\n",
              "</div>\n",
              "      <button class=\"colab-df-convert\" onclick=\"convertToInteractive('df-194ec01c-4b46-484f-9145-b757b4eedec8')\"\n",
              "              title=\"Convert this dataframe to an interactive table.\"\n",
              "              style=\"display:none;\">\n",
              "        \n",
              "  <svg xmlns=\"http://www.w3.org/2000/svg\" height=\"24px\"viewBox=\"0 0 24 24\"\n",
              "       width=\"24px\">\n",
              "    <path d=\"M0 0h24v24H0V0z\" fill=\"none\"/>\n",
              "    <path d=\"M18.56 5.44l.94 2.06.94-2.06 2.06-.94-2.06-.94-.94-2.06-.94 2.06-2.06.94zm-11 1L8.5 8.5l.94-2.06 2.06-.94-2.06-.94L8.5 2.5l-.94 2.06-2.06.94zm10 10l.94 2.06.94-2.06 2.06-.94-2.06-.94-.94-2.06-.94 2.06-2.06.94z\"/><path d=\"M17.41 7.96l-1.37-1.37c-.4-.4-.92-.59-1.43-.59-.52 0-1.04.2-1.43.59L10.3 9.45l-7.72 7.72c-.78.78-.78 2.05 0 2.83L4 21.41c.39.39.9.59 1.41.59.51 0 1.02-.2 1.41-.59l7.78-7.78 2.81-2.81c.8-.78.8-2.07 0-2.86zM5.41 20L4 18.59l7.72-7.72 1.47 1.35L5.41 20z\"/>\n",
              "  </svg>\n",
              "      </button>\n",
              "      \n",
              "  <style>\n",
              "    .colab-df-container {\n",
              "      display:flex;\n",
              "      flex-wrap:wrap;\n",
              "      gap: 12px;\n",
              "    }\n",
              "\n",
              "    .colab-df-convert {\n",
              "      background-color: #E8F0FE;\n",
              "      border: none;\n",
              "      border-radius: 50%;\n",
              "      cursor: pointer;\n",
              "      display: none;\n",
              "      fill: #1967D2;\n",
              "      height: 32px;\n",
              "      padding: 0 0 0 0;\n",
              "      width: 32px;\n",
              "    }\n",
              "\n",
              "    .colab-df-convert:hover {\n",
              "      background-color: #E2EBFA;\n",
              "      box-shadow: 0px 1px 2px rgba(60, 64, 67, 0.3), 0px 1px 3px 1px rgba(60, 64, 67, 0.15);\n",
              "      fill: #174EA6;\n",
              "    }\n",
              "\n",
              "    [theme=dark] .colab-df-convert {\n",
              "      background-color: #3B4455;\n",
              "      fill: #D2E3FC;\n",
              "    }\n",
              "\n",
              "    [theme=dark] .colab-df-convert:hover {\n",
              "      background-color: #434B5C;\n",
              "      box-shadow: 0px 1px 3px 1px rgba(0, 0, 0, 0.15);\n",
              "      filter: drop-shadow(0px 1px 2px rgba(0, 0, 0, 0.3));\n",
              "      fill: #FFFFFF;\n",
              "    }\n",
              "  </style>\n",
              "\n",
              "      <script>\n",
              "        const buttonEl =\n",
              "          document.querySelector('#df-194ec01c-4b46-484f-9145-b757b4eedec8 button.colab-df-convert');\n",
              "        buttonEl.style.display =\n",
              "          google.colab.kernel.accessAllowed ? 'block' : 'none';\n",
              "\n",
              "        async function convertToInteractive(key) {\n",
              "          const element = document.querySelector('#df-194ec01c-4b46-484f-9145-b757b4eedec8');\n",
              "          const dataTable =\n",
              "            await google.colab.kernel.invokeFunction('convertToInteractive',\n",
              "                                                     [key], {});\n",
              "          if (!dataTable) return;\n",
              "\n",
              "          const docLinkHtml = 'Like what you see? Visit the ' +\n",
              "            '<a target=\"_blank\" href=https://colab.research.google.com/notebooks/data_table.ipynb>data table notebook</a>'\n",
              "            + ' to learn more about interactive tables.';\n",
              "          element.innerHTML = '';\n",
              "          dataTable['output_type'] = 'display_data';\n",
              "          await google.colab.output.renderOutput(dataTable, element);\n",
              "          const docLink = document.createElement('div');\n",
              "          docLink.innerHTML = docLinkHtml;\n",
              "          element.appendChild(docLink);\n",
              "        }\n",
              "      </script>\n",
              "    </div>\n",
              "  </div>\n",
              "  "
            ]
          },
          "metadata": {},
          "execution_count": 272
        }
      ]
    },
    {
      "cell_type": "code",
      "source": [
        "w_tokenizer = nltk.tokenize.WhitespaceTokenizer()\n",
        "lemmatizer = nltk.WordNetLemmatizer()\n",
        "def lemmatize_text(text):\n",
        "    return [lemmatizer.lemmatize(w) for w in w_tokenizer.tokenize(text)]\n",
        "\n",
        "df2['text_lemmatized'] = df.clean_content.apply(lemmatize_text)\n"
      ],
      "metadata": {
        "id": "DLurCblAt-bS"
      },
      "execution_count": 273,
      "outputs": []
    },
    {
      "cell_type": "code",
      "source": [
        "lemmatize_text('feet')"
      ],
      "metadata": {
        "colab": {
          "base_uri": "https://localhost:8080/"
        },
        "id": "imbhekmIvOSx",
        "outputId": "bab1d91a-5056-454a-f882-b36bc1ae1e40"
      },
      "execution_count": 274,
      "outputs": [
        {
          "output_type": "execute_result",
          "data": {
            "text/plain": [
              "['foot']"
            ]
          },
          "metadata": {},
          "execution_count": 274
        }
      ]
    },
    {
      "cell_type": "code",
      "source": [
        "df2.head()"
      ],
      "metadata": {
        "colab": {
          "base_uri": "https://localhost:8080/",
          "height": 337
        },
        "id": "t3Xrrf48uasM",
        "outputId": "938ed14a-6e98-4798-c37d-d16abdca238b"
      },
      "execution_count": 275,
      "outputs": [
        {
          "output_type": "execute_result",
          "data": {
            "text/plain": [
              "                                                text  retweet_count  \\\n",
              "0  RT @ndtvfeed: A Look At Inspiring Messages On ...              3   \n",
              "1  RT @ndtvfeed: Centre Cares About Optics Rather...              7   \n",
              "2  Blackout Warning For Delhi If Coal Supply Not ...             20   \n",
              "3  RT @ndtvfeed: Key Accused In Rajasthan Teacher...              3   \n",
              "4  Will Raise Move To Evict Shillong Sikhs With C...              7   \n",
              "\n",
              "   favorite_count  bias                                              title  \\\n",
              "0               0     3  International Day Of The Girl Child 2021: Lead...   \n",
              "1               0     3  \"Under Guise Of Coal Shortage...\": Congress Le...   \n",
              "2             163     3  Blackout Warning For Delhi If Coal Supply Not ...   \n",
              "3               0     3  Key Accused In Rajasthan Teachers' Recruitment...   \n",
              "4              61     3  Will Raise With Centre Move To Evict Shillong ...   \n",
              "\n",
              "                                             content  \\\n",
              "0  various world leaders and un agencies posted w...   \n",
              "1  congress leader gourav vallabh on sunday alleg...   \n",
              "2  there could be a blackout in the national capi...   \n",
              "3  the alleged mastermind behind the rajasthan el...   \n",
              "4  punjab deputy chief minister sukhjinder singh ...   \n",
              "\n",
              "                                       content_lower  \\\n",
              "0  various world leaders and un agencies posted w...   \n",
              "1  congress leader gourav vallabh on sunday alleg...   \n",
              "2  there could be a blackout in the national capi...   \n",
              "3  the alleged mastermind behind the rajasthan el...   \n",
              "4  punjab deputy chief minister sukhjinder singh ...   \n",
              "\n",
              "                                       clean_content  \\\n",
              "0  various world leaders un agencies posted wishe...   \n",
              "1  leader gourav vallabh sunday alleged guise coa...   \n",
              "2  could blackout national capital next two days ...   \n",
              "3  alleged mastermind behind rajasthan eligibilit...   \n",
              "4  punjab deputy chief minister sukhjinder singh ...   \n",
              "\n",
              "                                   tokenized_content  \\\n",
              "0  [various, world, leaders, un, agencies, posted...   \n",
              "1  [leader, gourav, vallabh, sunday, alleged, gui...   \n",
              "2  [could, blackout, national, capital, next, two...   \n",
              "3  [alleged, mastermind, behind, rajasthan, eligi...   \n",
              "4  [punjab, deputy, chief, minister, sukhjinder, ...   \n",
              "\n",
              "                                     text_lemmatized  \n",
              "0  [various, world, leader, un, agency, posted, w...  \n",
              "1  [leader, gourav, vallabh, sunday, alleged, gui...  \n",
              "2  [could, blackout, national, capital, next, two...  \n",
              "3  [alleged, mastermind, behind, rajasthan, eligi...  \n",
              "4  [punjab, deputy, chief, minister, sukhjinder, ...  "
            ],
            "text/html": [
              "\n",
              "  <div id=\"df-1b58d7fd-9e2f-4ca1-a837-35554e79ad64\">\n",
              "    <div class=\"colab-df-container\">\n",
              "      <div>\n",
              "<style scoped>\n",
              "    .dataframe tbody tr th:only-of-type {\n",
              "        vertical-align: middle;\n",
              "    }\n",
              "\n",
              "    .dataframe tbody tr th {\n",
              "        vertical-align: top;\n",
              "    }\n",
              "\n",
              "    .dataframe thead th {\n",
              "        text-align: right;\n",
              "    }\n",
              "</style>\n",
              "<table border=\"1\" class=\"dataframe\">\n",
              "  <thead>\n",
              "    <tr style=\"text-align: right;\">\n",
              "      <th></th>\n",
              "      <th>text</th>\n",
              "      <th>retweet_count</th>\n",
              "      <th>favorite_count</th>\n",
              "      <th>bias</th>\n",
              "      <th>title</th>\n",
              "      <th>content</th>\n",
              "      <th>content_lower</th>\n",
              "      <th>clean_content</th>\n",
              "      <th>tokenized_content</th>\n",
              "      <th>text_lemmatized</th>\n",
              "    </tr>\n",
              "  </thead>\n",
              "  <tbody>\n",
              "    <tr>\n",
              "      <th>0</th>\n",
              "      <td>RT @ndtvfeed: A Look At Inspiring Messages On ...</td>\n",
              "      <td>3</td>\n",
              "      <td>0</td>\n",
              "      <td>3</td>\n",
              "      <td>International Day Of The Girl Child 2021: Lead...</td>\n",
              "      <td>various world leaders and un agencies posted w...</td>\n",
              "      <td>various world leaders and un agencies posted w...</td>\n",
              "      <td>various world leaders un agencies posted wishe...</td>\n",
              "      <td>[various, world, leaders, un, agencies, posted...</td>\n",
              "      <td>[various, world, leader, un, agency, posted, w...</td>\n",
              "    </tr>\n",
              "    <tr>\n",
              "      <th>1</th>\n",
              "      <td>RT @ndtvfeed: Centre Cares About Optics Rather...</td>\n",
              "      <td>7</td>\n",
              "      <td>0</td>\n",
              "      <td>3</td>\n",
              "      <td>\"Under Guise Of Coal Shortage...\": Congress Le...</td>\n",
              "      <td>congress leader gourav vallabh on sunday alleg...</td>\n",
              "      <td>congress leader gourav vallabh on sunday alleg...</td>\n",
              "      <td>leader gourav vallabh sunday alleged guise coa...</td>\n",
              "      <td>[leader, gourav, vallabh, sunday, alleged, gui...</td>\n",
              "      <td>[leader, gourav, vallabh, sunday, alleged, gui...</td>\n",
              "    </tr>\n",
              "    <tr>\n",
              "      <th>2</th>\n",
              "      <td>Blackout Warning For Delhi If Coal Supply Not ...</td>\n",
              "      <td>20</td>\n",
              "      <td>163</td>\n",
              "      <td>3</td>\n",
              "      <td>Blackout Warning For Delhi If Coal Supply Not ...</td>\n",
              "      <td>there could be a blackout in the national capi...</td>\n",
              "      <td>there could be a blackout in the national capi...</td>\n",
              "      <td>could blackout national capital next two days ...</td>\n",
              "      <td>[could, blackout, national, capital, next, two...</td>\n",
              "      <td>[could, blackout, national, capital, next, two...</td>\n",
              "    </tr>\n",
              "    <tr>\n",
              "      <th>3</th>\n",
              "      <td>RT @ndtvfeed: Key Accused In Rajasthan Teacher...</td>\n",
              "      <td>3</td>\n",
              "      <td>0</td>\n",
              "      <td>3</td>\n",
              "      <td>Key Accused In Rajasthan Teachers' Recruitment...</td>\n",
              "      <td>the alleged mastermind behind the rajasthan el...</td>\n",
              "      <td>the alleged mastermind behind the rajasthan el...</td>\n",
              "      <td>alleged mastermind behind rajasthan eligibilit...</td>\n",
              "      <td>[alleged, mastermind, behind, rajasthan, eligi...</td>\n",
              "      <td>[alleged, mastermind, behind, rajasthan, eligi...</td>\n",
              "    </tr>\n",
              "    <tr>\n",
              "      <th>4</th>\n",
              "      <td>Will Raise Move To Evict Shillong Sikhs With C...</td>\n",
              "      <td>7</td>\n",
              "      <td>61</td>\n",
              "      <td>3</td>\n",
              "      <td>Will Raise With Centre Move To Evict Shillong ...</td>\n",
              "      <td>punjab deputy chief minister sukhjinder singh ...</td>\n",
              "      <td>punjab deputy chief minister sukhjinder singh ...</td>\n",
              "      <td>punjab deputy chief minister sukhjinder singh ...</td>\n",
              "      <td>[punjab, deputy, chief, minister, sukhjinder, ...</td>\n",
              "      <td>[punjab, deputy, chief, minister, sukhjinder, ...</td>\n",
              "    </tr>\n",
              "  </tbody>\n",
              "</table>\n",
              "</div>\n",
              "      <button class=\"colab-df-convert\" onclick=\"convertToInteractive('df-1b58d7fd-9e2f-4ca1-a837-35554e79ad64')\"\n",
              "              title=\"Convert this dataframe to an interactive table.\"\n",
              "              style=\"display:none;\">\n",
              "        \n",
              "  <svg xmlns=\"http://www.w3.org/2000/svg\" height=\"24px\"viewBox=\"0 0 24 24\"\n",
              "       width=\"24px\">\n",
              "    <path d=\"M0 0h24v24H0V0z\" fill=\"none\"/>\n",
              "    <path d=\"M18.56 5.44l.94 2.06.94-2.06 2.06-.94-2.06-.94-.94-2.06-.94 2.06-2.06.94zm-11 1L8.5 8.5l.94-2.06 2.06-.94-2.06-.94L8.5 2.5l-.94 2.06-2.06.94zm10 10l.94 2.06.94-2.06 2.06-.94-2.06-.94-.94-2.06-.94 2.06-2.06.94z\"/><path d=\"M17.41 7.96l-1.37-1.37c-.4-.4-.92-.59-1.43-.59-.52 0-1.04.2-1.43.59L10.3 9.45l-7.72 7.72c-.78.78-.78 2.05 0 2.83L4 21.41c.39.39.9.59 1.41.59.51 0 1.02-.2 1.41-.59l7.78-7.78 2.81-2.81c.8-.78.8-2.07 0-2.86zM5.41 20L4 18.59l7.72-7.72 1.47 1.35L5.41 20z\"/>\n",
              "  </svg>\n",
              "      </button>\n",
              "      \n",
              "  <style>\n",
              "    .colab-df-container {\n",
              "      display:flex;\n",
              "      flex-wrap:wrap;\n",
              "      gap: 12px;\n",
              "    }\n",
              "\n",
              "    .colab-df-convert {\n",
              "      background-color: #E8F0FE;\n",
              "      border: none;\n",
              "      border-radius: 50%;\n",
              "      cursor: pointer;\n",
              "      display: none;\n",
              "      fill: #1967D2;\n",
              "      height: 32px;\n",
              "      padding: 0 0 0 0;\n",
              "      width: 32px;\n",
              "    }\n",
              "\n",
              "    .colab-df-convert:hover {\n",
              "      background-color: #E2EBFA;\n",
              "      box-shadow: 0px 1px 2px rgba(60, 64, 67, 0.3), 0px 1px 3px 1px rgba(60, 64, 67, 0.15);\n",
              "      fill: #174EA6;\n",
              "    }\n",
              "\n",
              "    [theme=dark] .colab-df-convert {\n",
              "      background-color: #3B4455;\n",
              "      fill: #D2E3FC;\n",
              "    }\n",
              "\n",
              "    [theme=dark] .colab-df-convert:hover {\n",
              "      background-color: #434B5C;\n",
              "      box-shadow: 0px 1px 3px 1px rgba(0, 0, 0, 0.15);\n",
              "      filter: drop-shadow(0px 1px 2px rgba(0, 0, 0, 0.3));\n",
              "      fill: #FFFFFF;\n",
              "    }\n",
              "  </style>\n",
              "\n",
              "      <script>\n",
              "        const buttonEl =\n",
              "          document.querySelector('#df-1b58d7fd-9e2f-4ca1-a837-35554e79ad64 button.colab-df-convert');\n",
              "        buttonEl.style.display =\n",
              "          google.colab.kernel.accessAllowed ? 'block' : 'none';\n",
              "\n",
              "        async function convertToInteractive(key) {\n",
              "          const element = document.querySelector('#df-1b58d7fd-9e2f-4ca1-a837-35554e79ad64');\n",
              "          const dataTable =\n",
              "            await google.colab.kernel.invokeFunction('convertToInteractive',\n",
              "                                                     [key], {});\n",
              "          if (!dataTable) return;\n",
              "\n",
              "          const docLinkHtml = 'Like what you see? Visit the ' +\n",
              "            '<a target=\"_blank\" href=https://colab.research.google.com/notebooks/data_table.ipynb>data table notebook</a>'\n",
              "            + ' to learn more about interactive tables.';\n",
              "          element.innerHTML = '';\n",
              "          dataTable['output_type'] = 'display_data';\n",
              "          await google.colab.output.renderOutput(dataTable, element);\n",
              "          const docLink = document.createElement('div');\n",
              "          docLink.innerHTML = docLinkHtml;\n",
              "          element.appendChild(docLink);\n",
              "        }\n",
              "      </script>\n",
              "    </div>\n",
              "  </div>\n",
              "  "
            ]
          },
          "metadata": {},
          "execution_count": 275
        }
      ]
    },
    {
      "cell_type": "code",
      "source": [
        "##TESTING\n",
        "x=set(df2['tokenized_content'][0])\n",
        "y=set(df2['text_lemmatized'][0])\n",
        "print(x.intersection(y))\n",
        "print(f'x length{len(x)}')\n",
        "print(f'y length{len(y)}')\n",
        "print(f'xintery length{len(x.intersection(y))}')\n",
        "\n"
      ],
      "metadata": {
        "colab": {
          "base_uri": "https://localhost:8080/"
        },
        "id": "8V_w1qyGwk-i",
        "outputId": "102f6786-bd80-4df9-bfc2-49d6105e6bca"
      },
      "execution_count": 276,
      "outputs": [
        {
          "output_type": "stream",
          "name": "stdout",
          "text": [
            "{'egalitarian', 'address', 'national', 'ashok', 'materialize', 'theme', 'according', 'ãââ', 'worldãââ', 'vice', 'ongoing', 'also', 'venkaiah', 'unicef', 'assembly', 'sally', 'american', 'divide', 'promote', 'beijing', '2021', 'patnaik', 'urged', 'december', 'skill', 'official', 'make', 'india', 'face', 'october', 'succeed', 'rajasthan', 'young', 'social', 'chase', 'year', 'advancing', 'effort', 'sharma', 'minister', 'twitter', 'wrote', 'swimming', 'identify', 'globally', 'courage', 'adolescent', 'covid', 'themãââ', 'president', 'ãâåappreciate', 'pledge', 'child', 'gehlot', 'generation', 'chief', 'quote', 'tide', 'chairperson', 'every', 'bridging', 'conference', 'united', 'empower', 'society', 'inclusive', 'pandemic', 'general', 'declaration', 'adopted', 'international', 'digital', 'ãâåempower', 'environment', 'various', 'themed', 'commission', 'work', 'action', 'resilience', 'world', 'mark', 'develop', 'ãâåthis', 'ãâålet', 'see', 'people', 'posted', 'ensure', 'handle', 'girl', 'may', 'change', 'techrelated', 'gender', 'need', 'blueprint', 'declared', 'provide', 'single', '11', 'amid', 'naveen', 'day', 'astronaut', 'right', 'development', 'choose', 'anywhereãââ', 'amplify', 'chance', 'message', 'dreamsãââ', 'growãââ', 'attention', 'picture', 'ride', 'platform', 'empowerment', '1995', 'naidu', 'asked', 'best', 'access', 'tweeted', 'party', 'someday', 'equal', '2011', 'role', 'get', 'progressive', 'odisha', '19', 'rekha', 'whatever', 'ãâåevery', 'un', 'available', 'physicist', 'together'}\n",
            "x length166\n",
            "y length161\n",
            "xintery length141\n"
          ]
        }
      ]
    },
    {
      "cell_type": "code",
      "source": [
        "##TESTING\n",
        "x-x.intersection(y)"
      ],
      "metadata": {
        "colab": {
          "base_uri": "https://localhost:8080/"
        },
        "id": "p3NgayibyPDb",
        "outputId": "5cc4a358-dae3-4c0a-effd-c7347561fc45"
      },
      "execution_count": 277,
      "outputs": [
        {
          "output_type": "execute_result",
          "data": {
            "text/plain": [
              "{'agencies',\n",
              " 'aims',\n",
              " 'careers',\n",
              " 'challenges',\n",
              " 'daughters',\n",
              " 'devices',\n",
              " 'dreams',\n",
              " 'focuses',\n",
              " 'girls',\n",
              " 'jobs',\n",
              " 'leaders',\n",
              " 'lets',\n",
              " 'media',\n",
              " 'messages',\n",
              " 'models',\n",
              " 'nations',\n",
              " 'opportunities',\n",
              " 'rights',\n",
              " 'skills',\n",
              " 'tweets',\n",
              " 'us',\n",
              " 'voices',\n",
              " 'wishes',\n",
              " 'women',\n",
              " 'years'}"
            ]
          },
          "metadata": {},
          "execution_count": 277
        }
      ]
    },
    {
      "cell_type": "code",
      "source": [
        "#df2['text_lemmatized'][0]"
      ],
      "metadata": {
        "id": "xOCyXAZCx7as"
      },
      "execution_count": 278,
      "outputs": []
    },
    {
      "cell_type": "code",
      "source": [
        "#df2['tokenized_content'][0]"
      ],
      "metadata": {
        "id": "9RyjZ1SDxLcT"
      },
      "execution_count": 279,
      "outputs": []
    },
    {
      "cell_type": "code",
      "source": [
        "## TFidf Vectorizer\n",
        "from sklearn.feature_extraction.text import TfidfVectorizer\n",
        "tfidf_v=TfidfVectorizer(max_features=5000,ngram_range=(1,3))"
      ],
      "metadata": {
        "id": "FGYOghN8ybEt"
      },
      "execution_count": 280,
      "outputs": []
    },
    {
      "cell_type": "code",
      "source": [
        "df2.columns"
      ],
      "metadata": {
        "colab": {
          "base_uri": "https://localhost:8080/"
        },
        "id": "IRUmxZ6GL0Kc",
        "outputId": "f7df2bc1-acd5-4e51-fa78-a81cd731aceb"
      },
      "execution_count": 281,
      "outputs": [
        {
          "output_type": "execute_result",
          "data": {
            "text/plain": [
              "Index(['text', 'retweet_count', 'favorite_count', 'bias', 'title', 'content',\n",
              "       'content_lower', 'clean_content', 'tokenized_content',\n",
              "       'text_lemmatized'],\n",
              "      dtype='object')"
            ]
          },
          "metadata": {},
          "execution_count": 281
        }
      ]
    },
    {
      "cell_type": "code",
      "source": [
        "len(unbiased_with_bias_words)"
      ],
      "metadata": {
        "colab": {
          "base_uri": "https://localhost:8080/"
        },
        "id": "nu3MvGqWNsQF",
        "outputId": "36e2f9aa-8b7f-4835-9f28-7cfcbe1f3ae3"
      },
      "execution_count": 282,
      "outputs": [
        {
          "output_type": "execute_result",
          "data": {
            "text/plain": [
              "144"
            ]
          },
          "metadata": {},
          "execution_count": 282
        }
      ]
    },
    {
      "cell_type": "code",
      "source": [
        "len(left)"
      ],
      "metadata": {
        "colab": {
          "base_uri": "https://localhost:8080/"
        },
        "id": "dYXHxO_fN0EW",
        "outputId": "549ce3aa-844a-4bf5-db1a-dc2196235f63"
      },
      "execution_count": 283,
      "outputs": [
        {
          "output_type": "execute_result",
          "data": {
            "text/plain": [
              "198"
            ]
          },
          "metadata": {},
          "execution_count": 283
        }
      ]
    },
    {
      "cell_type": "code",
      "source": [
        "len(right)"
      ],
      "metadata": {
        "colab": {
          "base_uri": "https://localhost:8080/"
        },
        "id": "G0J-_uBENy8d",
        "outputId": "b8e26ed3-445c-49ba-be86-6ba9e4f93388"
      },
      "execution_count": 284,
      "outputs": [
        {
          "output_type": "execute_result",
          "data": {
            "text/plain": [
              "131"
            ]
          },
          "metadata": {},
          "execution_count": 284
        }
      ]
    },
    {
      "cell_type": "code",
      "source": [
        "# from nltk.corpus import stopwords\n",
        "# from nltk.stem.porter import PorterStemmer\n",
        "# import re\n",
        "# ps = PorterStemmer()\n",
        "# corpus = []\n",
        "# for i in range(0, len(df2)):\n",
        "#     review = re.sub('[^a-zA-Z]', ' ', df2['clean_content'][i])\n",
        "#     review = review.lower()\n",
        "#     review = review.split()\n",
        "#     stop_words = stopwords.words('english')+['shiv sena','shivsena','aap','bjp','congress']\n",
        "    \n",
        "#     review = [ps.stem(word) for word in review if not word in stop_words]\n",
        "#     review = ' '.join(review)\n",
        "#     corpus.append(review)\n"
      ],
      "metadata": {
        "id": "FwjNwELoLsdE"
      },
      "execution_count": 285,
      "outputs": []
    },
    {
      "cell_type": "code",
      "source": [
        "from nltk.corpus import stopwords\n",
        "from nltk.stem.porter import PorterStemmer\n",
        "import re\n",
        "ps = nltk.WordNetLemmatizer()\n",
        "corpus = []\n",
        "for i in range(0, len(df2)):\n",
        "    review = re.sub('[^a-zA-Z]', ' ', df2['clean_content'][i])\n",
        "    review = review.lower()\n",
        "    review = review.split()\n",
        "    stop_words = stopwords.words('english')+['shiv sena','shivsena','aap','bjp','congress']\n",
        "    \n",
        "    review = [ps.lemmatize(word) for word in review if not word in stop_words]\n",
        "    review = ' '.join(review)\n",
        "    corpus.append(review)\n"
      ],
      "metadata": {
        "id": "n7U1elTzQCAE"
      },
      "execution_count": 286,
      "outputs": []
    },
    {
      "cell_type": "code",
      "source": [
        "X=tfidf_v.fit_transform(corpus).toarray()\n"
      ],
      "metadata": {
        "id": "wj2t_DKpLSDG"
      },
      "execution_count": 287,
      "outputs": []
    },
    {
      "cell_type": "code",
      "source": [
        "X"
      ],
      "metadata": {
        "colab": {
          "base_uri": "https://localhost:8080/"
        },
        "id": "hb5UrgxMMCjE",
        "outputId": "9697e1ca-f5cb-4d40-a0f5-2546507b1566"
      },
      "execution_count": 288,
      "outputs": [
        {
          "output_type": "execute_result",
          "data": {
            "text/plain": [
              "array([[0.        , 0.        , 0.        , ..., 0.        , 0.        ,\n",
              "        0.        ],\n",
              "       [0.        , 0.        , 0.        , ..., 0.        , 0.        ,\n",
              "        0.        ],\n",
              "       [0.03639174, 0.03639174, 0.03639174, ..., 0.        , 0.        ,\n",
              "        0.        ],\n",
              "       ...,\n",
              "       [0.        , 0.        , 0.        , ..., 0.        , 0.        ,\n",
              "        0.        ],\n",
              "       [0.        , 0.        , 0.        , ..., 0.        , 0.        ,\n",
              "        0.        ],\n",
              "       [0.        , 0.        , 0.        , ..., 0.        , 0.        ,\n",
              "        0.        ]])"
            ]
          },
          "metadata": {},
          "execution_count": 288
        }
      ]
    },
    {
      "cell_type": "code",
      "source": [
        "X.shape"
      ],
      "metadata": {
        "colab": {
          "base_uri": "https://localhost:8080/"
        },
        "id": "BHr4JNUwL7T7",
        "outputId": "8804060b-6113-4f40-a6ea-be28ca6f0dee"
      },
      "execution_count": 289,
      "outputs": [
        {
          "output_type": "execute_result",
          "data": {
            "text/plain": [
              "(473, 5000)"
            ]
          },
          "metadata": {},
          "execution_count": 289
        }
      ]
    },
    {
      "cell_type": "code",
      "source": [
        "df2['bias']"
      ],
      "metadata": {
        "colab": {
          "base_uri": "https://localhost:8080/"
        },
        "id": "W3Pi6lSdN5sV",
        "outputId": "7ee1531f-3ce7-4324-f1c3-f5d911350902"
      },
      "execution_count": 290,
      "outputs": [
        {
          "output_type": "execute_result",
          "data": {
            "text/plain": [
              "0      3\n",
              "1      3\n",
              "2      3\n",
              "3      3\n",
              "4      3\n",
              "      ..\n",
              "468    0\n",
              "469    0\n",
              "470    0\n",
              "471    0\n",
              "472    0\n",
              "Name: bias, Length: 473, dtype: int64"
            ]
          },
          "metadata": {},
          "execution_count": 290
        }
      ]
    },
    {
      "cell_type": "code",
      "source": [
        "y=df2['bias']"
      ],
      "metadata": {
        "id": "v3lVb3y8L7Ps"
      },
      "execution_count": 291,
      "outputs": []
    },
    {
      "cell_type": "code",
      "source": [
        "y.shape\n"
      ],
      "metadata": {
        "colab": {
          "base_uri": "https://localhost:8080/"
        },
        "id": "wNndaJKsL-Kk",
        "outputId": "00e366be-4674-4c48-b66b-5352db2ad1ed"
      },
      "execution_count": 292,
      "outputs": [
        {
          "output_type": "execute_result",
          "data": {
            "text/plain": [
              "(473,)"
            ]
          },
          "metadata": {},
          "execution_count": 292
        }
      ]
    },
    {
      "cell_type": "code",
      "source": [
        "## Divide the dataset into Train and Test\n",
        "from sklearn.model_selection import train_test_split\n",
        "X_train, X_test, y_train, y_test = train_test_split(X, y, test_size=0.33, random_state=0)"
      ],
      "metadata": {
        "id": "gn6jfEipMyrs"
      },
      "execution_count": 293,
      "outputs": []
    },
    {
      "cell_type": "code",
      "source": [
        "tfidf_v.get_feature_names()[:20]\n",
        "tfidf_v.get_params()\n",
        "count_df = pd.DataFrame(X_train, columns=tfidf_v.get_feature_names())\n",
        "count_df.head()"
      ],
      "metadata": {
        "colab": {
          "base_uri": "https://localhost:8080/",
          "height": 290
        },
        "id": "B40LPqGRM3LF",
        "outputId": "410f9e58-2843-4743-8c85-efd9aa5f9d2f"
      },
      "execution_count": 294,
      "outputs": [
        {
          "output_type": "stream",
          "name": "stderr",
          "text": [
            "/usr/local/lib/python3.7/dist-packages/sklearn/utils/deprecation.py:87: FutureWarning: Function get_feature_names is deprecated; get_feature_names is deprecated in 1.0 and will be removed in 1.2. Please use get_feature_names_out instead.\n",
            "  warnings.warn(msg, category=FutureWarning)\n"
          ]
        },
        {
          "output_type": "execute_result",
          "data": {
            "text/plain": [
              "   aadmi  aadmi party  aam  aam aadmi  aam aadmi party  abdullah  abhishek  \\\n",
              "0    0.0          0.0  0.0        0.0              0.0       0.0       0.0   \n",
              "1    0.0          0.0  0.0        0.0              0.0       0.0       0.0   \n",
              "2    0.0          0.0  0.0        0.0              0.0       0.0       0.0   \n",
              "3    0.0          0.0  0.0        0.0              0.0       0.0       0.0   \n",
              "4    0.0          0.0  0.0        0.0              0.0       0.0       0.0   \n",
              "\n",
              "   abhishek banerjee   ability  able  ...  young  younger  youth  zero  \\\n",
              "0                0.0  0.000000   0.0  ...    0.0      0.0    0.0   0.0   \n",
              "1                0.0  0.041582   0.0  ...    0.0      0.0    0.0   0.0   \n",
              "2                0.0  0.000000   0.0  ...    0.0      0.0    0.0   0.0   \n",
              "3                0.0  0.000000   0.0  ...    0.0      0.0    0.0   0.0   \n",
              "4                0.0  0.000000   0.0  ...    0.0      0.0    0.0   0.0   \n",
              "\n",
              "   zindabad  zonal  zone   zp  zps  zuckerberg  \n",
              "0       0.0    0.0   0.0  0.0  0.0         0.0  \n",
              "1       0.0    0.0   0.0  0.0  0.0         0.0  \n",
              "2       0.0    0.0   0.0  0.0  0.0         0.0  \n",
              "3       0.0    0.0   0.0  0.0  0.0         0.0  \n",
              "4       0.0    0.0   0.0  0.0  0.0         0.0  \n",
              "\n",
              "[5 rows x 5000 columns]"
            ],
            "text/html": [
              "\n",
              "  <div id=\"df-1efad6c8-04f7-4dbc-9ba4-6cfc1585184d\">\n",
              "    <div class=\"colab-df-container\">\n",
              "      <div>\n",
              "<style scoped>\n",
              "    .dataframe tbody tr th:only-of-type {\n",
              "        vertical-align: middle;\n",
              "    }\n",
              "\n",
              "    .dataframe tbody tr th {\n",
              "        vertical-align: top;\n",
              "    }\n",
              "\n",
              "    .dataframe thead th {\n",
              "        text-align: right;\n",
              "    }\n",
              "</style>\n",
              "<table border=\"1\" class=\"dataframe\">\n",
              "  <thead>\n",
              "    <tr style=\"text-align: right;\">\n",
              "      <th></th>\n",
              "      <th>aadmi</th>\n",
              "      <th>aadmi party</th>\n",
              "      <th>aam</th>\n",
              "      <th>aam aadmi</th>\n",
              "      <th>aam aadmi party</th>\n",
              "      <th>abdullah</th>\n",
              "      <th>abhishek</th>\n",
              "      <th>abhishek banerjee</th>\n",
              "      <th>ability</th>\n",
              "      <th>able</th>\n",
              "      <th>...</th>\n",
              "      <th>young</th>\n",
              "      <th>younger</th>\n",
              "      <th>youth</th>\n",
              "      <th>zero</th>\n",
              "      <th>zindabad</th>\n",
              "      <th>zonal</th>\n",
              "      <th>zone</th>\n",
              "      <th>zp</th>\n",
              "      <th>zps</th>\n",
              "      <th>zuckerberg</th>\n",
              "    </tr>\n",
              "  </thead>\n",
              "  <tbody>\n",
              "    <tr>\n",
              "      <th>0</th>\n",
              "      <td>0.0</td>\n",
              "      <td>0.0</td>\n",
              "      <td>0.0</td>\n",
              "      <td>0.0</td>\n",
              "      <td>0.0</td>\n",
              "      <td>0.0</td>\n",
              "      <td>0.0</td>\n",
              "      <td>0.0</td>\n",
              "      <td>0.000000</td>\n",
              "      <td>0.0</td>\n",
              "      <td>...</td>\n",
              "      <td>0.0</td>\n",
              "      <td>0.0</td>\n",
              "      <td>0.0</td>\n",
              "      <td>0.0</td>\n",
              "      <td>0.0</td>\n",
              "      <td>0.0</td>\n",
              "      <td>0.0</td>\n",
              "      <td>0.0</td>\n",
              "      <td>0.0</td>\n",
              "      <td>0.0</td>\n",
              "    </tr>\n",
              "    <tr>\n",
              "      <th>1</th>\n",
              "      <td>0.0</td>\n",
              "      <td>0.0</td>\n",
              "      <td>0.0</td>\n",
              "      <td>0.0</td>\n",
              "      <td>0.0</td>\n",
              "      <td>0.0</td>\n",
              "      <td>0.0</td>\n",
              "      <td>0.0</td>\n",
              "      <td>0.041582</td>\n",
              "      <td>0.0</td>\n",
              "      <td>...</td>\n",
              "      <td>0.0</td>\n",
              "      <td>0.0</td>\n",
              "      <td>0.0</td>\n",
              "      <td>0.0</td>\n",
              "      <td>0.0</td>\n",
              "      <td>0.0</td>\n",
              "      <td>0.0</td>\n",
              "      <td>0.0</td>\n",
              "      <td>0.0</td>\n",
              "      <td>0.0</td>\n",
              "    </tr>\n",
              "    <tr>\n",
              "      <th>2</th>\n",
              "      <td>0.0</td>\n",
              "      <td>0.0</td>\n",
              "      <td>0.0</td>\n",
              "      <td>0.0</td>\n",
              "      <td>0.0</td>\n",
              "      <td>0.0</td>\n",
              "      <td>0.0</td>\n",
              "      <td>0.0</td>\n",
              "      <td>0.000000</td>\n",
              "      <td>0.0</td>\n",
              "      <td>...</td>\n",
              "      <td>0.0</td>\n",
              "      <td>0.0</td>\n",
              "      <td>0.0</td>\n",
              "      <td>0.0</td>\n",
              "      <td>0.0</td>\n",
              "      <td>0.0</td>\n",
              "      <td>0.0</td>\n",
              "      <td>0.0</td>\n",
              "      <td>0.0</td>\n",
              "      <td>0.0</td>\n",
              "    </tr>\n",
              "    <tr>\n",
              "      <th>3</th>\n",
              "      <td>0.0</td>\n",
              "      <td>0.0</td>\n",
              "      <td>0.0</td>\n",
              "      <td>0.0</td>\n",
              "      <td>0.0</td>\n",
              "      <td>0.0</td>\n",
              "      <td>0.0</td>\n",
              "      <td>0.0</td>\n",
              "      <td>0.000000</td>\n",
              "      <td>0.0</td>\n",
              "      <td>...</td>\n",
              "      <td>0.0</td>\n",
              "      <td>0.0</td>\n",
              "      <td>0.0</td>\n",
              "      <td>0.0</td>\n",
              "      <td>0.0</td>\n",
              "      <td>0.0</td>\n",
              "      <td>0.0</td>\n",
              "      <td>0.0</td>\n",
              "      <td>0.0</td>\n",
              "      <td>0.0</td>\n",
              "    </tr>\n",
              "    <tr>\n",
              "      <th>4</th>\n",
              "      <td>0.0</td>\n",
              "      <td>0.0</td>\n",
              "      <td>0.0</td>\n",
              "      <td>0.0</td>\n",
              "      <td>0.0</td>\n",
              "      <td>0.0</td>\n",
              "      <td>0.0</td>\n",
              "      <td>0.0</td>\n",
              "      <td>0.000000</td>\n",
              "      <td>0.0</td>\n",
              "      <td>...</td>\n",
              "      <td>0.0</td>\n",
              "      <td>0.0</td>\n",
              "      <td>0.0</td>\n",
              "      <td>0.0</td>\n",
              "      <td>0.0</td>\n",
              "      <td>0.0</td>\n",
              "      <td>0.0</td>\n",
              "      <td>0.0</td>\n",
              "      <td>0.0</td>\n",
              "      <td>0.0</td>\n",
              "    </tr>\n",
              "  </tbody>\n",
              "</table>\n",
              "<p>5 rows × 5000 columns</p>\n",
              "</div>\n",
              "      <button class=\"colab-df-convert\" onclick=\"convertToInteractive('df-1efad6c8-04f7-4dbc-9ba4-6cfc1585184d')\"\n",
              "              title=\"Convert this dataframe to an interactive table.\"\n",
              "              style=\"display:none;\">\n",
              "        \n",
              "  <svg xmlns=\"http://www.w3.org/2000/svg\" height=\"24px\"viewBox=\"0 0 24 24\"\n",
              "       width=\"24px\">\n",
              "    <path d=\"M0 0h24v24H0V0z\" fill=\"none\"/>\n",
              "    <path d=\"M18.56 5.44l.94 2.06.94-2.06 2.06-.94-2.06-.94-.94-2.06-.94 2.06-2.06.94zm-11 1L8.5 8.5l.94-2.06 2.06-.94-2.06-.94L8.5 2.5l-.94 2.06-2.06.94zm10 10l.94 2.06.94-2.06 2.06-.94-2.06-.94-.94-2.06-.94 2.06-2.06.94z\"/><path d=\"M17.41 7.96l-1.37-1.37c-.4-.4-.92-.59-1.43-.59-.52 0-1.04.2-1.43.59L10.3 9.45l-7.72 7.72c-.78.78-.78 2.05 0 2.83L4 21.41c.39.39.9.59 1.41.59.51 0 1.02-.2 1.41-.59l7.78-7.78 2.81-2.81c.8-.78.8-2.07 0-2.86zM5.41 20L4 18.59l7.72-7.72 1.47 1.35L5.41 20z\"/>\n",
              "  </svg>\n",
              "      </button>\n",
              "      \n",
              "  <style>\n",
              "    .colab-df-container {\n",
              "      display:flex;\n",
              "      flex-wrap:wrap;\n",
              "      gap: 12px;\n",
              "    }\n",
              "\n",
              "    .colab-df-convert {\n",
              "      background-color: #E8F0FE;\n",
              "      border: none;\n",
              "      border-radius: 50%;\n",
              "      cursor: pointer;\n",
              "      display: none;\n",
              "      fill: #1967D2;\n",
              "      height: 32px;\n",
              "      padding: 0 0 0 0;\n",
              "      width: 32px;\n",
              "    }\n",
              "\n",
              "    .colab-df-convert:hover {\n",
              "      background-color: #E2EBFA;\n",
              "      box-shadow: 0px 1px 2px rgba(60, 64, 67, 0.3), 0px 1px 3px 1px rgba(60, 64, 67, 0.15);\n",
              "      fill: #174EA6;\n",
              "    }\n",
              "\n",
              "    [theme=dark] .colab-df-convert {\n",
              "      background-color: #3B4455;\n",
              "      fill: #D2E3FC;\n",
              "    }\n",
              "\n",
              "    [theme=dark] .colab-df-convert:hover {\n",
              "      background-color: #434B5C;\n",
              "      box-shadow: 0px 1px 3px 1px rgba(0, 0, 0, 0.15);\n",
              "      filter: drop-shadow(0px 1px 2px rgba(0, 0, 0, 0.3));\n",
              "      fill: #FFFFFF;\n",
              "    }\n",
              "  </style>\n",
              "\n",
              "      <script>\n",
              "        const buttonEl =\n",
              "          document.querySelector('#df-1efad6c8-04f7-4dbc-9ba4-6cfc1585184d button.colab-df-convert');\n",
              "        buttonEl.style.display =\n",
              "          google.colab.kernel.accessAllowed ? 'block' : 'none';\n",
              "\n",
              "        async function convertToInteractive(key) {\n",
              "          const element = document.querySelector('#df-1efad6c8-04f7-4dbc-9ba4-6cfc1585184d');\n",
              "          const dataTable =\n",
              "            await google.colab.kernel.invokeFunction('convertToInteractive',\n",
              "                                                     [key], {});\n",
              "          if (!dataTable) return;\n",
              "\n",
              "          const docLinkHtml = 'Like what you see? Visit the ' +\n",
              "            '<a target=\"_blank\" href=https://colab.research.google.com/notebooks/data_table.ipynb>data table notebook</a>'\n",
              "            + ' to learn more about interactive tables.';\n",
              "          element.innerHTML = '';\n",
              "          dataTable['output_type'] = 'display_data';\n",
              "          await google.colab.output.renderOutput(dataTable, element);\n",
              "          const docLink = document.createElement('div');\n",
              "          docLink.innerHTML = docLinkHtml;\n",
              "          element.appendChild(docLink);\n",
              "        }\n",
              "      </script>\n",
              "    </div>\n",
              "  </div>\n",
              "  "
            ]
          },
          "metadata": {},
          "execution_count": 294
        }
      ]
    },
    {
      "cell_type": "code",
      "source": [
        "import matplotlib.pyplot as plt\n",
        "def plot_confusion_matrix(cm, classes,\n",
        "                          normalize=False,\n",
        "                          title='Confusion matrix',\n",
        "                          cmap=plt.cm.Blues):\n",
        "    \"\"\"\n",
        "    See full source and example: \n",
        "    http://scikit-learn.org/stable/auto_examples/model_selection/plot_confusion_matrix.html\n",
        "    \n",
        "    This function prints and plots the confusion matrix.\n",
        "    Normalization can be applied by setting `normalize=True`.\n",
        "    \"\"\"\n",
        "    plt.imshow(cm, interpolation='nearest', cmap=cmap)\n",
        "    plt.title(title)\n",
        "    plt.colorbar()\n",
        "    tick_marks = np.arange(len(classes))\n",
        "    plt.xticks(tick_marks, classes, rotation=45)\n",
        "    plt.yticks(tick_marks, classes)\n",
        "\n",
        "    if normalize:\n",
        "        cm = cm.astype('float') / cm.sum(axis=1)[:, np.newaxis]\n",
        "        print(\"Normalized confusion matrix\")\n",
        "    else:\n",
        "        print('Confusion matrix, without normalization')\n",
        "\n",
        "    thresh = cm.max() / 2.\n",
        "    for i, j in itertools.product(range(cm.shape[0]), range(cm.shape[1])):\n",
        "        plt.text(j, i, cm[i, j],\n",
        "                 horizontalalignment=\"center\",\n",
        "                 color=\"white\" if cm[i, j] > thresh else \"black\")\n",
        "\n",
        "    plt.tight_layout()\n",
        "    plt.ylabel('True label')\n",
        "    plt.xlabel('Predicted label')"
      ],
      "metadata": {
        "id": "MTGHXI4DM5Mc"
      },
      "execution_count": 295,
      "outputs": []
    },
    {
      "cell_type": "code",
      "source": [
        "from sklearn.naive_bayes import MultinomialNB\n",
        "classifier=MultinomialNB()\n",
        "from sklearn import metrics\n",
        "import numpy as np\n",
        "import itertools\n",
        "classifier.fit(X_train, y_train)\n",
        "pred = classifier.predict(X_test)\n",
        "score = metrics.accuracy_score(y_test, pred)\n",
        "print(\"accuracy:   %0.3f\" % score)\n",
        "cm = metrics.confusion_matrix(y_test, pred)\n",
        "plot_confusion_matrix(cm, classes=['right', 'left','center'])"
      ],
      "metadata": {
        "colab": {
          "base_uri": "https://localhost:8080/",
          "height": 346
        },
        "id": "iJbAL2SvM-bt",
        "outputId": "85affa55-316f-41f6-b684-78d4ccd75647"
      },
      "execution_count": 296,
      "outputs": [
        {
          "output_type": "stream",
          "name": "stdout",
          "text": [
            "accuracy:   0.599\n",
            "Confusion matrix, without normalization\n"
          ]
        },
        {
          "output_type": "display_data",
          "data": {
            "text/plain": [
              "<Figure size 432x288 with 2 Axes>"
            ],
            "image/png": "[encoded data removed]"
          },
          "metadata": {
            "needs_background": "light"
          }
        }
      ]
    },
    {
      "cell_type": "code",
      "source": [
        "from numpy import mean\n",
        "from numpy import std\n",
        "from sklearn.datasets import make_classification\n",
        "from sklearn.model_selection import cross_val_score\n",
        "from sklearn.model_selection import RepeatedStratifiedKFold\n",
        "from sklearn.ensemble import RandomForestClassifier\n",
        "# define dataset\n",
        "X, y = make_classification(n_samples=1000, n_features=20, n_informative=15, n_redundant=5, random_state=5)\n",
        "# define the model\n",
        "model = RandomForestClassifier()\n",
        "# evaluate the model\n",
        "cv = RepeatedStratifiedKFold(n_splits=10, n_repeats=3, random_state=1)\n",
        "n_scores = cross_val_score(model, X, y, scoring='accuracy', cv=cv, n_jobs=-1, error_score='raise')\n",
        "# report performance\n",
        "print('Accuracy: %.3f (%.3f)' % (mean(n_scores), std(n_scores)))\n",
        "classifier=model\n",
        "classifier.fit(X_train, y_train)\n",
        "pred = classifier.predict(X_test)\n",
        "score = metrics.accuracy_score(y_test, pred)\n",
        "print(\"accuracy:   %0.3f\" % score)\n",
        "cm = metrics.confusion_matrix(y_test, pred)\n",
        "plot_confusion_matrix(cm, classes=['right', 'left','center'])"
      ],
      "metadata": {
        "colab": {
          "base_uri": "https://localhost:8080/",
          "height": 363
        },
        "id": "MjtDOYVPOPkt",
        "outputId": "f795a8da-2363-4d41-94c0-3b950eed95aa"
      },
      "execution_count": 297,
      "outputs": [
        {
          "output_type": "stream",
          "name": "stdout",
          "text": [
            "Accuracy: 0.893 (0.031)\n",
            "accuracy:   0.631\n",
            "Confusion matrix, without normalization\n"
          ]
        },
        {
          "output_type": "display_data",
          "data": {
            "text/plain": [
              "<Figure size 432x288 with 2 Axes>"
            ],
            "image/png": "[encoded data removed]"
          },
          "metadata": {
            "needs_background": "light"
          }
        }
      ]
    },
    {
      "cell_type": "code",
      "source": [
        ""
      ],
      "metadata": {
        "id": "6B_IHw-lQhlW"
      },
      "execution_count": 297,
      "outputs": []
    },
    {
      "cell_type": "code",
      "source": [
        "from sklearn.feature_extraction.text import CountVectorizer, TfidfVectorizer, HashingVectorizer\n",
        "hs_vectorizer=HashingVectorizer(n_features=5000)\n",
        "X=hs_vectorizer.fit_transform(corpus).toarray()\n",
        "y=df2['bias']"
      ],
      "metadata": {
        "id": "jc9ZF4GtS6GH"
      },
      "execution_count": 298,
      "outputs": []
    },
    {
      "cell_type": "code",
      "source": [
        "X.shape"
      ],
      "metadata": {
        "colab": {
          "base_uri": "https://localhost:8080/"
        },
        "id": "5nBVsibgTeY2",
        "outputId": "f35a0312-9434-4df5-91da-e87ee6cf6f58"
      },
      "execution_count": 299,
      "outputs": [
        {
          "output_type": "execute_result",
          "data": {
            "text/plain": [
              "(473, 5000)"
            ]
          },
          "metadata": {},
          "execution_count": 299
        }
      ]
    },
    {
      "cell_type": "code",
      "source": [
        "## Divide the dataset into Train and Test\n",
        "from sklearn.model_selection import train_test_split\n",
        "X_train, X_test, y_train, y_test = train_test_split(X, y, test_size=0.33, random_state=0)\n",
        "# define dataset\n",
        "X, y = make_classification(n_samples=1000, n_features=20, n_informative=15, n_redundant=5, random_state=5)\n",
        "# define the model\n",
        "model = RandomForestClassifier()\n",
        "# evaluate the model\n",
        "cv = RepeatedStratifiedKFold(n_splits=10, n_repeats=3, random_state=1)\n",
        "n_scores = cross_val_score(model, X, y, scoring='accuracy', cv=cv, n_jobs=-1, error_score='raise')\n",
        "# report performance\n",
        "print('Accuracy: %.3f (%.3f)' % (mean(n_scores), std(n_scores)))\n",
        "classifier=model\n",
        "classifier.fit(X_train, y_train)\n",
        "pred = classifier.predict(X_test)\n",
        "score = metrics.accuracy_score(y_test, pred)\n",
        "print(\"accuracy:   %0.3f\" % score)\n",
        "cm = metrics.confusion_matrix(y_test, pred)\n",
        "plot_confusion_matrix(cm, classes=['right', 'left','center'])"
      ],
      "metadata": {
        "colab": {
          "base_uri": "https://localhost:8080/",
          "height": 363
        },
        "id": "owFGNl4pS8jN",
        "outputId": "bf7a9388-4598-4943-a34d-729a5b4fd557"
      },
      "execution_count": 300,
      "outputs": [
        {
          "output_type": "stream",
          "name": "stdout",
          "text": [
            "Accuracy: 0.898 (0.039)\n",
            "accuracy:   0.643\n",
            "Confusion matrix, without normalization\n"
          ]
        },
        {
          "output_type": "display_data",
          "data": {
            "text/plain": [
              "<Figure size 432x288 with 2 Axes>"
            ],
            "image/png": "[encoded data removed]"
          },
          "metadata": {
            "needs_background": "light"
          }
        }
      ]
    },
    {
      "cell_type": "code",
      "source": [
        ""
      ],
      "metadata": {
        "id": "Lficey-aUAM2"
      },
      "execution_count": 314,
      "outputs": []
    },
    {
      "cell_type": "code",
      "source": [
        ""
      ],
      "metadata": {
        "id": "bf9KcyvIXEgg"
      },
      "execution_count": null,
      "outputs": []
    }
  ]
}