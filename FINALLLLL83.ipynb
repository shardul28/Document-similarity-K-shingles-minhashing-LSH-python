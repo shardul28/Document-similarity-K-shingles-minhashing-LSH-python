{
  "nbformat": 4,
  "nbformat_minor": 0,
  "metadata": {
    "colab": {
      "name": "FINALLLLL.ipynb",
      "provenance": [],
      "collapsed_sections": [
        "q-V3gopbMP9-",
        "cwov7V_Bekjy"
      ],
      "toc_visible": true,
      "authorship_tag": "ABX9TyNqqN8LvmevWVmroF+0bI7O",
      "include_colab_link": true
    },
    "kernelspec": {
      "name": "python3",
      "display_name": "Python 3"
    },
    "language_info": {
      "name": "python"
    }
  },
  "cells": [
    {
      "cell_type": "markdown",
      "metadata": {
        "id": "view-in-github",
        "colab_type": "text"
      },
      "source": [
        "<a href=\"https://colab.research.google.com/github/shardul28/Document-similarity-K-shingles-minhashing-LSH-python/blob/master/FINALLLLL83.ipynb\" target=\"_parent\"><img src=\"https://colab.research.google.com/assets/colab-badge.svg\" alt=\"Open In Colab\"/></a>"
      ]
    },
    {
      "cell_type": "markdown",
      "source": [
        ""
      ],
      "metadata": {
        "id": "w5OjDLKBMAf2"
      }
    },
    {
      "cell_type": "markdown",
      "source": [
        "# Imports"
      ],
      "metadata": {
        "id": "i-TN0VVvMA-K"
      }
    },
    {
      "cell_type": "code",
      "source": [
        "!pip install mit-news-classify"
      ],
      "metadata": {
        "id": "EOg_7LK-L8De",
        "colab": {
          "base_uri": "https://localhost:8080/"
        },
        "outputId": "dc33ef90-afb4-42de-ae3f-7a3f401d07b5"
      },
      "execution_count": 85,
      "outputs": [
        {
          "output_type": "stream",
          "name": "stdout",
          "text": [
            "Requirement already satisfied: mit-news-classify in /usr/local/lib/python3.7/dist-packages (0.10.1.3)\n",
            "Requirement already satisfied: tqdm in /usr/local/lib/python3.7/dist-packages (from mit-news-classify) (4.64.0)\n",
            "Requirement already satisfied: tensorflow>=2.1 in /usr/local/lib/python3.7/dist-packages (from mit-news-classify) (2.8.0)\n",
            "Requirement already satisfied: numpy in /usr/local/lib/python3.7/dist-packages (from mit-news-classify) (1.21.6)\n",
            "Requirement already satisfied: gensim==3.8.3 in /usr/local/lib/python3.7/dist-packages (from mit-news-classify) (3.8.3)\n",
            "Requirement already satisfied: torch in /usr/local/lib/python3.7/dist-packages (from mit-news-classify) (1.10.0+cu111)\n",
            "Requirement already satisfied: transformers in /usr/local/lib/python3.7/dist-packages (from mit-news-classify) (4.18.0)\n",
            "Requirement already satisfied: sklearn in /usr/local/lib/python3.7/dist-packages (from mit-news-classify) (0.0)\n",
            "Requirement already satisfied: smart-open>=1.8.1 in /usr/local/lib/python3.7/dist-packages (from gensim==3.8.3->mit-news-classify) (5.2.1)\n",
            "Requirement already satisfied: scipy>=0.18.1 in /usr/local/lib/python3.7/dist-packages (from gensim==3.8.3->mit-news-classify) (1.4.1)\n",
            "Requirement already satisfied: six>=1.5.0 in /usr/local/lib/python3.7/dist-packages (from gensim==3.8.3->mit-news-classify) (1.15.0)\n",
            "Requirement already satisfied: keras-preprocessing>=1.1.1 in /usr/local/lib/python3.7/dist-packages (from tensorflow>=2.1->mit-news-classify) (1.1.2)\n",
            "Requirement already satisfied: absl-py>=0.4.0 in /usr/local/lib/python3.7/dist-packages (from tensorflow>=2.1->mit-news-classify) (1.0.0)\n",
            "Requirement already satisfied: h5py>=2.9.0 in /usr/local/lib/python3.7/dist-packages (from tensorflow>=2.1->mit-news-classify) (3.1.0)\n",
            "Requirement already satisfied: typing-extensions>=3.6.6 in /usr/local/lib/python3.7/dist-packages (from tensorflow>=2.1->mit-news-classify) (4.1.1)\n",
            "Requirement already satisfied: tensorflow-io-gcs-filesystem>=0.23.1 in /usr/local/lib/python3.7/dist-packages (from tensorflow>=2.1->mit-news-classify) (0.24.0)\n",
            "Requirement already satisfied: google-pasta>=0.1.1 in /usr/local/lib/python3.7/dist-packages (from tensorflow>=2.1->mit-news-classify) (0.2.0)\n",
            "Requirement already satisfied: tensorboard<2.9,>=2.8 in /usr/local/lib/python3.7/dist-packages (from tensorflow>=2.1->mit-news-classify) (2.8.0)\n",
            "Requirement already satisfied: tf-estimator-nightly==2.8.0.dev2021122109 in /usr/local/lib/python3.7/dist-packages (from tensorflow>=2.1->mit-news-classify) (2.8.0.dev2021122109)\n",
            "Requirement already satisfied: termcolor>=1.1.0 in /usr/local/lib/python3.7/dist-packages (from tensorflow>=2.1->mit-news-classify) (1.1.0)\n",
            "Requirement already satisfied: libclang>=9.0.1 in /usr/local/lib/python3.7/dist-packages (from tensorflow>=2.1->mit-news-classify) (13.0.0)\n",
            "Requirement already satisfied: gast>=0.2.1 in /usr/local/lib/python3.7/dist-packages (from tensorflow>=2.1->mit-news-classify) (0.5.3)\n",
            "Requirement already satisfied: opt-einsum>=2.3.2 in /usr/local/lib/python3.7/dist-packages (from tensorflow>=2.1->mit-news-classify) (3.3.0)\n",
            "Requirement already satisfied: wrapt>=1.11.0 in /usr/local/lib/python3.7/dist-packages (from tensorflow>=2.1->mit-news-classify) (1.14.0)\n",
            "Requirement already satisfied: flatbuffers>=1.12 in /usr/local/lib/python3.7/dist-packages (from tensorflow>=2.1->mit-news-classify) (2.0)\n",
            "Requirement already satisfied: keras<2.9,>=2.8.0rc0 in /usr/local/lib/python3.7/dist-packages (from tensorflow>=2.1->mit-news-classify) (2.8.0)\n",
            "Requirement already satisfied: protobuf>=3.9.2 in /usr/local/lib/python3.7/dist-packages (from tensorflow>=2.1->mit-news-classify) (3.17.3)\n",
            "Requirement already satisfied: astunparse>=1.6.0 in /usr/local/lib/python3.7/dist-packages (from tensorflow>=2.1->mit-news-classify) (1.6.3)\n",
            "Requirement already satisfied: grpcio<2.0,>=1.24.3 in /usr/local/lib/python3.7/dist-packages (from tensorflow>=2.1->mit-news-classify) (1.44.0)\n",
            "Requirement already satisfied: setuptools in /usr/local/lib/python3.7/dist-packages (from tensorflow>=2.1->mit-news-classify) (57.4.0)\n",
            "Requirement already satisfied: wheel<1.0,>=0.23.0 in /usr/local/lib/python3.7/dist-packages (from astunparse>=1.6.0->tensorflow>=2.1->mit-news-classify) (0.37.1)\n",
            "Requirement already satisfied: cached-property in /usr/local/lib/python3.7/dist-packages (from h5py>=2.9.0->tensorflow>=2.1->mit-news-classify) (1.5.2)\n",
            "Requirement already satisfied: google-auth<3,>=1.6.3 in /usr/local/lib/python3.7/dist-packages (from tensorboard<2.9,>=2.8->tensorflow>=2.1->mit-news-classify) (1.35.0)\n",
            "Requirement already satisfied: tensorboard-data-server<0.7.0,>=0.6.0 in /usr/local/lib/python3.7/dist-packages (from tensorboard<2.9,>=2.8->tensorflow>=2.1->mit-news-classify) (0.6.1)\n",
            "Requirement already satisfied: tensorboard-plugin-wit>=1.6.0 in /usr/local/lib/python3.7/dist-packages (from tensorboard<2.9,>=2.8->tensorflow>=2.1->mit-news-classify) (1.8.1)\n",
            "Requirement already satisfied: werkzeug>=0.11.15 in /usr/local/lib/python3.7/dist-packages (from tensorboard<2.9,>=2.8->tensorflow>=2.1->mit-news-classify) (1.0.1)\n",
            "Requirement already satisfied: markdown>=2.6.8 in /usr/local/lib/python3.7/dist-packages (from tensorboard<2.9,>=2.8->tensorflow>=2.1->mit-news-classify) (3.3.6)\n",
            "Requirement already satisfied: google-auth-oauthlib<0.5,>=0.4.1 in /usr/local/lib/python3.7/dist-packages (from tensorboard<2.9,>=2.8->tensorflow>=2.1->mit-news-classify) (0.4.6)\n",
            "Requirement already satisfied: requests<3,>=2.21.0 in /usr/local/lib/python3.7/dist-packages (from tensorboard<2.9,>=2.8->tensorflow>=2.1->mit-news-classify) (2.23.0)\n",
            "Requirement already satisfied: rsa<5,>=3.1.4 in /usr/local/lib/python3.7/dist-packages (from google-auth<3,>=1.6.3->tensorboard<2.9,>=2.8->tensorflow>=2.1->mit-news-classify) (4.8)\n",
            "Requirement already satisfied: cachetools<5.0,>=2.0.0 in /usr/local/lib/python3.7/dist-packages (from google-auth<3,>=1.6.3->tensorboard<2.9,>=2.8->tensorflow>=2.1->mit-news-classify) (4.2.4)\n",
            "Requirement already satisfied: pyasn1-modules>=0.2.1 in /usr/local/lib/python3.7/dist-packages (from google-auth<3,>=1.6.3->tensorboard<2.9,>=2.8->tensorflow>=2.1->mit-news-classify) (0.2.8)\n",
            "Requirement already satisfied: requests-oauthlib>=0.7.0 in /usr/local/lib/python3.7/dist-packages (from google-auth-oauthlib<0.5,>=0.4.1->tensorboard<2.9,>=2.8->tensorflow>=2.1->mit-news-classify) (1.3.1)\n",
            "Requirement already satisfied: importlib-metadata>=4.4 in /usr/local/lib/python3.7/dist-packages (from markdown>=2.6.8->tensorboard<2.9,>=2.8->tensorflow>=2.1->mit-news-classify) (4.11.3)\n",
            "Requirement already satisfied: zipp>=0.5 in /usr/local/lib/python3.7/dist-packages (from importlib-metadata>=4.4->markdown>=2.6.8->tensorboard<2.9,>=2.8->tensorflow>=2.1->mit-news-classify) (3.8.0)\n",
            "Requirement already satisfied: pyasn1<0.5.0,>=0.4.6 in /usr/local/lib/python3.7/dist-packages (from pyasn1-modules>=0.2.1->google-auth<3,>=1.6.3->tensorboard<2.9,>=2.8->tensorflow>=2.1->mit-news-classify) (0.4.8)\n",
            "Requirement already satisfied: urllib3!=1.25.0,!=1.25.1,<1.26,>=1.21.1 in /usr/local/lib/python3.7/dist-packages (from requests<3,>=2.21.0->tensorboard<2.9,>=2.8->tensorflow>=2.1->mit-news-classify) (1.24.3)\n",
            "Requirement already satisfied: idna<3,>=2.5 in /usr/local/lib/python3.7/dist-packages (from requests<3,>=2.21.0->tensorboard<2.9,>=2.8->tensorflow>=2.1->mit-news-classify) (2.10)\n",
            "Requirement already satisfied: certifi>=2017.4.17 in /usr/local/lib/python3.7/dist-packages (from requests<3,>=2.21.0->tensorboard<2.9,>=2.8->tensorflow>=2.1->mit-news-classify) (2021.10.8)\n",
            "Requirement already satisfied: chardet<4,>=3.0.2 in /usr/local/lib/python3.7/dist-packages (from requests<3,>=2.21.0->tensorboard<2.9,>=2.8->tensorflow>=2.1->mit-news-classify) (3.0.4)\n",
            "Requirement already satisfied: oauthlib>=3.0.0 in /usr/local/lib/python3.7/dist-packages (from requests-oauthlib>=0.7.0->google-auth-oauthlib<0.5,>=0.4.1->tensorboard<2.9,>=2.8->tensorflow>=2.1->mit-news-classify) (3.2.0)\n",
            "Requirement already satisfied: scikit-learn in /usr/local/lib/python3.7/dist-packages (from sklearn->mit-news-classify) (1.0.2)\n",
            "Requirement already satisfied: threadpoolctl>=2.0.0 in /usr/local/lib/python3.7/dist-packages (from scikit-learn->sklearn->mit-news-classify) (3.1.0)\n",
            "Requirement already satisfied: joblib>=0.11 in /usr/local/lib/python3.7/dist-packages (from scikit-learn->sklearn->mit-news-classify) (1.1.0)\n",
            "Requirement already satisfied: regex!=2019.12.17 in /usr/local/lib/python3.7/dist-packages (from transformers->mit-news-classify) (2019.12.20)\n",
            "Requirement already satisfied: packaging>=20.0 in /usr/local/lib/python3.7/dist-packages (from transformers->mit-news-classify) (21.3)\n",
            "Requirement already satisfied: sacremoses in /usr/local/lib/python3.7/dist-packages (from transformers->mit-news-classify) (0.0.49)\n",
            "Requirement already satisfied: tokenizers!=0.11.3,<0.13,>=0.11.1 in /usr/local/lib/python3.7/dist-packages (from transformers->mit-news-classify) (0.12.1)\n",
            "Requirement already satisfied: huggingface-hub<1.0,>=0.1.0 in /usr/local/lib/python3.7/dist-packages (from transformers->mit-news-classify) (0.5.1)\n",
            "Requirement already satisfied: pyyaml>=5.1 in /usr/local/lib/python3.7/dist-packages (from transformers->mit-news-classify) (6.0)\n",
            "Requirement already satisfied: filelock in /usr/local/lib/python3.7/dist-packages (from transformers->mit-news-classify) (3.6.0)\n",
            "Requirement already satisfied: pyparsing!=3.0.5,>=2.0.2 in /usr/local/lib/python3.7/dist-packages (from packaging>=20.0->transformers->mit-news-classify) (3.0.8)\n",
            "Requirement already satisfied: click in /usr/local/lib/python3.7/dist-packages (from sacremoses->transformers->mit-news-classify) (7.1.2)\n"
          ]
        }
      ]
    },
    {
      "cell_type": "code",
      "source": [
        "import nltk\n",
        "nltk.download('stopwords')\n",
        "nltk.download('punkt')\n",
        "nltk.download('wordnet')"
      ],
      "metadata": {
        "colab": {
          "base_uri": "https://localhost:8080/"
        },
        "id": "O6xgXvxSrX69",
        "outputId": "30275157-7a33-423a-cfb5-79875722e316"
      },
      "execution_count": 86,
      "outputs": [
        {
          "output_type": "stream",
          "name": "stdout",
          "text": [
            "[nltk_data] Downloading package stopwords to /root/nltk_data...\n",
            "[nltk_data]   Package stopwords is already up-to-date!\n",
            "[nltk_data] Downloading package punkt to /root/nltk_data...\n",
            "[nltk_data]   Package punkt is already up-to-date!\n",
            "[nltk_data] Downloading package wordnet to /root/nltk_data...\n",
            "[nltk_data]   Package wordnet is already up-to-date!\n"
          ]
        },
        {
          "output_type": "execute_result",
          "data": {
            "text/plain": [
              "True"
            ]
          },
          "metadata": {},
          "execution_count": 86
        }
      ]
    },
    {
      "cell_type": "code",
      "source": [
        "import pandas as pd\n",
        "import re\n",
        "import numpy as np\n",
        "import tensorflow as tf\n",
        "from tensorflow import keras\n",
        "from tensorflow.keras import layers\n",
        "from tensorflow.keras.models import Sequential\n",
        "from tensorflow.keras.layers import Dense, Dropout, Embedding\n",
        "from tensorflow.keras.optimizers import Adam\n",
        "import pickle\n",
        "from mitnewsclassify import tfidf as mitx\n",
        "from nltk.corpus import stopwords\n",
        "from tqdm import tqdm\n",
        "from nltk.util import ngrams\n",
        "from string import punctuation\n",
        "from nltk.tokenize import word_tokenize\n",
        "from nltk.stem import WordNetLemmatizer,PorterStemmer\n",
        "from sklearn.feature_extraction.text import CountVectorizer\n",
        "from collections import defaultdict,Counter\n",
        "import matplotlib.pyplot as plt\n",
        "import seaborn as sns"
      ],
      "metadata": {
        "id": "BsMsKhNBBJCl"
      },
      "execution_count": 87,
      "outputs": []
    },
    {
      "cell_type": "code",
      "source": [
        "from google.colab import drive\n",
        "drive.mount('/content/drive')"
      ],
      "metadata": {
        "colab": {
          "base_uri": "https://localhost:8080/"
        },
        "id": "gC_JSPXdAyp1",
        "outputId": "428c4e49-002e-4c5d-92ab-ce7f33ae121b"
      },
      "execution_count": 88,
      "outputs": [
        {
          "output_type": "stream",
          "name": "stdout",
          "text": [
            "Drive already mounted at /content/drive; to attempt to forcibly remount, call drive.mount(\"/content/drive\", force_remount=True).\n"
          ]
        }
      ]
    },
    {
      "cell_type": "code",
      "execution_count": 89,
      "metadata": {
        "colab": {
          "base_uri": "https://localhost:8080/"
        },
        "id": "PYF67UFaAwFU",
        "outputId": "2ce8f09c-e8fc-41cf-caad-584af038dbde"
      },
      "outputs": [
        {
          "output_type": "stream",
          "name": "stdout",
          "text": [
            "/content/drive/MyDrive/project_data\n"
          ]
        }
      ],
      "source": [
        "cd /content/drive/MyDrive/project_data"
      ]
    },
    {
      "cell_type": "markdown",
      "source": [
        "# Fetching Data from Drive"
      ],
      "metadata": {
        "id": "9QERr9YdMKUQ"
      }
    },
    {
      "cell_type": "code",
      "source": [
        "infile = open('ndtv_data.pkl','rb')\n",
        "ndtv_df = pickle.load(infile)"
      ],
      "metadata": {
        "id": "f-QA9QyyA-4i"
      },
      "execution_count": 90,
      "outputs": []
    },
    {
      "cell_type": "code",
      "source": [
        "ndtv_df.head()"
      ],
      "metadata": {
        "colab": {
          "base_uri": "https://localhost:8080/",
          "height": 354
        },
        "id": "hHPP1nKHBkd0",
        "outputId": "9028a4a9-d414-43ea-b559-430f42683e42"
      },
      "execution_count": 91,
      "outputs": [
        {
          "output_type": "execute_result",
          "data": {
            "text/plain": [
              "                                                text  \\\n",
              "0  Army Officer, 4 Others Killed In Encounter In ...   \n",
              "1  #AryanKhan Case: No Bail For Him Today, Next H...   \n",
              "2  RT @ndtvfeed: Ex-National Conference Leaders D...   \n",
              "3  RT @ndtvfeed: US Has Lost AI Battle To China, ...   \n",
              "4  RT @ndtvfeed: A Look At Inspiring Messages On ...   \n",
              "\n",
              "                                                 url  \\\n",
              "0  https://www.ndtv.com/india-news/army-officer-4...   \n",
              "1  https://ndtv.com/india-news/mumbai-drug-bust-c...   \n",
              "2  https://www.ndtv.com/india-news/after-resignin...   \n",
              "3  https://www.ndtv.com/world-news/us-has-lost-ar...   \n",
              "4  https://www.ndtv.com/india-news/on-internation...   \n",
              "\n",
              "                                               title  \\\n",
              "0  Army Officer, 4 Personnel Killed In Encounter ...   \n",
              "1  Aryan Khan Case: No Bail For Him Today, Next H...   \n",
              "2  Ex-National Conference Leaders Devender Rana, ...   \n",
              "3  US Has Lost AI Battle To China, Pentagon's Ex-...   \n",
              "4  International Day Of The Girl Child 2021: Lead...   \n",
              "\n",
              "                                             content  left 0 right 1  \\\n",
              "0  an army officer and four other personnel were ...             NaN   \n",
              "1  aryan khan did not get bail today for the thir...             NaN   \n",
              "2  a day after resigning from the national confer...             1.0   \n",
              "3  china has won the artificial intelligence batt...             0.0   \n",
              "4  various world leaders and un agencies posted w...             NaN   \n",
              "\n",
              "   retweet_count  favorite_count source_name  source  \n",
              "0              9              63        ndtv       0  \n",
              "1              5              44        ndtv       0  \n",
              "2              2               0        ndtv       0  \n",
              "3              5               0        ndtv       0  \n",
              "4              3               0        ndtv       0  "
            ],
            "text/html": [
              "\n",
              "  <div id=\"df-6a006ba1-5047-49b1-a856-4bde6ebdcb83\">\n",
              "    <div class=\"colab-df-container\">\n",
              "      <div>\n",
              "<style scoped>\n",
              "    .dataframe tbody tr th:only-of-type {\n",
              "        vertical-align: middle;\n",
              "    }\n",
              "\n",
              "    .dataframe tbody tr th {\n",
              "        vertical-align: top;\n",
              "    }\n",
              "\n",
              "    .dataframe thead th {\n",
              "        text-align: right;\n",
              "    }\n",
              "</style>\n",
              "<table border=\"1\" class=\"dataframe\">\n",
              "  <thead>\n",
              "    <tr style=\"text-align: right;\">\n",
              "      <th></th>\n",
              "      <th>text</th>\n",
              "      <th>url</th>\n",
              "      <th>title</th>\n",
              "      <th>content</th>\n",
              "      <th>left 0 right 1</th>\n",
              "      <th>retweet_count</th>\n",
              "      <th>favorite_count</th>\n",
              "      <th>source_name</th>\n",
              "      <th>source</th>\n",
              "    </tr>\n",
              "  </thead>\n",
              "  <tbody>\n",
              "    <tr>\n",
              "      <th>0</th>\n",
              "      <td>Army Officer, 4 Others Killed In Encounter In ...</td>\n",
              "      <td>https://www.ndtv.com/india-news/army-officer-4...</td>\n",
              "      <td>Army Officer, 4 Personnel Killed In Encounter ...</td>\n",
              "      <td>an army officer and four other personnel were ...</td>\n",
              "      <td>NaN</td>\n",
              "      <td>9</td>\n",
              "      <td>63</td>\n",
              "      <td>ndtv</td>\n",
              "      <td>0</td>\n",
              "    </tr>\n",
              "    <tr>\n",
              "      <th>1</th>\n",
              "      <td>#AryanKhan Case: No Bail For Him Today, Next H...</td>\n",
              "      <td>https://ndtv.com/india-news/mumbai-drug-bust-c...</td>\n",
              "      <td>Aryan Khan Case: No Bail For Him Today, Next H...</td>\n",
              "      <td>aryan khan did not get bail today for the thir...</td>\n",
              "      <td>NaN</td>\n",
              "      <td>5</td>\n",
              "      <td>44</td>\n",
              "      <td>ndtv</td>\n",
              "      <td>0</td>\n",
              "    </tr>\n",
              "    <tr>\n",
              "      <th>2</th>\n",
              "      <td>RT @ndtvfeed: Ex-National Conference Leaders D...</td>\n",
              "      <td>https://www.ndtv.com/india-news/after-resignin...</td>\n",
              "      <td>Ex-National Conference Leaders Devender Rana, ...</td>\n",
              "      <td>a day after resigning from the national confer...</td>\n",
              "      <td>1.0</td>\n",
              "      <td>2</td>\n",
              "      <td>0</td>\n",
              "      <td>ndtv</td>\n",
              "      <td>0</td>\n",
              "    </tr>\n",
              "    <tr>\n",
              "      <th>3</th>\n",
              "      <td>RT @ndtvfeed: US Has Lost AI Battle To China, ...</td>\n",
              "      <td>https://www.ndtv.com/world-news/us-has-lost-ar...</td>\n",
              "      <td>US Has Lost AI Battle To China, Pentagon's Ex-...</td>\n",
              "      <td>china has won the artificial intelligence batt...</td>\n",
              "      <td>0.0</td>\n",
              "      <td>5</td>\n",
              "      <td>0</td>\n",
              "      <td>ndtv</td>\n",
              "      <td>0</td>\n",
              "    </tr>\n",
              "    <tr>\n",
              "      <th>4</th>\n",
              "      <td>RT @ndtvfeed: A Look At Inspiring Messages On ...</td>\n",
              "      <td>https://www.ndtv.com/india-news/on-internation...</td>\n",
              "      <td>International Day Of The Girl Child 2021: Lead...</td>\n",
              "      <td>various world leaders and un agencies posted w...</td>\n",
              "      <td>NaN</td>\n",
              "      <td>3</td>\n",
              "      <td>0</td>\n",
              "      <td>ndtv</td>\n",
              "      <td>0</td>\n",
              "    </tr>\n",
              "  </tbody>\n",
              "</table>\n",
              "</div>\n",
              "      <button class=\"colab-df-convert\" onclick=\"convertToInteractive('df-6a006ba1-5047-49b1-a856-4bde6ebdcb83')\"\n",
              "              title=\"Convert this dataframe to an interactive table.\"\n",
              "              style=\"display:none;\">\n",
              "        \n",
              "  <svg xmlns=\"http://www.w3.org/2000/svg\" height=\"24px\"viewBox=\"0 0 24 24\"\n",
              "       width=\"24px\">\n",
              "    <path d=\"M0 0h24v24H0V0z\" fill=\"none\"/>\n",
              "    <path d=\"M18.56 5.44l.94 2.06.94-2.06 2.06-.94-2.06-.94-.94-2.06-.94 2.06-2.06.94zm-11 1L8.5 8.5l.94-2.06 2.06-.94-2.06-.94L8.5 2.5l-.94 2.06-2.06.94zm10 10l.94 2.06.94-2.06 2.06-.94-2.06-.94-.94-2.06-.94 2.06-2.06.94z\"/><path d=\"M17.41 7.96l-1.37-1.37c-.4-.4-.92-.59-1.43-.59-.52 0-1.04.2-1.43.59L10.3 9.45l-7.72 7.72c-.78.78-.78 2.05 0 2.83L4 21.41c.39.39.9.59 1.41.59.51 0 1.02-.2 1.41-.59l7.78-7.78 2.81-2.81c.8-.78.8-2.07 0-2.86zM5.41 20L4 18.59l7.72-7.72 1.47 1.35L5.41 20z\"/>\n",
              "  </svg>\n",
              "      </button>\n",
              "      \n",
              "  <style>\n",
              "    .colab-df-container {\n",
              "      display:flex;\n",
              "      flex-wrap:wrap;\n",
              "      gap: 12px;\n",
              "    }\n",
              "\n",
              "    .colab-df-convert {\n",
              "      background-color: #E8F0FE;\n",
              "      border: none;\n",
              "      border-radius: 50%;\n",
              "      cursor: pointer;\n",
              "      display: none;\n",
              "      fill: #1967D2;\n",
              "      height: 32px;\n",
              "      padding: 0 0 0 0;\n",
              "      width: 32px;\n",
              "    }\n",
              "\n",
              "    .colab-df-convert:hover {\n",
              "      background-color: #E2EBFA;\n",
              "      box-shadow: 0px 1px 2px rgba(60, 64, 67, 0.3), 0px 1px 3px 1px rgba(60, 64, 67, 0.15);\n",
              "      fill: #174EA6;\n",
              "    }\n",
              "\n",
              "    [theme=dark] .colab-df-convert {\n",
              "      background-color: #3B4455;\n",
              "      fill: #D2E3FC;\n",
              "    }\n",
              "\n",
              "    [theme=dark] .colab-df-convert:hover {\n",
              "      background-color: #434B5C;\n",
              "      box-shadow: 0px 1px 3px 1px rgba(0, 0, 0, 0.15);\n",
              "      filter: drop-shadow(0px 1px 2px rgba(0, 0, 0, 0.3));\n",
              "      fill: #FFFFFF;\n",
              "    }\n",
              "  </style>\n",
              "\n",
              "      <script>\n",
              "        const buttonEl =\n",
              "          document.querySelector('#df-6a006ba1-5047-49b1-a856-4bde6ebdcb83 button.colab-df-convert');\n",
              "        buttonEl.style.display =\n",
              "          google.colab.kernel.accessAllowed ? 'block' : 'none';\n",
              "\n",
              "        async function convertToInteractive(key) {\n",
              "          const element = document.querySelector('#df-6a006ba1-5047-49b1-a856-4bde6ebdcb83');\n",
              "          const dataTable =\n",
              "            await google.colab.kernel.invokeFunction('convertToInteractive',\n",
              "                                                     [key], {});\n",
              "          if (!dataTable) return;\n",
              "\n",
              "          const docLinkHtml = 'Like what you see? Visit the ' +\n",
              "            '<a target=\"_blank\" href=https://colab.research.google.com/notebooks/data_table.ipynb>data table notebook</a>'\n",
              "            + ' to learn more about interactive tables.';\n",
              "          element.innerHTML = '';\n",
              "          dataTable['output_type'] = 'display_data';\n",
              "          await google.colab.output.renderOutput(dataTable, element);\n",
              "          const docLink = document.createElement('div');\n",
              "          docLink.innerHTML = docLinkHtml;\n",
              "          element.appendChild(docLink);\n",
              "        }\n",
              "      </script>\n",
              "    </div>\n",
              "  </div>\n",
              "  "
            ]
          },
          "metadata": {},
          "execution_count": 91
        }
      ]
    },
    {
      "cell_type": "code",
      "source": [
        "infile2 = open('republic_data.pkl','rb')\n",
        "republic_df = pickle.load(infile2)"
      ],
      "metadata": {
        "id": "4qbWici1BMc3"
      },
      "execution_count": 92,
      "outputs": []
    },
    {
      "cell_type": "code",
      "source": [
        "republic_df.count()\n"
      ],
      "metadata": {
        "colab": {
          "base_uri": "https://localhost:8080/"
        },
        "id": "1WVPn2or4eo4",
        "outputId": "9bc6741e-2e82-44fa-c025-b43f4ecf7527"
      },
      "execution_count": 93,
      "outputs": [
        {
          "output_type": "execute_result",
          "data": {
            "text/plain": [
              "text              2196\n",
              "url               2196\n",
              "title             2196\n",
              "content           2196\n",
              "left 0 right 1    1297\n",
              "retweet_count     2196\n",
              "favorite_count    2196\n",
              "source_name       2636\n",
              "source            2636\n",
              "dtype: int64"
            ]
          },
          "metadata": {},
          "execution_count": 93
        }
      ]
    },
    {
      "cell_type": "code",
      "source": [
        "ndtv_df.count()\n"
      ],
      "metadata": {
        "colab": {
          "base_uri": "https://localhost:8080/"
        },
        "id": "jtuAUJML4ggf",
        "outputId": "add3c0c2-404a-491f-f41a-ed9bc8309803"
      },
      "execution_count": 94,
      "outputs": [
        {
          "output_type": "execute_result",
          "data": {
            "text/plain": [
              "text              1371\n",
              "url               1371\n",
              "title             1371\n",
              "content           1371\n",
              "left 0 right 1     329\n",
              "retweet_count     1371\n",
              "favorite_count    1371\n",
              "source_name       1371\n",
              "source            1371\n",
              "dtype: int64"
            ]
          },
          "metadata": {},
          "execution_count": 94
        }
      ]
    },
    {
      "cell_type": "code",
      "source": [
        "republic_df=republic_df.head(1075)\n",
        "ndtv_df=ndtv_df.head(1075)\n",
        "\n"
      ],
      "metadata": {
        "id": "_1NE6M4U4j6H"
      },
      "execution_count": 95,
      "outputs": []
    },
    {
      "cell_type": "code",
      "source": [
        "republic_df.count()\n"
      ],
      "metadata": {
        "colab": {
          "base_uri": "https://localhost:8080/"
        },
        "id": "2xqOHnN04ynu",
        "outputId": "9c9b137a-62f5-41d3-da98-80727742e527"
      },
      "execution_count": 96,
      "outputs": [
        {
          "output_type": "execute_result",
          "data": {
            "text/plain": [
              "text              1075\n",
              "url               1075\n",
              "title             1075\n",
              "content           1075\n",
              "left 0 right 1     176\n",
              "retweet_count     1075\n",
              "favorite_count    1075\n",
              "source_name       1075\n",
              "source            1075\n",
              "dtype: int64"
            ]
          },
          "metadata": {},
          "execution_count": 96
        }
      ]
    },
    {
      "cell_type": "code",
      "source": [
        "republic_df.tail()"
      ],
      "metadata": {
        "colab": {
          "base_uri": "https://localhost:8080/",
          "height": 354
        },
        "id": "cdJTOj3vB0Sk",
        "outputId": "ce534d81-b722-4ea8-e10e-5b86440de646"
      },
      "execution_count": 97,
      "outputs": [
        {
          "output_type": "execute_result",
          "data": {
            "text/plain": [
              "                                                   text  \\\n",
              "1070  Kerala HC quashes state govt order of reducing...   \n",
              "1071  Lakhimpur Kheri violence: Yogi Adityanath hold...   \n",
              "1072  IPL 2021: Know how KKR, PBKS, RR, &amp; MI can...   \n",
              "1073  Lakhimpur clash: Priyanka Gandhi protests deta...   \n",
              "1074  Lakhimpur Kheri violence | UP Govt denies perm...   \n",
              "\n",
              "                                                    url  \\\n",
              "1070  https://www.republicworld.com/india-news/law-a...   \n",
              "1071  https://www.republicworld.com/india-news/gener...   \n",
              "1072  https://www.republicworld.com/sports-news/cric...   \n",
              "1073  https://www.republicworld.com/india-news/polit...   \n",
              "1074  https://www.republicworld.com/india-news/gener...   \n",
              "\n",
              "                                                  title  \\\n",
              "1070  Kerala HC Quashes State Govt Order Of Reducing...   \n",
              "1071  Lakhimpur Kheri Violence: Yogi Adityanath Hold...   \n",
              "1072  IPL 2021: Know How KKR, PBKS, RR, & MI Can Qua...   \n",
              "1073  Lakhimpur Clash: Priyanka Gandhi Protests Deta...   \n",
              "1074  Lakhimpur Kheri Violence | UP Govt Denies Perm...   \n",
              "\n",
              "                                                content  left 0 right 1  \\\n",
              "1070  the kerala high court quashed the state govern...             NaN   \n",
              "1071  chief minister yogi adityanath on monday held ...             1.0   \n",
              "1072  the ongoing edition of the indian premier leag...             NaN   \n",
              "1073  in a mark of silent protest, congress general ...             0.0   \n",
              "1074  punjab chief minister charanjit singh channi o...             NaN   \n",
              "\n",
              "      retweet_count  favorite_count source_name  source  \n",
              "1070            4.0            21.0  republictv       1  \n",
              "1071            7.0            72.0  republictv       1  \n",
              "1072            4.0            20.0  republictv       1  \n",
              "1073            4.0            24.0  republictv       1  \n",
              "1074            7.0            47.0  republictv       1  "
            ],
            "text/html": [
              "\n",
              "  <div id=\"df-2a20131a-760d-4fa3-b699-fb31aa7155fa\">\n",
              "    <div class=\"colab-df-container\">\n",
              "      <div>\n",
              "<style scoped>\n",
              "    .dataframe tbody tr th:only-of-type {\n",
              "        vertical-align: middle;\n",
              "    }\n",
              "\n",
              "    .dataframe tbody tr th {\n",
              "        vertical-align: top;\n",
              "    }\n",
              "\n",
              "    .dataframe thead th {\n",
              "        text-align: right;\n",
              "    }\n",
              "</style>\n",
              "<table border=\"1\" class=\"dataframe\">\n",
              "  <thead>\n",
              "    <tr style=\"text-align: right;\">\n",
              "      <th></th>\n",
              "      <th>text</th>\n",
              "      <th>url</th>\n",
              "      <th>title</th>\n",
              "      <th>content</th>\n",
              "      <th>left 0 right 1</th>\n",
              "      <th>retweet_count</th>\n",
              "      <th>favorite_count</th>\n",
              "      <th>source_name</th>\n",
              "      <th>source</th>\n",
              "    </tr>\n",
              "  </thead>\n",
              "  <tbody>\n",
              "    <tr>\n",
              "      <th>1070</th>\n",
              "      <td>Kerala HC quashes state govt order of reducing...</td>\n",
              "      <td>https://www.republicworld.com/india-news/law-a...</td>\n",
              "      <td>Kerala HC Quashes State Govt Order Of Reducing...</td>\n",
              "      <td>the kerala high court quashed the state govern...</td>\n",
              "      <td>NaN</td>\n",
              "      <td>4.0</td>\n",
              "      <td>21.0</td>\n",
              "      <td>republictv</td>\n",
              "      <td>1</td>\n",
              "    </tr>\n",
              "    <tr>\n",
              "      <th>1071</th>\n",
              "      <td>Lakhimpur Kheri violence: Yogi Adityanath hold...</td>\n",
              "      <td>https://www.republicworld.com/india-news/gener...</td>\n",
              "      <td>Lakhimpur Kheri Violence: Yogi Adityanath Hold...</td>\n",
              "      <td>chief minister yogi adityanath on monday held ...</td>\n",
              "      <td>1.0</td>\n",
              "      <td>7.0</td>\n",
              "      <td>72.0</td>\n",
              "      <td>republictv</td>\n",
              "      <td>1</td>\n",
              "    </tr>\n",
              "    <tr>\n",
              "      <th>1072</th>\n",
              "      <td>IPL 2021: Know how KKR, PBKS, RR, &amp;amp; MI can...</td>\n",
              "      <td>https://www.republicworld.com/sports-news/cric...</td>\n",
              "      <td>IPL 2021: Know How KKR, PBKS, RR, &amp; MI Can Qua...</td>\n",
              "      <td>the ongoing edition of the indian premier leag...</td>\n",
              "      <td>NaN</td>\n",
              "      <td>4.0</td>\n",
              "      <td>20.0</td>\n",
              "      <td>republictv</td>\n",
              "      <td>1</td>\n",
              "    </tr>\n",
              "    <tr>\n",
              "      <th>1073</th>\n",
              "      <td>Lakhimpur clash: Priyanka Gandhi protests deta...</td>\n",
              "      <td>https://www.republicworld.com/india-news/polit...</td>\n",
              "      <td>Lakhimpur Clash: Priyanka Gandhi Protests Deta...</td>\n",
              "      <td>in a mark of silent protest, congress general ...</td>\n",
              "      <td>0.0</td>\n",
              "      <td>4.0</td>\n",
              "      <td>24.0</td>\n",
              "      <td>republictv</td>\n",
              "      <td>1</td>\n",
              "    </tr>\n",
              "    <tr>\n",
              "      <th>1074</th>\n",
              "      <td>Lakhimpur Kheri violence | UP Govt denies perm...</td>\n",
              "      <td>https://www.republicworld.com/india-news/gener...</td>\n",
              "      <td>Lakhimpur Kheri Violence | UP Govt Denies Perm...</td>\n",
              "      <td>punjab chief minister charanjit singh channi o...</td>\n",
              "      <td>NaN</td>\n",
              "      <td>7.0</td>\n",
              "      <td>47.0</td>\n",
              "      <td>republictv</td>\n",
              "      <td>1</td>\n",
              "    </tr>\n",
              "  </tbody>\n",
              "</table>\n",
              "</div>\n",
              "      <button class=\"colab-df-convert\" onclick=\"convertToInteractive('df-2a20131a-760d-4fa3-b699-fb31aa7155fa')\"\n",
              "              title=\"Convert this dataframe to an interactive table.\"\n",
              "              style=\"display:none;\">\n",
              "        \n",
              "  <svg xmlns=\"http://www.w3.org/2000/svg\" height=\"24px\"viewBox=\"0 0 24 24\"\n",
              "       width=\"24px\">\n",
              "    <path d=\"M0 0h24v24H0V0z\" fill=\"none\"/>\n",
              "    <path d=\"M18.56 5.44l.94 2.06.94-2.06 2.06-.94-2.06-.94-.94-2.06-.94 2.06-2.06.94zm-11 1L8.5 8.5l.94-2.06 2.06-.94-2.06-.94L8.5 2.5l-.94 2.06-2.06.94zm10 10l.94 2.06.94-2.06 2.06-.94-2.06-.94-.94-2.06-.94 2.06-2.06.94z\"/><path d=\"M17.41 7.96l-1.37-1.37c-.4-.4-.92-.59-1.43-.59-.52 0-1.04.2-1.43.59L10.3 9.45l-7.72 7.72c-.78.78-.78 2.05 0 2.83L4 21.41c.39.39.9.59 1.41.59.51 0 1.02-.2 1.41-.59l7.78-7.78 2.81-2.81c.8-.78.8-2.07 0-2.86zM5.41 20L4 18.59l7.72-7.72 1.47 1.35L5.41 20z\"/>\n",
              "  </svg>\n",
              "      </button>\n",
              "      \n",
              "  <style>\n",
              "    .colab-df-container {\n",
              "      display:flex;\n",
              "      flex-wrap:wrap;\n",
              "      gap: 12px;\n",
              "    }\n",
              "\n",
              "    .colab-df-convert {\n",
              "      background-color: #E8F0FE;\n",
              "      border: none;\n",
              "      border-radius: 50%;\n",
              "      cursor: pointer;\n",
              "      display: none;\n",
              "      fill: #1967D2;\n",
              "      height: 32px;\n",
              "      padding: 0 0 0 0;\n",
              "      width: 32px;\n",
              "    }\n",
              "\n",
              "    .colab-df-convert:hover {\n",
              "      background-color: #E2EBFA;\n",
              "      box-shadow: 0px 1px 2px rgba(60, 64, 67, 0.3), 0px 1px 3px 1px rgba(60, 64, 67, 0.15);\n",
              "      fill: #174EA6;\n",
              "    }\n",
              "\n",
              "    [theme=dark] .colab-df-convert {\n",
              "      background-color: #3B4455;\n",
              "      fill: #D2E3FC;\n",
              "    }\n",
              "\n",
              "    [theme=dark] .colab-df-convert:hover {\n",
              "      background-color: #434B5C;\n",
              "      box-shadow: 0px 1px 3px 1px rgba(0, 0, 0, 0.15);\n",
              "      filter: drop-shadow(0px 1px 2px rgba(0, 0, 0, 0.3));\n",
              "      fill: #FFFFFF;\n",
              "    }\n",
              "  </style>\n",
              "\n",
              "      <script>\n",
              "        const buttonEl =\n",
              "          document.querySelector('#df-2a20131a-760d-4fa3-b699-fb31aa7155fa button.colab-df-convert');\n",
              "        buttonEl.style.display =\n",
              "          google.colab.kernel.accessAllowed ? 'block' : 'none';\n",
              "\n",
              "        async function convertToInteractive(key) {\n",
              "          const element = document.querySelector('#df-2a20131a-760d-4fa3-b699-fb31aa7155fa');\n",
              "          const dataTable =\n",
              "            await google.colab.kernel.invokeFunction('convertToInteractive',\n",
              "                                                     [key], {});\n",
              "          if (!dataTable) return;\n",
              "\n",
              "          const docLinkHtml = 'Like what you see? Visit the ' +\n",
              "            '<a target=\"_blank\" href=https://colab.research.google.com/notebooks/data_table.ipynb>data table notebook</a>'\n",
              "            + ' to learn more about interactive tables.';\n",
              "          element.innerHTML = '';\n",
              "          dataTable['output_type'] = 'display_data';\n",
              "          await google.colab.output.renderOutput(dataTable, element);\n",
              "          const docLink = document.createElement('div');\n",
              "          docLink.innerHTML = docLinkHtml;\n",
              "          element.appendChild(docLink);\n",
              "        }\n",
              "      </script>\n",
              "    </div>\n",
              "  </div>\n",
              "  "
            ]
          },
          "metadata": {},
          "execution_count": 97
        }
      ]
    },
    {
      "cell_type": "code",
      "source": [
        "##CHECKING NULL VALUES\n",
        "print(republic_df.isna().sum())\n"
      ],
      "metadata": {
        "colab": {
          "base_uri": "https://localhost:8080/"
        },
        "id": "tdiyIsm2SWPR",
        "outputId": "f0572eab-cbe1-4a29-a246-670ef4780544"
      },
      "execution_count": 98,
      "outputs": [
        {
          "output_type": "stream",
          "name": "stdout",
          "text": [
            "text                0\n",
            "url                 0\n",
            "title               0\n",
            "content             0\n",
            "left 0 right 1    899\n",
            "retweet_count       0\n",
            "favorite_count      0\n",
            "source_name         0\n",
            "source              0\n",
            "dtype: int64\n"
          ]
        }
      ]
    },
    {
      "cell_type": "code",
      "source": [
        "print(ndtv_df.isna().sum())\n"
      ],
      "metadata": {
        "colab": {
          "base_uri": "https://localhost:8080/"
        },
        "id": "N_WnMnGfScTg",
        "outputId": "69bd6339-f69a-413e-9a55-41893f67b6e6"
      },
      "execution_count": 99,
      "outputs": [
        {
          "output_type": "stream",
          "name": "stdout",
          "text": [
            "text                0\n",
            "url                 0\n",
            "title               0\n",
            "content             0\n",
            "left 0 right 1    804\n",
            "retweet_count       0\n",
            "favorite_count      0\n",
            "source_name         0\n",
            "source              0\n",
            "dtype: int64\n"
          ]
        }
      ]
    },
    {
      "cell_type": "code",
      "source": [
        "republic_df=republic_df.dropna(subset=['content'])\n",
        "ndtv_df=ndtv_df.dropna(subset=['content'])\n"
      ],
      "metadata": {
        "id": "7bWCMpBGSLun"
      },
      "execution_count": 100,
      "outputs": []
    },
    {
      "cell_type": "code",
      "source": [
        "##bias=left 0 right 1 unbiased 3"
      ],
      "metadata": {
        "id": "FGPGaCK10HeT"
      },
      "execution_count": 101,
      "outputs": []
    },
    {
      "cell_type": "code",
      "source": [
        "ndtv_df.rename(columns = {'left 0 right 1':'bias'}, inplace = True)\n",
        "ndtv_df=ndtv_df.fillna({'bias':3})\n",
        "ndtv_df['bias']=ndtv_df['bias'].astype(int)"
      ],
      "metadata": {
        "id": "7ID7LkESz_b1"
      },
      "execution_count": 102,
      "outputs": []
    },
    {
      "cell_type": "code",
      "source": [
        "republic_df.columns"
      ],
      "metadata": {
        "colab": {
          "base_uri": "https://localhost:8080/"
        },
        "id": "AyOeUUgpTIzf",
        "outputId": "b632f4eb-883e-4b4e-f7f7-00c1b72dfce5"
      },
      "execution_count": 103,
      "outputs": [
        {
          "output_type": "execute_result",
          "data": {
            "text/plain": [
              "Index(['text', 'url', 'title', 'content', 'left 0 right 1', 'retweet_count',\n",
              "       'favorite_count', 'source_name', 'source'],\n",
              "      dtype='object')"
            ]
          },
          "metadata": {},
          "execution_count": 103
        }
      ]
    },
    {
      "cell_type": "code",
      "source": [
        "republic_df.rename(columns = {'left 0 right 1':'bias'}, inplace = True)\n",
        "republic_df=republic_df.fillna({'bias':3})\n",
        "republic_df['bias']=republic_df['bias'].astype(int)"
      ],
      "metadata": {
        "id": "eZyMjI8bzter"
      },
      "execution_count": 104,
      "outputs": []
    },
    {
      "cell_type": "code",
      "source": [
        "print(republic_df.isna().sum())\n"
      ],
      "metadata": {
        "colab": {
          "base_uri": "https://localhost:8080/"
        },
        "id": "n-bEeNb0SgVn",
        "outputId": "7bb08923-a44f-47f7-8339-14febdf3ff75"
      },
      "execution_count": 105,
      "outputs": [
        {
          "output_type": "stream",
          "name": "stdout",
          "text": [
            "text              0\n",
            "url               0\n",
            "title             0\n",
            "content           0\n",
            "bias              0\n",
            "retweet_count     0\n",
            "favorite_count    0\n",
            "source_name       0\n",
            "source            0\n",
            "dtype: int64\n"
          ]
        }
      ]
    },
    {
      "cell_type": "code",
      "source": [
        "print(ndtv_df.isna().sum())\n"
      ],
      "metadata": {
        "colab": {
          "base_uri": "https://localhost:8080/"
        },
        "id": "nzbkq1K_Si8R",
        "outputId": "e82d1a67-f444-4342-ef13-913d82c5629b"
      },
      "execution_count": 106,
      "outputs": [
        {
          "output_type": "stream",
          "name": "stdout",
          "text": [
            "text              0\n",
            "url               0\n",
            "title             0\n",
            "content           0\n",
            "bias              0\n",
            "retweet_count     0\n",
            "favorite_count    0\n",
            "source_name       0\n",
            "source            0\n",
            "dtype: int64\n"
          ]
        }
      ]
    },
    {
      "cell_type": "code",
      "source": [
        "republic_df.bias.value_counts()"
      ],
      "metadata": {
        "colab": {
          "base_uri": "https://localhost:8080/"
        },
        "id": "bgWZ726v1za_",
        "outputId": "58a29a03-883e-4cd4-f542-9f5a83fd5f0b"
      },
      "execution_count": 107,
      "outputs": [
        {
          "output_type": "execute_result",
          "data": {
            "text/plain": [
              "3    899\n",
              "0     93\n",
              "1     83\n",
              "Name: bias, dtype: int64"
            ]
          },
          "metadata": {},
          "execution_count": 107
        }
      ]
    },
    {
      "cell_type": "code",
      "source": [
        "ndtv_df.bias"
      ],
      "metadata": {
        "colab": {
          "base_uri": "https://localhost:8080/"
        },
        "id": "_FAqCOB21v4a",
        "outputId": "909d5bdf-628d-4546-fdac-403c1db6a62d"
      },
      "execution_count": 108,
      "outputs": [
        {
          "output_type": "execute_result",
          "data": {
            "text/plain": [
              "0       3\n",
              "1       3\n",
              "2       1\n",
              "3       0\n",
              "4       3\n",
              "       ..\n",
              "1070    3\n",
              "1071    3\n",
              "1072    3\n",
              "1073    3\n",
              "1074    3\n",
              "Name: bias, Length: 1075, dtype: int64"
            ]
          },
          "metadata": {},
          "execution_count": 108
        }
      ]
    },
    {
      "cell_type": "markdown",
      "source": [
        "# DATA CLEANING"
      ],
      "metadata": {
        "id": "fqNgz-Zvxq-U"
      }
    },
    {
      "cell_type": "code",
      "source": [
        "df=pd.concat([ndtv_df,republic_df])"
      ],
      "metadata": {
        "id": "YlyasX0QjMg2"
      },
      "execution_count": 109,
      "outputs": []
    },
    {
      "cell_type": "code",
      "source": [
        "#REINDEXING\n",
        "indx=[]\n",
        "for i in range(len(df)):\n",
        "  indx.append(i)\n",
        "df.index=indx"
      ],
      "metadata": {
        "id": "MDXjSqm-kjMb"
      },
      "execution_count": 110,
      "outputs": []
    },
    {
      "cell_type": "markdown",
      "source": [
        "# STOPWORDS"
      ],
      "metadata": {
        "id": "RZGJqnN34rTd"
      }
    },
    {
      "cell_type": "code",
      "source": [
        "# A list of common english words which should not affect predictions\n",
        "stopwordslist = ['a', 'about', 'above', 'across', 'after', 'afterwards', 'again', 'against', 'all', 'almost', 'alone',\n",
        "             'along', 'already', 'also', 'although', 'always', 'am', 'among', 'amongst', 'amoungst', 'amount',\n",
        "             'an', 'and', 'another', 'any', 'anyhow', 'anyone', 'anything', 'anyway', 'anywhere', 'are', 'around',\n",
        "             'as', 'at', 'back', 'be', 'became', 'because', 'become', 'becomes', 'becoming', 'been', 'before',\n",
        "             'beforehand', 'behind', 'being', 'below', 'beside', 'besides', 'between', 'beyond', 'bill', 'both',\n",
        "             'bottom', 'but', 'by', 'call', 'can', 'cannot', 'cant', 'co', 'con', 'could', 'couldnt', 'cry', 'de',\n",
        "             'describe', 'detail', 'did', 'do', 'does', 'doing', 'don', 'done', 'down', 'due', 'during', 'each', 'eg',\n",
        "             'eight', 'either', 'eleven', 'else', 'elsewhere', 'empty', 'enough', 'etc', 'even', 'ever', 'every', 'everyone',\n",
        "             'everything', 'everywhere', 'except', 'few', 'fifteen', 'fify', 'fill', 'find', 'fire', 'first', 'five', 'for',\n",
        "             'former', 'formerly', 'forty', 'found', 'four', 'from', 'front', 'full', 'further', 'get', 'give', 'go', 'had',\n",
        "             'has', 'hasnt', 'have', 'having', 'he', 'hence', 'her', 'here', 'hereafter', 'hereby', 'herein', 'hereupon',\n",
        "             'hers', 'herself', 'him', 'himself', 'his', 'how', 'however', 'hundred', 'i', 'ie', 'if', 'in', 'inc', 'indeed',\n",
        "             'interest', 'into', 'is', 'it', 'its', 'itself', 'just', 'keep', 'last', 'latter', 'latterly', 'least', 'less',\n",
        "             'ltd', 'made', 'many', 'may', 'me', 'meanwhile', 'might', 'mill', 'mine', 'more', 'moreover', 'most', 'mostly',\n",
        "             'move', 'much', 'must', 'my', 'myself', 'name', 'namely', 'neither', 'never', 'nevertheless', 'next', 'nine',\n",
        "             'no', 'nobody', 'none', 'noone', 'nor', 'not', 'nothing', 'now', 'nowhere', 'of', 'off', 'often', 'on', 'once',\n",
        "             'one', 'only', 'onto', 'or', 'other', 'others', 'otherwise', 'our', 'ours', 'ourselves', 'out', 'over', 'own',\n",
        "             'part', 'per', 'perhaps', 'please', 'put', 'rather', 're', 's', 'same', 'see', 'seem', 'seemed', 'seeming',\n",
        "             'seems', 'serious', 'several', 'she', 'should', 'show', 'side', 'since', 'sincere', 'six', 'sixty', 'so', \n",
        "             'some', 'somehow', 'someone', 'something', 'sometime', 'sometimes', 'somewhere', 'still', 'such', 'system',\n",
        "             't', 'take', 'ten', 'than', 'that', 'the', 'their', 'theirs', 'them', 'themselves', 'then', 'thence', 'there',\n",
        "             'thereafter', 'thereby', 'therefore', 'therein', 'thereupon', 'these', 'they', 'thickv', 'thin', 'third', 'this',\n",
        "             'those', 'though', 'three', 'through', 'throughout', 'thru', 'thus', 'to', 'together', 'too', 'top', 'toward',\n",
        "             'towards', 'twelve', 'twenty', 'two', 'un', 'under', 'until', 'up', 'upon', 'us', 'very', 'via', 'was', 'we',\n",
        "             'well', 'were', 'what', 'whatever', 'when', 'whence', 'whenever', 'where', 'whereafter', 'whereas', 'whereby',\n",
        "             'wherein', 'whereupon', 'wherever', 'whether', 'which', 'while', 'whither', 'who', 'whoever', 'whole', 'whom',\n",
        "             'whose', 'why', 'will', 'with', 'within', 'without', 'would', 'yet', 'you', 'your', 'yours', 'yourself',\n",
        "             'yourselves','state','said','saturday','thursday','wednesday','monday','tuesday','sunday','friday','like','power','incident','crore','added','car','arrested','visit']#,'told','government'],'leader','farmer','police'"
      ],
      "metadata": {
        "id": "F4bNnDnQHGvC"
      },
      "execution_count": 111,
      "outputs": []
    },
    {
      "cell_type": "code",
      "source": [
        "final_stop_words =list(set( stopwords.words('english')+stopwordslist+['including','seat','family','time','new','son','people','country','state','mr','day','october','year','india','an','today','ndtv', 'ndtvfeed','republic','tv','republictv','story','edited','staff','syndicated','published','headline','feed']))"
      ],
      "metadata": {
        "id": "mhY4M2awkBgv"
      },
      "execution_count": 112,
      "outputs": []
    },
    {
      "cell_type": "code",
      "source": [
        "#'leader','chief','party','national','union','case','incident','violence'"
      ],
      "metadata": {
        "id": "vrnNDe5sOhbW"
      },
      "execution_count": 113,
      "outputs": []
    },
    {
      "cell_type": "code",
      "source": [
        "final_stop_words.sort()"
      ],
      "metadata": {
        "id": "8ZiZv2-JH9uw"
      },
      "execution_count": 114,
      "outputs": []
    },
    {
      "cell_type": "code",
      "source": [
        "#final_stop_words"
      ],
      "metadata": {
        "id": "d45RgI5fIBUH"
      },
      "execution_count": 115,
      "outputs": []
    },
    {
      "cell_type": "code",
      "source": [
        "for x in final_stop_words:\n",
        "  if x=='day':\n",
        "    print('assajkajd')\n",
        "    break"
      ],
      "metadata": {
        "colab": {
          "base_uri": "https://localhost:8080/"
        },
        "id": "3YjAe9jZunez",
        "outputId": "db43b517-f27f-444a-b340-7c7a43d4d40e"
      },
      "execution_count": 116,
      "outputs": [
        {
          "output_type": "stream",
          "name": "stdout",
          "text": [
            "assajkajd\n"
          ]
        }
      ]
    },
    {
      "cell_type": "code",
      "source": [
        "df.head(5)"
      ],
      "metadata": {
        "colab": {
          "base_uri": "https://localhost:8080/",
          "height": 337
        },
        "id": "-8c_HKE_kb2P",
        "outputId": "6b4d6ec1-ab26-4468-b0f0-47edc3f67835"
      },
      "execution_count": 117,
      "outputs": [
        {
          "output_type": "execute_result",
          "data": {
            "text/plain": [
              "                                                text  \\\n",
              "0  Army Officer, 4 Others Killed In Encounter In ...   \n",
              "1  #AryanKhan Case: No Bail For Him Today, Next H...   \n",
              "2  RT @ndtvfeed: Ex-National Conference Leaders D...   \n",
              "3  RT @ndtvfeed: US Has Lost AI Battle To China, ...   \n",
              "4  RT @ndtvfeed: A Look At Inspiring Messages On ...   \n",
              "\n",
              "                                                 url  \\\n",
              "0  https://www.ndtv.com/india-news/army-officer-4...   \n",
              "1  https://ndtv.com/india-news/mumbai-drug-bust-c...   \n",
              "2  https://www.ndtv.com/india-news/after-resignin...   \n",
              "3  https://www.ndtv.com/world-news/us-has-lost-ar...   \n",
              "4  https://www.ndtv.com/india-news/on-internation...   \n",
              "\n",
              "                                               title  \\\n",
              "0  Army Officer, 4 Personnel Killed In Encounter ...   \n",
              "1  Aryan Khan Case: No Bail For Him Today, Next H...   \n",
              "2  Ex-National Conference Leaders Devender Rana, ...   \n",
              "3  US Has Lost AI Battle To China, Pentagon's Ex-...   \n",
              "4  International Day Of The Girl Child 2021: Lead...   \n",
              "\n",
              "                                             content  bias  retweet_count  \\\n",
              "0  an army officer and four other personnel were ...     3            9.0   \n",
              "1  aryan khan did not get bail today for the thir...     3            5.0   \n",
              "2  a day after resigning from the national confer...     1            2.0   \n",
              "3  china has won the artificial intelligence batt...     0            5.0   \n",
              "4  various world leaders and un agencies posted w...     3            3.0   \n",
              "\n",
              "   favorite_count source_name  source  \n",
              "0            63.0        ndtv       0  \n",
              "1            44.0        ndtv       0  \n",
              "2             0.0        ndtv       0  \n",
              "3             0.0        ndtv       0  \n",
              "4             0.0        ndtv       0  "
            ],
            "text/html": [
              "\n",
              "  <div id=\"df-4bca72c3-dfd7-4d1b-8892-2e577d5fdab9\">\n",
              "    <div class=\"colab-df-container\">\n",
              "      <div>\n",
              "<style scoped>\n",
              "    .dataframe tbody tr th:only-of-type {\n",
              "        vertical-align: middle;\n",
              "    }\n",
              "\n",
              "    .dataframe tbody tr th {\n",
              "        vertical-align: top;\n",
              "    }\n",
              "\n",
              "    .dataframe thead th {\n",
              "        text-align: right;\n",
              "    }\n",
              "</style>\n",
              "<table border=\"1\" class=\"dataframe\">\n",
              "  <thead>\n",
              "    <tr style=\"text-align: right;\">\n",
              "      <th></th>\n",
              "      <th>text</th>\n",
              "      <th>url</th>\n",
              "      <th>title</th>\n",
              "      <th>content</th>\n",
              "      <th>bias</th>\n",
              "      <th>retweet_count</th>\n",
              "      <th>favorite_count</th>\n",
              "      <th>source_name</th>\n",
              "      <th>source</th>\n",
              "    </tr>\n",
              "  </thead>\n",
              "  <tbody>\n",
              "    <tr>\n",
              "      <th>0</th>\n",
              "      <td>Army Officer, 4 Others Killed In Encounter In ...</td>\n",
              "      <td>https://www.ndtv.com/india-news/army-officer-4...</td>\n",
              "      <td>Army Officer, 4 Personnel Killed In Encounter ...</td>\n",
              "      <td>an army officer and four other personnel were ...</td>\n",
              "      <td>3</td>\n",
              "      <td>9.0</td>\n",
              "      <td>63.0</td>\n",
              "      <td>ndtv</td>\n",
              "      <td>0</td>\n",
              "    </tr>\n",
              "    <tr>\n",
              "      <th>1</th>\n",
              "      <td>#AryanKhan Case: No Bail For Him Today, Next H...</td>\n",
              "      <td>https://ndtv.com/india-news/mumbai-drug-bust-c...</td>\n",
              "      <td>Aryan Khan Case: No Bail For Him Today, Next H...</td>\n",
              "      <td>aryan khan did not get bail today for the thir...</td>\n",
              "      <td>3</td>\n",
              "      <td>5.0</td>\n",
              "      <td>44.0</td>\n",
              "      <td>ndtv</td>\n",
              "      <td>0</td>\n",
              "    </tr>\n",
              "    <tr>\n",
              "      <th>2</th>\n",
              "      <td>RT @ndtvfeed: Ex-National Conference Leaders D...</td>\n",
              "      <td>https://www.ndtv.com/india-news/after-resignin...</td>\n",
              "      <td>Ex-National Conference Leaders Devender Rana, ...</td>\n",
              "      <td>a day after resigning from the national confer...</td>\n",
              "      <td>1</td>\n",
              "      <td>2.0</td>\n",
              "      <td>0.0</td>\n",
              "      <td>ndtv</td>\n",
              "      <td>0</td>\n",
              "    </tr>\n",
              "    <tr>\n",
              "      <th>3</th>\n",
              "      <td>RT @ndtvfeed: US Has Lost AI Battle To China, ...</td>\n",
              "      <td>https://www.ndtv.com/world-news/us-has-lost-ar...</td>\n",
              "      <td>US Has Lost AI Battle To China, Pentagon's Ex-...</td>\n",
              "      <td>china has won the artificial intelligence batt...</td>\n",
              "      <td>0</td>\n",
              "      <td>5.0</td>\n",
              "      <td>0.0</td>\n",
              "      <td>ndtv</td>\n",
              "      <td>0</td>\n",
              "    </tr>\n",
              "    <tr>\n",
              "      <th>4</th>\n",
              "      <td>RT @ndtvfeed: A Look At Inspiring Messages On ...</td>\n",
              "      <td>https://www.ndtv.com/india-news/on-internation...</td>\n",
              "      <td>International Day Of The Girl Child 2021: Lead...</td>\n",
              "      <td>various world leaders and un agencies posted w...</td>\n",
              "      <td>3</td>\n",
              "      <td>3.0</td>\n",
              "      <td>0.0</td>\n",
              "      <td>ndtv</td>\n",
              "      <td>0</td>\n",
              "    </tr>\n",
              "  </tbody>\n",
              "</table>\n",
              "</div>\n",
              "      <button class=\"colab-df-convert\" onclick=\"convertToInteractive('df-4bca72c3-dfd7-4d1b-8892-2e577d5fdab9')\"\n",
              "              title=\"Convert this dataframe to an interactive table.\"\n",
              "              style=\"display:none;\">\n",
              "        \n",
              "  <svg xmlns=\"http://www.w3.org/2000/svg\" height=\"24px\"viewBox=\"0 0 24 24\"\n",
              "       width=\"24px\">\n",
              "    <path d=\"M0 0h24v24H0V0z\" fill=\"none\"/>\n",
              "    <path d=\"M18.56 5.44l.94 2.06.94-2.06 2.06-.94-2.06-.94-.94-2.06-.94 2.06-2.06.94zm-11 1L8.5 8.5l.94-2.06 2.06-.94-2.06-.94L8.5 2.5l-.94 2.06-2.06.94zm10 10l.94 2.06.94-2.06 2.06-.94-2.06-.94-.94-2.06-.94 2.06-2.06.94z\"/><path d=\"M17.41 7.96l-1.37-1.37c-.4-.4-.92-.59-1.43-.59-.52 0-1.04.2-1.43.59L10.3 9.45l-7.72 7.72c-.78.78-.78 2.05 0 2.83L4 21.41c.39.39.9.59 1.41.59.51 0 1.02-.2 1.41-.59l7.78-7.78 2.81-2.81c.8-.78.8-2.07 0-2.86zM5.41 20L4 18.59l7.72-7.72 1.47 1.35L5.41 20z\"/>\n",
              "  </svg>\n",
              "      </button>\n",
              "      \n",
              "  <style>\n",
              "    .colab-df-container {\n",
              "      display:flex;\n",
              "      flex-wrap:wrap;\n",
              "      gap: 12px;\n",
              "    }\n",
              "\n",
              "    .colab-df-convert {\n",
              "      background-color: #E8F0FE;\n",
              "      border: none;\n",
              "      border-radius: 50%;\n",
              "      cursor: pointer;\n",
              "      display: none;\n",
              "      fill: #1967D2;\n",
              "      height: 32px;\n",
              "      padding: 0 0 0 0;\n",
              "      width: 32px;\n",
              "    }\n",
              "\n",
              "    .colab-df-convert:hover {\n",
              "      background-color: #E2EBFA;\n",
              "      box-shadow: 0px 1px 2px rgba(60, 64, 67, 0.3), 0px 1px 3px 1px rgba(60, 64, 67, 0.15);\n",
              "      fill: #174EA6;\n",
              "    }\n",
              "\n",
              "    [theme=dark] .colab-df-convert {\n",
              "      background-color: #3B4455;\n",
              "      fill: #D2E3FC;\n",
              "    }\n",
              "\n",
              "    [theme=dark] .colab-df-convert:hover {\n",
              "      background-color: #434B5C;\n",
              "      box-shadow: 0px 1px 3px 1px rgba(0, 0, 0, 0.15);\n",
              "      filter: drop-shadow(0px 1px 2px rgba(0, 0, 0, 0.3));\n",
              "      fill: #FFFFFF;\n",
              "    }\n",
              "  </style>\n",
              "\n",
              "      <script>\n",
              "        const buttonEl =\n",
              "          document.querySelector('#df-4bca72c3-dfd7-4d1b-8892-2e577d5fdab9 button.colab-df-convert');\n",
              "        buttonEl.style.display =\n",
              "          google.colab.kernel.accessAllowed ? 'block' : 'none';\n",
              "\n",
              "        async function convertToInteractive(key) {\n",
              "          const element = document.querySelector('#df-4bca72c3-dfd7-4d1b-8892-2e577d5fdab9');\n",
              "          const dataTable =\n",
              "            await google.colab.kernel.invokeFunction('convertToInteractive',\n",
              "                                                     [key], {});\n",
              "          if (!dataTable) return;\n",
              "\n",
              "          const docLinkHtml = 'Like what you see? Visit the ' +\n",
              "            '<a target=\"_blank\" href=https://colab.research.google.com/notebooks/data_table.ipynb>data table notebook</a>'\n",
              "            + ' to learn more about interactive tables.';\n",
              "          element.innerHTML = '';\n",
              "          dataTable['output_type'] = 'display_data';\n",
              "          await google.colab.output.renderOutput(dataTable, element);\n",
              "          const docLink = document.createElement('div');\n",
              "          docLink.innerHTML = docLinkHtml;\n",
              "          element.appendChild(docLink);\n",
              "        }\n",
              "      </script>\n",
              "    </div>\n",
              "  </div>\n",
              "  "
            ]
          },
          "metadata": {},
          "execution_count": 117
        }
      ]
    },
    {
      "cell_type": "code",
      "source": [
        "print(len(final_stop_words ))\n"
      ],
      "metadata": {
        "colab": {
          "base_uri": "https://localhost:8080/"
        },
        "id": "c-4X95k6vUoI",
        "outputId": "dfc91040-e880-4484-af48-ade3fdc9ed45"
      },
      "execution_count": 118,
      "outputs": [
        {
          "output_type": "stream",
          "name": "stdout",
          "text": [
            "421\n"
          ]
        }
      ]
    },
    {
      "cell_type": "code",
      "source": [
        "re.sub('[.]', ' ', '.......sss')"
      ],
      "metadata": {
        "colab": {
          "base_uri": "https://localhost:8080/",
          "height": 35
        },
        "id": "-FUlRdmOR1zK",
        "outputId": "a5e894c9-2b1e-4590-9da2-2c7d7c18c7e5"
      },
      "execution_count": 119,
      "outputs": [
        {
          "output_type": "execute_result",
          "data": {
            "text/plain": [
              "'       sss'"
            ],
            "application/vnd.google.colaboratory.intrinsic+json": {
              "type": "string"
            }
          },
          "metadata": {},
          "execution_count": 119
        }
      ]
    },
    {
      "cell_type": "code",
      "source": [
        ""
      ],
      "metadata": {
        "id": "_FF7uBPNtFNS"
      },
      "execution_count": 119,
      "outputs": []
    },
    {
      "cell_type": "code",
      "source": [
        "### Dataset Preprocessing\n",
        "corpus = []\n",
        "for i in range(0, len(df)):\n",
        "    #print(i)\n",
        "    review = re.sub('[^a-zA-Z]', ' ', df['content'][i])\n",
        "    review = re.sub('[!\"#$%&()*+,-./:;<=>?@[\\]^_`{|}~]\"',' ',review)\n",
        "    review = review.lower()\n",
        "    review = review.split()\n",
        "    review = [word for word in review if not word in final_stop_words]\n",
        "    review = ' '.join(review)\n",
        "    corpus.append(review)\n",
        "df['clean_content']=corpus"
      ],
      "metadata": {
        "id": "953a4V3OxqVU"
      },
      "execution_count": 120,
      "outputs": []
    },
    {
      "cell_type": "code",
      "source": [
        "df['clean_content'][0]\n"
      ],
      "metadata": {
        "colab": {
          "base_uri": "https://localhost:8080/",
          "height": 87
        },
        "id": "MoMo7CyjTJCY",
        "outputId": "b19e1722-534a-4b1e-c27f-e8eeab3964d8"
      },
      "execution_count": 121,
      "outputs": [
        {
          "output_type": "execute_result",
          "data": {
            "text/plain": [
              "'army officer personnel killed action encounter security forces terrorists jammu kashmir poonch district officials anti insurgency operation launched village close dera ki gali surankote early hours following intelligence inputs presence heavily armed terrorists hiding terrorists fired search parties resulting fierce gunfight critical injuries junior commissioned officer jco soldiers died injuries encounter terrorists going details awaited defence spokesperson officials reports presence group heavily armed terrorists chamrer forest managed sneak line control loc reinforcements rushed area plug escape routes terrorists inputs pti'"
            ],
            "application/vnd.google.colaboratory.intrinsic+json": {
              "type": "string"
            }
          },
          "metadata": {},
          "execution_count": 121
        }
      ]
    },
    {
      "cell_type": "code",
      "source": [
        "lemmer = WordNetLemmatizer()\n",
        "w_tokenizer = nltk.tokenize.WhitespaceTokenizer()\n",
        "lemmatizer = nltk.stem.WordNetLemmatizer()\n",
        "def lemmatize_text(text):\n",
        "    return [lemmatizer.lemmatize(w) for w in w_tokenizer.tokenize(text)]\n",
        "df['text_lemmatized'] = df.clean_content.apply(lemmatize_text)"
      ],
      "metadata": {
        "id": "rQo89E5ZkqRW"
      },
      "execution_count": 122,
      "outputs": []
    },
    {
      "cell_type": "code",
      "source": [
        "#df['text_lemmatized'][0]"
      ],
      "metadata": {
        "id": "FGtmOGn-T9Sq"
      },
      "execution_count": 123,
      "outputs": []
    },
    {
      "cell_type": "code",
      "source": [
        "def cleaning_lemmatize_text(text):\n",
        "    #return [lemmatizer.lemmatize(w) for w in w_tokenizer.tokenize(text)]\n",
        "    return[word for word in text if not word in final_stop_words]"
      ],
      "metadata": {
        "id": "PvcdUmA5JWhP"
      },
      "execution_count": 124,
      "outputs": []
    },
    {
      "cell_type": "code",
      "source": [
        "df['clean_text_lemmatized'] = df.text_lemmatized.apply(cleaning_lemmatize_text)"
      ],
      "metadata": {
        "id": "GAAhvc7mIYR7"
      },
      "execution_count": 125,
      "outputs": []
    },
    {
      "cell_type": "code",
      "source": [
        "#df['clean_text_lemmatized'][0]\n"
      ],
      "metadata": {
        "id": "4UvV7jsxVfty"
      },
      "execution_count": 126,
      "outputs": []
    },
    {
      "cell_type": "code",
      "source": [
        "for i in range(len(df)):\n",
        "  for x in df['clean_text_lemmatized'][i]:\n",
        "    if x=='wa':\n",
        "      print(i)\n",
        "      #break"
      ],
      "metadata": {
        "id": "g4qZZZM3UVDS"
      },
      "execution_count": 127,
      "outputs": []
    },
    {
      "cell_type": "code",
      "source": [
        "###TESTING\n",
        "for i in range(len(df)):\n",
        "  for w in (df['clean_text_lemmatized'][i]):\n",
        "    #print(w)\n",
        "    if(w=='car'):\n",
        "      print(i)\n",
        "      break"
      ],
      "metadata": {
        "id": "hh1uNZ2Buz1r"
      },
      "execution_count": 128,
      "outputs": []
    },
    {
      "cell_type": "code",
      "source": [
        "# df['clean_content'][1]"
      ],
      "metadata": {
        "id": "us8PeOazve74"
      },
      "execution_count": 129,
      "outputs": []
    },
    {
      "cell_type": "code",
      "source": [
        ""
      ],
      "metadata": {
        "id": "3cFQ20MGlIpc"
      },
      "execution_count": 129,
      "outputs": []
    },
    {
      "cell_type": "code",
      "source": [
        "###TESTING\n",
        "for i in range(len(df)):\n",
        "  for w in df['clean_text_lemmatized'][i]:\n",
        "    if(w=='also'):\n",
        "      print(i)\n",
        "      break"
      ],
      "metadata": {
        "id": "ur-Wo-4GlKJH"
      },
      "execution_count": 130,
      "outputs": []
    },
    {
      "cell_type": "code",
      "source": [
        "import string\n",
        "from string import punctuation"
      ],
      "metadata": {
        "id": "0wqNTgP21rz7"
      },
      "execution_count": 131,
      "outputs": []
    },
    {
      "cell_type": "code",
      "source": [
        "###TESTING\n",
        "re.sub('[^a-zA-Z'+string.punctuation+']', ' ','abcm,.jasjsa')\n",
        "re.sub(r'[^a-zA-Z,.!(){}]', ' ','#$%&@~ !! AA @@abcm,.jasjsa')"
      ],
      "metadata": {
        "colab": {
          "base_uri": "https://localhost:8080/",
          "height": 35
        },
        "id": "pSx_vpOilh6o",
        "outputId": "91a63d09-f162-4598-e01c-31036d42fa61"
      },
      "execution_count": 132,
      "outputs": [
        {
          "output_type": "execute_result",
          "data": {
            "text/plain": [
              "'       !! AA   abcm,.jasjsa'"
            ],
            "application/vnd.google.colaboratory.intrinsic+json": {
              "type": "string"
            }
          },
          "metadata": {},
          "execution_count": 132
        }
      ]
    },
    {
      "cell_type": "code",
      "source": [
        "### Dataset Preprocessing ###\n",
        "###'clean_content_with_Stopwords' we are creating this because the scraped data had special characters like 'š','â' , we need this data for sentiment analysis\n",
        "stop_words = final_stop_words\n",
        "from nltk.stem.porter import PorterStemmer\n",
        "import string\n",
        "ps = PorterStemmer()\n",
        "corpus = []\n",
        "for i in range(0, len(df)):\n",
        "    review = re.sub(r'[^a-zA-Z,.!(){}]'+']', ' ',df['content'][i])\n",
        "    #review = re.sub('[#$%&@~!_]', ' ',  ndtv_df['content'][i])\n",
        "    review = review.lower()\n",
        "    review = review.split()\n",
        "    review = ' '.join(review)\n",
        "    corpus.append(review)\n",
        "df['clean_content_with_Stopwords']=corpus"
      ],
      "metadata": {
        "id": "KqHDXE4kz9wI"
      },
      "execution_count": 133,
      "outputs": []
    },
    {
      "cell_type": "code",
      "source": [
        "df['clean_content_with_Stopwords'][0]\n"
      ],
      "metadata": {
        "colab": {
          "base_uri": "https://localhost:8080/",
          "height": 122
        },
        "id": "PFt5AiwF0Y7a",
        "outputId": "acaa7b5a-8aae-4014-d98c-80d368b390fc"
      },
      "execution_count": 134,
      "outputs": [
        {
          "output_type": "execute_result",
          "data": {
            "text/plain": [
              "\"an army officer and four other personnel were killed in action during an encounter between security forces and terrorists in jammu and kashmir's poonch district on monday, officials said. an anti-insurgency operation was launched in a village close to dera ki gali in surankote in the early hours following intelligence inputs about the presence of heavily-armed terrorists there, they said. the hiding terrorists fired on the search parties resulting in fierce gunfight and critical injuries to a junior commissioned officer or jco and four other soldiers. they died from their injuries. the encounter with the terrorists was going on and further details are awaited, a defence spokesperson said. officials said there were reports about the presence of a group of heavily-armed terrorists in the chamrer forest, after they managed to sneak from across the line of control (loc). reinforcements have been rushed to the area to plug all escape routes of the terrorists, they said. (with inputs from pti)\""
            ],
            "application/vnd.google.colaboratory.intrinsic+json": {
              "type": "string"
            }
          },
          "metadata": {},
          "execution_count": 134
        }
      ]
    },
    {
      "cell_type": "code",
      "source": [
        "###TESTING\n",
        "for i in range(len(df)):\n",
        "  for w in df['clean_text_lemmatized'][i]:\n",
        "    if(w=='wa'):\n",
        "      print(i)\n",
        "      break"
      ],
      "metadata": {
        "id": "ntAmmFUjuWAY"
      },
      "execution_count": 135,
      "outputs": []
    },
    {
      "cell_type": "code",
      "source": [
        "df.head()"
      ],
      "metadata": {
        "id": "FZZqUafAWmna",
        "colab": {
          "base_uri": "https://localhost:8080/",
          "height": 669
        },
        "outputId": "38b82a7f-7833-4a11-aa36-93acb8815377"
      },
      "execution_count": 136,
      "outputs": [
        {
          "output_type": "execute_result",
          "data": {
            "text/plain": [
              "                                                text  \\\n",
              "0  Army Officer, 4 Others Killed In Encounter In ...   \n",
              "1  #AryanKhan Case: No Bail For Him Today, Next H...   \n",
              "2  RT @ndtvfeed: Ex-National Conference Leaders D...   \n",
              "3  RT @ndtvfeed: US Has Lost AI Battle To China, ...   \n",
              "4  RT @ndtvfeed: A Look At Inspiring Messages On ...   \n",
              "\n",
              "                                                 url  \\\n",
              "0  https://www.ndtv.com/india-news/army-officer-4...   \n",
              "1  https://ndtv.com/india-news/mumbai-drug-bust-c...   \n",
              "2  https://www.ndtv.com/india-news/after-resignin...   \n",
              "3  https://www.ndtv.com/world-news/us-has-lost-ar...   \n",
              "4  https://www.ndtv.com/india-news/on-internation...   \n",
              "\n",
              "                                               title  \\\n",
              "0  Army Officer, 4 Personnel Killed In Encounter ...   \n",
              "1  Aryan Khan Case: No Bail For Him Today, Next H...   \n",
              "2  Ex-National Conference Leaders Devender Rana, ...   \n",
              "3  US Has Lost AI Battle To China, Pentagon's Ex-...   \n",
              "4  International Day Of The Girl Child 2021: Lead...   \n",
              "\n",
              "                                             content  bias  retweet_count  \\\n",
              "0  an army officer and four other personnel were ...     3            9.0   \n",
              "1  aryan khan did not get bail today for the thir...     3            5.0   \n",
              "2  a day after resigning from the national confer...     1            2.0   \n",
              "3  china has won the artificial intelligence batt...     0            5.0   \n",
              "4  various world leaders and un agencies posted w...     3            3.0   \n",
              "\n",
              "   favorite_count source_name  source  \\\n",
              "0            63.0        ndtv       0   \n",
              "1            44.0        ndtv       0   \n",
              "2             0.0        ndtv       0   \n",
              "3             0.0        ndtv       0   \n",
              "4             0.0        ndtv       0   \n",
              "\n",
              "                                       clean_content  \\\n",
              "0  army officer personnel killed action encounter...   \n",
              "1  aryan khan bail arrest week ago drugs cruise c...   \n",
              "2  resigning national conference devender rana he...   \n",
              "3  china artificial intelligence battle united st...   \n",
              "4  various world leaders agencies posted wishes m...   \n",
              "\n",
              "                                     text_lemmatized  \\\n",
              "0  [army, officer, personnel, killed, action, enc...   \n",
              "1  [aryan, khan, bail, arrest, week, ago, drug, c...   \n",
              "2  [resigning, national, conference, devender, ra...   \n",
              "3  [china, artificial, intelligence, battle, unit...   \n",
              "4  [various, world, leader, agency, posted, wish,...   \n",
              "\n",
              "                               clean_text_lemmatized  \\\n",
              "0  [army, officer, personnel, killed, action, enc...   \n",
              "1  [aryan, khan, bail, arrest, week, ago, drug, c...   \n",
              "2  [resigning, national, conference, devender, ra...   \n",
              "3  [china, artificial, intelligence, battle, unit...   \n",
              "4  [various, world, leader, agency, posted, wish,...   \n",
              "\n",
              "                        clean_content_with_Stopwords  \n",
              "0  an army officer and four other personnel were ...  \n",
              "1  aryan khan did not get bail today for the thir...  \n",
              "2  a day after resigning from the national confer...  \n",
              "3  china has won the artificial intelligence batt...  \n",
              "4  various world leaders and un agencies posted w...  "
            ],
            "text/html": [
              "\n",
              "  <div id=\"df-8852b215-b9cf-4bbc-a53b-4480dae1c466\">\n",
              "    <div class=\"colab-df-container\">\n",
              "      <div>\n",
              "<style scoped>\n",
              "    .dataframe tbody tr th:only-of-type {\n",
              "        vertical-align: middle;\n",
              "    }\n",
              "\n",
              "    .dataframe tbody tr th {\n",
              "        vertical-align: top;\n",
              "    }\n",
              "\n",
              "    .dataframe thead th {\n",
              "        text-align: right;\n",
              "    }\n",
              "</style>\n",
              "<table border=\"1\" class=\"dataframe\">\n",
              "  <thead>\n",
              "    <tr style=\"text-align: right;\">\n",
              "      <th></th>\n",
              "      <th>text</th>\n",
              "      <th>url</th>\n",
              "      <th>title</th>\n",
              "      <th>content</th>\n",
              "      <th>bias</th>\n",
              "      <th>retweet_count</th>\n",
              "      <th>favorite_count</th>\n",
              "      <th>source_name</th>\n",
              "      <th>source</th>\n",
              "      <th>clean_content</th>\n",
              "      <th>text_lemmatized</th>\n",
              "      <th>clean_text_lemmatized</th>\n",
              "      <th>clean_content_with_Stopwords</th>\n",
              "    </tr>\n",
              "  </thead>\n",
              "  <tbody>\n",
              "    <tr>\n",
              "      <th>0</th>\n",
              "      <td>Army Officer, 4 Others Killed In Encounter In ...</td>\n",
              "      <td>https://www.ndtv.com/india-news/army-officer-4...</td>\n",
              "      <td>Army Officer, 4 Personnel Killed In Encounter ...</td>\n",
              "      <td>an army officer and four other personnel were ...</td>\n",
              "      <td>3</td>\n",
              "      <td>9.0</td>\n",
              "      <td>63.0</td>\n",
              "      <td>ndtv</td>\n",
              "      <td>0</td>\n",
              "      <td>army officer personnel killed action encounter...</td>\n",
              "      <td>[army, officer, personnel, killed, action, enc...</td>\n",
              "      <td>[army, officer, personnel, killed, action, enc...</td>\n",
              "      <td>an army officer and four other personnel were ...</td>\n",
              "    </tr>\n",
              "    <tr>\n",
              "      <th>1</th>\n",
              "      <td>#AryanKhan Case: No Bail For Him Today, Next H...</td>\n",
              "      <td>https://ndtv.com/india-news/mumbai-drug-bust-c...</td>\n",
              "      <td>Aryan Khan Case: No Bail For Him Today, Next H...</td>\n",
              "      <td>aryan khan did not get bail today for the thir...</td>\n",
              "      <td>3</td>\n",
              "      <td>5.0</td>\n",
              "      <td>44.0</td>\n",
              "      <td>ndtv</td>\n",
              "      <td>0</td>\n",
              "      <td>aryan khan bail arrest week ago drugs cruise c...</td>\n",
              "      <td>[aryan, khan, bail, arrest, week, ago, drug, c...</td>\n",
              "      <td>[aryan, khan, bail, arrest, week, ago, drug, c...</td>\n",
              "      <td>aryan khan did not get bail today for the thir...</td>\n",
              "    </tr>\n",
              "    <tr>\n",
              "      <th>2</th>\n",
              "      <td>RT @ndtvfeed: Ex-National Conference Leaders D...</td>\n",
              "      <td>https://www.ndtv.com/india-news/after-resignin...</td>\n",
              "      <td>Ex-National Conference Leaders Devender Rana, ...</td>\n",
              "      <td>a day after resigning from the national confer...</td>\n",
              "      <td>1</td>\n",
              "      <td>2.0</td>\n",
              "      <td>0.0</td>\n",
              "      <td>ndtv</td>\n",
              "      <td>0</td>\n",
              "      <td>resigning national conference devender rana he...</td>\n",
              "      <td>[resigning, national, conference, devender, ra...</td>\n",
              "      <td>[resigning, national, conference, devender, ra...</td>\n",
              "      <td>a day after resigning from the national confer...</td>\n",
              "    </tr>\n",
              "    <tr>\n",
              "      <th>3</th>\n",
              "      <td>RT @ndtvfeed: US Has Lost AI Battle To China, ...</td>\n",
              "      <td>https://www.ndtv.com/world-news/us-has-lost-ar...</td>\n",
              "      <td>US Has Lost AI Battle To China, Pentagon's Ex-...</td>\n",
              "      <td>china has won the artificial intelligence batt...</td>\n",
              "      <td>0</td>\n",
              "      <td>5.0</td>\n",
              "      <td>0.0</td>\n",
              "      <td>ndtv</td>\n",
              "      <td>0</td>\n",
              "      <td>china artificial intelligence battle united st...</td>\n",
              "      <td>[china, artificial, intelligence, battle, unit...</td>\n",
              "      <td>[china, artificial, intelligence, battle, unit...</td>\n",
              "      <td>china has won the artificial intelligence batt...</td>\n",
              "    </tr>\n",
              "    <tr>\n",
              "      <th>4</th>\n",
              "      <td>RT @ndtvfeed: A Look At Inspiring Messages On ...</td>\n",
              "      <td>https://www.ndtv.com/india-news/on-internation...</td>\n",
              "      <td>International Day Of The Girl Child 2021: Lead...</td>\n",
              "      <td>various world leaders and un agencies posted w...</td>\n",
              "      <td>3</td>\n",
              "      <td>3.0</td>\n",
              "      <td>0.0</td>\n",
              "      <td>ndtv</td>\n",
              "      <td>0</td>\n",
              "      <td>various world leaders agencies posted wishes m...</td>\n",
              "      <td>[various, world, leader, agency, posted, wish,...</td>\n",
              "      <td>[various, world, leader, agency, posted, wish,...</td>\n",
              "      <td>various world leaders and un agencies posted w...</td>\n",
              "    </tr>\n",
              "  </tbody>\n",
              "</table>\n",
              "</div>\n",
              "      <button class=\"colab-df-convert\" onclick=\"convertToInteractive('df-8852b215-b9cf-4bbc-a53b-4480dae1c466')\"\n",
              "              title=\"Convert this dataframe to an interactive table.\"\n",
              "              style=\"display:none;\">\n",
              "        \n",
              "  <svg xmlns=\"http://www.w3.org/2000/svg\" height=\"24px\"viewBox=\"0 0 24 24\"\n",
              "       width=\"24px\">\n",
              "    <path d=\"M0 0h24v24H0V0z\" fill=\"none\"/>\n",
              "    <path d=\"M18.56 5.44l.94 2.06.94-2.06 2.06-.94-2.06-.94-.94-2.06-.94 2.06-2.06.94zm-11 1L8.5 8.5l.94-2.06 2.06-.94-2.06-.94L8.5 2.5l-.94 2.06-2.06.94zm10 10l.94 2.06.94-2.06 2.06-.94-2.06-.94-.94-2.06-.94 2.06-2.06.94z\"/><path d=\"M17.41 7.96l-1.37-1.37c-.4-.4-.92-.59-1.43-.59-.52 0-1.04.2-1.43.59L10.3 9.45l-7.72 7.72c-.78.78-.78 2.05 0 2.83L4 21.41c.39.39.9.59 1.41.59.51 0 1.02-.2 1.41-.59l7.78-7.78 2.81-2.81c.8-.78.8-2.07 0-2.86zM5.41 20L4 18.59l7.72-7.72 1.47 1.35L5.41 20z\"/>\n",
              "  </svg>\n",
              "      </button>\n",
              "      \n",
              "  <style>\n",
              "    .colab-df-container {\n",
              "      display:flex;\n",
              "      flex-wrap:wrap;\n",
              "      gap: 12px;\n",
              "    }\n",
              "\n",
              "    .colab-df-convert {\n",
              "      background-color: #E8F0FE;\n",
              "      border: none;\n",
              "      border-radius: 50%;\n",
              "      cursor: pointer;\n",
              "      display: none;\n",
              "      fill: #1967D2;\n",
              "      height: 32px;\n",
              "      padding: 0 0 0 0;\n",
              "      width: 32px;\n",
              "    }\n",
              "\n",
              "    .colab-df-convert:hover {\n",
              "      background-color: #E2EBFA;\n",
              "      box-shadow: 0px 1px 2px rgba(60, 64, 67, 0.3), 0px 1px 3px 1px rgba(60, 64, 67, 0.15);\n",
              "      fill: #174EA6;\n",
              "    }\n",
              "\n",
              "    [theme=dark] .colab-df-convert {\n",
              "      background-color: #3B4455;\n",
              "      fill: #D2E3FC;\n",
              "    }\n",
              "\n",
              "    [theme=dark] .colab-df-convert:hover {\n",
              "      background-color: #434B5C;\n",
              "      box-shadow: 0px 1px 3px 1px rgba(0, 0, 0, 0.15);\n",
              "      filter: drop-shadow(0px 1px 2px rgba(0, 0, 0, 0.3));\n",
              "      fill: #FFFFFF;\n",
              "    }\n",
              "  </style>\n",
              "\n",
              "      <script>\n",
              "        const buttonEl =\n",
              "          document.querySelector('#df-8852b215-b9cf-4bbc-a53b-4480dae1c466 button.colab-df-convert');\n",
              "        buttonEl.style.display =\n",
              "          google.colab.kernel.accessAllowed ? 'block' : 'none';\n",
              "\n",
              "        async function convertToInteractive(key) {\n",
              "          const element = document.querySelector('#df-8852b215-b9cf-4bbc-a53b-4480dae1c466');\n",
              "          const dataTable =\n",
              "            await google.colab.kernel.invokeFunction('convertToInteractive',\n",
              "                                                     [key], {});\n",
              "          if (!dataTable) return;\n",
              "\n",
              "          const docLinkHtml = 'Like what you see? Visit the ' +\n",
              "            '<a target=\"_blank\" href=https://colab.research.google.com/notebooks/data_table.ipynb>data table notebook</a>'\n",
              "            + ' to learn more about interactive tables.';\n",
              "          element.innerHTML = '';\n",
              "          dataTable['output_type'] = 'display_data';\n",
              "          await google.colab.output.renderOutput(dataTable, element);\n",
              "          const docLink = document.createElement('div');\n",
              "          docLink.innerHTML = docLinkHtml;\n",
              "          element.appendChild(docLink);\n",
              "        }\n",
              "      </script>\n",
              "    </div>\n",
              "  </div>\n",
              "  "
            ]
          },
          "metadata": {},
          "execution_count": 136
        }
      ]
    },
    {
      "cell_type": "code",
      "source": [
        "with open('/content/drive/MyDrive/project_data/clean_data.pkl', 'wb') as fid:\n",
        "      pickle.dump(df, fid)"
      ],
      "metadata": {
        "id": "gtDWLey0s5UI"
      },
      "execution_count": 137,
      "outputs": []
    },
    {
      "cell_type": "code",
      "source": [
        "//"
      ],
      "metadata": {
        "colab": {
          "base_uri": "https://localhost:8080/",
          "height": 130
        },
        "id": "X4ZBNYrnnC1e",
        "outputId": "1899a4e3-7b7b-4ee3-9ee3-8714a24b7a8b"
      },
      "execution_count": 138,
      "outputs": [
        {
          "output_type": "error",
          "ename": "SyntaxError",
          "evalue": "ignored",
          "traceback": [
            "\u001b[0;36m  File \u001b[0;32m\"<ipython-input-138-6648892c9bac>\"\u001b[0;36m, line \u001b[0;32m1\u001b[0m\n\u001b[0;31m    (/)\u001b[0m\n\u001b[0m     ^\u001b[0m\n\u001b[0;31mSyntaxError\u001b[0m\u001b[0;31m:\u001b[0m invalid syntax\n"
          ]
        }
      ]
    },
    {
      "cell_type": "code",
      "source": [
        "center_with_bias_words = df.loc[df['content'].str.contains('shiv sena|shivsena|aap|bjp|congress', case=False)]\n",
        "center_with_bias_words = center_with_bias_words.loc[center_with_bias_words['bias']==3]\n",
        "right = df.loc[df['bias']==1]\n",
        "left = df.loc[df['bias']==0]\n",
        "center = df.loc[df['bias']==3]\n",
        "df_center_with_bias_words=pd.concat([left,right,center_with_bias_words])\n"
      ],
      "metadata": {
        "id": "zYf_3RtE87yL"
      },
      "execution_count": null,
      "outputs": []
    },
    {
      "cell_type": "code",
      "source": [
        "//"
      ],
      "metadata": {
        "id": "HyNt6IUbr4Ih"
      },
      "execution_count": null,
      "outputs": []
    },
    {
      "cell_type": "markdown",
      "source": [
        "#MIT News Classify"
      ],
      "metadata": {
        "id": "q-V3gopbMP9-"
      }
    },
    {
      "cell_type": "code",
      "source": [
        "# MIT News Classify is a package containing several natural language processing (NLP) and ML-based models that have been finetuned on an Annotated Corpus and its predefined news tags."
      ],
      "metadata": {
        "id": "jISdvYJ4dfBK"
      },
      "execution_count": null,
      "outputs": []
    },
    {
      "cell_type": "code",
      "source": [
        "df['content'][0]"
      ],
      "metadata": {
        "id": "rsAcIBPgV53J"
      },
      "execution_count": null,
      "outputs": []
    },
    {
      "cell_type": "code",
      "source": [
        "mitx.gettags(df['content'][0])"
      ],
      "metadata": {
        "id": "vMZHC0DL9mbr"
      },
      "execution_count": null,
      "outputs": []
    },
    {
      "cell_type": "code",
      "source": [
        "df['content'][1]"
      ],
      "metadata": {
        "id": "1Zkb6LZSM9j9"
      },
      "execution_count": null,
      "outputs": []
    },
    {
      "cell_type": "code",
      "source": [
        "mitx.gettags(df['content'][1])\n"
      ],
      "metadata": {
        "id": "L2NsXomUM_PF"
      },
      "execution_count": null,
      "outputs": []
    },
    {
      "cell_type": "code",
      "source": [
        "mitx.gettags(df.loc[df['bias']==3]['content'][0])"
      ],
      "metadata": {
        "id": "C235eQr0N7Qm"
      },
      "execution_count": null,
      "outputs": []
    },
    {
      "cell_type": "code",
      "source": [
        "# ##the MIT PACKAGE IDENTIFIES TAGS AS BOTH THE ORIGINAL TAG AND WITH UNITED TAGS\n",
        "# for ex.\n",
        "# ['united states politics and government',\n",
        "#  'politics and government',\n",
        "#  'united states international relations',\n",
        "#  'international relations']\n",
        "#  this can be just \n",
        "#  ['politics and government',\n",
        "#  'international relations']"
      ],
      "metadata": {
        "id": "6qltns_Dm7n2"
      },
      "execution_count": null,
      "outputs": []
    },
    {
      "cell_type": "code",
      "source": [
        "listx=[]\n",
        "for x1 in range(len(df)):\n",
        "  templist=[]\n",
        "  test=mitx.gettags(df['content'][x1])\n",
        "  for temp in test:\n",
        "    if temp.find(\"united states\") != -1:\n",
        "      continue\n",
        "    else:\n",
        "      templist.append(temp)\n",
        "  listx.append(templist)"
      ],
      "metadata": {
        "id": "dEv_vh2lRNPH"
      },
      "execution_count": null,
      "outputs": []
    },
    {
      "cell_type": "code",
      "source": [
        "df['tags']=listx"
      ],
      "metadata": {
        "id": "6HLM8QQ4awqx"
      },
      "execution_count": null,
      "outputs": []
    },
    {
      "cell_type": "code",
      "source": [
        "df.head()"
      ],
      "metadata": {
        "id": "skWqqc5NagnA"
      },
      "execution_count": null,
      "outputs": []
    },
    {
      "cell_type": "markdown",
      "source": [
        "# Sentiment Analysis"
      ],
      "metadata": {
        "id": "cwov7V_Bekjy"
      }
    },
    {
      "cell_type": "code",
      "source": [
        "# VADER works better with things like slang, emojis, etc — whereas TextBlob performs strongly with more formal language usage.Therefore we will use TextBlob.\n",
        "from textblob import TextBlob"
      ],
      "metadata": {
        "id": "BuJjQ3odeoAR"
      },
      "execution_count": null,
      "outputs": []
    },
    {
      "cell_type": "code",
      "source": [
        "(df['clean_content_with_Stopwords'][0])"
      ],
      "metadata": {
        "id": "bpjNLZVEf9LK"
      },
      "execution_count": null,
      "outputs": []
    },
    {
      "cell_type": "code",
      "source": [
        "TextBlob(df['clean_content_with_Stopwords'][0]).sentiment.subjectivity\n",
        "#TextBlob(ndf['content'][0]).sentiment.subjectivity\n"
      ],
      "metadata": {
        "id": "ZlYdKJM-f-9J"
      },
      "execution_count": null,
      "outputs": []
    },
    {
      "cell_type": "code",
      "source": [
        "TextBlob(df['clean_content_with_Stopwords'][0]).sentiment.polarity"
      ],
      "metadata": {
        "id": "zWpMi4zRf5iK"
      },
      "execution_count": null,
      "outputs": []
    },
    {
      "cell_type": "markdown",
      "source": [
        "Polarity"
      ],
      "metadata": {
        "id": "LKgzEeGKhKfK"
      }
    },
    {
      "cell_type": "code",
      "source": [
        "listx=[]\n",
        "for x1 in range(len(df)):\n",
        "  listx.append(TextBlob(df['clean_content_with_Stopwords'][x1]).sentiment.polarity)\n",
        "df['polarity']=listx\n"
      ],
      "metadata": {
        "id": "ofdM0reegpmy"
      },
      "execution_count": null,
      "outputs": []
    },
    {
      "cell_type": "code",
      "source": [
        "def getAnalysis(score):\n",
        "  if score < 0:\n",
        "    return \"Negative\"\n",
        "  elif score == 0:\n",
        "    return \"Neutral\"\n",
        "  else:\n",
        "    return \"Positive\""
      ],
      "metadata": {
        "id": "9J1lUWuYhPUi"
      },
      "execution_count": null,
      "outputs": []
    },
    {
      "cell_type": "code",
      "source": [
        "df[\"polarity_score\"] = df[\"polarity\"].apply(getAnalysis)\n"
      ],
      "metadata": {
        "id": "zHUkICwhhb-a"
      },
      "execution_count": null,
      "outputs": []
    },
    {
      "cell_type": "code",
      "source": [
        "df.head(5)"
      ],
      "metadata": {
        "id": "UqS-OtTihm2J"
      },
      "execution_count": null,
      "outputs": []
    },
    {
      "cell_type": "markdown",
      "source": [
        "Subjectivity"
      ],
      "metadata": {
        "id": "T1g9tsE8hNVa"
      }
    },
    {
      "cell_type": "code",
      "source": [
        "listx=[]\n",
        "for x1 in range(len(df)):\n",
        "  listx.append(TextBlob(df['clean_content_with_Stopwords'][x1]).sentiment.subjectivity)\n",
        "df['subjectivity']=listx\n"
      ],
      "metadata": {
        "id": "knTC78a5hIwy"
      },
      "execution_count": null,
      "outputs": []
    },
    {
      "cell_type": "code",
      "source": [
        "df.head()"
      ],
      "metadata": {
        "id": "kon6BfHviU-F"
      },
      "execution_count": null,
      "outputs": []
    },
    {
      "cell_type": "code",
      "source": [
        "def getsubAnalysis(score):\n",
        "  if score > 0.5:\n",
        "    return \"High subjectivity\"\n",
        "  else:\n",
        "    return \"Low subjectivity\""
      ],
      "metadata": {
        "id": "lAF_p2NJkZD7"
      },
      "execution_count": null,
      "outputs": []
    },
    {
      "cell_type": "code",
      "source": [
        "df[\"subjectivity_score\"] = df[\"subjectivity\"].apply(getsubAnalysis)\n"
      ],
      "metadata": {
        "id": "IYuBt9SJkbJr"
      },
      "execution_count": null,
      "outputs": []
    },
    {
      "cell_type": "code",
      "source": [
        "df.head()"
      ],
      "metadata": {
        "id": "lMI-jdsnktYy"
      },
      "execution_count": null,
      "outputs": []
    },
    {
      "cell_type": "code",
      "source": [
        "with open('/content/drive/MyDrive/project_data/data_with_classification_and_sentiment.pkl', 'wb') as fid:\n",
        "     pickle.dump(df, fid)"
      ],
      "metadata": {
        "id": "yt-jrSK8lyBi"
      },
      "execution_count": null,
      "outputs": []
    },
    {
      "cell_type": "code",
      "source": [
        "center_with_bias_words = df.loc[df['content'].str.contains('shiv sena|shivsena|aap|bjp|congress', case=False)]\n",
        "center_with_bias_words = center_with_bias_words.loc[center_with_bias_words['bias']==3]\n",
        "right = df.loc[df['bias']==1]\n",
        "left = df.loc[df['bias']==0]\n",
        "center = df.loc[df['bias']==3]\n",
        "df_center_with_bias_words=pd.concat([left,right,center_with_bias_words])\n"
      ],
      "metadata": {
        "id": "Ve8X9lZvokPU"
      },
      "execution_count": null,
      "outputs": []
    },
    {
      "cell_type": "markdown",
      "source": [
        "# VISUALIZATION"
      ],
      "metadata": {
        "id": "7yVQGHq2iEjg"
      }
    },
    {
      "cell_type": "code",
      "source": [
        "def common_words_plot(df, political_affiliation, first_):\n",
        "    stop_words=final_stop_words\n",
        "    word_list = []\n",
        "    lemmer = WordNetLemmatizer()\n",
        "    for row in tqdm(df):\n",
        "        words = [w for w in word_tokenize(row) if (w not in final_stop_words)]\n",
        "        words = [lemmer.lemmatize(w) for w in words if (len(w) > 2)]\n",
        "        word_list.append(words)\n",
        "    word_list = [word for l in word_list for word in l]\n",
        "    counter = Counter(word_list)\n",
        "    common_ = counter.most_common()\n",
        "    word = []\n",
        "    count = []\n",
        "    for common_word, word_count in common_:\n",
        "        if common_word not in stop_words:\n",
        "            word.append(common_word)\n",
        "            count.append(word_count)\n",
        "         #print(common_word)\n",
        "    plt.figure(figsize=(15,9))\n",
        "    sns.barplot(word[:first_], count[:first_]).set_title(f'Most Common Words from the {political_affiliation}',fontsize=20)\n",
        "    plt.xlabel(\"Words\",fontsize=15)\n",
        "    plt.xticks(fontsize=15)\n",
        "    plt.ylabel(\"Counts\",fontsize=15)\n",
        "    plt.yticks(fontsize=15)\n",
        "    plt.xticks(rotation=45)\n",
        "    plt.show()"
      ],
      "metadata": {
        "id": "YyRt0llMqUiE"
      },
      "execution_count": null,
      "outputs": []
    },
    {
      "cell_type": "code",
      "source": [
        "from nltk.util import ngrams\n",
        "def n_gram_plot(df, n, political_affiliation, first_):\n",
        "    stop_words=final_stop_words\n",
        "    print('vectorizing...')\n",
        "    vec = CountVectorizer(ngram_range=(n, n),stop_words=final_stop_words).fit(df)\n",
        "    print('transforming...')\n",
        "    bag_of_words = vec.transform(df)\n",
        "    sum_words = bag_of_words.sum(axis=0)\n",
        "    print('building frequency...')\n",
        "    words_freq = [(word, sum_words[0, idx]) for word, idx in vec.vocabulary_.items()]\n",
        "    words_freq =sorted(words_freq, key = lambda x: x[1], reverse=True)\n",
        "    x,y=map(list,zip(*words_freq))\n",
        "    grams = 'Bigrams'\n",
        "    if n == 3: grams = 'Trigrams'\n",
        "    if n == 4: grams = 'Quadgrams'\n",
        "    print('plotting...')\n",
        "    plt.figure(figsize=(15,9))\n",
        "    sns.barplot(y[:first_],x[:first_],palette=\"GnBu_d\").set_title(f'Most Common {grams} from the {political_affiliation}',fontsize=20)\n",
        "    plt.xlabel(\"Bigrams\",fontsize=15)\n",
        "    plt.xticks(fontsize=15)\n",
        "    plt.ylabel(\"Counts\",fontsize=15)\n",
        "    plt.yticks(fontsize=15)\n",
        "    plt.xticks(rotation=45)\n",
        "    plt.show()"
      ],
      "metadata": {
        "id": "4sH9rrfbhc_x"
      },
      "execution_count": null,
      "outputs": []
    },
    {
      "cell_type": "code",
      "source": [
        "common_words_plot(left['clean_content_with_Stopwords'],'left',30)\n",
        "\n"
      ],
      "metadata": {
        "id": "YPDlvR4JITVA"
      },
      "execution_count": null,
      "outputs": []
    },
    {
      "cell_type": "code",
      "source": [
        "common_words_plot(right['clean_content_with_Stopwords'],'right',30)\n"
      ],
      "metadata": {
        "id": "fzHJQSl5bnPN"
      },
      "execution_count": null,
      "outputs": []
    },
    {
      "cell_type": "code",
      "source": [
        "common_words_plot(center_with_bias_words['clean_content_with_Stopwords'],'center with biased words',30)"
      ],
      "metadata": {
        "id": "NDnJ7emKboZk"
      },
      "execution_count": null,
      "outputs": []
    },
    {
      "cell_type": "code",
      "source": [
        "common_words_plot(center['clean_content_with_Stopwords'],'center with biased words',30)"
      ],
      "metadata": {
        "id": "bRkqZFcybpVc"
      },
      "execution_count": null,
      "outputs": []
    },
    {
      "cell_type": "markdown",
      "source": [
        "#BIGRAM COMMON WORDS"
      ],
      "metadata": {
        "id": "JKCw1pA4b5yW"
      }
    },
    {
      "cell_type": "code",
      "source": [
        "##BIGRAM COMMON WORDS\n",
        "n_gram_plot(left['clean_content_with_Stopwords'],2,'left',20)"
      ],
      "metadata": {
        "id": "wXpWT-lHhb04"
      },
      "execution_count": null,
      "outputs": []
    },
    {
      "cell_type": "code",
      "source": [
        "n_gram_plot(right['clean_content_with_Stopwords'],2,'right',20)"
      ],
      "metadata": {
        "id": "qL3HL-ysbrYF"
      },
      "execution_count": null,
      "outputs": []
    },
    {
      "cell_type": "code",
      "source": [
        "n_gram_plot(center_with_bias_words['clean_content_with_Stopwords'],2,'center with biased words',20)"
      ],
      "metadata": {
        "id": "hS-5-Glnbs6G"
      },
      "execution_count": null,
      "outputs": []
    },
    {
      "cell_type": "code",
      "source": [
        "n_gram_plot(center['clean_content_with_Stopwords'],2,'center without biased words',20)"
      ],
      "metadata": {
        "id": "tMg-gbcKbte8"
      },
      "execution_count": null,
      "outputs": []
    },
    {
      "cell_type": "markdown",
      "source": [
        "# TRIGRAM COMMON WORDS"
      ],
      "metadata": {
        "id": "16Ij_n7Ob3B4"
      }
    },
    {
      "cell_type": "code",
      "source": [
        "##TRIGRAM COMMON WORDS\n",
        "n_gram_plot(left['clean_content_with_Stopwords'],3,'left',30)"
      ],
      "metadata": {
        "id": "g4PoLPUZhoNn"
      },
      "execution_count": null,
      "outputs": []
    },
    {
      "cell_type": "code",
      "source": [
        "n_gram_plot(right['clean_content_with_Stopwords'],3,'right',30)"
      ],
      "metadata": {
        "id": "XVy0BVgKbwIs"
      },
      "execution_count": null,
      "outputs": []
    },
    {
      "cell_type": "code",
      "source": [
        "n_gram_plot(center_with_bias_words['clean_content_with_Stopwords'],3,'center with biased words',30)"
      ],
      "metadata": {
        "id": "Ek20Z7Ahb0at"
      },
      "execution_count": null,
      "outputs": []
    },
    {
      "cell_type": "code",
      "source": [
        "n_gram_plot(center['clean_content_with_Stopwords'],3,'center with biased words',30)"
      ],
      "metadata": {
        "id": "0qj2F3Zkb1IZ"
      },
      "execution_count": null,
      "outputs": []
    },
    {
      "cell_type": "markdown",
      "source": [
        "# WORDCLOUD"
      ],
      "metadata": {
        "id": "z9xf76o8b-8J"
      }
    },
    {
      "cell_type": "code",
      "source": [
        "from wordcloud import WordCloud\n",
        "###LEFT WORDCLOUD\n",
        "text = left['clean_content'].values \n",
        "wordcloud = WordCloud(width=800, height=400).generate(str(text))\n",
        "plt.figure(figsize = (12, 10), facecolor = None)\n",
        "plt.imshow(wordcloud)\n",
        "plt.axis(\"off\")\n",
        "plt.tight_layout(pad = 0)\n",
        "plt.show()"
      ],
      "metadata": {
        "id": "8yMToeSSI6kL"
      },
      "execution_count": null,
      "outputs": []
    },
    {
      "cell_type": "code",
      "source": [
        "###RIGHT WORDCLOUD\n",
        "text = right['clean_content'].values \n",
        "wordcloud = WordCloud(width=800, height=400).generate(str(text))\n",
        "plt.figure(figsize = (12, 10), facecolor = None)\n",
        "plt.imshow(wordcloud)\n",
        "plt.axis(\"off\")\n",
        "plt.tight_layout(pad = 0)\n",
        "plt.show()"
      ],
      "metadata": {
        "id": "PFaDtttwSJj5"
      },
      "execution_count": null,
      "outputs": []
    },
    {
      "cell_type": "code",
      "source": [
        "###CENTER WITH BIAS WORDS WORDCLOUD\n",
        "text = center_with_bias_words['clean_content'].values \n",
        "wordcloud = WordCloud(width=800, height=400).generate(str(text))\n",
        "plt.figure(figsize = (12, 10), facecolor = None)\n",
        "plt.imshow(wordcloud)\n",
        "plt.axis(\"off\")\n",
        "plt.tight_layout(pad = 0)\n",
        "plt.show()"
      ],
      "metadata": {
        "id": "XY67SgHcSWbV"
      },
      "execution_count": null,
      "outputs": []
    },
    {
      "cell_type": "code",
      "source": [
        "###CENTER WORDCLOUD\n",
        "text = center['clean_content'].values \n",
        "wordcloud = WordCloud(width=800, height=400).generate(str(text))\n",
        "plt.figure(figsize = (12, 10), facecolor = None)\n",
        "plt.imshow(wordcloud)\n",
        "plt.axis(\"off\")\n",
        "plt.tight_layout(pad = 0)\n",
        "plt.show()"
      ],
      "metadata": {
        "id": "zCv7Og4YSRlM"
      },
      "execution_count": null,
      "outputs": []
    },
    {
      "cell_type": "code",
      "source": [
        "##ALL WITH THE TWITTER DATA\n",
        "##RETWEETS\n",
        "fig = plt.figure(figsize = (10, 5))\n",
        " \n",
        "tweets = df['retweet_count']\n",
        "bias= df['bias']\n",
        "# creating the bar plot\n",
        "plt.figure(figsize = (8, 7), facecolor = None)\n",
        "plt.xticks([0,1,3],['left','right','center'])\n",
        "plt.scatter(bias,tweets)\n",
        "plt.show()"
      ],
      "metadata": {
        "id": "0W8qyen5WLdx"
      },
      "execution_count": null,
      "outputs": []
    },
    {
      "cell_type": "code",
      "source": [
        "##ALL WITH THE TWITTER DATA\n",
        "##favourite count\n",
        "fig = plt.figure(figsize = (10, 5))\n",
        "tweets = df['favorite_count']\n",
        "bias= df['bias']\n",
        "# creating the bar plot\n",
        "plt.figure(figsize = (8, 7), facecolor = None)\n",
        "plt.xticks([0,1,3],['left','right','center'])\n",
        "plt.scatter(bias,tweets)\n",
        "plt.show()"
      ],
      "metadata": {
        "id": "T6lOBziRe7g3"
      },
      "execution_count": null,
      "outputs": []
    },
    {
      "cell_type": "code",
      "source": [
        "with open('/content/drive/MyDrive/project_data/model_data.pkl', 'wb') as fid:\n",
        "      pickle.dump(df, fid)"
      ],
      "metadata": {
        "id": "LKjjjezBqlHV"
      },
      "execution_count": null,
      "outputs": []
    },
    {
      "cell_type": "code",
      "source": [
        "df.loc[df['clean_content'].str.contains('india')]#, case=False)]"
      ],
      "metadata": {
        "id": "OeN_vIH67pgS"
      },
      "execution_count": null,
      "outputs": []
    },
    {
      "cell_type": "code",
      "source": [
        "df['clean_content'][2]"
      ],
      "metadata": {
        "id": "rsThORLb77N5"
      },
      "execution_count": null,
      "outputs": []
    },
    {
      "cell_type": "code",
      "source": [
        "###TESTING\n",
        "from nltk.tokenize import word_tokenize\n",
        "# create bag-of-words\n",
        "all_words = []\n",
        "for i in range(len(df)):\n",
        "  for w in df['clean_text_lemmatized'][i]:\n",
        "    if(w=='also'):\n",
        "      print(i)\n",
        "      break\n",
        "        #all_words.append(w)\n",
        "        \n",
        "#all_words = nltk.FreqDist(all_words)"
      ],
      "metadata": {
        "id": "d4wxLaoe8Yqv"
      },
      "execution_count": null,
      "outputs": []
    },
    {
      "cell_type": "code",
      "source": [
        "///"
      ],
      "metadata": {
        "id": "gcFoSfabouIZ"
      },
      "execution_count": null,
      "outputs": []
    },
    {
      "cell_type": "markdown",
      "source": [
        "# MODEL\n"
      ],
      "metadata": {
        "id": "E_B96BAQgjgi"
      }
    },
    {
      "cell_type": "code",
      "source": [
        "cd /content/drive/MyDrive/project_data"
      ],
      "metadata": {
        "id": "yVTDviZHsAW_"
      },
      "execution_count": null,
      "outputs": []
    },
    {
      "cell_type": "code",
      "source": [
        "infile = open('model_data.pkl','rb')\n",
        "df = pickle.load(infile)"
      ],
      "metadata": {
        "id": "1YASdkn5qPSl"
      },
      "execution_count": null,
      "outputs": []
    },
    {
      "cell_type": "code",
      "source": [
        "# from keras.preprocessing.sequence import pad_sequences\n",
        "# max_features = 30000\n",
        "# maxlen = 25\n",
        "# X = df['clean_text_lemmatized']\n",
        "# X = pad_sequences(X, maxlen = maxlen)\n",
        "# y=df['bias']"
      ],
      "metadata": {
        "id": "nIhLwiQwrnFJ"
      },
      "execution_count": null,
      "outputs": []
    },
    {
      "cell_type": "code",
      "source": [
        "//"
      ],
      "metadata": {
        "id": "WZlFRqiHmw7S"
      },
      "execution_count": null,
      "outputs": []
    },
    {
      "cell_type": "code",
      "source": [
        "center_with_bias_words = df.loc[df['content'].str.contains('shiv sena|shivsena|aap|bjp|congress', case=False)]\n",
        "center_without_bias_words = df.loc[~df['content'].str.contains('shiv sena|shivsena|aap|bjp|congress', case=False)]\n",
        "\n",
        "center_without_bias_words = center_without_bias_words.loc[center_without_bias_words['bias']==3]\n",
        "\n",
        "center_with_bias_words = center_with_bias_words.loc[center_with_bias_words['bias']==3]\n",
        "right = df.loc[df['bias']==1]\n",
        "left = df.loc[df['bias']==0]\n",
        "#center = df.loc[df['bias']==3]\n",
        "\n",
        "#df2=pd.concat([left,right,center_with_bias_words])\n"
      ],
      "metadata": {
        "id": "4UhtgRVNwTTa"
      },
      "execution_count": null,
      "outputs": []
    },
    {
      "cell_type": "code",
      "source": [
        "print('right',len(right))\n",
        "print('left',len(left))\n",
        "print('center_without_bias_words',len(center_without_bias_words))\n",
        "print('center_with_bias_words',len(center_with_bias_words))\n",
        "\n"
      ],
      "metadata": {
        "id": "tP4NYeAn5kAR"
      },
      "execution_count": null,
      "outputs": []
    },
    {
      "cell_type": "code",
      "source": [
        "left=left.head(190)"
      ],
      "metadata": {
        "id": "aGGPa2mrDvit"
      },
      "execution_count": null,
      "outputs": []
    },
    {
      "cell_type": "code",
      "source": [
        "#center_with_bias_words=center_with_bias_words.head(100)"
      ],
      "metadata": {
        "id": "Wm0tfqCI5suM"
      },
      "execution_count": null,
      "outputs": []
    },
    {
      "cell_type": "code",
      "source": [
        "#center_without_bias_words=center_without_bias_words.head(100)\n"
      ],
      "metadata": {
        "id": "sFmDhL0R5xpb"
      },
      "execution_count": null,
      "outputs": []
    },
    {
      "cell_type": "code",
      "source": [
        "print('right',len(right))\n",
        "print('left',len(left))\n",
        "print('center_without_bias_words',len(center_without_bias_words))\n",
        "print('center_with_bias_words',len(center_with_bias_words))\n",
        "\n"
      ],
      "metadata": {
        "id": "wxKmiT5T0xV3"
      },
      "execution_count": null,
      "outputs": []
    },
    {
      "cell_type": "code",
      "source": [
        "df2=pd.concat([left,right,center_with_bias_words,center_without_bias_words])\n"
      ],
      "metadata": {
        "id": "q8ieMSDL52p8"
      },
      "execution_count": null,
      "outputs": []
    },
    {
      "cell_type": "code",
      "source": [
        "#REINDEXING\n",
        "indx=[]\n",
        "for i in range(len(df2)):\n",
        "  indx.append(i)\n",
        "df2.index=indx"
      ],
      "metadata": {
        "id": "9ZUz9GPg6Rgc"
      },
      "execution_count": null,
      "outputs": []
    },
    {
      "cell_type": "code",
      "source": [
        "df2"
      ],
      "metadata": {
        "id": "xrELdwYf6mcF"
      },
      "execution_count": null,
      "outputs": []
    },
    {
      "cell_type": "code",
      "source": [
        "# ## Divide the dataset into Train and Test\n",
        "# from sklearn.model_selection import train_test_split\n",
        "# X_train, X_test, y_train, y_test = train_test_split(X, y, test_size=0.4, random_state=2)"
      ],
      "metadata": {
        "id": "x3Dnkfj4UYmW"
      },
      "execution_count": null,
      "outputs": []
    },
    {
      "cell_type": "code",
      "source": [
        "######NaiiveBayes without Feature Selection\n",
        "from sklearn.feature_extraction.text import CountVectorizer\n",
        "from sklearn.feature_extraction.text import TfidfTransformer\n",
        "from sklearn.naive_bayes import MultinomialNB\n",
        "from sklearn.metrics import f1_score,classification_report,accuracy_score,confusion_matrix\n",
        "from sklearn.naive_bayes import GaussianNB\n",
        "## TFidf Vectorizer\n",
        "from sklearn.feature_extraction.text import TfidfVectorizer\n",
        "from sklearn.feature_extraction.text import CountVectorizer\n",
        "from sklearn.ensemble import RandomForestClassifier"
      ],
      "metadata": {
        "id": "XfV8niqPk9NW"
      },
      "execution_count": null,
      "outputs": []
    },
    {
      "cell_type": "code",
      "source": [
        "X = df2['clean_content']\n",
        "y=df2['bias']\n"
      ],
      "metadata": {
        "id": "6Srl2Kj8r0pM"
      },
      "execution_count": null,
      "outputs": []
    },
    {
      "cell_type": "code",
      "source": [
        "## TFidf Vectorizer\n",
        "from sklearn.feature_extraction.text import TfidfVectorizer\n",
        "tfidf_v=TfidfVectorizer(max_features=20,ngram_range=(1,3))"
      ],
      "metadata": {
        "id": "eskTkU0ct8nk"
      },
      "execution_count": null,
      "outputs": []
    },
    {
      "cell_type": "code",
      "source": [
        "X=tfidf_v.fit_transform(df2['clean_content']).toarray()\n"
      ],
      "metadata": {
        "id": "QrCdCNArsV28"
      },
      "execution_count": null,
      "outputs": []
    },
    {
      "cell_type": "code",
      "source": [
        "X"
      ],
      "metadata": {
        "id": "14SbBl8wFRl8"
      },
      "execution_count": null,
      "outputs": []
    },
    {
      "cell_type": "code",
      "source": [
        "## Divide the dataset into Train and Test\n",
        "from sklearn.model_selection import train_test_split\n",
        "X_train, X_test, y_train, y_test = train_test_split(X, y, test_size=0.25, random_state=5)"
      ],
      "metadata": {
        "id": "fAzYTEGHuHFD"
      },
      "execution_count": null,
      "outputs": []
    },
    {
      "cell_type": "code",
      "source": [
        "count_df = pd.DataFrame(X_train, columns=tfidf_v.get_feature_names())\n",
        "count_df.head()"
      ],
      "metadata": {
        "id": "jQGMuUtrBOe1"
      },
      "execution_count": null,
      "outputs": []
    },
    {
      "cell_type": "code",
      "source": [
        "from sklearn.naive_bayes import MultinomialNB\n",
        "from sklearn import metrics\n",
        "import numpy as np\n",
        "import itertools\n",
        "classifier=MultinomialNB()\n",
        "classifier.fit(X_train, y_train)\n",
        "pred = classifier.predict(X_test)\n",
        "score = metrics.accuracy_score(y_test, pred)\n",
        "print(\"accuracy:   %0.3f\" % score)\n",
        "cm = metrics.confusion_matrix(y_test, pred)\n",
        "cm\n",
        "#plot_confusion_matrix(cm, classes=pred.c)##bias=left 0 right 1 unbiased 3\n",
        "from sklearn.metrics import classification_report\n",
        "print(classification_report(y_test, pred))\n",
        "from sklearn.metrics import confusion_matrix\n",
        "print(confusion_matrix(y_test, pred))"
      ],
      "metadata": {
        "id": "EpT-fpeus85D"
      },
      "execution_count": null,
      "outputs": []
    },
    {
      "cell_type": "code",
      "source": [
        "from sklearn.ensemble import RandomForestClassifier\n",
        "rf_classifier=RandomForestClassifier(n_estimators=10).fit(X_train,y_train)\n",
        "prediction=rf_classifier.predict(X_test)\n",
        "y.value_counts()\n",
        "from sklearn.metrics import confusion_matrix,classification_report,accuracy_score\n",
        "print(confusion_matrix(y_test,prediction))\n",
        "print(accuracy_score(y_test,prediction))\n",
        "print(classification_report(y_test,prediction))\n"
      ],
      "metadata": {
        "id": "IRWZ_ooRBtUt"
      },
      "execution_count": null,
      "outputs": []
    },
    {
      "cell_type": "markdown",
      "source": [
        "# RF  Manual Hyperparameter Tuning"
      ],
      "metadata": {
        "id": "kRClOrW3CWTu"
      }
    },
    {
      "cell_type": "code",
      "source": [
        "### Manual Hyperparameter Tuning\n",
        "# {'criterion': 'entropy',\n",
        "#  'max_depth': 100,\n",
        "#  'max_features': 'sqrt',\n",
        "#  'min_samples_leaf': 1,\n",
        "#  'min_samples_split': 2,\n",
        "#  'n_estimators': 600}\n",
        "model=RandomForestClassifier(n_estimators=900,criterion='entropy',\n",
        "                             max_features='sqrt',min_samples_leaf=1,min_samples_split=2,random_state=100).fit(X_train,y_train)\n",
        "predictions=model.predict(X_test)\n",
        "print(confusion_matrix(y_test,predictions))\n",
        "print(accuracy_score(y_test,predictions))\n",
        "print(classification_report(y_test,predictions))"
      ],
      "metadata": {
        "id": "XSq8mL7bBwSM"
      },
      "execution_count": null,
      "outputs": []
    },
    {
      "cell_type": "markdown",
      "source": [
        "#RF WITH RANDOMSEARCH CV"
      ],
      "metadata": {
        "id": "F3n29_YBCT8p"
      }
    },
    {
      "cell_type": "markdown",
      "source": [
        "RF WITH RANDOMSEARCH CV"
      ],
      "metadata": {
        "id": "TkbZtRh0CIaI"
      }
    },
    {
      "cell_type": "code",
      "source": [
        "import numpy as np\n",
        "from sklearn.model_selection import RandomizedSearchCV\n",
        "# Number of trees in random forest\n",
        "n_estimators = [int(x) for x in np.linspace(start = 200, stop = 2000, num = 10)]\n",
        "# Number of features to consider at every split\n",
        "max_features = ['auto', 'sqrt','log2']\n",
        "# Maximum number of levels in tree\n",
        "max_depth = [int(x) for x in np.linspace(50, 500,10)]\n",
        "# Minimum number of samples required to split a node\n",
        "min_samples_split = [2, 5, 10,14]\n",
        "# Minimum number of samples required at each leaf node\n",
        "min_samples_leaf = [1, 2, 4,6,8]\n",
        "# Create the random grid\n",
        "random_grid = {'n_estimators': n_estimators,\n",
        "               'max_features': max_features,\n",
        "               'max_depth': max_depth,\n",
        "               'min_samples_split': min_samples_split,\n",
        "               'min_samples_leaf': min_samples_leaf,\n",
        "              'criterion':['entropy','gini']}\n",
        "print(random_grid)"
      ],
      "metadata": {
        "id": "K-tGuuB9Bzs8"
      },
      "execution_count": null,
      "outputs": []
    },
    {
      "cell_type": "code",
      "source": [
        "rf=RandomForestClassifier()\n",
        "rf_randomcv=RandomizedSearchCV(estimator=rf,param_distributions=random_grid,n_iter=10,cv=3,verbose=2,\n",
        "                               random_state=50,n_jobs=-1)\n",
        "### fit the randomized model\n",
        "rf_randomcv.fit(X_train,y_train)"
      ],
      "metadata": {
        "id": "ra9U6zclB19G"
      },
      "execution_count": null,
      "outputs": []
    },
    {
      "cell_type": "code",
      "source": [
        "rf_randomcv.best_params_"
      ],
      "metadata": {
        "id": "iQeTNCchB3Q0"
      },
      "execution_count": null,
      "outputs": []
    },
    {
      "cell_type": "code",
      "source": [
        "best_random_grid=rf_randomcv.best_estimator_\n",
        "from sklearn.metrics import accuracy_score\n",
        "y_pred=best_random_grid.predict(X_test)\n",
        "print(confusion_matrix(y_test,y_pred))\n",
        "print(\"Accuracy Score {}\".format(accuracy_score(y_test,y_pred)))\n",
        "print(\"Classification report: \\n {}\".format(classification_report(y_test,y_pred)))"
      ],
      "metadata": {
        "id": "KzPlQxeqB5y9"
      },
      "execution_count": null,
      "outputs": []
    },
    {
      "cell_type": "markdown",
      "source": [
        "#RF WITH GridSearchCV\n"
      ],
      "metadata": {
        "id": "DFVEVXH4CPvU"
      }
    },
    {
      "cell_type": "markdown",
      "source": [
        "RF WITH GridSearchCV\n"
      ],
      "metadata": {
        "id": "HLVqyw_FCNF2"
      }
    },
    {
      "cell_type": "code",
      "source": [
        "from sklearn.model_selection import GridSearchCV\n",
        "\n",
        "param_grid = {\n",
        "    'criterion': [rf_randomcv.best_params_['criterion']],\n",
        "    'max_depth': [rf_randomcv.best_params_['max_depth']],\n",
        "    'max_features': [rf_randomcv.best_params_['max_features']],\n",
        "    'min_samples_leaf': [rf_randomcv.best_params_['min_samples_leaf'], \n",
        "                         rf_randomcv.best_params_['min_samples_leaf']+2, \n",
        "                         rf_randomcv.best_params_['min_samples_leaf'] + 4],\n",
        "    'min_samples_split': [rf_randomcv.best_params_['min_samples_split'] - 2,\n",
        "                          rf_randomcv.best_params_['min_samples_split'] - 1,\n",
        "                          rf_randomcv.best_params_['min_samples_split'], \n",
        "                          rf_randomcv.best_params_['min_samples_split'] +1,\n",
        "                          rf_randomcv.best_params_['min_samples_split'] + 2],\n",
        "    'n_estimators': [rf_randomcv.best_params_['n_estimators'] - 200, rf_randomcv.best_params_['n_estimators'] - 100, \n",
        "                     rf_randomcv.best_params_['n_estimators'], \n",
        "                     rf_randomcv.best_params_['n_estimators'] + 100, rf_randomcv.best_params_['n_estimators'] + 200]\n",
        "}\n",
        "\n",
        "print(param_grid)\n",
        "#### Fit the grid_search to the data\n",
        "rf=RandomForestClassifier()\n",
        "grid_search=GridSearchCV(estimator=rf,param_grid=param_grid,cv=10,n_jobs=-1,verbose=2)\n",
        "grid_search.fit(X_train,y_train)\n"
      ],
      "metadata": {
        "id": "iX0aeDzaCMCE"
      },
      "execution_count": null,
      "outputs": []
    },
    {
      "cell_type": "markdown",
      "source": [
        "# Multinomial with Hyperparameter\n"
      ],
      "metadata": {
        "id": "2Dk6HJrHJbsK"
      }
    },
    {
      "cell_type": "code",
      "source": [
        "import numpy as np\n",
        "from sklearn.model_selection import RandomizedSearchCV\n",
        "# Number of trees in random forest\n",
        "n_estimators = [int(x) for x in np.linspace(start = 200, stop = 2000, num = 10)]\n",
        "# Number of features to consider at every split\n",
        "max_features = ['auto', 'sqrt','log2']\n",
        "# Maximum number of levels in tree\n",
        "max_depth = [int(x) for x in np.linspace(10, 1000,10)]\n",
        "# Minimum number of samples required to split a node\n",
        "min_samples_split = [2, 5, 10,14]\n",
        "# Minimum number of samples required at each leaf node\n",
        "min_samples_leaf = [1, 2, 4,6,8]\n",
        "# Create the random grid\n",
        "param = {'n_estimators': n_estimators,\n",
        "               'max_features': max_features,\n",
        "               'max_depth': max_depth,\n",
        "               'min_samples_split': min_samples_split,\n",
        "               'min_samples_leaf': min_samples_leaf,\n",
        "              'criterion':['entropy','gini']}\n",
        "print(param)"
      ],
      "metadata": {
        "id": "brb2mWAqJevk"
      },
      "execution_count": null,
      "outputs": []
    },
    {
      "cell_type": "code",
      "source": [
        ""
      ],
      "metadata": {
        "id": "A_yA1ug426PO"
      },
      "execution_count": null,
      "outputs": []
    },
    {
      "cell_type": "markdown",
      "source": [
        "# RF WITH TPOT OPTIMIZATION"
      ],
      "metadata": {
        "id": "gPn6Fxzy26f7"
      }
    },
    {
      "cell_type": "code",
      "source": [
        "pip install tpot\n"
      ],
      "metadata": {
        "id": "wPLR8hUUMuv0"
      },
      "execution_count": null,
      "outputs": []
    },
    {
      "cell_type": "code",
      "source": [
        "from tpot import TPOTClassifier\n",
        "\n",
        "tpot_classifier = TPOTClassifier(generations= 3, population_size= 30, offspring_size= 10,\n",
        "                                 verbosity= 2, early_stop= 12,\n",
        "                                 config_dict={'sklearn.ensemble.RandomForestClassifier':param}, \n",
        "                                 cv = 4, scoring = ['accuracy','recall','precision'])\n",
        "tpot_classifier.fit(X_train,y_train)"
      ],
      "metadata": {
        "id": "_7QEpxwxLYql"
      },
      "execution_count": null,
      "outputs": []
    },
    {
      "cell_type": "code",
      "source": [
        "### Manual Hyperparameter Tuning\n",
        "# {'criterion': 'entropy',\n",
        "#  'max_depth': 100,\n",
        "#  'max_features': 'sqrt',\n",
        "#  'min_samples_leaf': 1,\n",
        "#  'min_samples_split': 2,\n",
        "#  'n_estimators': 600}\n",
        "#model=RandomForestClassifier( criterion='gini', max_depth=340, max_features='auto', min_samples_leaf=2, min_samples_split=5, n_estimators=2000).fit(X_train,y_train)\n",
        "model=RandomForestClassifier(criterion='entropy', max_depth=780, max_features='auto', min_samples_leaf=4, min_samples_split=5, n_estimators=1000).fit(X_train,y_train)\n",
        "predictions=model.predict(X_test)\n",
        "print(confusion_matrix(y_test,predictions))\n",
        "print(accuracy_score(y_test,predictions))\n",
        "print(classification_report(y_test,predictions))"
      ],
      "metadata": {
        "id": "amDFD8dBfbyR"
      },
      "execution_count": null,
      "outputs": []
    },
    {
      "cell_type": "code",
      "source": [
        "pip install optuna\n"
      ],
      "metadata": {
        "id": "3CqmZdypNHZX"
      },
      "execution_count": null,
      "outputs": []
    },
    {
      "cell_type": "code",
      "source": [
        "import optuna\n",
        "import sklearn.svm\n",
        "def objective(trial):\n",
        "\n",
        "    classifier = trial.suggest_categorical('classifier', ['RandomForest', 'SVC'])\n",
        "    \n",
        "    if classifier == 'RandomForest':\n",
        "        n_estimators = trial.suggest_int('n_estimators', 200, 2000,10)\n",
        "        max_depth = int(trial.suggest_float('max_depth', 10, 100, log=True))\n",
        "\n",
        "        clf = sklearn.ensemble.RandomForestClassifier(\n",
        "            n_estimators=n_estimators, max_depth=max_depth)\n",
        "    else:\n",
        "        c = trial.suggest_float('svc_c', 1e-10, 1e10, log=True)\n",
        "        \n",
        "        clf = sklearn.svm.SVC(C=c, gamma='auto')\n",
        "\n",
        "    return sklearn.model_selection.cross_val_score(\n",
        "        clf,X_train,y_train, n_jobs=-1, cv=3).mean()"
      ],
      "metadata": {
        "id": "EkpUsHpvM9YP"
      },
      "execution_count": null,
      "outputs": []
    },
    {
      "cell_type": "code",
      "source": [
        "study = optuna.create_study(direction='maximize')\n",
        "study.optimize(objective, n_trials=100)\n",
        "\n",
        "trial = study.best_trial\n",
        "\n",
        "print('Accuracy: {}'.format(trial.value))\n",
        "print(\"Best hyperparameters: {}\".format(trial.params))"
      ],
      "metadata": {
        "id": "nIyFlviSM_UY"
      },
      "execution_count": null,
      "outputs": []
    },
    {
      "cell_type": "code",
      "source": [
        "rf=RandomForestClassifier(n_estimators=330,max_depth=30)\n",
        "rf.fit(X_train,y_train)"
      ],
      "metadata": {
        "id": "FZLjJ7QfNDAT"
      },
      "execution_count": null,
      "outputs": []
    },
    {
      "cell_type": "code",
      "source": [
        "y_pred=rf.predict(X_test)\n",
        "print(confusion_matrix(y_test,y_pred))\n",
        "print(accuracy_score(y_test,y_pred))\n",
        "print(classification_report(y_test,y_pred))"
      ],
      "metadata": {
        "id": "s8DelnF9NGCY"
      },
      "execution_count": null,
      "outputs": []
    },
    {
      "cell_type": "markdown",
      "source": [
        ""
      ],
      "metadata": {
        "id": "2qDwTw3bNv1S"
      }
    },
    {
      "cell_type": "markdown",
      "source": [
        ""
      ],
      "metadata": {
        "id": "MegH8fYBNvzc"
      }
    },
    {
      "cell_type": "markdown",
      "source": [
        ""
      ],
      "metadata": {
        "id": "uplpzifzNvxh"
      }
    },
    {
      "cell_type": "code",
      "source": [
        "from sklearn.naive_bayes import MultinomialNB\n",
        "clf = MultinomialNB().fit(X_train, y_train)"
      ],
      "metadata": {
        "id": "uCKaKkSlNwRd"
      },
      "execution_count": null,
      "outputs": []
    },
    {
      "cell_type": "code",
      "source": [
        "from sklearn.pipeline import Pipeline\n",
        "text_clf = Pipeline([('vect', CountVectorizer()),\n",
        "                     ('tfidf', TfidfTransformer()),\n",
        "                     ('clf', MultinomialNB())])\n",
        "text_clf = text_clf.fit(X_train, y_train)"
      ],
      "metadata": {
        "id": "kh-NNrNhN1DT"
      },
      "execution_count": null,
      "outputs": []
    },
    {
      "cell_type": "code",
      "source": [
        "from sklearn.metrics import accuracy_score\n",
        "y_pred=text_clf.predict(X_test)\n",
        "print(confusion_matrix(y_test,y_pred))\n",
        "print(\"Accuracy Score {}\".format(accuracy_score(y_test,y_pred)))\n",
        "print(\"Classification report: \\n {}\".format(classification_report(y_test,y_pred)))"
      ],
      "metadata": {
        "id": "L6Z5m_3hOP2g"
      },
      "execution_count": null,
      "outputs": []
    }
  ]
}